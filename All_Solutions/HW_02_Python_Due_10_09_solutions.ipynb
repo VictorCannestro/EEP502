{
 "cells": [
  {
   "cell_type": "markdown",
   "metadata": {
    "ExecuteTime": {
     "end_time": "2019-09-24T16:05:23.746666Z",
     "start_time": "2019-09-24T16:05:23.741461Z"
    }
   },
   "source": [
    "## EE 502 P: Analytical Methods for Electrical Engineering\n",
    "    \n",
    "# Homework 2: Sets, functions, and relations\n",
    "## Due 9 October, 2019 at 6:00 PM\n",
    "### <span style=\"color: red\">YOUR NAME HERE</span>\n",
    "\n",
    "Copyright &copy; 2019, University of Washington\n",
    "\n",
    "<hr>\n",
    "\n",
    "**Instructions**: Use this notebook as a template. Answer all questions using well formatted Markdown with embedded LaTeX equations, executable Jupyter cells, or both. Submit your homework solutions as an `.ipynb` file via Canvas.\n",
    "\n",
    "<span style=\"background: yellow; padding: 6px; border: 1pt solid black\">\n",
    "Although you may discuss the homework with others, you must turn in your own, original work.\n",
    "</span>\n",
    "\n",
    "**Things to remember:**\n",
    "- Use complete sentences. Equations should appear in text as grammatical elements.\n",
    "- Comment your code.\n",
    "- Label your axes. Title your plots. Use legends where appropriate. \n",
    "- Before submitting a notebook, choose Kernel -> Restart and Run All to make sure your notebook runs when the cells are evaluated in order. \n",
    "\n",
    "Note : Late homework will be accepted up to one week after the due date and will be worth 50% of its full credit score. "
   ]
  },
  {
   "cell_type": "markdown",
   "metadata": {},
   "source": [
    "### 0. Warmup (Do not turn in)\n",
    "\n",
    "- Make sure you get download and run the notebook for lecture 2. Work through the notebook cell by cell and see what happens when you change the expressions, and make up some of your own.\n",
    "- Read chapter one of [An Introduction to Real Analysis](https://www.math.ucdavis.edu/~hunter/intro_analysis_pdf/intro.pdf) by John K. Hunter. You can skim the sections on index sets and infinite unions and intersections.\n",
    "- Read up on [sets](https://www.w3schools.com/python/python_sets.asp), [tuples](https://www.w3schools.com/python/python_tuples.asp), and [lambdas](https://www.w3schools.com/python/python_lambda.asp) at python.org."
   ]
  },
  {
   "cell_type": "code",
   "execution_count": 1,
   "metadata": {},
   "outputs": [],
   "source": [
    "import matplotlib.pyplot as plt\n",
    "import numpy as np\n",
    "import sympy as sm\n",
    "sm.init_printing(use_latex='mathjax')\n",
    "%matplotlib inline"
   ]
  },
  {
   "cell_type": "markdown",
   "metadata": {},
   "source": [
    "### 1. Set properties (10pts)\n",
    "\n",
    "Given the follow definitions of sets\n",
    "\n",
    "$$A = \\{1,2,3\\}$$\n",
    "$$B = \\{3,4,5\\}$$\n",
    "$$C = \\{3,4,5,6,7\\}$$\n",
    "\n",
    "determine which of the following properties hold:\n",
    "\n",
    "$$0 \\in A$$\n",
    "\n",
    "$$4 \\in B \\cap C$$\n",
    "\n",
    "$$5 \\in C-B$$\n",
    "\n",
    "$$A \\subseteq B$$\n",
    "\n",
    "$$A \\subseteq C$$\n",
    "\n",
    "$$A \\cap B \\subseteq A$$\n",
    "\n",
    "$$B \\subseteq C$$\n",
    "\n",
    "If the property holds, say why. If it does not hold, give a counterexample showing the definition is not satisfied. \n",
    "\n",
    "$\\textbf{Grading breakdown:}$\n",
    "\n",
    "    10/7 pts each for python code or explaination"
   ]
  },
  {
   "cell_type": "markdown",
   "metadata": {},
   "source": [
    "1.1) False. $A = \\{ 1, 2, 3 \\}$, so we see $0\\notin A$ by inspection."
   ]
  },
  {
   "cell_type": "code",
   "execution_count": 2,
   "metadata": {},
   "outputs": [
    {
     "data": {
      "text/plain": [
       "False"
      ]
     },
     "execution_count": 2,
     "metadata": {},
     "output_type": "execute_result"
    }
   ],
   "source": [
    "A = {1,2,3}\n",
    "0 in A"
   ]
  },
  {
   "cell_type": "markdown",
   "metadata": {},
   "source": [
    "1.2) True. $B\\cap C \\iff \\{ 3, 4, 5 \\} \\cap \\{ 3, 4, 5, 6, 7 \\} =  \\{ 3, 4, 5 \\}$, so we see $4 \\in B\\cap C$."
   ]
  },
  {
   "cell_type": "code",
   "execution_count": 3,
   "metadata": {},
   "outputs": [
    {
     "data": {
      "text/plain": [
       "True"
      ]
     },
     "execution_count": 3,
     "metadata": {},
     "output_type": "execute_result"
    }
   ],
   "source": [
    "B = {3,4,5}\n",
    "C = {3,4,5,6,7}\n",
    "4 in B.intersection(C)"
   ]
  },
  {
   "cell_type": "markdown",
   "metadata": {},
   "source": [
    "1.3) False. $C - B \\iff \\{ 3, 4, 5, 6, 7 \\} - \\{ 3, 4, 5 \\}=  \\{6, 7\\}$, so we see that $5\\notin \\{ 6, 7 \\}$."
   ]
  },
  {
   "cell_type": "code",
   "execution_count": 4,
   "metadata": {},
   "outputs": [
    {
     "data": {
      "text/plain": [
       "False"
      ]
     },
     "execution_count": 4,
     "metadata": {},
     "output_type": "execute_result"
    }
   ],
   "source": [
    "5 in (C-B)"
   ]
  },
  {
   "cell_type": "markdown",
   "metadata": {},
   "source": [
    "1.4) False. $A \\subseteq B \\iff \\{1, 2, 3\\} \\subseteq \\{3, 4, 5\\}$ can't be true because 1 and 2 are not also elements of B."
   ]
  },
  {
   "cell_type": "code",
   "execution_count": 5,
   "metadata": {},
   "outputs": [
    {
     "data": {
      "text/plain": [
       "False"
      ]
     },
     "execution_count": 5,
     "metadata": {},
     "output_type": "execute_result"
    }
   ],
   "source": [
    "A.issubset(B)"
   ]
  },
  {
   "cell_type": "markdown",
   "metadata": {},
   "source": [
    "1.5) False. $A \\subseteq C \\iff \\{1, 2, 3\\} \\subseteq \\{3, 4, 5, 6, 7\\}$, because 1 and 2 are not also elements of $C$."
   ]
  },
  {
   "cell_type": "code",
   "execution_count": 6,
   "metadata": {},
   "outputs": [
    {
     "data": {
      "text/plain": [
       "False"
      ]
     },
     "execution_count": 6,
     "metadata": {},
     "output_type": "execute_result"
    }
   ],
   "source": [
    "A.issubset(C)"
   ]
  },
  {
   "cell_type": "markdown",
   "metadata": {},
   "source": [
    "1.6) True. $(A \\cap B) \\subseteq A \\iff \\{3\\} \\subseteq \\{1,2,3\\}$. We see that $\\{3\\} = (A\\cap B)$ and $3\\in A $, thus $(A \\cap B) \\subseteq A$ by inspection."
   ]
  },
  {
   "cell_type": "code",
   "execution_count": 7,
   "metadata": {},
   "outputs": [
    {
     "data": {
      "text/plain": [
       "True"
      ]
     },
     "execution_count": 7,
     "metadata": {},
     "output_type": "execute_result"
    }
   ],
   "source": [
    "A.intersection(B).issubset(A)"
   ]
  },
  {
   "cell_type": "markdown",
   "metadata": {},
   "source": [
    "1.7) True. $B \\subseteq C$ asks if $\\{ 3, 4, 5 \\} \\subseteq \\{ 3, 4, 5, 6, 7 \\}$. We see $\\{3,4,5\\} = B$ and $3,4,5\\in C$, but $6,7\\notin B$."
   ]
  },
  {
   "cell_type": "code",
   "execution_count": 8,
   "metadata": {},
   "outputs": [
    {
     "data": {
      "text/plain": [
       "True"
      ]
     },
     "execution_count": 8,
     "metadata": {},
     "output_type": "execute_result"
    }
   ],
   "source": [
    "B.issubset(C)"
   ]
  },
  {
   "cell_type": "markdown",
   "metadata": {},
   "source": [
    "### 2. Set operations (10pts)\n",
    "\n",
    "Let $A = \\{ 1,2,3,4,5 \\}$ and $B = \\{ 0,3,6 \\}$. Find\n",
    "\n",
    "a) $A \\cup B$\n",
    "\n",
    "b) $A \\cap B$\n",
    "\n",
    "c) $A - B$\n",
    "\n",
    "d) $B - A$\n",
    "\n",
    "Verify your results using Python sets.\n",
    "\n",
    "$\\textbf{Grading breakdown:}$\n",
    "\n",
    "    2.5pts for finding each set/each python implementation"
   ]
  },
  {
   "cell_type": "markdown",
   "metadata": {},
   "source": [
    "2.a) $A\\cup B = \\{0,1,2,3,4,5,6\\}$.\n",
    "\n",
    "2.b) $A\\cap B = \\{3\\}$.\n",
    "\n",
    "2.c) $A-B = \\{1,2,4,5\\}$.\n",
    "\n",
    "2.d) $B-A = \\{0,6\\}$."
   ]
  },
  {
   "cell_type": "code",
   "execution_count": 9,
   "metadata": {},
   "outputs": [
    {
     "data": {
      "text/latex": [
       "$$\\left ( \\left\\{0, 1, 2, 3, 4, 5, 6\\right\\}, \\quad \\left\\{3\\right\\}, \\quad \\left\\{1, 2, 4, 5\\right\\}, \\quad \\left\\{0, 6\\right\\}\\right )$$"
      ],
      "text/plain": [
       "(set([0, 1, 2, 3, 4, 5, 6]), set([3]), set([1, 2, 4, 5]), set([0, 6]))"
      ]
     },
     "execution_count": 9,
     "metadata": {},
     "output_type": "execute_result"
    }
   ],
   "source": [
    "A = {1,2,3,4,5}\n",
    "B = {0,3,6}\n",
    "\n",
    "a = A.union(B)\n",
    "b = A.intersection(B)\n",
    "c = A - B #everything in A but not in B\n",
    "d = B - A #everything in B but not in A\n",
    "\n",
    "a, b, c, d"
   ]
  },
  {
   "cell_type": "markdown",
   "metadata": {},
   "source": [
    "### 3. Set Proofs (10pts)\n",
    "\n",
    "Using the definitions of the set operations, the definition of the subset relation, and basic logic, show the following are true.\n",
    "\n",
    "a) $A - B \\subseteq A$\n",
    "\n",
    "b) $A \\cap (B-A) = \\varnothing$\n",
    "\n",
    "c) $A \\cup (B-A) = A \\cup B$\n",
    "\n",
    "Show examples using small sets in Python illustrating each property. \n",
    "\n",
    "$\\textbf{Grading breakdown:}$\n",
    "\n",
    "    5/3pts per proof (either by identities, using elements, or showing each side is a subset of the other side)\n",
    "    5/3pts per python example"
   ]
  },
  {
   "cell_type": "markdown",
   "metadata": {},
   "source": [
    "3.1) Notice that $A-B \\iff x\\in A$ and $x\\notin B \\implies A-B \\subseteq A$. (i.e. $A-B$ only contains elements of $A$ by definition.)"
   ]
  },
  {
   "cell_type": "code",
   "execution_count": 10,
   "metadata": {},
   "outputs": [
    {
     "data": {
      "text/plain": [
       "True"
      ]
     },
     "execution_count": 10,
     "metadata": {},
     "output_type": "execute_result"
    }
   ],
   "source": [
    "(A - B).issubset(A) #Using A and B from problem 1"
   ]
  },
  {
   "cell_type": "markdown",
   "metadata": {},
   "source": [
    "3.2) Proof (by identities):\n",
    "\n",
    "Notice that $A \\cap (B-A) = A \\cap (B\\cap A^c) = B \\cap (A\\cap A^c)$, and since $(A \\cap A^c) = \\emptyset \\implies A \\cap(B - A) = \\emptyset$. \n",
    "\n",
    "Proof (by elements using contradiction):\n",
    "\n",
    "Suppose $A\\cap (B-A) \\neq \\emptyset$, then $x\\in A\\cap (B-A)$ by definition. Next, from $(B-A)$ we see $x \\in B$ and $x \\notin A$. But we saw that $x \\in A$ from our first\n",
    "statement. Therefore, $x\\in A$ and $x\\notin A$ which by definition means $x\\in \\emptyset$. But since $\\emptyset$ is the empty set, the statement \"$x\\in \\emptyset$\" is false, which has lead us to a contradiction. Thus, $A\\cap (B-A) = \\emptyset$."
   ]
  },
  {
   "cell_type": "code",
   "execution_count": 11,
   "metadata": {},
   "outputs": [
    {
     "name": "stdout",
     "output_type": "stream",
     "text": [
      "True\n"
     ]
    },
    {
     "data": {
      "text/latex": [
       "$$\\left\\{\\right\\}$$"
      ],
      "text/plain": [
       "set([])"
      ]
     },
     "execution_count": 11,
     "metadata": {},
     "output_type": "execute_result"
    }
   ],
   "source": [
    "#Check in python\n",
    "print((A.intersection(B)).issubset(A))\n",
    "A.intersection(B - A) #Using A and B from problem 1"
   ]
  },
  {
   "cell_type": "markdown",
   "metadata": {},
   "source": [
    "3.3) Proof (by identities):\n",
    "\n",
    "Notice that $A \\cup (B-A) = A \\cup (B \\cap A^c) = (A \\cup B) \\cap (A \\cup A^c) = (A \\cup B) \\cap U = (A \\cup B)$, where $U$ is the universal set.\n",
    "\n",
    "Proof (by elements):\n",
    "\n",
    "Suppose $x \\in A \\cup (B − A) \\implies x \\in A$ or $x \\in (B − A)$ by definition. Next, from $(B-A)$ we see $x \\in B$ and $x \\notin A$. But we saw that $x \\in A$ from our first\n",
    "statement, so $x \\in A$ or $x \\in B$. By definition of union, $x \\in (A ∪ B)$."
   ]
  },
  {
   "cell_type": "code",
   "execution_count": 12,
   "metadata": {},
   "outputs": [
    {
     "data": {
      "text/plain": [
       "({0, 1, 2, 3, 4, 5, 6}, {0, 1, 2, 3, 4, 5, 6}, True)"
      ]
     },
     "execution_count": 12,
     "metadata": {},
     "output_type": "execute_result"
    }
   ],
   "source": [
    "#Check in python\n",
    "LHS = A.union(B-A)\n",
    "RHS = A.union(B)\n",
    "LHS, RHS, LHS == RHS"
   ]
  },
  {
   "cell_type": "markdown",
   "metadata": {
    "ExecuteTime": {
     "end_time": "2019-09-30T20:21:35.986395Z",
     "start_time": "2019-09-30T20:21:35.964585Z"
    }
   },
   "source": [
    "### 4. Cartesian Products (10pts)\n",
    "\n",
    "a) If $A_i$ has $n_i$ elements, how many elements does $A_1 \\times A_2 \\times \\dots A_n$ have? Why?\n",
    "\n",
    "b) Give an example where the number of elements in $A_1 \\times A_2 \\times \\dots A_n$ is 1. \n",
    "\n",
    "c) Give examples of nonempty sets $A$ and $B$ where $A \\times B = B \\times A$. \n",
    "\n",
    "$\\textbf{Grading breakdown:}$\n",
    "\n",
    "    4pts for using logical reasoning to show that the length of the product is the product of the lengths\n",
    "    2pts for a correct example in (b)\n",
    "    1pts per correct example in (c). Must supply at least two for a total of 2pts."
   ]
  },
  {
   "cell_type": "markdown",
   "metadata": {},
   "source": [
    "4.1) Since $$|A_1\\times A_2|=|A_1||A_2| = n_1n_2,$$ we can express $$|A_1\\times A_2\\times \\dots \\times A_n| = |A_1||A_2\\times \\dots \\times A_n|=|A_1||A_2||A_3\\times \\dots \\times A_n|,$$ and so on. Hence, $$|A_1\\times A_2\\times \\dots \\times A_n| = |A_1| |A_2|\\dots |A_n| = n_1n_2\\dots n_n.$$"
   ]
  },
  {
   "cell_type": "markdown",
   "metadata": {},
   "source": [
    "4.2) If $A_1 = A_2 = \\dots = A_n = \\{0\\} \\implies A_1\\times A_2\\times \\dots \\times A_n = \\{(0,0,\\dots , 0)\\}$, and $|A_1\\times A_2\\times \\dots \\times A_n| = 1$."
   ]
  },
  {
   "cell_type": "code",
   "execution_count": 13,
   "metadata": {},
   "outputs": [
    {
     "data": {
      "text/latex": [
       "$$\\left\\{\\left ( 0, \\quad 0, \\quad 0, \\quad 0\\right )\\right\\}$$"
      ],
      "text/plain": [
       "set([(0, 0, 0, 0)])"
      ]
     },
     "execution_count": 13,
     "metadata": {},
     "output_type": "execute_result"
    }
   ],
   "source": [
    "set((x,y,z,k) for x in [0] for y in [0] for z in [0] for k in [0])"
   ]
  },
  {
   "cell_type": "markdown",
   "metadata": {},
   "source": [
    "4.3) If $A = B = \\{1\\} \\implies A \\times B = \\{(1,1)\\}$ and $B \\times A = \\{(1,1)\\}$. A similar statement hold if $A = B = \\{0\\}$."
   ]
  },
  {
   "cell_type": "markdown",
   "metadata": {},
   "source": [
    "### 5. Function Properties (10pts)\n",
    "\n",
    "Plot each of the following functions from $\\mathbb{Z}$ to $\\mathbb{Z}$ over a representative subdomain (use points and not a line since the domain is $\\mathbb{Z}$. What is the range of each function? State which of them are injective, which are surjective, and which are bijective. For functions for which a given property holds, explain why. For functions for which the given property does not hold, give a counterexample.\n",
    "\n",
    "a) $f(n) = n-1$\n",
    "\n",
    "b) $f(n) = n^3$\n",
    "\n",
    "c) $f(n) = n^2 + 1$\n",
    "\n",
    "d) $f(n) = \\lceil n/2 \\rceil$\n",
    "\n",
    "$\\textbf{Grading breakdown:}$\n",
    "\n",
    "    5/8pts per function for plotting over a representitive subdomain\n",
    "    5/8pts per function for proving if it's injective or not\n",
    "    5/8pts per function for proving if it's surjective or not\n",
    "    5/8pts per function for proving if it's bijective or not"
   ]
  },
  {
   "cell_type": "markdown",
   "metadata": {},
   "source": [
    "5.1) The range of $f(n) = n-1$ is the set $\\{f(n) : n\\in \\text{domain}(f)\\} = \\{\\dots, -4,-3,-2,-1,0,1,2,\\dots\\} = \\mathbb{Z}$.\n",
    "\n",
    "It is injective. Let $f(n_1)=f(n_2)$ where $n_1,n_2\\in \\mathbb{Z}$, then because $f$ is a function, $ n_1-1 = n_2 -1 \\implies n_1=n_2$.\n",
    "\n",
    "It is surjective. Let $y\\in \\mathbb{Z}$ and $n=(y+1)\\in\\mathbb{Z}.$ Then $f(y+1) = (y+1)-1 = y+1 - 1 = y.$ \n",
    "\n",
    "Thus, it is bijective."
   ]
  },
  {
   "cell_type": "code",
   "execution_count": 14,
   "metadata": {},
   "outputs": [
    {
     "data": {
      "image/png": "[encoded data removed]",
      "text/plain": [
       "<matplotlib.figure.Figure at 0x1a5ab270240>"
      ]
     },
     "metadata": {},
     "output_type": "display_data"
    }
   ],
   "source": [
    "x = np.arange(-10,11) #subset of the domain of each f(n)\n",
    "\n",
    "def f1(n):\n",
    "    return n-1\n",
    "\n",
    "plt.scatter(x, f1(x))\n",
    "plt.grid('on')\n",
    "plt.xlabel('n')\n",
    "plt.title('Graph of f1(n)')\n",
    "plt.show()"
   ]
  },
  {
   "cell_type": "markdown",
   "metadata": {},
   "source": [
    "5.2) The range of $f(n) = n^3$ is the set $\\{f(n) : n\\in \\text{domain}(f)\\} = \\{\\dots, -81,-8,-1,0,1,8,81,\\dots\\}\\subset \\mathbb{Z}$.\n",
    "\n",
    "It is injective. Suppose $f(n_1)=f(n_2)$ for $n_1,n_2\\in\\mathbb{Z}.$ Then because $f$ is a function, $n_1^3=n_2^3\\implies n_1=n_2.$\n",
    "\n",
    "It is not surjective. For example, let $y=2\\in \\mathbb{Z}$,then there does $\\nexists n\\in \\mathbb{Z}$ such that $2 = n^3=f(n)$. \n",
    "\n",
    "Thus, it is not bijective. "
   ]
  },
  {
   "cell_type": "code",
   "execution_count": 15,
   "metadata": {},
   "outputs": [
    {
     "data": {
      "image/png": "[encoded data removed]",
      "text/plain": [
       "<matplotlib.figure.Figure at 0x1a5ab33f390>"
      ]
     },
     "metadata": {},
     "output_type": "display_data"
    }
   ],
   "source": [
    "def f2(n):\n",
    "    return n**3\n",
    "\n",
    "plt.scatter(x, f2(x))\n",
    "plt.grid('on')\n",
    "plt.xlabel('n')\n",
    "plt.title('Graph of f2(n)')\n",
    "plt.show()"
   ]
  },
  {
   "cell_type": "markdown",
   "metadata": {},
   "source": [
    "5.3) The range of $f(n) = n^2 + 1$ is the set $\\{f(n) : n\\in \\text{domain}(f)\\} = \\{1,5,10,17,26,\\dots\\}$.\n",
    "\n",
    "It is not injective. We see $f(n_1)=f(n_2)=5$, but $n_1=4$ and $n_2=-4$ are not equal. (It fails the horizontal line test.)\n",
    "\n",
    "It is not surjective. Let $y = 3 \\implies \\nexists n\\in \\mathbb{Z}$ such that $n^2 + 1 = 3$. We can fix this by changing the sets under which the function is defined.\n",
    "\n",
    "Thus, it is not bijective."
   ]
  },
  {
   "cell_type": "code",
   "execution_count": 16,
   "metadata": {},
   "outputs": [
    {
     "data": {
      "image/png": "[encoded data removed]",
      "text/plain": [
       "<matplotlib.figure.Figure at 0x1a5ac60ad68>"
      ]
     },
     "metadata": {},
     "output_type": "display_data"
    }
   ],
   "source": [
    "def f3(n):\n",
    "    return n**2 + 1\n",
    "\n",
    "plt.scatter(x, f3(x))\n",
    "plt.grid('on')\n",
    "plt.xlabel('n')\n",
    "plt.title('Graph of f3(n)')\n",
    "plt.show()"
   ]
  },
  {
   "cell_type": "markdown",
   "metadata": {},
   "source": [
    "5.4) The range of $f(n) = \\lceil n/2 \\rceil$ is the set $\\{f(n) : n\\in \\text{domain}(f)\\} = \\{\\dots, -2,-1,0,1,2,\\dots\\}=\\mathbb{Z}$.\n",
    "\n",
    "\n",
    "It is not injective. For example, $0 = f(-1) = f(0)$, but $-1\\neq 0$. (It fails the horizontal line test.)\n",
    "\n",
    "It is sujective. Let $y\\in \\mathbb{Z}$ and $n=(2y-1)\\in\\mathbb{Z}.$ Then $f(2y-1) = \\lceil{\\frac{2y-1}{2}}\\rceil = \\lceil{y -0.5}\\rceil = y.$\n",
    "\n",
    "It is not bijective."
   ]
  },
  {
   "cell_type": "code",
   "execution_count": 17,
   "metadata": {},
   "outputs": [
    {
     "data": {
      "image/png": "[encoded data removed]",
      "text/plain": [
       "<matplotlib.figure.Figure at 0x1a5ac6a5828>"
      ]
     },
     "metadata": {},
     "output_type": "display_data"
    }
   ],
   "source": [
    "def f4(n):\n",
    "    return np.ceil(n/2)\n",
    "\n",
    "plt.scatter(x, f4(x))\n",
    "plt.grid('on')\n",
    "plt.xlabel('n')\n",
    "plt.title('Graph of f1(4)')\n",
    "plt.show()"
   ]
  },
  {
   "cell_type": "markdown",
   "metadata": {},
   "source": [
    "### 6. Composition (10pts)\n",
    "\n",
    "a) Suppose that $f(x) = x^2 + 1$ and $g(x) = e^x$ are functions from $\\mathbb{R}$ into $\\mathbb{R}$. Find $f \\circ g$ and $g \\circ f$ and plot them in Python (on the same axis to compare).\n",
    "\n",
    "b) Suppose $f(x) = a x + b$ and $g(x) = c x + d$ are functions from $\\mathbb{R}$ into $\\mathbb{R}$. Find constants $a$, $b$, $c$ and $d$ such that $f \\circ g = g \\circ f$. \n",
    "\n",
    "$\\textbf{Grading breakdown:}$\n",
    "\n",
    "    2.5pts for finding f(g(x)) and g(f(x))\n",
    "    2.5pts for plotting them on the same graph\n",
    "    5pts for showing (ad+b) = (cb+d) OR a=c and b=d OR some numerical values satisfying the first relationship"
   ]
  },
  {
   "cell_type": "markdown",
   "metadata": {},
   "source": [
    "6.1) We see that $f(g(x))=e^{2x}+1$, and $g(f(x))=e^{x^2+1}$."
   ]
  },
  {
   "cell_type": "code",
   "execution_count": 18,
   "metadata": {
    "scrolled": false
   },
   "outputs": [
    {
     "data": {
      "image/png": "[encoded data removed]",
      "text/plain": [
       "<matplotlib.figure.Figure at 0x1a5ac696588>"
      ]
     },
     "metadata": {},
     "output_type": "display_data"
    }
   ],
   "source": [
    "def f(x):\n",
    "    return x**2 + 1\n",
    "\n",
    "def g(x):\n",
    "    return np.exp(x)\n",
    "\n",
    "x = np.linspace(0,1,100) #some of the reals\n",
    "plt.plot(x, f(g(x)))\n",
    "plt.plot(x, g(f(x)))\n",
    "plt.legend(['$f(g(x))=e^{2x}+1$','$g(f(x))=e^{x^2+1}$'])\n",
    "plt.title('Compositions of functions')\n",
    "plt.xlabel('x')\n",
    "plt.grid('on')\n",
    "plt.show()"
   ]
  },
  {
   "cell_type": "markdown",
   "metadata": {},
   "source": [
    "6.2) Assume $f(x) = a x + b$ and $g(x) = c x + d$. Then $$f \\circ g = a(cx+d) + b$$ and $$g \\circ f = c(ax+b) + d.$$ So by setting each composition equal to each other, we see that $$a(cx+d) + b=c(ax+b) + d $$ which implies that $$ acx + (ad + b) = cax + (cb + d).$$ By comparing the coefficients, we deduce that $$ad+b = cb+d \\text{,  } \\forall a,b,c,d\\in \\mathbb{R}.$$ So to find constants $a$, $b$, $c$ and $d$ such that $f \\circ g = g \\circ f$, we could set $$a=c=1 \\text{, and } b=d=2.$$"
   ]
  },
  {
   "cell_type": "markdown",
   "metadata": {},
   "source": [
    "### 7. Relations (10pts)\n",
    "\n",
    "Define the relation $R$ on $\\mathbb{N} \\times \\mathbb{N}$ saying that $x \\; R\\; y$ if and only if the binary representations of $x$ and $y$ have the same number of ones. For example, $15 \\; R \\; 23$ since $15$ in binary is $1111$ and $23$ in binary is $10111$, which both have four ones. \n",
    "\n",
    "a) Show that $R$ is an equivalence relation.\n",
    "\n",
    "b) What is the equivalence class $[3]_R$ of the number $3$ (expressed in base 10). Hint: Come up with a general formula for numbers in this class.\n",
    "\n",
    "c) Write simple line of Python code that produces the set of all elements of $[3]_R$ that are less than 100 (expressed in base 10). \n",
    "\n",
    "$\\textbf{Grading breakdown:}$\n",
    "\n",
    "    5pts for showing R is symmetric, reflexive, and transitive\n",
    "    2.5pts for expressing the equivalence class as a general formula\n",
    "    2.5pts for writing python code that produces the set of all elements of [3]_R that are less than 100"
   ]
  },
  {
   "cell_type": "markdown",
   "metadata": {},
   "source": [
    "7.1) We must show that R satisfies reflexivity, transitivity, and symmetry.\n",
    "\n",
    "Reflexivity: By definition, the binary representations of $x$ and $x$ have the same number of ones. Thus, $xRx$.\n",
    "\n",
    "Symmetry: $xRy \\implies yRx$. If $xRy$, then the binary representations of $x$ and $y$ have the same number of ones. It immediately follows that  the binary representations of $y$ and $x$ have the same number of ones--i.e. the ordering of this relation does not matter. Hence, we see $yRx$.\n",
    "\n",
    "Transitivity: $xRy$ and $yRz \\implies xRz$. Assume $xRy$ and $yRz$, then the binary representations of $x$ and $y$ have the same number of ones and the binary representations of $y$ and $z$ have the same number of ones. It then follows that the binary representations of $x$ and $z$ have the same number of ones. Thus, $xRz$."
   ]
  },
  {
   "cell_type": "markdown",
   "metadata": {},
   "source": [
    "7.2) $[3]_R = \\{\\forall x\\in\\mathbb{N}$ | $xR3 \\} = \\{3, 5, 6, 9, 10, 12, 17, 18, 20,\\dots \\}$."
   ]
  },
  {
   "cell_type": "code",
   "execution_count": 4,
   "metadata": {
    "scrolled": true
   },
   "outputs": [
    {
     "name": "stdout",
     "output_type": "stream",
     "text": [
      "{3, 5, 6, 9, 10, 12, 17, 18, 20, 24, 33, 34, 36, 40, 48, 65, 66, 68, 72, 80, 96}\n"
     ]
    }
   ],
   "source": [
    "#7.3)\n",
    "base10 = {i for i in range(100) if bin(i).count('1') == 2} #checks if the binary representation of i has two 1s in it\n",
    "base2 = {bin(i) for i in range(100) if bin(i).count('1') == 2}\n",
    "print(base10)"
   ]
  },
  {
   "cell_type": "markdown",
   "metadata": {},
   "source": [
    "### 8. Sets, Functions, and Relations in Python (10pts)\n",
    "\n",
    "Express each of the following objects in Python.\n",
    "\n",
    "a) The set of $P$ prime numbers less than 100. \n",
    "\n",
    "b) The relation $<$ on the set $\\{1,2,3,4,5,6\\}$, expressed as a set of tuples.\n",
    "\n",
    "c) The function $f: \\{1,2,3,4,5,6\\} \\rightarrow \\{0,1\\}$ in which $f(x) = 0$ if $x$ is even and $f(x)=1$ if $x$ is odd, expressed as a dictionary.\n",
    "\n",
    "d) The Cartesian product $\\{0,1\\}^4$ as a set of tuples. \n",
    "\n",
    "\n",
    "$\\textbf{Grading breakdown:}$\n",
    "\n",
    "    4pts for producing the set of prime numbers less than 100\n",
    "    2pts for producing the relation < on {1,2,3,4,5,6}\n",
    "    2pts for the function in (c)\n",
    "    2pts for producing {0,1}**4"
   ]
  },
  {
   "cell_type": "code",
   "execution_count": 20,
   "metadata": {},
   "outputs": [
    {
     "name": "stdout",
     "output_type": "stream",
     "text": [
      "{0, 1, 2, 3, 5, 7, 11, 13, 17, 19, 23, 29, 31, 37, 41, 43, 47, 53, 59, 61, 67, 71, 73, 79, 83, 89, 97}\n"
     ]
    }
   ],
   "source": [
    "#8.a) \n",
    "n = 100\n",
    "def get_primes(n):\n",
    "    '''Assumes n is a natural number.\n",
    "    Returns all the prime numbers between 0 and n.\n",
    "    '''\n",
    "    primes = []\n",
    "    for guess in range(n): #iterate once for each possibility\n",
    "        Prime = True #Assume it's a prime\n",
    "        for i in range(2, int(guess ** 0.5) + 1): #Reduce the possible range of divisors\n",
    "            if guess % i == 0: #Is divisible by 2\n",
    "                Prime = False\n",
    "                break\n",
    "        if Prime:\n",
    "            primes.append(guess)\n",
    "    return primes\n",
    "        \n",
    "print(set(get_primes(n)))"
   ]
  },
  {
   "cell_type": "code",
   "execution_count": 21,
   "metadata": {},
   "outputs": [
    {
     "name": "stdout",
     "output_type": "stream",
     "text": [
      "{(1, 2), (1, 3), (2, 6), (4, 6), (4, 5), (5, 6), (1, 4), (1, 5), (1, 6), (2, 3), (3, 6), (2, 5), (3, 4), (2, 4), (3, 5)}\n"
     ]
    }
   ],
   "source": [
    "#8.b)\n",
    "print(set([(x,y) for x in range(1,7) for y in range(1,7) if x < y]))"
   ]
  },
  {
   "cell_type": "code",
   "execution_count": 22,
   "metadata": {},
   "outputs": [
    {
     "data": {
      "text/latex": [
       "$$\\left \\{ 1 : 1, \\quad 2 : 0, \\quad 3 : 1, \\quad 4 : 0, \\quad 5 : 1, \\quad 6 : 0\\right \\}$$"
      ],
      "text/plain": [
       "{1: 1, 2: 0, 3: 1, 4: 0, 5: 1, 6: 0}"
      ]
     },
     "execution_count": 22,
     "metadata": {},
     "output_type": "execute_result"
    }
   ],
   "source": [
    "#8.c)\n",
    "f = {i:i%2 for i in range(1,7)}\n",
    "f"
   ]
  },
  {
   "cell_type": "code",
   "execution_count": 23,
   "metadata": {},
   "outputs": [
    {
     "name": "stdout",
     "output_type": "stream",
     "text": [
      "{(1, 0, 1, 1), (1, 1, 0, 1), (1, 0, 0, 0), (1, 1, 1, 0), (1, 0, 1, 0), (0, 0, 0, 1), (0, 1, 1, 1), (1, 1, 0, 0), (1, 0, 0, 1), (0, 1, 0, 0), (0, 0, 1, 0), (1, 1, 1, 1), (0, 0, 0, 0), (0, 1, 1, 0), (0, 0, 1, 1), (0, 1, 0, 1)}\n"
     ]
    }
   ],
   "source": [
    "#8.d)\n",
    "print(set((x,y,z,k) for x in [0,1] for y in [0,1] for z in [0,1] for k in [0,1]))"
   ]
  },
  {
   "cell_type": "markdown",
   "metadata": {
    "ExecuteTime": {
     "end_time": "2019-10-01T17:52:09.486952Z",
     "start_time": "2019-10-01T17:52:09.482366Z"
    }
   },
   "source": [
    "### 9. The Cantor Set (10pts)\n",
    "\n",
    "Define $C_0$ to be the closed interval $[0,1]$.\n",
    "\n",
    "Define $C_1$ to be the result of removing the middle third of $C_0$. So \n",
    "\n",
    "$$\n",
    "C_1 = [0,\\frac{1}{3}] \\cup [\\frac{2}{3},1].\n",
    "$$\n",
    "\n",
    "Define $C_2$ to be the result of removing the middle thirds of the two intervals in $C_1$. So\n",
    "\n",
    "$$\n",
    "C_2 = [0,\\frac{1}{9}] \\cup [\\frac{2}{9},\\frac{1}{3}] \\cup [\\frac{2}{3},\\frac{7}{9}] \\cup [\\frac{8}{9},1] .\n",
    "$$\n",
    "\n",
    "In general, $C_{n+1}$ is obtained by remove the middle thirds of the intervals in $C_n$. \n",
    "\n",
    "Write a Python function that takes a number $n$ and returns the set $C_n$. Use Python tuples to represent intervals, Python sets to represent sets of intervals, and sympy to represent the fractions. For example, you would have\n",
    "\n",
    "```python\n",
    "import sympy as sm\n",
    "\n",
    "C_0 = { (sm.Integer(0),sm.Integer(1)) }\n",
    "C_1 = { (sm.Integer(0),sm.Rational(1,3)), (sm.Rational(2,3),sm.Integer(1)) }\n",
    "```\n",
    "\n",
    "Demonstrate your function for a few different values of $n$. \n",
    "\n",
    "**Not graded**: Define the Cantor Set $C$ to be the limit of the series $C_0, C_1, \\dots$ as $n \\rightarrow \\infty$. Show $\\frac{1}{4} \\in C$.\n",
    "\n",
    "\n",
    "$\\textbf{Grading breakdown:}$\n",
    "\n",
    "    1pt for a docstring\n",
    "    1pt for including a base case, C0\n",
    "    2pts for calculating the next cantor interval\n",
    "    3pts using sympy Integer and Rational\n",
    "    1pt for returning a set\n",
    "    2pts for printing out a few different examples of your function working"
   ]
  },
  {
   "cell_type": "code",
   "execution_count": 24,
   "metadata": {},
   "outputs": [
    {
     "name": "stdout",
     "output_type": "stream",
     "text": [
      "{(0, 1/3), (2/3, 1)}\n",
      "{(2/9, 1/3), (2/3, 7/9), (0, 1/9), (8/9, 1)}\n"
     ]
    },
    {
     "data": {
      "text/latex": [
       "$$\\left\\{\\left ( 0, \\quad \\frac{1}{27}\\right ), \\left ( \\frac{2}{27}, \\quad \\frac{1}{9}\\right ), \\left ( \\frac{2}{9}, \\quad \\frac{7}{27}\\right ), \\left ( \\frac{8}{27}, \\quad \\frac{1}{3}\\right ), \\left ( \\frac{2}{3}, \\quad \\frac{19}{27}\\right ), \\left ( \\frac{20}{27}, \\quad \\frac{7}{9}\\right ), \\left ( \\frac{8}{9}, \\quad \\frac{25}{27}\\right ), \\left ( \\frac{26}{27}, \\quad 1\\right )\\right\\}$$"
      ],
      "text/plain": [
       "   ⎛⎡                                                  ⎛     19⎞  ⎛20     ⎞  ⎛\n",
       "set⎜⎢(0, 1/27), (2/27, 1/9), (2/9, 7/27), (8/27, 1/3), ⎜2/3, ──⎟, ⎜──, 7/9⎟, ⎜\n",
       "   ⎝⎣                                                  ⎝     27⎠  ⎝27     ⎠  ⎝\n",
       "\n",
       "     25⎞  ⎛26   ⎞⎤⎞\n",
       "8/9, ──⎟, ⎜──, 1⎟⎥⎟\n",
       "     27⎠  ⎝27   ⎠⎦⎠"
      ]
     },
     "execution_count": 24,
     "metadata": {},
     "output_type": "execute_result"
    }
   ],
   "source": [
    "def cantor(n):\n",
    "    '''Assumes n is a natural number.\n",
    "    Returns the C_nth element in the Cantor series. \n",
    "    Note that C_n has 2**n elements in union.'''\n",
    "    C0 = (sm.Integer(0), sm.Integer(1)) #base case C0\n",
    "    C = [C0]\n",
    "    \n",
    "    def get_thirds(S): #helper function to recalculate the interval\n",
    "        '''Assumes S is a tuple of sympy objects (is an interval in Ci-1 to be split in two).\n",
    "        Returns the two intervals in Ci.'''    \n",
    "        A = (S[0]/3, S[1]/3) \n",
    "        B = (sm.Rational(2,3) + S[0]/3, sm.Rational(2,3) + S[1]/3)\n",
    "        return A,B\n",
    "\n",
    "    for i in range(0,n): #iterate until Cn is calculated\n",
    "        temp = []\n",
    "        for j in C:\n",
    "            intervals = get_thirds(j) #splits interval j in Ci into two. Removes their middle thirds\n",
    "            temp.append(intervals[0])\n",
    "            temp.append(intervals[1])\n",
    "        C = temp #prevents the accumulation of prior values of Ci (i.e. keeps only Ci)\n",
    "    return set(C)\n",
    "\n",
    "print(cantor(1))\n",
    "print(cantor(2))\n",
    "cantor(3)"
   ]
  },
  {
   "cell_type": "markdown",
   "metadata": {},
   "source": [
    "### 10 Cardinality (10pts)\n",
    "\n",
    "a) A polynomial with integer coefficients is a an expression like $2 x^3 + 3 x^2 - 4 x + 8$. Show that the set of all polynomials with integer coefficients is countable. \n",
    "\n",
    "b) A number is called *algebraic* if is is the root of some polynomial with integer coefficients. For example, $\\sqrt 2$ is algebraic because it is a root of the polynomial $x^2 - 2$. Use (a) to show that the set of algebraic numbers is countable. \n",
    "\n",
    "c) A number is called **transcendental** if it is neither rational nor algebraic. Using (b) and facts discussed in class, explain why the set of transcendental numbers in $\\mathbb{R}$ is uncountable. \n",
    "\n",
    "$\\textbf{Grading breakdown:}$\n",
    "\n",
    "    4pts for proving that the set of all polynomials with integer coefficients is countable\n",
    "    4pts for proving that the set of algebraic numbers is countable\n",
    "    2pts for explaining why the set of transcendental numbers is uncountable (doesn't need to be so formal)"
   ]
  },
  {
   "cell_type": "markdown",
   "metadata": {},
   "source": [
    "10.a) \n",
    "\n",
    "Suppose that for each $n\\in \\mathbb{N}$ let $P_n$ be the set of all polynomial functions of degree $n$ with integer coefficients. Let $a_i \\in \\mathbb{Z}, \\text{ } \\forall i \\in \\mathbb{N}$. We see that $P_0$ consists of functions of the form $a_0 \\implies |P_0| = |\\mathbb{Z}|$. Next, $P_1$ consists of functions of the form $a_1x+a_0 \\implies |P_1| = |\\mathbb{Z}\\times \\mathbb{Z}|.$ Similarly,$P_2$ consists of functions of the form $a_2x^2+a_1x+a_0 \\implies |P_2| = |\\mathbb{Z}\\times \\mathbb{Z} \\times \\mathbb{Z}|$, and so on. Because the Cartesian product of finitely many countable sets is a countable set, and that $\\mathbb{Z}$ is a countable set, it follows that each $P_n$ is a countable set. Finally, becasue the union of fintely many or countably many countable sets is a countable set, we see that $\\mathbb{Z}[x] = \\bigcup \\limits^{\\infty}_{n=0}{P_n}$ is countable. Thus, $\\mathbb{Z}[x]$, the set of all polynomial functions of degree $n$ with integer coefficients, is countable."
   ]
  },
  {
   "cell_type": "markdown",
   "metadata": {},
   "source": [
    "10.b) \n",
    "\n",
    "(Here's our strategy: Using the result in (a) and the fact that each polynomial has only finitely many\n",
    "roots, we can deduce that the set of all roots of these polynomials is the\n",
    "countable union of finite sets. Therefore, it is also countable.)\n",
    "\n",
    "Let the set of algebraic numbers be denoted as $\\mathbb{A}$. For each $p\\in \\mathbb{Z}[x]$, let $R(p)$ denote the set of its roots. Then $\\mathbb{A} = \\bigcup \\limits_{p\\in \\mathbb{Z}[x]}{R(p)}.$ Because the number of distinct roots of a polynomial function of degree $n$ is at most $n$, the set $R(p)$ is finite for every $p\\in \\mathbb{Z}[x]$. From part (a) we know that $\\mathbb{Z}[x]$ is a countable set. Using the fact that the union of countably many sets, where each of which is finite or countable, is a finite or countable set and that $\\mathbb{N} \\subset \\mathbb{Z} \\subset \\mathbb{Q} \\subset \\mathbb{A}$, we see that $\\mathbb{A}$ is countable."
   ]
  },
  {
   "cell_type": "markdown",
   "metadata": {},
   "source": [
    "10.c) \n",
    "\n",
    "This follows immediately from our previous results, the fact that $\\mathbb{C} = \\mathbb{A}\\cup \\mathbb{T}$, and that $\\mathbb{C}$ is uncountable. The union of an uncountable set and a countable set is uncountable, so for $\\mathbb{C}$ to be uncountable, $\\mathbb{T}$ must be uncountable."
   ]
  },
  {
   "cell_type": "code",
   "execution_count": null,
   "metadata": {},
   "outputs": [],
   "source": []
  }
 ],
 "metadata": {
  "kernelspec": {
   "display_name": "Python 3",
   "language": "python",
   "name": "python3"
  },
  "language_info": {
   "codemirror_mode": {
    "name": "ipython",
    "version": 3
   },
   "file_extension": ".py",
   "mimetype": "text/x-python",
   "name": "python",
   "nbconvert_exporter": "python",
   "pygments_lexer": "ipython3",
   "version": "3.7.4"
  }
 },
 "nbformat": 4,
 "nbformat_minor": 2
}
