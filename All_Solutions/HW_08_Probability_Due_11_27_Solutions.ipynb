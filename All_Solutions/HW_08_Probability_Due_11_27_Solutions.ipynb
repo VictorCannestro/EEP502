{
 "cells": [
  {
   "cell_type": "markdown",
   "metadata": {
    "ExecuteTime": {
     "end_time": "2019-09-24T16:05:23.746666Z",
     "start_time": "2019-09-24T16:05:23.741461Z"
    },
    "colab_type": "text",
    "id": "Ja198frtpuex"
   },
   "source": [
    "## EE 502 P: Analytical Methods for Electrical Engineering\n",
    "    \n",
    "# Homework 8: Probability and Markov Processes\n",
    "## Due 27 November, 2019 at 6:00 PM\n",
    "### <span style=\"color: red\">YOUR NAME HERE</span>\n",
    "\n",
    "Copyright &copy; 2019, University of Washington\n",
    "\n",
    "<hr>\n",
    "\n",
    "**Instructions**: Use this notebook as a template. Answer all questions using well formatted Markdown with embedded LaTeX equations, executable Jupyter cells, or both. Submit your homework solutions as an `.ipynb` file via Canvas.\n",
    "\n",
    "<span style=\"background: yellow; padding: 6px; border: 1pt solid black\">\n",
    "Although you may discuss the homework with others, you must turn in your own, original work.\n",
    "</span>\n",
    "\n",
    "**Things to remember:**\n",
    "- Use complete sentences. Equations should appear in text as grammatical elements.\n",
    "- Comment your code.\n",
    "- Label your axes. Title your plots. Use legends where appropriate. \n",
    "- Before submitting a notebook, choose Kernel -> Restart and Run All to make sure your notebook runs when the cells are evaluated in order. \n",
    "\n",
    "Note : Late homework will be accepted up to one week after the due date and will be worth 50% of its full credit score. "
   ]
  },
  {
   "cell_type": "markdown",
   "metadata": {
    "colab_type": "text",
    "id": "q95Zo7espuez"
   },
   "source": [
    "### 0. Warmup (Do not turn in)\n",
    "\n",
    "- Make sure you get download, read, and run the notebook for lecture 8. Work through the notebook cell by cell and see what happens when you change the expressions, and make up some of your own.\n",
    "- Most of the section on basic graph theory is from chapter the really, really, really good book:\n",
    "\n",
    "> Feller, [An Introduction to Probability Theory and Its Applications, Vol 1](https://www.amazon.com/Introduction-Probability-Theory-Applications-Vol/dp/0471257087), 3rd Edition, Wiley, 1968. \n",
    "\n",
    "- The material on Markov Chains can be found in numerous textbooks. A good online source is Chapter 11 of \n",
    "\n",
    "> Grinstead, [Introduction to Probability](http://www.dartmouth.edu/~chance/teaching_aids/books_articles/probability_book/book.html).\n",
    "\n"
   ]
  },
  {
   "cell_type": "code",
   "execution_count": 1,
   "metadata": {},
   "outputs": [],
   "source": [
    "import networkx as nx\n",
    "import math\n",
    "import scipy\n",
    "import scipy.integrate as spi\n",
    "import numpy as np\n",
    "import sympy as sm\n",
    "sm.init_printing(use_latex='mathjax')\n",
    "import matplotlib.pyplot as plt\n",
    "import itertools\n",
    "import random\n",
    "%matplotlib inline"
   ]
  },
  {
   "cell_type": "markdown",
   "metadata": {
    "colab_type": "text",
    "id": "C8NaEmHJpue0"
   },
   "source": [
    "### 1. Fundamental properties\n",
    "\n",
    "Use the definitions and basic properties of a probability function to show the following identities:\n",
    "\n",
    "a) $P[A \\oplus B] = P[A \\cap \\overline{B}] + P[\\overline{A} \\cap B]$ where $\\oplus$ is the exclusive or operation. \n",
    "\n",
    "b) $P[A \\oplus B] = P[A] + B[B] - 2 P[A\\cap B]$.\n",
    "\n",
    "**Grading Breakdown:**\n",
    "\n",
    "    2pts for using the definition of XOR\n",
    "    4pts (a) for a convincing proof showing (a) is true\n",
    "    4pts (b) for a convincing proof showing (b) is true"
   ]
  },
  {
   "cell_type": "markdown",
   "metadata": {},
   "source": [
    "The picture to keep in mind is:\n",
    "\n",
    "![XOR of two sets A and B](https://upload.wikimedia.org/wikipedia/commons/4/46/Venn0110.svg)\n",
    "\n",
    "- https://www.wikiwand.com/en/Exclusive_or"
   ]
  },
  {
   "cell_type": "markdown",
   "metadata": {},
   "source": [
    "***\n",
    "1.a)\n",
    "\n",
    "Recall the definition of a probability distribution:\n",
    "\n",
    "**Def**: A **probability distribution** is a function $P : \\mathcal{P}(\\Omega) \\rightarrow [0,1]$ such that\n",
    "\n",
    "a) $P[A] \\geq 0$\n",
    "\n",
    "b) $P[\\Omega] = 1$\n",
    "\n",
    "c) $P[A \\cup B] = P[A] + P[B]$ whenever $A \\cap B = \\emptyset$. "
   ]
  },
  {
   "cell_type": "markdown",
   "metadata": {},
   "source": [
    "We begin our calculation by using the definition of exclusive-or (i.e. XOR, $\\oplus$):\n",
    "\n",
    "\n",
    "$$P[A \\oplus B] = P[(A \\cap \\overline{B}) \\cup (\\overline{A} \\cap B)].$$\n",
    "\n",
    "Now because $A \\cap \\overline{B}$ and $\\overline A \\cap B$ are disjoint sets (i.e. $(A \\cap \\overline{B})\\cap(\\overline{A} \\cap {B})=\\emptyset$) we can use property c) in the definition of a probability distribution to get:\n",
    "\n",
    "$$P[A \\oplus B] = P[(A \\cap \\overline{B})] + P[(\\overline{A} \\cap B)].$$"
   ]
  },
  {
   "cell_type": "markdown",
   "metadata": {},
   "source": [
    "***\n",
    "1.b)\n",
    "\n",
    "We notice that $A \\cap \\overline{B} = A - (A \\cap B)$ and $\\overline A \\cap B = B - (A \\cap B)$. Thus, using the result from earlier:\n",
    "\n",
    "$$\\begin{align}\n",
    "P[A \\oplus B] &= P[(A \\cap \\overline{B})] + P[(\\overline{A} \\cap B)] \\\\\n",
    "& = P[A - (A \\cap B)] + P[B - (A \\cap B)] \\\\\n",
    "& =  P[A] - P[A \\cap B] - P[A \\cap B] + P[B] \\\\\n",
    "& =  P[A] - 2P[A \\cap B] + P[B].\n",
    "\\end{align}\n",
    "$$"
   ]
  },
  {
   "cell_type": "markdown",
   "metadata": {
    "colab_type": "text",
    "id": "iAe2ZC32pue1"
   },
   "source": [
    "## 2. Dice\n",
    "\n",
    "Suppose two dice are tossed, but that the dice are weighted so that 1 comes up as twice as likely as any other number for both dice. \n",
    "\n",
    "a) What is the probability of getting a sum of seven?\n",
    "\n",
    "b) What is the probability of getting a sum of seven given that the first die comes up 1?\n",
    "\n",
    "c) What is the probability neither die coming up 1?\n",
    "\n",
    "d) What is the PDF of the random variable $X$ defined to the the sum of the two dice?\n",
    "\n",
    "**Grading Breakdown:**\n",
    "\n",
    "    2pts for finding the probability of getting a sum of seven\n",
    "    2pts for finding the probability of getting a sum of seven given that the first die comes up 1\n",
    "    3pts for finding the probability neither die coming up 1\n",
    "    3pts for finding the PDF of X = D1 + D2 "
   ]
  },
  {
   "cell_type": "markdown",
   "metadata": {},
   "source": [
    "***\n",
    "2.a)\n",
    "\n",
    "Before we can even start, we need to find the probability of getting each face value individually. Let the weighted dice be denoted $D_1,D_2$ respectively. We're told that \"1\" comes up as twice as likely as any other number for both dice, so just considering any one\n",
    "\n",
    "| n:    | 1  | 2 | 3 | 4 | 5 | 6 |\n",
    "|-------|----|---|---|---|---|---|\n",
    "| P[n]: | 2a | a | a | a | a | a |\n",
    "\n",
    "holds for both dice.\n",
    "\n",
    "By the additivity and and normalizability axioms: \n",
    "$$1 = (2a + a + a + a + a + a)$$\n",
    "so \n",
    "$$a=\\frac{1}{7}$$\n",
    "and our table becomes\n",
    "\n",
    "| n:    | 1  | 2 | 3 | 4 | 5 | 6 |\n",
    "|-------|----|---|---|---|---|---|\n",
    "| P[n]: | $\\frac{2}{7}$ | $\\frac{1}{7}$ | $\\frac{1}{7}$ | $\\frac{1}{7}$ | $\\frac{1}{7}$ | $\\frac{1}{7}$ |\n",
    "\n",
    "Next, we'll go through every possible outcome of the two indepenent dice rolls and write down the probabilities. Note that\n",
    "\n",
    "$$\\begin{align}\n",
    "P[D_1=i \\cap D_2=j] &= P[D_1=i, D_2=j] \\\\\n",
    "&= P[(i,j)]\\\\\n",
    "&= P[D_1=i]P[D_2=j].\n",
    "\\end{align}\n",
    "$$\n",
    "\n",
    "|   | 1           | 2    | 3    | 4    | 5    | 6    |\n",
    "|---|-------------|------|------|------|------|------|\n",
    "| 1 | $\\frac{4}{49}$ | $\\frac{2}{49}$ | $\\frac{2}{49}$ | $\\frac{2}{49}$ | $\\frac{2}{49}$ | $\\bf{\\frac{2}{49}}$ |\n",
    "| 2 | $\\frac{2}{49}$ | $\\frac{1}{49}$ | $\\frac{1}{49}$ | $\\frac{1}{49}$ | $\\bf{\\frac{1}{49}}$ | $\\frac{1}{49}$ |\n",
    "| 3 | $\\frac{2}{49}$ | $\\frac{1}{49}$ | $\\frac{1}{49}$ | $\\bf{\\frac{1}{49}}$ | $\\frac{1}{49}$ | $\\frac{1}{49}$ |\n",
    "| 4 | $\\frac{2}{49}$ | $\\frac{1}{49}$ | $\\bf{\\frac{1}{49}}$ | $\\frac{1}{49}$ | $\\frac{1}{49}$ | $\\frac{1}{49}$ |\n",
    "| 5 | $\\frac{2}{49}$ | $\\bf{\\frac{1}{49}}$ | $\\frac{1}{49}$ | $\\frac{1}{49}$ | $\\frac{1}{49}$ | $\\frac{1}{49}$ |\n",
    "| 6 | $\\bf{\\frac{2}{49}}$ | $\\frac{1}{49}$ | $\\frac{1}{49}$ | $\\frac{1}{49}$ | $\\frac{1}{49}$ | $\\frac{1}{49}$ |\n",
    "\n",
    "Now, we can find the probability of getting a sum of seven.\n",
    "\n",
    "$$\\begin{align}\n",
    "P[D_1+D_2 = 7] &=  \\frac{2}{49} + \\frac{1}{49} + \\frac{1}{49} + \\frac{1}{49} + \\frac{1}{49} + \\frac{2}{49} \\\\\n",
    "&= \\frac{8}{49}.\n",
    "\\end{align}$$"
   ]
  },
  {
   "cell_type": "markdown",
   "metadata": {},
   "source": [
    "***\n",
    "2.b)\n",
    "\n",
    "The probability of getting a sum of seven given that the first die comes up 1 is written:\n",
    "\n",
    "$$P[D_1 + D_2 = 7 | D_1 = 1] = \\frac{P[( D_1 = 1) \\cap (D_1 + D_2 = 7)]}{P[ D_1 = 1]}$$\n",
    "\n",
    "$$ = \\frac{P[D_1 = 1 \\cap (1 + D_2 = 7)]}{P[ D_1 = 1]}$$\n",
    "\n",
    "$$ = \\frac{P[(1,6)]}{P[D_1 = 1]}$$\n",
    "\n",
    "$$ = \\frac{\\frac{2}{49}}{\\frac{2}{7}}$$\n",
    "\n",
    "$$ = \\frac{1}{7}.$$\n",
    "\n",
    "(i.e. the probability of $D_2=6.$)"
   ]
  },
  {
   "cell_type": "markdown",
   "metadata": {},
   "source": [
    "***\n",
    "2.c)\n",
    "\n",
    "The probability neither die coming up 1 is: \n",
    "\n",
    "$$\n",
    "P[D_1\\neq 1 \\cap D_2 \\neq 1] = P[D_1\\in\\{2,3,4,5,6\\}\\cap D_2\\in\\{2,3,4,5,6\\}].\n",
    "$$\n",
    "\n",
    "From independence we have\n",
    "\n",
    "$$\n",
    "= P[D_1\\in\\{2,3,4,5,6\\}]P[D_2\\in\\{2,3,4,5,6\\}],\n",
    "$$\n",
    "\n",
    "and from additivity we see\n",
    "\n",
    "$$\n",
    "= \\big(P[D_1=2] + P[D_1=3] + P[D_1=4] + P[D_1=5]+ P[D_1=6]\\big)\\big(P[D_2=2] + P[D_2=3] + P[D_2=4] + P[D_2=5]+ P[D_2=6]\\big). \n",
    "$$\n",
    "\n",
    "Substituting the numerical probabilities gives us\n",
    "\n",
    "$$\n",
    "= (\\frac{1}{7} + \\frac{1}{7} + \\frac{1}{7} + \\frac{1}{7} + \\frac{1}{7} + \\frac{1}{7})^2\n",
    "$$\n",
    "\n",
    "$$\n",
    "= (\\frac{5}{7})^2\n",
    "$$\n",
    "\n",
    "$$\n",
    "= \\frac{25}{49}.\n",
    "$$\n",
    "\n",
    "We can see this from the table too:\n",
    "\n",
    "|   | 1           | 2    | 3    | 4    | 5    | 6    |\n",
    "|---|-------------|------|------|------|------|------|\n",
    "| 1 | $\\frac{4}{49}$ | $\\frac{2}{49}$ | $\\frac{2}{49}$ | $\\frac{2}{49}$ | $\\frac{2}{49}$ | $\\frac{2}{49}$ |\n",
    "| 2 | $\\frac{2}{49}$ | $\\bf{\\frac{1}{49}}$ | $\\bf{\\frac{1}{49}}$ | $\\bf{\\frac{1}{49}}$ | $\\bf{\\frac{1}{49}}$ | $\\bf{\\frac{1}{49}}$ |\n",
    "| 3 | $\\frac{2}{49}$ | $\\bf{\\frac{1}{49}}$ | $\\bf{\\frac{1}{49}}$ | $\\bf{\\frac{1}{49}}$ | $\\bf{\\frac{1}{49}}$ | $\\bf{\\frac{1}{49}}$ |\n",
    "| 4 | $\\frac{2}{49}$ | $\\bf{\\frac{1}{49}}$ | $\\bf{\\frac{1}{49}}$ | $\\bf{\\frac{1}{49}}$ | $\\bf{\\frac{1}{49}}$ | $\\bf{\\frac{1}{49}}$ |\n",
    "| 5 | $\\frac{2}{49}$ | $\\bf{\\frac{1}{49}}$ | $\\bf{\\frac{1}{49}}$ | $\\bf{\\frac{1}{49}}$ | $\\bf{\\frac{1}{49}}$ | $\\bf{\\frac{1}{49}}$ |\n",
    "| 6 | $\\frac{2}{49}$ | $\\bf{\\frac{1}{49}}$ | $\\bf{\\frac{1}{49}}$ | $\\bf{\\frac{1}{49}}$ | $\\bf{\\frac{1}{49}}$ | $\\bf{\\frac{1}{49}}$ |"
   ]
  },
  {
   "cell_type": "markdown",
   "metadata": {},
   "source": [
    "***\n",
    "2.d)\n",
    "\n",
    "Recall, the definition of the PDF:\n",
    "\n",
    "**Def:** If $\\Omega$ is discrete, then the **probability density function** (PDF) of a random variable $X$ is\n",
    "\n",
    "$$\n",
    "f_X(x) = P[\\{ \\omega \\;|\\; X(\\omega) = x\\}].\n",
    "$$\n",
    "\n",
    "For us $X$ is the sum of the two weighted dice, i.e. $X = D_1+D_2$\n",
    "\n",
    "$$\n",
    "\\begin{align}\n",
    "f_X(x) &=  0 \\; \\mathrm{for} \\; x < 2 \\\\\n",
    "f_X(2) &= P[D_1=1,D_2=1] = 4/49 \\\\\n",
    "f_X(3) &= P[D_1=1,D_2=2] + P[D_1=2,D_2=1] = 4/49 \\\\\n",
    "f_X(4) &= P[D_1=1,D_2=3] + P[D_1=2,D_2=2] + P[D_1=3,D_2=1] = 5/49 \\\\\n",
    "f_X(5) &= P[D_1=1,D_2=4] + P[D_1=2,D_2=3] + P[D_1=3,D_2=2] + P[D_1=4,D_2=1] = 6/49 \\\\\n",
    "f_X(6) &= P[D_1=1,D_2=5] + P[D_1=2,D_2=4] + P[D_1=3,D_2=3] + P[D_1=4,D_2=2] + P[D_1=5,D_2=1] = 7/49 \\\\\n",
    "f_X(7) &= P[D_1=1,D_2=6] + P[D_1=2,D_2=5] + P[D_1=3,D_2=4] + P[D_1=4,D_2=3] + P[D_1=5,D_2=2] + P[D_1=6,D_2=1] = \\frac{8}{49} \\\\\n",
    "f_X(8) &= P[D_1=2,D_2=6] + P[D_1=3,D_2=5] + P[D_1=4,D_2=4] + P[D_1=5,D_2=3] + P[D_1=6,D_2=2] = 5/49 \\\\\n",
    "f_X(9) &= P[D_1=3,D_2=6] + P[D_1=4,D_2=5] + P[D_1=5,D_2=4] + P[D_1=6,D_2=3] = 4/49 \\\\\n",
    "f_X(10) &= P[D_1=4,D_2=6] + P[D_1=5,D_2=5] + P[D_1=6,D_2=4] = 3/49 \\\\\n",
    "f_X(11) &= P[D_1=5,D_2=6] + P[D_1=6,D_2=5] = 2/49 \\\\\n",
    "f_X(12) &= P[D_1=6,D_2=6] = 1/49 \\\\\n",
    "f_X(x) &= 0 \\; \\mathrm{for} \\; x > 12 .\n",
    "\\end{align}\n",
    "$$\n",
    "\n",
    "We can summarize the results into a nice table:\n",
    "\n",
    "| $f_X(x)$ | $P[X = D_1+D_2]$ | Numerical Values via Additivity | Final Value |\n",
    "|--|--|----------------|--|\n",
    "|   | | <img width=250/>| |\n",
    "|$f_X(2)$| $P[\\{(1,1)\\}]$ | $\\frac{2}{7}\\frac{2}{7}$ | $\\frac{4}{49}$ |\n",
    "|$f_X(3)$| $P[\\{(1,2),(2,1)\\}]$ | $\\frac{2}{7}\\frac{1}{7} + \\frac{1}{7}\\frac{2}{7}$ | $\\frac{4}{49}$ |\n",
    "|$f_X(4)$| $P[\\{(1,3),(3,1),(2,2)\\}]$ | $\\frac{2}{7}\\frac{1}{7} + \\frac{1}{7}\\frac{2}{7} + \\frac{1}{7}\\frac{1}{7} $ | $\\frac{5}{49}$ |\n",
    "|$f_X(5)$| $P[\\{(1,4),(4,1),(2,3),(2,3)\\}]$ | $\\frac{2}{7}\\frac{1}{7} + \\frac{1}{7}\\frac{2}{7} + \\frac{1}{7}\\frac{1}{7}  + \\frac{1}{7}\\frac{1}{7} $ | $\\frac{6}{49}$ |\n",
    "|$f_X(6)$| $P[\\{(1,5),(5,1),(2,4),(4,2),(3,3)\\}]$ | $\\frac{2}{7}\\frac{1}{7} + \\frac{1}{7}\\frac{2}{7} + \\frac{1}{7}\\frac{1}{7}  + \\frac{1}{7}\\frac{1}{7} + \\frac{1}{7}\\frac{1}{7} $ | $\\frac{7}{49}$ |\n",
    "|$f_X(7)$| $P[\\{(1,6),(6,1),(2,5),(5,2),(3,4),(4,3)\\}]$ | $\\frac{2}{7}\\frac{1}{7} + \\frac{1}{7}\\frac{2}{7} + \\frac{1}{7}\\frac{1}{7}  + \\frac{1}{7}\\frac{1}{7} + \\frac{1}{7}\\frac{1}{7} + \\frac{1}{7}\\frac{1}{7} $ | $\\frac{8}{49}$ |\n",
    "|$f_X(8)$| $P[\\{(2,6),(6,2),(3,5),(5,3),(4,4)\\}]$ |$\\frac{1}{7}\\frac{1}{7} + \\frac{1}{7}\\frac{1}{7} + \\frac{1}{7}\\frac{1}{7}  + \\frac{1}{7}\\frac{1}{7} + \\frac{1}{7}\\frac{1}{7} $ | $\\frac{5}{49}$ |\n",
    "|$f_X(9)$| $P[\\{(3,6),(6,3),(4,5),(5,4)\\}]$ | $\\frac{1}{7}\\frac{1}{7} + \\frac{1}{7}\\frac{1}{7}  + \\frac{1}{7}\\frac{1}{7} + \\frac{1}{7}\\frac{1}{7} $ | $\\frac{4}{49}$ |\n",
    "|$f_X(10)$| $P[\\{(4,6),(6,4),(5,5)\\}] $| $\\frac{1}{7}\\frac{1}{7}  + \\frac{1}{7}\\frac{1}{7} + \\frac{1}{7}\\frac{1}{7} $ | $\\frac{3}{49}$ |\n",
    "|$f_X(11)$| $P[\\{(5,6),(6,5)\\}]$ |$\\frac{1}{7}\\frac{1}{7} + \\frac{1}{7}\\frac{1}{7} $ | $\\frac{2}{49}$ |\n",
    "|$f_X(12)$| $P[\\{(6,6)\\}]$|$\\frac{1}{7}\\frac{1}{7} $ | $\\frac{1}{49}$ |\n",
    "|$f_X(x)$ | |for $x < 2$ or $x > 12$ | $0$ |"
   ]
  },
  {
   "cell_type": "code",
   "execution_count": 12,
   "metadata": {
    "scrolled": true
   },
   "outputs": [
    {
     "data": {
      "image/png": "[encoded data removed]",
      "text/plain": [
       "<Figure size 432x288 with 1 Axes>"
      ]
     },
     "metadata": {
      "needs_background": "light"
     },
     "output_type": "display_data"
    }
   ],
   "source": [
    "x = np.linspace(0,14,15);\n",
    "PDF = np.array([0,0,4,4,5,6,7,8,5,4,3,2,2,0,0]) / 49;\n",
    "origPDF = np.array([0,0,1,2,3,4,5,6,5,4,3,2,1,0,0]) / 36;\n",
    "\n",
    "ticks = np.arange(0,10/49, 2/49)\n",
    "l = ['0', r'$\\frac{2}{49}$', r'$\\frac{4}{49}$', r'$\\frac{6}{49}$', r'$\\frac{8}{49}$', r'$\\frac{10}{49}$']\n",
    "\n",
    "plt.plot(x,PDF, \"o\", label=\"f(x)\")\n",
    "plt.plot(x,origPDF, \"o\", label=\"f(x) fair dice\",alpha=0.6)\n",
    "plt.legend();\n",
    "plt.title(\"Sum of two weighted dice\")\n",
    "plt.yticks(ticks, labels=l)\n",
    "plt.grid(True)\n",
    "plt.show()"
   ]
  },
  {
   "cell_type": "markdown",
   "metadata": {},
   "source": [
    "https://www.tablesgenerator.com/markdown_tables#"
   ]
  },
  {
   "cell_type": "markdown",
   "metadata": {
    "colab_type": "text",
    "id": "Zc559J3Dpue1"
   },
   "source": [
    "## 3. PDF and CDF\n",
    "\n",
    "Suppose that a random variable $X$ has PDF defined by\n",
    "\n",
    "$$\n",
    "f_X(x) = \\left \\{\n",
    "\\begin{array}{ll}\n",
    "a(1+x) & \\; \\mathrm{if} \\; -1 < x \\leq 0 \\\\\n",
    "a(1-x) & \\; \\mathrm{if} \\; 0 < x < 1 \\\\\n",
    "0 & \\; \\mathrm{otherwise}.\n",
    "\\end{array}\n",
    "\\right .\n",
    "$$\n",
    "\n",
    "a) What does the value of $a$ need to be to make $f_X$ a probability distribution? Plot $f_X$ for this value.\n",
    "\n",
    "b) Find and plot $F_X$.\n",
    "\n",
    "c) Find $b$ such that $P[X>b] = \\frac{1}{2} P[X \\leq b]$. \n",
    "\n",
    "**Grading Breakdown:**\n",
    "\n",
    "    2pts (a) for finding a\n",
    "    2pts (a) for plotting fx\n",
    "    2pts (b) for finding FX\n",
    "    2pts (b) for plotting Fx\n",
    "    2pts (c) for finding b"
   ]
  },
  {
   "cell_type": "markdown",
   "metadata": {},
   "source": [
    "***\n",
    "3.a)\n",
    "\n",
    "Recall from lecture the **Properties of the PDF:**\n",
    "\n",
    "a) $\\int_{-\\infty}^\\infty f_X(x) dx = 1$\n",
    "\n",
    "b) $F_X(x) = \\sum f_X(x)$, assuming $x$ takes on discrete values. \n",
    "\n",
    "Thus, we can find $a$ by normalizing:\n",
    "\n",
    "$$\\begin{align}\n",
    "1 &= \\int^{\\infty}_{-\\infty} f_X(x)dx \\\\\n",
    "&= a \\int^{0}_{-1}{1+x}dx + a \\int^{1}_{0}{1-x}dx \\\\\n",
    "&= a (x + \\frac{x^2}{2})\\bigg \\rvert_{x=-1}^{x=0} + a (x - \\frac{x^2}{2})\\bigg \\rvert_{x=0}^{x=1} \\\\\n",
    "&= a\\big(0 - ((-1) + \\frac{1}{2}) \\big) + a (1 - \\frac{1}{2}) \\\\\n",
    "&= a\n",
    "\\end{align}$$\n",
    "\n",
    "thus, $a=1$."
   ]
  },
  {
   "cell_type": "code",
   "execution_count": 28,
   "metadata": {},
   "outputs": [
    {
     "data": {
      "image/png": "[encoded data removed]",
      "text/plain": [
       "<Figure size 432x288 with 1 Axes>"
      ]
     },
     "metadata": {
      "needs_background": "light"
     },
     "output_type": "display_data"
    }
   ],
   "source": [
    "x = np.linspace(-1,1,100)\n",
    "a = 1\n",
    "f = np.where(x <= 0, a*(1+x), a*(1-x))\n",
    "\n",
    "plt.plot(x, f, label=\"$f_X(x)$\")\n",
    "plt.title(\"PDF\")\n",
    "plt.legend()\n",
    "plt.grid(True)\n",
    "plt.show()"
   ]
  },
  {
   "cell_type": "markdown",
   "metadata": {},
   "source": [
    "***\n",
    "3.b)\n",
    "\n",
    "The CDF can be found by integrating the PDF piecewise and adding in previous accumulations:\n",
    "\n",
    "$$\n",
    "F_X(x) = \\int_{-\\infty}^{x}{f_X(t)}dt \\\\\n",
    "$$\n",
    " \n",
    "We know that coming from the left, there is no probability mass until we reach the support of $f_X(x)$, so\n",
    "\n",
    "$$\n",
    "F_X(x) = 0, \\; \\mathrm{if} \\; x\\leq -1.\n",
    "$$\n",
    "\n",
    "Next on the interval $x\\in(-1,0]$ we have nozero probability, thus\n",
    "$$\\begin{align}\n",
    "F_X(x) &= \\int_{-1}^{x}{(1+t})dt \\\\\n",
    "&= (t + \\frac{t^2}{2})\\bigg \\rvert_{t=-1}^{t=x} \\\\\n",
    "&= \\frac{x^2}{2} + x + \\frac{1}{2} \\\\.\n",
    "\\end{align}\n",
    "$$\n",
    "\n",
    "On the interval $x\\in(0,1)$ we have already accumulated some probability and also need to integrate, thus\n",
    "\n",
    "$$\\begin{align}\n",
    "F_X(x) &= F_X(0) + \\int_{0}^{x}{(1-t)}dt \\\\\n",
    "&= \\frac{1}{2} + (t - \\frac{t^2}{2})\\bigg \\rvert_{t=0}^{t=x} \\\\\n",
    "&= \\frac{1}{2} + x + \\frac{-x^2}{2}.\n",
    "\\end{align}\n",
    "$$\n",
    "\n",
    "Finally, on $x\\geq 1$ all the probability mass has been accumulated so \n",
    "$$\n",
    "F_X(x) = 1, \\; \\mathrm{if} \\; x\\geq 1.\n",
    "$$\n",
    "\n",
    "\n",
    "Putting it all together we find:\n",
    "$$\n",
    "F_X(x) = \n",
    "    \\begin{cases} \n",
    "    0, \\quad \\quad \\quad \\quad \\quad \\mathrm{if} \\; x\\leq -1 \\\\    \n",
    "    \\frac{1}{2}(x+1)^2, \\quad \\;\\;\\; \\mathrm{if} \\; x\\in(-1,0] \\\\\n",
    "    1 - \\frac{1}{2}(x-1)^2, \\; \\mathrm{if} \\; x\\in(0,1) \\\\ \n",
    "    1, \\quad \\quad \\quad \\quad \\quad \\mathrm{if} \\; x \\geq 1.\n",
    "    \\end{cases} \n",
    "$$"
   ]
  },
  {
   "cell_type": "code",
   "execution_count": 133,
   "metadata": {},
   "outputs": [
    {
     "data": {
      "image/png": "[encoded data removed]",
      "text/plain": [
       "<Figure size 576x288 with 1 Axes>"
      ]
     },
     "metadata": {
      "needs_background": "light"
     },
     "output_type": "display_data"
    }
   ],
   "source": [
    "x = np.arange(-2,2,0.01)\n",
    "\n",
    "F1 = list(np.where(x[x <= -1], 0, 1)) # If x <= -1 assign 0 \n",
    "\n",
    "Fa = x[x > -1] # Consider all xs > -1\n",
    "F2 = list(np.where(Fa[Fa <= 0], 0.5*(Fa[Fa < 0]+1)**2, 1)) # If -1 < xs <= 0 assign 0.5(x+1)**2\n",
    "\n",
    "Fb = x[x < 1] # Consider all xs < 1\n",
    "F3 = list(np.where(Fb[Fb > 0], 1-0.5*(Fb[Fb > 0]-1)**2, 1)) # If 0 < xs < 1 assign 1 - 0.5(x-1)**2\n",
    "\n",
    "F4 = list(np.where(x[x >= 1], 1, 1)) # If xs > 1 assign 1 \n",
    "\n",
    "F = F1 + F2 + F3 + F4 # simply append the lists in the correct order\n",
    "\n",
    "fig, ax = plt.subplots(1,1, figsize=(8,4))\n",
    "\n",
    "ax.plot(x, F)\n",
    "ax.set_title(\"CDF\")\n",
    "ax.grid(True)\n",
    "ax.set_xlabel('x')\n",
    "ax.set_ylabel(r'$F_X(x)$')\n",
    "plt.show()"
   ]
  },
  {
   "cell_type": "markdown",
   "metadata": {},
   "source": [
    "- https://math.stackexchange.com/questions/118742/finding-a-cdf-given-a-pdf"
   ]
  },
  {
   "cell_type": "markdown",
   "metadata": {},
   "source": [
    "***\n",
    "3.c)\n",
    "\n",
    "In order to find $b$ such that $P[X>b] = \\frac{1}{2} P[X \\leq b]$ we need to go back to the definition of the CDF:\n",
    "\n",
    "$$\n",
    "F_X(x) = P[X \\leq x]\n",
    "$$\n",
    "Using the fact that probabilities sum to one over all space we see:\n",
    "\n",
    "$$\n",
    "P[X > x] = 1 - P[X \\leq x]. \n",
    "$$\n",
    "Thus\n",
    "$$\\begin{align}\n",
    "P[X > b] &= \\frac{1}{2} P[X \\leq b]\\\\ \n",
    " \\implies 1 - P[X \\leq b] &= \\frac{1}{2} P[X \\leq b] \\\\\n",
    " \\implies P[X \\leq b] &= \\frac{2}{3}.\n",
    "\\end{align}\n",
    "$$"
   ]
  },
  {
   "cell_type": "markdown",
   "metadata": {},
   "source": [
    "Looking at the graph we can tell that $b$ is somewhere around $(0,\\frac{1}{2})$, thus we'll use the relevant part of the CDF to find an expression for $b$:\n",
    "\n",
    "$$\\begin{align}\n",
    "F_X(b) = \\frac{2}{3}\n",
    "& = 1 - \\frac{1}{2}(b - 1)^2 \\\\\n",
    "\\implies \\frac{2}{3} &= (b - 1)^2 \\\\ \n",
    "\\implies \\pm \\sqrt{\\frac{2}{3}} &= b - 1 \\\\\n",
    "\\implies b & = 1\\pm\\sqrt{\\frac{2}{3}}.\n",
    "\\end{align}$$\n",
    "\n",
    "The valid choice is $b = 1 - \\sqrt{\\frac{2}{3}} =0.183503419072274.$"
   ]
  },
  {
   "cell_type": "code",
   "execution_count": 148,
   "metadata": {},
   "outputs": [
    {
     "data": {
      "text/latex": [
       "$\\displaystyle \\frac{2}{3}$"
      ],
      "text/plain": [
       "2/3"
      ]
     },
     "execution_count": 148,
     "metadata": {},
     "output_type": "execute_result"
    }
   ],
   "source": [
    "b = sm.symbols('b')\n",
    "expr = sm.Rational(1,3) - sm.Rational(1,2)*(b-1)**2\n",
    "bs = sm.solve(expr)\n",
    "\n",
    "1 - sm.Rational(1,2)*(bs[0] - 1)**2 # Check F_X(b) in 0 < xs < 1"
   ]
  },
  {
   "cell_type": "markdown",
   "metadata": {},
   "source": [
    "### Readings:\n",
    "- https://newonlinecourses.science.psu.edu/stat414/node/97/ \n",
    "- http://www.mathwave.com/articles/calculate-probability-distributions.html\n",
    "- https://math.stackexchange.com/questions/1720053/how-can-a-probability-density-function-pdf-be-greater-than-1\n",
    "- http://rovdownloads.com/attachments/newsletters/Newsletter%2004%20-%20Tips%20on%20Interpreting%20PDF,%20CDF,%20ICDF%20(4P).pdf"
   ]
  },
  {
   "cell_type": "markdown",
   "metadata": {
    "colab_type": "text",
    "id": "yR9E70hWpue3"
   },
   "source": [
    "## 4. Functions of a Random Variable\n",
    "\n",
    "Suppose $X$ is distributed uniformly in the interval $[0,1]$. That is, $f_X(x) = 1$ if $x \\in [0,1]$ and $f_X(x) = 0$ otherwise. \n",
    "\n",
    "a) What is the CDF of $X$?\n",
    "\n",
    "b) Let $Y = X^2$. Find and plot $F_Y$ and $f_Y$. \n",
    "\n",
    "c) Let $Z = - \\frac{1}{\\lambda} \\ln X$. Find and plot $F_Z$ and $f_Z$. \n",
    "\n",
    "**Grading Breakdown:**\n",
    "\n",
    "    2pts (a) for finding the CDF of X \n",
    "    2pts (b) for finding Fy and fy \n",
    "    2pts (b) for plotting Fy and fy\n",
    "    2pts (c) for finding Fz and fz \n",
    "    2pts (c) for plotting Fz and fz "
   ]
  },
  {
   "cell_type": "markdown",
   "metadata": {},
   "source": [
    "***\n",
    "4.a)\n",
    "\n",
    "We know that coming from the left, there is no probability mass until we reach the support of $f_X(x)$, so\n",
    "\n",
    "$$\n",
    "F_X(x) = 0, \\; \\mathrm{if} \\; x < 0.\n",
    "$$\n",
    "\n",
    "On the interval $x\\in[0,1]$ we need to integrate, thus\n",
    "\n",
    "$$\\begin{align}\n",
    "F_X(x) &= \\int_{0}^{x}{\\frac{1}{1-0}}dt \\\\\n",
    "&= (t)\\bigg \\rvert_{t=0}^{t=x} \\\\\n",
    "&= x.\n",
    "\\end{align}\n",
    "$$\n",
    "\n",
    "Finally, on $x > 1$ all the probability mass has been accumulated so \n",
    "$$\n",
    "F_X(x) = 1, \\; \\mathrm{if} \\; x > 1.\n",
    "$$\n",
    "\n",
    "\n",
    "Putting it all together we find:\n",
    "$$\n",
    "F_X(x) = \n",
    "    \\begin{cases} \n",
    "    0, \\quad  \\mathrm{if} \\; x < 0 \\\\    \n",
    "    x, \\;\\;\\;\\; \\mathrm{if} \\; x\\in[0,1] \\\\ \n",
    "    1,  \\quad \\mathrm{if} \\; x > 1.\n",
    "    \\end{cases} \n",
    "$$"
   ]
  },
  {
   "cell_type": "code",
   "execution_count": 259,
   "metadata": {},
   "outputs": [
    {
     "data": {
      "image/png": "[encoded data removed]",
      "text/plain": [
       "<Figure size 432x288 with 1 Axes>"
      ]
     },
     "metadata": {
      "needs_background": "light"
     },
     "output_type": "display_data"
    }
   ],
   "source": [
    "x = np.linspace(-2,2,1000)\n",
    "\n",
    "xs = x[x < 0]\n",
    "fx = list(np.where(xs < 0, 0, 0)) \n",
    "\n",
    "xs = x[x <= 1]\n",
    "fx += list(np.where(xs[xs >= 0], 1, 0)) \n",
    "\n",
    "xs = x[x > 1]\n",
    "fx += list(np.where(xs, 0, 0))\n",
    "\n",
    "plt.plot(x, fx, label=\"$f_X$\")\n",
    "plt.title(\"PDFs for $X$\")\n",
    "plt.legend()\n",
    "plt.grid(True)\n",
    "plt.show()"
   ]
  },
  {
   "cell_type": "markdown",
   "metadata": {},
   "source": [
    "***\n",
    "4.b)\n",
    "\n",
    "If $Y = X^2$ (i.e. a strictly increasing function) then\n",
    "\n",
    "$$\n",
    "\\begin{align}\n",
    "F_Y(y) &= P[Y \\leq y] \\\\ \n",
    "&= P[X^2 \\leq y] \\\\\n",
    "&= P[-\\sqrt{y} \\leq X \\leq \\sqrt{y}] \\\\\n",
    "&= P[X \\leq \\sqrt{y}] \\\\ \n",
    "&= F_X(\\sqrt{y}) \\\\\n",
    "&= \\int_{0}^{\\sqrt{y}}(1)dt, \\text{ for } y\\in[0,1]\\\\\n",
    "&= \\sqrt{y}.\n",
    "\\end{align}$$\n",
    "Putting it all together we have\n",
    "$$\n",
    "F_Y(y) =\n",
    "\\begin{cases} \n",
    "    0, \\quad  \\mathrm{if} \\; y < 0^2 \\\\    \n",
    "    \\sqrt{y}, \\; \\mathrm{if} \\; y\\in[0^2,1^2] \\\\ \n",
    "    1, \\quad \\mathrm{if} \\; y > 1^2.\n",
    "\\end{cases} \n",
    "$$\n",
    "\n",
    "**Alternatively**, we consider $u(x) = y = x^2$ and inverse transform $v(y) = x = \\sqrt{y}$. For a strictly monotonic function of a continuous variable and on the interval of interest, $x\\in[0,1], y\\in[u(0),u(1)]$ we have:\n",
    "\n",
    "$$ \\begin{align}\n",
    "f_Y(y) &= f_X\\big(v(y)\\big)|v'(y)| \\\\\n",
    "&= (1)\\frac{1}{2\\sqrt{y}}\n",
    "\\end{align}\n",
    "$$\n",
    "and we can integrate to get the CDF."
   ]
  },
  {
   "cell_type": "code",
   "execution_count": 253,
   "metadata": {},
   "outputs": [],
   "source": [
    "n = 3.5\n",
    "\n",
    "# Let's construct the CDF F_X(x)\n",
    "x = np.linspace(-1,n,101)\n",
    "\n",
    "xs = x[x < 0]\n",
    "Fx = list(np.where(xs < 0, 0, 0)) # Case: x < 0\n",
    "\n",
    "xs = x[x <= 1] \n",
    "Fx += list(np.where(xs[xs >= 0], xs[xs >= 0], 0)) # Case: x in [0,1]\n",
    "\n",
    "xs = x[x > 1]\n",
    "Fx += list(np.where(xs, 1, 0)) # Case: x > 1\n",
    "\n",
    "# Let's construct teh CDF F_Y(y)\n",
    "Fy = np.power(Fx,0.5)"
   ]
  },
  {
   "cell_type": "code",
   "execution_count": 254,
   "metadata": {},
   "outputs": [],
   "source": [
    "# Let's construct the PDF f_Y(y)\n",
    "y = np.linspace(-1,n,101)\n",
    "\n",
    "ys = y[y < 0]\n",
    "fy = list(np.where(ys < 0, 0, 0)) # Case: x < 0\n",
    "\n",
    "ys = y[y <= 1]\n",
    "fy += list(np.where(ys[ys >= 0], 1 / (2*np.sqrt(ys[ys >= 0])), 0)) # Case: x in [0,1]\n",
    "\n",
    "ys = y[y > 1]\n",
    "fy += list(np.where(ys, 0, 0)) # Case: x > 1"
   ]
  },
  {
   "cell_type": "code",
   "execution_count": 255,
   "metadata": {},
   "outputs": [
    {
     "data": {
      "image/png": "[encoded data removed]",
      "text/plain": [
       "<Figure size 1008x288 with 2 Axes>"
      ]
     },
     "metadata": {
      "needs_background": "light"
     },
     "output_type": "display_data"
    }
   ],
   "source": [
    "fig, ax = plt.subplots(1,2, figsize=(14,4))\n",
    "\n",
    "ax[0].plot(x, Fy, label=\"$F_Y$\")\n",
    "ax[0].plot(x, Fx, label=\"$F_X$\")\n",
    "ax[0].set_title(\"CDFs for $X$ and $Y = X^2$\")\n",
    "ax[0].legend()\n",
    "ax[0].set_ylabel(r'CDF')\n",
    "ax[0].grid(True)\n",
    "\n",
    "ax[1].plot(y, fy, label=\"$f_Y$\")\n",
    "ax[1].set_title(\"PDF for $Y= X^2$\")\n",
    "ax[1].set_xlabel(\"y\")\n",
    "ax[1].legend()\n",
    "ax[1].grid(True)\n",
    "\n",
    "plt.show()"
   ]
  },
  {
   "cell_type": "markdown",
   "metadata": {},
   "source": [
    "**Note:** It's OKAY for the PDF to be greater than $1$. The *area* is what contains the probaiblity so the total area under the curve must be $1$."
   ]
  },
  {
   "cell_type": "markdown",
   "metadata": {},
   "source": [
    "***\n",
    "4.c)\n",
    "\n",
    "For $Z = - \\frac{1}{\\lambda} \\ln X$ we define $u(X) = - \\frac{1}{\\lambda} \\ln X= Z$ and $v(Z) = e^{-\\lambda Z} = X$.\n",
    "\n",
    "$$\\begin{align}\n",
    "F_Z(z) &= P[Z\\leq z] \\\\\n",
    "&= P[- \\frac{1}{\\lambda} \\ln X \\leq z] \\\\\n",
    "&= P[\\ln{X} > -\\lambda z ] \\\\\n",
    "&= P[X > e^{-\\lambda z}] \\\\\n",
    "&= 1 - P[X \\leq e^{-\\lambda z}] \\\\\n",
    "&= 1 - F_X(e^{-\\lambda z}) \\\\\n",
    "&= 1 - e^{-\\lambda z}.\n",
    "\\end{align}$$\n",
    "\n",
    "To get the PDF we simply differentiate the CDF:\n",
    "\n",
    "$$\n",
    "f_Z(z) = \\frac{d}{dz}(1 - e^{-\\lambda z}) \\\\\n",
    "= \\lambda e^{-\\lambda z}.\n",
    "$$"
   ]
  },
  {
   "cell_type": "markdown",
   "metadata": {},
   "source": [
    "**Alternatively**, we could procede like so:\n",
    "\n",
    "Let $f_X(x) = 1$ on $x\\in[0,1]$ and let $Z = u(x) = \\frac{-1}{\\lambda} \\ln X$ be a $1-1$ mapping from $X = \\{x : x\\in[0,1]\\}$ to $Z = \\{z : z\\geq 0\\}$. The range of $Z$ comes from $u(0)=\\infty$ and $u(1)=0$.\n",
    "\n",
    "We see that $X = v(Z) =  u^{-1}(Z) = e^{-\\lambda Z}$ and $\\frac{dX}{dZ} = -\\lambda e^{-\\lambda Z}$.\n",
    "\n",
    "Then \n",
    "$$\\begin{align}\n",
    "f_Z(z) &= f_X\\big(u^{-1}(z)\\big)\\bigg \\rvert \\frac{dx}{dz} \\bigg \\lvert \\\\\n",
    "&= (1) \\bigg \\rvert -\\lambda e^{-\\lambda z} \\bigg \\lvert \\\\\n",
    "&= \\lambda e^{-\\lambda z}\n",
    "\\end{align}$$\n",
    "for $z\\geq 0$.\n",
    "\n",
    "To get the CDF we then integrate:\n",
    "\n",
    "$$\\begin{align}\n",
    "F_Z(z) &= \\int_{0}^{z} \\lambda e^{-\\lambda t} dt \\\\\n",
    "&= - e^{\\lambda t} \\big \\rvert_{t=0}^{t=z} \\\\\n",
    "&= 1 - e^{-\\lambda z}\n",
    "\\end{align}$$\n",
    "for $z\\geq 0$.\n",
    "\n",
    "Putting it all together:\n",
    "\n",
    "$$\n",
    "F_Z(z) =\n",
    "\\begin{cases} \n",
    "    0, \\quad \\quad \\;\\;\\; \\mathrm{if} \\; z < 0 \\\\    \n",
    "    1 - e^{-\\lambda z}, \\; \\mathrm{if} \\; z\\geq 0\n",
    "\\end{cases} \n",
    "$$"
   ]
  },
  {
   "cell_type": "code",
   "execution_count": 256,
   "metadata": {},
   "outputs": [],
   "source": [
    "# Let's construct the PDF f_Z(z)\n",
    "z = np.linspace(-1,n,101)\n",
    "l = 1\n",
    "\n",
    "zs = z[z < 0]\n",
    "fz = list(np.where(zs < 0, 0, 0)) # Case: z < 0\n",
    "\n",
    "zs = z[z >= 0]\n",
    "fz += list(np.where(zs, l*np.exp(-l*zs), 0)) # Case: z >= 0"
   ]
  },
  {
   "cell_type": "code",
   "execution_count": 257,
   "metadata": {},
   "outputs": [],
   "source": [
    "# Let's construct the CDF F_Z(z)\n",
    "\n",
    "zs = z[z < 0]\n",
    "Fz = list(np.where(zs < 0, 0, 0)) # Case: z < 0\n",
    "\n",
    "zs = z[z >= 0]\n",
    "Fz += list(np.where(zs, 1 - np.exp(-l*zs), 0)) # Case: z >= 0"
   ]
  },
  {
   "cell_type": "code",
   "execution_count": 258,
   "metadata": {
    "scrolled": true
   },
   "outputs": [
    {
     "data": {
      "image/png": "[encoded data removed]",
      "text/plain": [
       "<Figure size 1008x288 with 2 Axes>"
      ]
     },
     "metadata": {
      "needs_background": "light"
     },
     "output_type": "display_data"
    }
   ],
   "source": [
    "fig, ax = plt.subplots(1,2, figsize=(14,4))\n",
    "\n",
    "ax[0].plot(z, Fz, label=\"$F_Z$\")\n",
    "ax[0].plot(z, Fx, label=\"$F_X$\")\n",
    "ax[0].set_title(r\"CDFs for $X$ and $Z= -\\frac{1}{\\lambda} \\ln {X}$\")\n",
    "ax[0].legend()\n",
    "ax[0].set_ylabel(r'CDF')\n",
    "ax[0].grid(True) \n",
    "\n",
    "ax[1].plot(z, fz, label=\"$f_Z$\")\n",
    "ax[1].set_title(r\"PDF for $Z= -\\frac{1}{\\lambda} \\ln {X}$\")\n",
    "ax[1].set_xlabel(\"y\")\n",
    "ax[1].legend()\n",
    "ax[1].grid(True)\n",
    "\n",
    "plt.show()"
   ]
  },
  {
   "cell_type": "markdown",
   "metadata": {},
   "source": [
    "### Similar Problems, Techniques, and Alternative Explanations:\n",
    "\n",
    "- https://newonlinecourses.science.psu.edu/stat414/node/135/\n",
    "- https://newonlinecourses.science.psu.edu/stat414/node/156/\n",
    "- https://newonlinecourses.science.psu.edu/stat414/node/157/\n",
    "- https://newonlinecourses.science.psu.edu/stat414/node/158/\n",
    "- http://web.stanford.edu/class/archive/ee/ee178/ee178.1172/hw/hw7_sn.pdf\n",
    "- https://math.stackexchange.com/questions/1531572/density-of-x2-when-x-has-uniform-1-2-distribution\n",
    "- https://math.stackexchange.com/questions/305997/does-the-square-of-uniform-distribution-have-density-function\n",
    "- https://math.stackexchange.com/questions/2132210/let-u-be-a-uniform-random-variable-on-0-1"
   ]
  },
  {
   "cell_type": "markdown",
   "metadata": {
    "colab_type": "text",
    "id": "XBVRyxlDpue4"
   },
   "source": [
    "## 5. Markov Process Properties\n",
    "\n",
    "Consider the following three Markov Processes.\n",
    "\n",
    "<img src=\"https://github.com/klavins/EE502P/blob/master/images/HW-MPs.jpeg?raw=1\" width=80%>\n",
    "\n",
    "For each process,\n",
    "\n",
    "i) Find the period of each state.\n",
    "\n",
    "ii) Identify transient states.\n",
    "\n",
    "iii) Identify absorbing states and absorbing subsets of states.\n",
    "\n",
    "iv) Identify ergodic states.\n",
    "\n",
    "**Grading Breakdown:**\n",
    "\n",
    "    2.5pts for identifying the period of each state in a) b) c)\n",
    "    2.5pts for identifying the transient states in a) b) c)\n",
    "    2.5pts for identifying the absorbing states and absorbing subsets of states in a) b) c)\n",
    "    2.5pts for identifying ergodic states in a) b) c)"
   ]
  },
  {
   "cell_type": "markdown",
   "metadata": {},
   "source": [
    "***\n",
    "### Definition of Markov:\n",
    "\n",
    "**Def:** A process is **Markov** if \n",
    "\n",
    "$$\n",
    "P[X_{k+1} = x_{k+1} \\;|\\; X_k = x_k, ..., X_0 = x_0 ] = P[X_{k+1} = x_{k+1} \\;|\\; X_k = x_k ].\n",
    "$$\n",
    "\n",
    "That is, *the probability that the next state is equal to some value is dependent only on the current state.*\n",
    "\n",
    "**Def:** A Discrete time, discrete state Markov Process (also commonly called a **Markov Chain**) can be specified using a directed graph whose edges are labeled by a transition probability. In particular, let $G=(V,E)$ be a *directed* graph and let $Q:E \\rightarrow [0,1]$ be such that for all $u \\in V$\n",
    "\n",
    "$$\n",
    "\\sum_{v \\in \\Gamma(v)} Q(u,v) = 1.\n",
    "$$\n",
    "\n",
    "With this specification, the state $X_i$ is a random variable whose values range over $V$ and\n",
    "\n",
    "$$\n",
    "P[X_{k+1} = v \\;|\\; X_k = u] = Q(u,v). \n",
    "$$\n",
    "***\n",
    "\n",
    "### Properties:\n",
    "\n",
    "**Def:** A Markov Process is called **irreducible** if it is there is a path from any state to any other state. Otherwise it is called **reducible**. \n",
    "\n",
    "**Def:** A state $x$ has **period** $k$ if starting in state $x$, if $x$ is returned to, it is returned to in $mk$ steps for some $m$. If $k=1$ for a given state, then it is called **aperiodic**. \n",
    "\n",
    "**Def:** A state is **transient** if there is a nonzero probability that it will not be returned to once left (i.e. it will only be visited a finite number of times). Otherwise the state is called **recurrent**. (Moreover, a chain is **recurrent** if every state is recurrent.)\n",
    "\n",
    "**Def:** A state is called **absorbing** if it cannot be left once reached. A subset of states is also called **absorbing** if it cannot be left once reached. \n",
    "\n",
    "**Def:** A state is **ergodic** if it is aperiodic and there is a nonzero probability that it will be visited an infinite number of times in any trajectory. (Moreover, a chain is **ergodic** if every state is ergodic.)\n",
    "***"
   ]
  },
  {
   "cell_type": "markdown",
   "metadata": {},
   "source": [
    "**Remark 1:** If $i$ is a recurrent state, then the set of states, $A(i)$, that are accessible from $i$ form a **recurrence class,** $R$, (i.e. the states in $A(i)$ are all accessible from each other and no state outside of $A(i)$ is accessible from them.)\n",
    "***\n",
    "**Remark 2:** \n",
    "1. A way to verify the aperodicity of a recurrence class  $R$ is to check whether there exists a special time $n\\geq 1$ and a special state $i\\in R$ from which all states in $R$ can be reached in $n$ steps. This means that for states $i,j$ where $i \\neq j$\n",
    "\n",
    "$$r_{ij}(n) > 0 \\text{ for } \\forall j\\in R.$$\n",
    "\n",
    "2. Alternatively, $\\forall n\\in N, r_{ij}(n) = P(X_n = i|X_0 = i) > 0 \\iff n \\in G(i)$. This means that the set $G(i)$ contains $n$ if we can take a sequence of $n$ arrows to go from state $i$ back to state $i$. We then let\n",
    "$\\bf{d(i) = gcd(G(i))}$ **be the period**. If $d(i) = 1$, the Markov Chain is aperiodic. \n",
    "\n",
    "   For example, in the lecture notebook, Markov Process c) has $G(i) = \\{3,6,9,\\dots\\}$ and $d(i) = gcd(G(i)) = 3$. Thus, it's periodic with period $3$.\n",
    "   \n",
    "   However, Markov Process d) in the lecture notebook has $G(i) = \\{1,3,4,5,6,\\dots\\}$ so  $d(i) = gcd(G(i)) = 1$. Thus, it is aperiodic\n",
    "   \n",
    "***\n",
    "\n",
    "**Remark 3:** \n",
    "\n",
    "If the state $k$ is **transient** (return to the state is uncertain) or **null-recurrent** (return to the state is certain, but the expected return time is infinite), then\n",
    "\n",
    "$$\n",
    "\\mathbb{P}(X_t=k | X_0=k) = (Q^t)_{kk}\\rightarrow 0 \\text{ as } t \\rightarrow \\infty.\n",
    "$$\n",
    "\n",
    "If the state $k$ is **positive-recurrent** (return to the state is certain, and the expected return time is finite), then\n",
    "\n",
    "$$\n",
    "\\mathbb{P}(X_t=k | X_0=k) = (Q^t)_{kk}\\rightarrow \\pi_k \\neq 0 \\text{ as } t \\rightarrow \\infty.\n",
    "$$"
   ]
  },
  {
   "cell_type": "markdown",
   "metadata": {},
   "source": [
    "***\n",
    "5.a) \n",
    "\n",
    "1. *All states are aperiodic.* Using Remark 2 the special time is $n=3.$\n",
    "\n",
    "\n",
    "2. *All states are recurrent.*\n",
    "\n",
    "\n",
    "3. *No state (or subset of states) is absorbing.*\n",
    "\n",
    "\n",
    "4. *All states are ergodic.*\n",
    "\n",
    "In summary:\n",
    "\n",
    "| State  | Periodic  | Transient  | Absorbing  | Ergodic |\n",
    "|--------|-----------|------------|------------|---------|\n",
    "| 0      |  No       | No         | No         | Yes     |\n",
    "| 1      |  No       | No         | No         | Yes     |\n",
    "| 2      |  No       | No         | No         | Yes     |"
   ]
  },
  {
   "cell_type": "markdown",
   "metadata": {},
   "source": [
    "5.b)\n",
    "\n",
    "1. *All states are aperiodic.* Using Remark 2 the special time is $n=4.$\n",
    "\n",
    "\n",
    "2. *All states are recurrent.* This can be seen from the long-term behavior of the update matrix in the questions below. I.e. since the $k^{th}$ diagonal entry of $Q^{\\infty}$ is nonzero:\n",
    "\n",
    "$$\n",
    "\\mathbb{P}(X_t=k | X_0=k) = (Q^t)_{kk}\\rightarrow \\pi_k \\neq 0 \\text{ as } t \\rightarrow \\infty \\implies \\text{ state } k \\text{ is positive recurrent.}\n",
    "$$\n",
    "\n",
    "3. *No state (or subset of states) is absorbing.*\n",
    "\n",
    "\n",
    "4. *All states are ergodic.* \n",
    "\n",
    "In summary:\n",
    "\n",
    "| State  | Periodic  | Transient  | Absorbing  | Ergodic |\n",
    "|--------|-----------|------------|------------|---------|\n",
    "| 0      |  No       | No         | No         | Yes      |\n",
    "| 1      |  No       | No         | No         | Yes      |\n",
    "| 2      |  No       | No         | No         | Yes      |\n",
    "| 3      |  No       | No         | No         | Yes     |"
   ]
  },
  {
   "cell_type": "markdown",
   "metadata": {},
   "source": [
    "5.c)\n",
    "\n",
    "1. *State $0$ is aperiodic. States $\\{1,2\\}$; $\\{3,4\\}$; and $\\{5,6\\}$ are all periodic with period $2$.*\n",
    "\n",
    "\n",
    "2. *State $0$ is transient. States $\\{1,2\\}$; $\\{3,4\\}$; and $\\{5,6\\}$ are all recurrent.* (In this case there are 3 classes of recurrent states.)\n",
    "\n",
    "\n",
    "3. *States $\\{1,2\\}$; $\\{3,4\\}$; and $\\{5,6\\}$ are all absorbing subsets.*\n",
    "\n",
    "\n",
    "4. *No state is ergodic.*\n",
    "\n",
    "In summary:\n",
    "\n",
    "| State  | Periodic| Transient  | Ergodic |\n",
    "|--------|---------|------------|---------|\n",
    "| 0      |  No     | Yes        | No      |\n",
    "| 1      |  Yes    | No         | No      |\n",
    "| 2      |  Yes    | No         | No      |\n",
    "| 3      |  Yes    | No         | No      |\n",
    "| 4      |  Yes    | No         | No      |\n",
    "| 5      |  Yes    | No         | No      |\n",
    "| 6      |  Yes    | No         | No      |"
   ]
  },
  {
   "cell_type": "markdown",
   "metadata": {},
   "source": [
    "### Readings and motivating resources:\n",
    "\n",
    "- https://bookdown.org/probability/beta/markov-chains.html\n",
    "- For visualization:  http://setosa.io/ev/markov-chains/\n",
    "- Toy model of weather prediction: https://www.ias.ac.in/article/fulltext/reso/018/04/0368-0377\n",
    "- https://michaelrzhang.github.io/assets/markovchains.pdf\n",
    "- Design FSM in Latex: http://madebyevan.com/fsm/"
   ]
  },
  {
   "cell_type": "markdown",
   "metadata": {
    "colab_type": "text",
    "id": "6m6gy1Tjpue5"
   },
   "source": [
    "## 6. Stationary Distributions\n",
    "\n",
    "For each Markov Process in Problem 5:\n",
    "\n",
    "i) Find the update matrix $Q$.\n",
    "\n",
    "ii) Simulate the dynamics $p_{k+1} = p_k Q$ starting at the distribution in which $p_0(0) = 1$. Make a nice plot of the dynamics for each system. To do this, plot a 2D grid where grid point $(k,i)$ is a gray-scale square corresponding to the probability that the process is in state $i$ at time $k$ (the Gambler's Ruin example in the notes does this). \n",
    "\n",
    "iii) Find the left eigenvector(s) corresponding to the stationary distribution(s) of the process. If there is more than one such eigenvector, describe the space of stationary distributions as a linear combination of them.\n",
    "\n",
    "iv) Find the reachable stationary distribution assuming $p_0(0) = 1$ (i.e. we start at node $0$). \n",
    "\n",
    "**Grading Breakdown:**\n",
    "\n",
    "    2pts (a) for finding all the update matrices\n",
    "    1pt  (b) for coding the matrices in python\n",
    "    1pts (b) for plotting\n",
    "    1pt  (c) per eigenvector corresponding to the stationary distributions(s) of each Q (3pts total) \n",
    "    1pt  (d) per reachable stationary distribution (3pts total) "
   ]
  },
  {
   "cell_type": "markdown",
   "metadata": {},
   "source": [
    "***\n",
    "6.i)\n",
    "\n",
    "The format of these matrices is:\n",
    "\n",
    "$$\n",
    "\\begin{matrix} & \\text{To:} \\\\\n",
    "\\text{From:} & \\begin{pmatrix}\n",
    "\\cdot & \\cdot & \\cdot \\\\\n",
    "\\cdot & \\cdot & \\cdot \\\\\n",
    "\\cdot & \\cdot & \\cdot \n",
    "\\end{pmatrix}\n",
    "\\end{matrix}\n",
    "$$\n",
    "The update matrices we're considering are:\n",
    "\n",
    "$\n",
    "Q_A = \n",
    "\\begin{pmatrix}\n",
    "0 & 0.5 & 0.5 \\\\\n",
    "0.5 & 0 & 0.5 \\\\\n",
    "0.5 & 0.5 & 0\n",
    "\\end{pmatrix}_{3x3}\n",
    "$\n",
    "$\n",
    "Q_B = \n",
    "\\begin{pmatrix}\n",
    "0 & 1 & 0 & 0 \\\\\n",
    "0 & 0 & 1 & 0 \\\\\n",
    "0 & 0 & 0 & 1 \\\\\n",
    "0.5 & 0 & 0 & 0.5\n",
    "\\end{pmatrix}_{4x4}\n",
    "$\n",
    "$\n",
    "Q_C = \n",
    "\\begin{pmatrix}\n",
    "0 & 0.5 & 0 & 0.25 & 0 & 0.25 & 0\\\\\n",
    "0 & 0 & 1 & 0 & 0 & 0 & 0\\\\\n",
    "0 & 1 & 0 & 0 & 0 & 0 & 0\\\\\n",
    "0 & 0 & 0 & 0 & 1 & 0 & 0\\\\\n",
    "0 & 0 & 0 & 1 & 0 & 0 & 0\\\\\n",
    "0 & 0 & 0 & 0 & 0 & 0 & 1\\\\\n",
    "0 & 0 & 0 & 0 & 0 & 1 & 0\\\\\n",
    "\\end{pmatrix}_{7x7}\n",
    "$"
   ]
  },
  {
   "cell_type": "markdown",
   "metadata": {},
   "source": [
    "***\n",
    "6.ii)\n",
    "\n",
    "Let's define our matrices to switch betweeen `numpy` and `sympy`."
   ]
  },
  {
   "cell_type": "code",
   "execution_count": 78,
   "metadata": {},
   "outputs": [],
   "source": [
    "def Qa(sympy=True):\n",
    "    '''Allows user to toggle between numpy and sympy versions'''\n",
    "    a = 0.5\n",
    "    Qa = [[0.0, a, a], [a, 0.0, a], [a, a, 0.0]]\n",
    "    Qa = sm.Matrix(Qa) if sympy == True else np.asarray(Qa)\n",
    "    return Qa\n",
    "\n",
    "def Qb(sympy=True):\n",
    "    '''Allows user to toggle between numpy and sympy versions'''\n",
    "    Qb = [[0, 1, 0, 0],[0, 0, 1, 0],[0, 0, 0, 1],[0.5, 0, 0, 0.5]]\n",
    "    Qb = sm.Matrix(Qb) if sympy == True else np.asarray(Qb)\n",
    "    return Qb\n",
    "\n",
    "def Qc(sympy=True):\n",
    "    '''Allows user to toggle between numpy and sympy versions'''\n",
    "    a = 0.5\n",
    "    b = 0.25\n",
    "    Qc = [[0, a, 0, b, 0, b, 0],\n",
    "          [0, 0, 1, 0, 0, 0, 0],\n",
    "          [0, 1, 0, 0, 0, 0, 0],\n",
    "          [0, 0, 0, 0, 1, 0, 0],\n",
    "          [0, 0, 0, 1, 0, 0, 0],\n",
    "          [0, 0, 0, 0, 0, 0, 1],\n",
    "          [0, 0, 0, 0, 0, 1, 0]]\n",
    "    Qc = sm.Matrix(Qc) if sympy == True else np.asarray(Qc)\n",
    "    return Qc"
   ]
  },
  {
   "cell_type": "code",
   "execution_count": 5,
   "metadata": {},
   "outputs": [],
   "source": [
    "def dynamics(k, Q, p):\n",
    "    '''\n",
    "    Assumes k is the numer of steps\n",
    "            Q is the update matrix\n",
    "            p0 is the starting distribution.\n",
    "    Returns a matrix of trajectories.\n",
    "    '''\n",
    "    trajectory = [p]\n",
    "    for t in range(k):\n",
    "        p = p @ Q\n",
    "        trajectory.append(p)\n",
    "    trajectory = np.matrix(trajectory).transpose()\n",
    "    return trajectory"
   ]
  },
  {
   "cell_type": "code",
   "execution_count": 6,
   "metadata": {},
   "outputs": [
    {
     "data": {
      "image/png": "[encoded data removed]",
      "text/plain": [
       "<Figure size 1152x360 with 1 Axes>"
      ]
     },
     "metadata": {
      "needs_background": "light"
     },
     "output_type": "display_data"
    }
   ],
   "source": [
    "# Dynamics of Qa\n",
    "\n",
    "k = 30\n",
    "p0 = np.array([1, 0, 0])\n",
    "traj = dynamics(k, Qa(sympy=False), p0) \n",
    "\n",
    "fig,ax = plt.subplots(1,1,figsize=(16,5))\n",
    "ax.imshow(traj,cmap=\"gray_r\")\n",
    "ax.set_xlabel(\"t\")\n",
    "ax.set_ylabel(r\"$P_{ik}$\")\n",
    "plt.show()"
   ]
  },
  {
   "cell_type": "code",
   "execution_count": 425,
   "metadata": {},
   "outputs": [
    {
     "data": {
      "image/png": "[encoded data removed]",
      "text/plain": [
       "<Figure size 1152x360 with 1 Axes>"
      ]
     },
     "metadata": {
      "needs_background": "light"
     },
     "output_type": "display_data"
    }
   ],
   "source": [
    "# Dynamics of Qb\n",
    "\n",
    "p0 = np.array([1, 0, 0, 0])\n",
    "traj = dynamics(k, Qb(sympy=False), p0) \n",
    "\n",
    "fig,ax = plt.subplots(1,1,figsize=(16,5))\n",
    "ax.imshow(traj,cmap=\"gray_r\")\n",
    "ax.set_xlabel(\"t\")\n",
    "ax.set_ylabel(r\"$P_{ik}$\")\n",
    "plt.show()"
   ]
  },
  {
   "cell_type": "code",
   "execution_count": 426,
   "metadata": {
    "scrolled": false
   },
   "outputs": [
    {
     "data": {
      "image/png": "[encoded data removed]",
      "text/plain": [
       "<Figure size 1152x360 with 1 Axes>"
      ]
     },
     "metadata": {
      "needs_background": "light"
     },
     "output_type": "display_data"
    }
   ],
   "source": [
    "# Dynamics of Qc\n",
    "\n",
    "p0 = np.array([1, 0, 0, 0, 0, 0, 0])\n",
    "traj = dynamics(k, Qc(sympy=False), p0) \n",
    "\n",
    "fig,ax = plt.subplots(1,1,figsize=(16,5))\n",
    "ax.imshow(traj,cmap=\"gray_r\")\n",
    "ax.set_xlabel(\"t\")\n",
    "ax.set_ylabel(r\"$P_{ik}$\")\n",
    "plt.show()"
   ]
  },
  {
   "cell_type": "markdown",
   "metadata": {},
   "source": [
    "***\n",
    "6.iii)\n",
    "\n",
    "### Review:\n",
    "\n",
    "Recall that a stationary probability vector  $p^*$  has the property that $p^*Q = p^*$. Thus,  $p^∗$  is a left eigenvector of  $Q$  with left eigenvalue 1. This corresponds to the **stationary distribution** of the process.\n",
    "\n",
    "**Remark 1:** A left eigenvector of $Q$ is equivalent to the transpose of a right eigenvector of $Q^T$, with the same eigenvalue. Moreover, because $det(Q-sI)=det(Q^T-sI) \\implies$ the eigenvalues of the left eigenvectors of $Q$ are the same as the eigenvalues of the right eigenvectors of $Q^T$.\n",
    "\n",
    "**Remark 2:** A necessary condition to have a unique stationary distribution is that the state transition diagram be a singly connected component (i.e. we can get from any state to any other state). This type of Markov chain is called **irreducible.**"
   ]
  },
  {
   "cell_type": "markdown",
   "metadata": {},
   "source": [
    "***\n",
    "First, let's analyze $Q_a.$"
   ]
  },
  {
   "cell_type": "code",
   "execution_count": 345,
   "metadata": {},
   "outputs": [
    {
     "data": {
      "text/latex": [
       "$\\displaystyle \\left[ \\left( -0.5, \\  2, \\  \\left[ \\left[\\begin{matrix}-1.0 & 1.0 & 0\\end{matrix}\\right], \\  \\left[\\begin{matrix}-1.0 & 0 & 1.0\\end{matrix}\\right]\\right]\\right), \\  \\left( 1.0, \\  1, \\  \\left[ \\left[\\begin{matrix}1.0 & 1.0 & 1.0\\end{matrix}\\right]\\right]\\right)\\right]$"
      ],
      "text/plain": [
       "[(-0.5, 2, [[-1.0  1.0  0], [-1.0  0  1.0]]), (1.0, 1, [[1.0  1.0  1.0]])]"
      ]
     },
     "execution_count": 345,
     "metadata": {},
     "output_type": "execute_result"
    }
   ],
   "source": [
    "Qa().left_eigenvects() # Returns [(eigenval, multiplicity, eigenvector(s)),...]"
   ]
  },
  {
   "cell_type": "markdown",
   "metadata": {},
   "source": [
    "Therefore, for $Q_a$, the left eigenvector corresponding to the stationary distribution of the process is:\n",
    "\n",
    "$$\\frac{1}{1+1+1}\\begin{pmatrix}{1} & {1} & {1}\\end{pmatrix}=\\begin{pmatrix}\\frac{1}{3} & \\frac{1}{3} & \\frac{1}{3}\\end{pmatrix}$$.\n",
    "***"
   ]
  },
  {
   "cell_type": "markdown",
   "metadata": {},
   "source": [
    "Now let's analyze $Q_b.$"
   ]
  },
  {
   "cell_type": "code",
   "execution_count": 295,
   "metadata": {},
   "outputs": [
    {
     "data": {
      "text/latex": [
       "$\\displaystyle \\left( 1.0, \\  1, \\  \\left[ \\left[\\begin{matrix}0.5 & 0.5 & 0.5 & 1.0\\end{matrix}\\right]\\right]\\right)$"
      ],
      "text/plain": [
       "(1.0, 1, [[0.5  0.5  0.5  1.0]])"
      ]
     },
     "execution_count": 295,
     "metadata": {},
     "output_type": "execute_result"
    }
   ],
   "source": [
    "v1,v2,v3,v4 = Qb().left_eigenvects()\n",
    "# w,vl = scipy.linalg.eig(Qb, left=True, right=False) # alternative method: numpy solution\n",
    "v1"
   ]
  },
  {
   "cell_type": "code",
   "execution_count": 290,
   "metadata": {},
   "outputs": [
    {
     "data": {
      "text/latex": [
       "$\\displaystyle \\left[ 0.4\\right]$"
      ],
      "text/plain": [
       "[0.4]"
      ]
     },
     "execution_count": 290,
     "metadata": {},
     "output_type": "execute_result"
    }
   ],
   "source": [
    "a = sm.symbols('a')\n",
    "expr = 0.5*a + 0.5*a + 0.5*a + a - 1 # Let's quickly solve for the scaling factor\n",
    "sm.solve(expr)"
   ]
  },
  {
   "cell_type": "markdown",
   "metadata": {},
   "source": [
    "Therefore, for $Q_b$, the left eigenvector corresponding to the stationary distribution of the process is:\n",
    "\n",
    "$$\\frac{2}{5}\\begin{pmatrix}\\frac{1}{2} & \\frac{1}{2} & \\frac{1}{2} & 1\\end{pmatrix}= \\begin{pmatrix}\\frac{1}{5} & \\frac{1}{5} & \\frac{1}{5} & \\frac{2}{5}\\end{pmatrix}.$$\n",
    "***"
   ]
  },
  {
   "cell_type": "markdown",
   "metadata": {},
   "source": [
    "Finally, let's analyze $Q_c.$"
   ]
  },
  {
   "cell_type": "code",
   "execution_count": 427,
   "metadata": {
    "scrolled": true
   },
   "outputs": [
    {
     "data": {
      "text/latex": [
       "$\\displaystyle \\left[ \\left( -1.0, \\  3, \\  \\left[ \\left[\\begin{matrix}0 & -1.0 & 1.0 & 0 & 0 & 0 & 0\\end{matrix}\\right], \\  \\left[\\begin{matrix}0 & 0 & 0 & -1.0 & 1.0 & 0 & 0\\end{matrix}\\right], \\  \\left[\\begin{matrix}0 & 0 & 0 & 0 & 0 & -1.0 & 1.0\\end{matrix}\\right]\\right]\\right), \\  \\left( 0, \\  1, \\  \\left[ \\left[\\begin{matrix}-4.0 & 0 & 2.0 & 0 & 1.0 & 0 & 1.0\\end{matrix}\\right]\\right]\\right), \\  \\left( 1.0, \\  3, \\  \\left[ \\left[\\begin{matrix}0 & 1.0 & 1.0 & 0 & 0 & 0 & 0\\end{matrix}\\right], \\  \\left[\\begin{matrix}0 & 0 & 0 & 1.0 & 1.0 & 0 & 0\\end{matrix}\\right], \\  \\left[\\begin{matrix}0 & 0 & 0 & 0 & 0 & 1.0 & 1.0\\end{matrix}\\right]\\right]\\right)\\right]$"
      ],
      "text/plain": [
       "[(-1.0, 3, [[0  -1.0  1.0  0  0  0  0], [0  0  0  -1.0  1.0  0  0], [0  0  0  \n",
       "0  0  -1.0  1.0]]), (0, 1, [[-4.0  0  2.0  0  1.0  0  1.0]]), (1.0, 3, [[0  1.\n",
       "0  1.0  0  0  0  0], [0  0  0  1.0  1.0  0  0], [0  0  0  0  0  1.0  1.0]])]"
      ]
     },
     "execution_count": 427,
     "metadata": {},
     "output_type": "execute_result"
    }
   ],
   "source": [
    "info = Qc().left_eigenvects()\n",
    "info"
   ]
  },
  {
   "cell_type": "markdown",
   "metadata": {},
   "source": [
    "So the left eigenvectors of $Q_c$ corresponding to $\\lambda=1$ are:\n",
    "\n",
    "$v_1=\\begin{pmatrix} 0 & 1 & 1 & 0 & 0 & 0 & 0\\end{pmatrix}, v_2= \\begin{pmatrix} 0 & 0 & 0 & 1 & 1 & 0 & 0\\end{pmatrix},$ and $v_3=\\begin{pmatrix} 0 & 0 & 0 & 0 & 0 & 1 & 1\\end{pmatrix}$.\n",
    "\n",
    "Since there is more than one of such an eigenvector, we'll describe the space of stationary distributions as a linear combination of them:\n",
    "\n",
    "$$ \\begin{align}\n",
    "p^* &= \\frac{1}{4}v_1 + \\frac{1}{8}v_2 + \\frac{1}{8}v_3 \\\\\n",
    "&= \\begin{pmatrix} 0 & \\frac{1}{4} & \\frac{1}{4} & \\frac{1}{8} & \\frac{1}{8} & \\frac{1}{8} & \\frac{1}{8}\\end{pmatrix}.\n",
    "\\end{align}$$\n",
    "\n",
    "This means that this Markov chain is *reducible* and cannot have a unique stationary distribution. "
   ]
  },
  {
   "cell_type": "markdown",
   "metadata": {},
   "source": [
    "***\n",
    "6.iv)\n",
    "\n",
    "### Review:\n",
    "\n",
    "To determine the **reachable** stationary distribution assuming $p_0(0) = 1$ (i.e. we start at node $0$), we need to use the update rule:\n",
    "\n",
    "$$\n",
    "p_{k+1} = p_k Q .\n",
    "$$\n",
    "\n",
    "Note that by substituting in $p_{k-1}Q$ and iterating, we can show that\n",
    "\n",
    "$$\n",
    "p_{k} = p_0 Q^k\n",
    "$$\n",
    "\n",
    "If we find $Q^k$ and take the limit as $k \\rightarrow \\infty$ we should find the steady state distribution."
   ]
  },
  {
   "cell_type": "markdown",
   "metadata": {},
   "source": [
    "***\n",
    "For $Q_a$ we simulate the long term behavior by picking a big enough $k$ such that $p_k$ is steady state in order to check our work. Analysis leads us to see: \n",
    "\n",
    "$$\n",
    "\\lim \\limits_{k\\rightarrow \\infty}Q_A^{k} = \n",
    "\\begin{pmatrix}\n",
    "\\frac{1}{3} & \\frac{1}{3} & \\frac{1}{3} \\\\\n",
    "\\frac{1}{3} & \\frac{1}{3} & \\frac{1}{3} \\\\\n",
    "\\frac{1}{3} & \\frac{1}{3} & \\frac{1}{3}\n",
    "\\end{pmatrix}_{3x3}\n",
    "$$\n",
    "so\n",
    "$$\\begin{align}\n",
    "p^*\n",
    "&=\n",
    "\\begin{pmatrix} 1 & 0 & 0 \\end{pmatrix} \n",
    "\\begin{pmatrix}\n",
    "\\frac{1}{3} & \\frac{1}{3} & \\frac{1}{3} \\\\\n",
    "\\frac{1}{3} & \\frac{1}{3} & \\frac{1}{3} \\\\\n",
    "\\frac{1}{3} & \\frac{1}{3} & \\frac{1}{3}\n",
    "\\end{pmatrix}_{3x3} \\\\\n",
    "&= \\begin{pmatrix} \\frac{1}{3} & \\frac{1}{3} & \\frac{1}{3} \\end{pmatrix}.\n",
    "\\end{align}$$"
   ]
  },
  {
   "cell_type": "code",
   "execution_count": 82,
   "metadata": {},
   "outputs": [
    {
     "data": {
      "text/latex": [
       "$\\displaystyle \\left( \\left[\\begin{matrix}0.333333333333333 & 0.333333333333333 & 0.333333333333333\\end{matrix}\\right], \\  \\left[\\begin{matrix}0.333333333333333 & 0.333333333333333 & 0.333333333333333\\end{matrix}\\right]\\right)$"
      ],
      "text/plain": [
       "([0.333333333333333  0.333333333333333  0.333333333333333], [0.333333333333333\n",
       "  0.333333333333333  0.333333333333333])"
      ]
     },
     "execution_count": 82,
     "metadata": {},
     "output_type": "execute_result"
    }
   ],
   "source": [
    "k = 51\n",
    "p0 = sm.Matrix([[1,0,0]]) # initila distribution\n",
    "pk = p0 @ Qa()**k         # Update equation\n",
    "\n",
    "pk, pk @ Qa()             # i.e. the equation: p* = p*Q_a"
   ]
  },
  {
   "cell_type": "markdown",
   "metadata": {},
   "source": [
    "***\n",
    "For $Q_b$ we simulate the long term behavior by picking a big enough $k$ such that $p_k$ is steady state in order to check our work. Analysis leads us to see: \n",
    "\n",
    "$$\n",
    "\\lim \\limits_{k\\rightarrow \\infty}Q_b^{k} = \n",
    "\\begin{pmatrix}\n",
    "0 & 1 & 0 & 0 \\\\\n",
    "0 & 0 & 1 & 0 \\\\\n",
    "0 & 0 & 0 & 1 \\\\\n",
    "0.5 & 0 & 0 & 0.5 \\\\\n",
    "\\end{pmatrix}_{4x4}^k\n",
    "$$\n",
    "does exist (and is shown in the next line), so\n",
    "$$\\begin{align}\n",
    "p^*&=\n",
    "\\begin{pmatrix} 1 & 0 & 0 & 0 \\end{pmatrix} \n",
    "\\begin{pmatrix}\n",
    "0.2 & 0.2 & 0.2 & 0.4 \\\\\n",
    "0.2 & 0.2 & 0.2 & 0.4 \\\\\n",
    "0.2 & 0.2 & 0.2 & 0.4 \\\\\n",
    "0.2 & 0.2 & 0.2 & 0.4 \\\\\n",
    "\\end{pmatrix} \\\\\n",
    "&= \\begin{pmatrix} 0.2 & 0.2 & 0.2 & 0.4 \\end{pmatrix}.\n",
    "\\end{align}$$"
   ]
  },
  {
   "cell_type": "code",
   "execution_count": 83,
   "metadata": {},
   "outputs": [
    {
     "data": {
      "text/latex": [
       "$\\displaystyle \\left( \\left[\\begin{matrix}0.2 & 0.2 & 0.2 & 0.4\\end{matrix}\\right], \\  \\left[\\begin{matrix}0.2 & 0.2 & 0.2 & 0.4\\end{matrix}\\right]\\right)$"
      ],
      "text/plain": [
       "([0.2  0.2  0.2  0.4], [0.2  0.2  0.2  0.4])"
      ]
     },
     "execution_count": 83,
     "metadata": {},
     "output_type": "execute_result"
    }
   ],
   "source": [
    "k = 180\n",
    "p0 = sm.Matrix([[1,0,0,0]]) # initila distribution\n",
    "pk = p0 @ Qb()**k           # Update equation\n",
    "pk, pk @ Qb()               # i.e. the equation: p* = p*Q_b"
   ]
  },
  {
   "cell_type": "markdown",
   "metadata": {},
   "source": [
    "***\n",
    "For $Q_c$ the long term behavior oscillates between different states given $k$ is even or odd. Analysis leads us to see: \n",
    "\n",
    "$$\n",
    "\\lim \\limits_{k\\rightarrow \\infty}Q_c^{k} = \n",
    "DNE.\n",
    "$$\n",
    "\n",
    "This means that the **limiting distribution** does **not** exist, however, as we showed earlier, a stationary distribution still exists."
   ]
  },
  {
   "cell_type": "code",
   "execution_count": 90,
   "metadata": {},
   "outputs": [
    {
     "data": {
      "text/latex": [
       "$\\displaystyle \\left( \\left[\\begin{matrix}0 & \\frac{1}{4} & \\frac{1}{4} & \\frac{1}{8} & \\frac{1}{8} & \\frac{1}{8} & \\frac{1}{8}\\end{matrix}\\right], \\  \\left[\\begin{matrix}0 & \\frac{1}{4} & \\frac{1}{4} & \\frac{1}{8} & \\frac{1}{8} & \\frac{1}{8} & \\frac{1}{8}\\end{matrix}\\right]\\right)$"
      ],
      "text/plain": [
       "([0  1/4  1/4  1/8  1/8  1/8  1/8], [0  1/4  1/4  1/8  1/8  1/8  1/8])"
      ]
     },
     "execution_count": 90,
     "metadata": {},
     "output_type": "execute_result"
    }
   ],
   "source": [
    "a = sm.Rational(1,4)\n",
    "b = sm.Rational(1,8)\n",
    "p = sm.Matrix([[0, a, a, b, b, b, b]])\n",
    "\n",
    "p, p @ Qc() # i.e. the equation: p* = p*Q_b for the stationary distribution"
   ]
  },
  {
   "cell_type": "markdown",
   "metadata": {},
   "source": [
    "***\n",
    "### Alternative method using the eigenstructure of the update matrix:\n",
    "\n",
    "Let $M$ be the matrix of eigenvectors of $Q$ stacked from left-to-right (called the *modal matrix*) and $\\Lambda$ be the matrix of eigenvalues of $Q$. Then:\n",
    "\n",
    "$$\n",
    "\\begin{align}\n",
    "\\Pi &= \\lim \\limits_{n\\rightarrow \\infty} Q^n \\\\\n",
    "&= \\lim \\limits_{n\\rightarrow \\infty} (M \\Lambda M^{-1})^n \\\\\n",
    "&= \\lim \\limits_{n\\rightarrow \\infty} M \\Lambda^{n} M^{-1}\n",
    "\\end{align}\n",
    "$$\n",
    "\n",
    "is the equilibrium probability matrix.\n",
    "\n",
    "**Remarks:**\n",
    "- The presence of more than one $\\lambda(Q) = 1$ indicates the presence of **sub-Markov chains** (i.e. absorbing subsets).\n",
    "- If a column in $\\Pi$ is all zeros, then the state associated with that column is *transient*.\n",
    "- We can partition $\\Pi$ into block structures that are associated with closed sets of recurring states and transient states."
   ]
  },
  {
   "cell_type": "markdown",
   "metadata": {},
   "source": [
    "### Readings and other resources:\n",
    "\n",
    "- https://www.stat.auckland.ac.nz/~fewster/325/notes/ch8.pdf\n",
    "- https://www.stat.auckland.ac.nz/~fewster/325/notes/ch9.pdf\n",
    "\n",
    "- https://www.math.wustl.edu/~feres/Math450Lect04.pdf"
   ]
  },
  {
   "cell_type": "markdown",
   "metadata": {
    "colab_type": "text",
    "id": "nTPBtnXNpue6"
   },
   "source": [
    "## 7. Means and standard deviations\n",
    "\n",
    "For each process in problem 6, find the *mean* and *standard deviation* of the **value of the state in the reachable stationary distribution**. For example, in process (a), the stationary distribution has all states equally likely, so the mean would be $\\frac{1}{3} (0+1+2) = 1$. \n",
    "\n",
    "**Grading Breakdown:**\n",
    "\n",
    "    10/6 pts per answer (10pts total)"
   ]
  },
  {
   "cell_type": "markdown",
   "metadata": {},
   "source": [
    "***\n",
    "\n",
    "### Review:\n",
    "\n",
    "The **weighted arithmetic mean** in the discrete setting is described by:\n",
    "\n",
    "$$\\mu = \\frac {\\sum \\limits_{i=1}^n w_i x_i } {\\sum \\limits _{i=1}^{n}w_{i}} = E[X] = \\sum_x x \\;f_X(x).$$\n",
    "\n",
    "The **variance** (which is the square of the standard deviation) is described by the second moment:\n",
    "\n",
    "$$\\sigma^2 = E[X^2] - \\mu^2.$$"
   ]
  },
  {
   "cell_type": "markdown",
   "metadata": {},
   "source": [
    "***\n",
    "7.a) \n",
    "\n",
    "Since the stationary distribution has all states equally likely, the mean would be \n",
    "\n",
    "$$ \\mu_a = \\frac{1}{3}(0+1+2)=1. $$\n",
    "\n",
    "The standard deviation is \n",
    "\n",
    "$$\\sigma_a = \\sqrt{\\frac{1}{3}(0^2+1^2+2^2)- 1^2} = \\sqrt{\\frac{2}{3}}.$$ "
   ]
  },
  {
   "cell_type": "markdown",
   "metadata": {},
   "source": [
    "***\n",
    "7.b) \n",
    "\n",
    "The mean of the $2^{nd}$ Markov Chain's reachable stationary distribution is \n",
    "\n",
    "$$\\mu_b = \\frac{1}{5}(0+1+2) + \\frac{2}{5}(3) = \\frac{9}{5}.$$\n",
    "\n",
    "The standard deviation is \n",
    "\n",
    "$$\\sigma_b = \\sqrt{\\frac{1}{5}(0^2+1^2+2^2) +\\frac{2}{5}(3^2)- (\\frac{9}{5})^2} = \\frac{\\sqrt{34}}{5}.$$"
   ]
  },
  {
   "cell_type": "code",
   "execution_count": 5,
   "metadata": {},
   "outputs": [
    {
     "data": {
      "text/latex": [
       "$\\displaystyle \\left( 1.1661903789690602, \\  1.1661903789690597, \\  1.1661903789690602\\right)$"
      ],
      "text/plain": [
       "(1.1661903789690602, 1.1661903789690597, 1.1661903789690602)"
      ]
     },
     "execution_count": 5,
     "metadata": {},
     "output_type": "execute_result"
    }
   ],
   "source": [
    "s = np.array([0, 1, 2, 3])\n",
    "w = np.array([.2, .2, .2, .4])\n",
    "sm = np.average(s, weights = w)\n",
    "\n",
    "# All very close. Discrepancy likely due to round-off error \n",
    "np.sqrt(sum( w * np.power(s - sm, 2))), np.sqrt(0.2*(1+4) + 0.4*(3**2) - (9/5)**2), np.sqrt(34)/5"
   ]
  },
  {
   "cell_type": "markdown",
   "metadata": {},
   "source": [
    "***\n",
    "7.c)\n",
    "\n",
    "The mean of the $3^{rd}$ Markov Chain's stationary distribution is \n",
    "\n",
    "$$ \\mu_c = 0(0) + \\frac{1}{4}(1+2) + \\frac{1}{8}(3+4+5+6) = 3. $$ \n",
    "\n",
    "The standard deviation is \n",
    "\n",
    "$$ \\sigma_c = \\sqrt{\\frac{1}{4}(1^2+2^2) + \\frac{1}{8}(3^2+4^2+5^2+6^2) - 3^2} = \\sqrt{3}. $$"
   ]
  },
  {
   "cell_type": "markdown",
   "metadata": {},
   "source": [
    "### Readings and Resources:\n",
    "\n",
    "- https://www.wikiwand.com/en/Weighted_arithmetic_mean"
   ]
  },
  {
   "cell_type": "markdown",
   "metadata": {
    "colab_type": "text",
    "id": "C7Ifk4N3pue6"
   },
   "source": [
    "## 8. The Page Rank Algorithm\n",
    "\n",
    "For the following problem, use the `networkx` `pagerank` function or find the eigenvector of the graph as a Markov Process corresponding to the eigenvector 1. **Use undirected graphs.**\n",
    "\n",
    "a) Find a 10 node, connected graph in which all nodes are ranked equally or explain why such a graph does not exist.\n",
    "\n",
    "b) Find a 10 node, connected graph in which all nodes are ranked differently or explain why such a graph does not exist.\n",
    "\n",
    "c) Find a 10 node, connected graph in which there are two sets $A$ and $B$ of $5$ nodes for which all nodes in $A$ are ranked the same and all nodes in $B$ are ranked the same, but different from nodes in $A$. Or explain why such a graph does not exist.\n",
    "\n",
    "**Grading Breakdown:**\n",
    "\n",
    "    3pts for finding a 10 node, connected graph in which all nodes are ranked equally\n",
    "    3pts for finding a 10 node, connected graph in which all nodes are ranked differently\n",
    "    3pts for finding such a graph in c)\n",
    "    1pt  for using a logical argument regardless of right or wrong answers"
   ]
  },
  {
   "cell_type": "markdown",
   "metadata": {},
   "source": [
    "***\n",
    "\n",
    "**Notes:**\n",
    "\n",
    "- `pagerank()` \"The eigenvector calculation is done by the power iteration method and has no guarantee of convergence. The iteration will stop after max_iter iterations or an error tolerance of number_of_nodes(G)*tol has been reached.\"\n",
    "\n",
    "\n",
    "- `pagerank_numpy()` \"The eigenvector calculation uses NumPy’s interface to the LAPACK eigenvalue solvers. This will be the fastest and most accurate for small graphs.\"\n",
    "\n",
    "\n",
    "- `pagerank_scipy()` \"The eigenvector calculation uses power iteration with a SciPy sparse matrix representation.\"\n",
    "\n",
    "\n",
    "- `google_matrix()` \"The matrix returned represents the transition matrix that describes the Markov chain used in PageRank. For PageRank to converge to a unique solution (i.e., a unique stationary distribution in a Markov chain), the transition matrix must be irreducible. In other words, it must be that there exists a path between every pair of nodes in the graph, or else there is the potential of “rank sinks.”\n",
    "***"
   ]
  },
  {
   "cell_type": "markdown",
   "metadata": {},
   "source": [
    "8.a)\n",
    "\n",
    "\n",
    "The simplestest example of such a graph is a cycle of $n$ nodes in which there is an edge between node $u_i$ and $u_{i+1}$ with the periodic boundary condition that there is an edge between $u_0$ and $u_n$."
   ]
  },
  {
   "cell_type": "code",
   "execution_count": 67,
   "metadata": {},
   "outputs": [
    {
     "name": "stderr",
     "output_type": "stream",
     "text": [
      "C:\\Users\\victo\\Anaconda\\lib\\site-packages\\networkx\\drawing\\nx_pylab.py:579: MatplotlibDeprecationWarning: \n",
      "The iterable function was deprecated in Matplotlib 3.1 and will be removed in 3.3. Use np.iterable instead.\n",
      "  if not cb.iterable(width):\n"
     ]
    },
    {
     "data": {
      "text/latex": [
       "$\\displaystyle \\left[ 0.1, \\  0.1, \\  0.1, \\  0.1, \\  0.1, \\  0.1, \\  0.1, \\  0.1, \\  0.1, \\  0.1\\right]$"
      ],
      "text/plain": [
       "[0.1, 0.1, 0.1, 0.1, 0.1, 0.1, 0.1, 0.1, 0.1, 0.1]"
      ]
     },
     "execution_count": 67,
     "metadata": {},
     "output_type": "execute_result"
    },
    {
     "data": {
      "image/png": "[encoded data removed]",
      "text/plain": [
       "<Figure size 432x288 with 1 Axes>"
      ]
     },
     "metadata": {},
     "output_type": "display_data"
    }
   ],
   "source": [
    "G = nx.Graph()\n",
    "G.add_nodes_from(range(0,10))\n",
    "G.add_edges_from([(0,1),(1,2),(2,3),(3,4),(4,5),(5,6),(6,7),(7,8),(8,9),(9,0)])\n",
    "\n",
    "# Find the ranking of all nodes, and the max ranged node\n",
    "vals = np.array(list(nx.pagerank(G).values()))\n",
    "m = np.argmax(vals)\n",
    "\n",
    "# Draw the graph\n",
    "nx.draw(G, \n",
    "        pos=nx.circular_layout(G), \n",
    "        with_labels=True, \n",
    "        node_color=['black' if k != m else 'orange' for k in range(n)], \n",
    "        node_size=(300*vals)**2,\n",
    "        font_color=\"white\")\n",
    "\n",
    "# Get pagerank values\n",
    "list(nx.pagerank(G).values())"
   ]
  },
  {
   "cell_type": "markdown",
   "metadata": {},
   "source": [
    "Alternatively, we could consider the complete graph:"
   ]
  },
  {
   "cell_type": "code",
   "execution_count": 66,
   "metadata": {},
   "outputs": [
    {
     "data": {
      "text/latex": [
       "$\\displaystyle \\left[ 0.1, \\  0.1, \\  0.1, \\  0.1, \\  0.1, \\  0.1, \\  0.1, \\  0.1, \\  0.1, \\  0.1\\right]$"
      ],
      "text/plain": [
       "[0.1, 0.1, 0.1, 0.1, 0.1, 0.1, 0.1, 0.1, 0.1, 0.1]"
      ]
     },
     "execution_count": 66,
     "metadata": {},
     "output_type": "execute_result"
    },
    {
     "data": {
      "image/png": "[encoded data removed]",
      "text/plain": [
       "<Figure size 432x288 with 1 Axes>"
      ]
     },
     "metadata": {},
     "output_type": "display_data"
    }
   ],
   "source": [
    "G = nx.complete_graph(10) # Completely connected graph with 10 nodes\n",
    "\n",
    "# Find the ranking of all nodes, and the max ranged node\n",
    "vals = np.array(list(nx.pagerank(G).values()))\n",
    "m = np.argmax(vals)\n",
    "\n",
    "# Draw the graph\n",
    "nx.draw(G,\n",
    "        pos=nx.circular_layout(G),\n",
    "        with_labels=True, \n",
    "        node_color=['black' if k != m else 'orange' for k in range(n)], \n",
    "        node_size=(300*vals)**2,\n",
    "        font_color=\"white\")\n",
    "\n",
    "# Get pagerank values\n",
    "list(nx.pagerank_scipy(G).values())"
   ]
  },
  {
   "cell_type": "markdown",
   "metadata": {},
   "source": [
    "*** \n",
    "8.b)\n",
    "\n",
    "We **can** construct a 10 node, connected graph in which all nodes are ranked differently:"
   ]
  },
  {
   "cell_type": "code",
   "execution_count": 65,
   "metadata": {},
   "outputs": [
    {
     "data": {
      "text/latex": [
       "$\\displaystyle \\left[ 0.04978623485024754, \\  0.12277715443388021, \\  0.07800984048688246, \\  0.09961356503918042, \\  0.0934134253784765, \\  0.1185794737228728, \\  0.1470095267508527, \\  0.09141067852977633, \\  0.12339300716964863, \\  0.0760070936381823\\right]$"
      ],
      "text/plain": [
       "[0.04978623485024754, 0.12277715443388021, 0.07800984048688246, 0.099613565039\n",
       "18042, 0.0934134253784765, 0.1185794737228728, 0.1470095267508527, 0.091410678\n",
       "52977633, 0.12339300716964863, 0.0760070936381823]"
      ]
     },
     "execution_count": 65,
     "metadata": {},
     "output_type": "execute_result"
    },
    {
     "data": {
      "image/png": "[encoded data removed]",
      "text/plain": [
       "<Figure size 432x288 with 1 Axes>"
      ]
     },
     "metadata": {},
     "output_type": "display_data"
    }
   ],
   "source": [
    "# Graphs with nodes of different ranks\n",
    "B = nx.Graph()\n",
    "B.add_nodes_from([i for i in range(10)])\n",
    "B.add_edges_from([(0,1),(1,2),(1,9),(2,3),(3,4),(3,6),(4,5),(4,6),\n",
    "                  (5,6),(5,7),(5,8),(6,7),(6,8),(7,8),(8,9)])\n",
    "\n",
    "# Find the ranking of all nodes, and the max ranged node\n",
    "vals = np.array(list(nx.pagerank(B).values()))\n",
    "m = np.argmax(vals)\n",
    "\n",
    "# Draw the graph\n",
    "nx.draw(B,\n",
    "        pos=nx.circular_layout(B),\n",
    "        with_labels=True, \n",
    "        node_color=['black' if k != m else 'orange' for k in range(n)], \n",
    "        node_size=(300*vals)**2,\n",
    "        font_color=\"white\")\n",
    "\n",
    "# Find the page ranks \n",
    "list(nx.pagerank(B).values())"
   ]
  },
  {
   "cell_type": "markdown",
   "metadata": {},
   "source": [
    "Alternatively we could try our luck with a random graph with a $50\\%$ chance of edge generation"
   ]
  },
  {
   "cell_type": "code",
   "execution_count": 5,
   "metadata": {},
   "outputs": [
    {
     "data": {
      "text/latex": [
       "$\\displaystyle \\left[ 0.08323033007012198, \\  0.13571591993816567, \\  0.08419401727548728, \\  0.09854304898522989, \\  0.11802947479826474, \\  0.13422244268612996, \\  0.08098217733338475, \\  0.11635133169219788, \\  0.06609186121233433, \\  0.08263939600868353\\right]$"
      ],
      "text/plain": [
       "[0.08323033007012198, 0.13571591993816567, 0.08419401727548728, 0.098543048985\n",
       "22989, 0.11802947479826474, 0.13422244268612996, 0.08098217733338475, 0.116351\n",
       "33169219788, 0.06609186121233433, 0.08263939600868353]"
      ]
     },
     "execution_count": 5,
     "metadata": {},
     "output_type": "execute_result"
    },
    {
     "data": {
      "image/png": "[encoded data removed]",
      "text/plain": [
       "<Figure size 432x288 with 1 Axes>"
      ]
     },
     "metadata": {},
     "output_type": "display_data"
    }
   ],
   "source": [
    "n, p = 10, 0.5\n",
    "G = nx.fast_gnp_random_graph(n, p)\n",
    "\n",
    "# Find the ranking of all nodes, and the max ranged node\n",
    "vals = np.array(list(nx.pagerank(G).values()))\n",
    "m = np.argmax(vals)\n",
    "\n",
    "nx.draw(G, \n",
    "        pos=nx.kamada_kawai_layout(G), \n",
    "        with_labels=True, \n",
    "        node_color=['black' if k != m else 'orange' for k in range(n)], \n",
    "        node_size=(300*vals)**2,\n",
    "        font_color=\"white\")\n",
    "\n",
    "list(nx.pagerank_numpy(G).values())"
   ]
  },
  {
   "cell_type": "markdown",
   "metadata": {},
   "source": [
    "***\n",
    "\n",
    "#### c)\n",
    "\n",
    "To find a 10 node, connected graph in which there are two sets $A$ and $B$ of $5$ nodes for which all nodes in $A$ are ranked the same and all nodes in $B$ are ranked the same we define $G(V,E)$ such that:\n",
    "\n",
    "$$V = \\{0, 1, 2, 3, 4, 5, 6, 7, 8, 9\\}$$\n",
    "\n",
    "$$E = \\{(0,1),(1,2),(2,3),(3,4),(4,1),(5,0),(6,1),(7,2),(8,3),(9,4)\\}.$$\n",
    "\n",
    "Now let\n",
    "\n",
    "$$A = \\{0, 1, 2, 3, 4\\} \\text{ and } B = \\{5, 6, 7, 8, 9\\}.$$\n",
    "\n",
    "Then calling `pagerank(G)` and fetching the values provides us with :\n",
    "\n",
    "$$\\text{Page Rank of nodes in } A = 0.1441556969364921$$\n",
    "and\n",
    "$$\\text{Page Rank of nodes in } B  = 0.055844303063507836.$$"
   ]
  },
  {
   "cell_type": "code",
   "execution_count": 7,
   "metadata": {
    "scrolled": false
   },
   "outputs": [
    {
     "data": {
      "text/latex": [
       "$\\displaystyle \\left[ 0.1441556969364921, \\  0.1441556969364921, \\  0.1441556969364921, \\  0.1441556969364921, \\  0.1441556969364921, \\  0.055844303063507836, \\  0.055844303063507836, \\  0.055844303063507836, \\  0.055844303063507836, \\  0.055844303063507836\\right]$"
      ],
      "text/plain": [
       "[0.1441556969364921, 0.1441556969364921, 0.1441556969364921, 0.144155696936492\n",
       "1, 0.1441556969364921, 0.055844303063507836, 0.055844303063507836, 0.055844303\n",
       "063507836, 0.055844303063507836, 0.055844303063507836]"
      ]
     },
     "execution_count": 7,
     "metadata": {},
     "output_type": "execute_result"
    },
    {
     "data": {
      "image/png": "[encoded data removed]",
      "text/plain": [
       "<Figure size 432x288 with 1 Axes>"
      ]
     },
     "metadata": {},
     "output_type": "display_data"
    }
   ],
   "source": [
    "G = nx.Graph()\n",
    "G.add_nodes_from(range(0,10))\n",
    "E = [(0,1),(1,2),(2,3),(3,4),(4,0),(5,0),(6,1),(7,2),(8,3),(9,4)]\n",
    "G.add_edges_from(E)\n",
    "\n",
    "# Find the ranking of all nodes, and the max ranged node\n",
    "vals = np.array(list(nx.pagerank(G).values()))\n",
    "m = np.argmax(vals)\n",
    "\n",
    "# Draw the graph\n",
    "nx.draw(G, \n",
    "        pos=nx.kamada_kawai_layout(G), \n",
    "        with_labels=True, \n",
    "        node_color=['black' if k != m else 'orange' for k in range(n)], \n",
    "        node_size=(300*vals)**2,\n",
    "        font_color=\"white\")\n",
    "\n",
    "list(nx.pagerank(G).values())"
   ]
  },
  {
   "cell_type": "markdown",
   "metadata": {},
   "source": [
    "Alternatively, there's also this awesome star shape:"
   ]
  },
  {
   "cell_type": "code",
   "execution_count": 6,
   "metadata": {
    "scrolled": false
   },
   "outputs": [
    {
     "data": {
      "text/latex": [
       "$\\displaystyle \\left\\{ 0 : 0.10421048620637098, \\  1 : 0.10421048620637098, \\  2 : 0.10421048620637098, \\  3 : 0.10421048620637098, \\  4 : 0.10421048620637097, \\  5 : 0.09578951379362903, \\  6 : 0.09578951379362903, \\  7 : 0.09578951379362903, \\  8 : 0.09578951379362903, \\  9 : 0.09578951379362903\\right\\}$"
      ],
      "text/plain": [
       "{0: 0.10421048620637098, 1: 0.10421048620637098, 2: 0.10421048620637098, 3: 0.\n",
       "10421048620637098, 4: 0.10421048620637097, 5: 0.09578951379362903, 6: 0.095789\n",
       "51379362903, 7: 0.09578951379362903, 8: 0.09578951379362903, 9: 0.095789513793\n",
       "62903}"
      ]
     },
     "execution_count": 6,
     "metadata": {},
     "output_type": "execute_result"
    },
    {
     "data": {
      "image/png": "[encoded data removed]",
      "text/plain": [
       "<Figure size 432x288 with 1 Axes>"
      ]
     },
     "metadata": {},
     "output_type": "display_data"
    }
   ],
   "source": [
    "A = [0,1,2,3,4]\n",
    "B = [5,6,7,8,9]\n",
    "N = A + B\n",
    "G = nx.Graph()\n",
    "G.add_nodes_from(N)\n",
    "G.add_edges_from([(0,1),(0,2),(0,3),(0,4),(0,5),(0,6),(0,7),(0,8),(0,9),(1,2),(1,3),\n",
    "                    (1,4),(1,5),(1,6),(1,7),(1,8),(1,9),(2,3),(2,4),(2,5),(2,6),(2,7),(2,8),(2,9),\n",
    "                   (3,4),(3,5),(3,6),(3,7),(3,8),(3,9),(4,5),(4,6),(4,7),(4,8),(4,9)])\n",
    "\n",
    "# Find the ranking of all nodes, and the max ranged node\n",
    "vals = np.array(list(nx.pagerank(G).values()))\n",
    "m = np.argmax(vals)\n",
    "\n",
    "basic_graph,ax = plt.subplots(1,1)\n",
    "nx.draw(G,\n",
    "        ax=ax, \n",
    "        pos=nx.kamada_kawai_layout(G),\n",
    "        with_labels=True,  \n",
    "        node_color=['black' if k != m else 'orange' for k in range(n)], \n",
    "        node_size=(300*vals)**2,\n",
    "        font_color=\"white\")\n",
    "nx.pagerank(G, alpha=0.1)"
   ]
  },
  {
   "cell_type": "markdown",
   "metadata": {},
   "source": [
    "### Motivating resources:\n",
    "\n",
    "- The Pagerank paper: http://ilpubs.stanford.edu:8090/422/1/1999-66.pdf\n",
    "- \"THE $25,000,000,000 EIGENVECTOR\": https://pages.uoregon.edu/botvinn/googleMath22.pdf\n",
    "- https://networkx.github.io/documentation/networkx-1.10/reference/generated/networkx.algorithms.link_analysis.pagerank_alg.pagerank.html"
   ]
  },
  {
   "cell_type": "code",
   "execution_count": null,
   "metadata": {},
   "outputs": [],
   "source": []
  }
 ],
 "metadata": {
  "colab": {
   "name": "HW_08_Probability_Due_11_27.ipynb",
   "provenance": []
  },
  "kernelspec": {
   "display_name": "Python 3",
   "language": "python",
   "name": "python3"
  },
  "language_info": {
   "codemirror_mode": {
    "name": "ipython",
    "version": 3
   },
   "file_extension": ".py",
   "mimetype": "text/x-python",
   "name": "python",
   "nbconvert_exporter": "python",
   "pygments_lexer": "ipython3",
   "version": "3.7.4"
  }
 },
 "nbformat": 4,
 "nbformat_minor": 1
}
