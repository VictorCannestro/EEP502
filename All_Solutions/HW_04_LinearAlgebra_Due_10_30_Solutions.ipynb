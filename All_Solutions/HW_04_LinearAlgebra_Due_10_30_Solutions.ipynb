{
 "cells": [
  {
   "cell_type": "markdown",
   "metadata": {
    "ExecuteTime": {
     "end_time": "2019-09-24T16:05:23.746666Z",
     "start_time": "2019-09-24T16:05:23.741461Z"
    },
    "colab_type": "text",
    "id": "fngRfyk6KOdd"
   },
   "source": [
    "## EE 502 P: Analytical Methods for Electrical Engineering\n",
    "    \n",
    "# Homework 4: Linear Algebra\n",
    "## Due 30 October, 2019 at 6:00 PM\n",
    "### <span style=\"color: red\">YOUR NAME HERE</span>\n",
    "\n",
    "Copyright &copy; 2019, University of Washington\n",
    "\n",
    "<hr>\n",
    "\n",
    "**Instructions**: Use this notebook as a template. Answer all questions using well formatted Markdown with embedded LaTeX equations, executable Jupyter cells, or both. Submit your homework solutions as an `.ipynb` file via Canvas.\n",
    "\n",
    "<span style=\"background: yellow; padding: 6px; border: 1pt solid black\">\n",
    "Although you may discuss the homework with others, you must turn in your own, original work.\n",
    "</span>\n",
    "\n",
    "**Things to remember:**\n",
    "- Use complete sentences. Equations should appear in text as grammatical elements.\n",
    "- Comment your code.\n",
    "- Label your axes. Title your plots. Use legends where appropriate. \n",
    "- Before submitting a notebook, choose Kernel -> Restart and Run All to make sure your notebook runs when the cells are evaluated in order. \n",
    "\n",
    "Note : Late homework will be accepted up to one week after the due date and will be worth 50% of its full credit score. "
   ]
  },
  {
   "cell_type": "markdown",
   "metadata": {
    "colab_type": "text",
    "id": "pmbk4IsoKOdg"
   },
   "source": [
    "### 0. Warmup (Do not turn in)\n",
    "\n",
    "- Make sure you get download, read, and run the notebook for lecture 4. Work through the notebook cell by cell and see what happens when you change the expressions, and make up some of your own.\n",
    "- The material covered in class is intended to be an introductory subset the general subject of Linear Algebra, for example covered in the following online books:\n",
    "    - [Beezer](http://linear.ups.edu/html/fcla.html). Does not cover matrix exponentials, Caley-Hamilton, SVD, or PCA.\n",
    "    - [Hefferon](http://joshua.smcvt.edu/linearalgebra/book.pdf). Also does not cover the above.\n",
    "- The more advanced ideas are covered online as well. For example:\n",
    "    - Matrix Exponentials are typically not covered until a course on linear different equations. But the [Wikipedia page](https://en.wikipedia.org/wiki/Matrix_exponential) is pretty good.\n",
    "    - [Caley-Hamilton](https://brilliant.org/wiki/cayley-hamilton-theorem/)\n",
    "    - [SVD](https://www.cs.cmu.edu/~venkatg/teaching/CStheory-infoage/book-chapter-4.pdf)\n",
    "    - [PCA](https://medium.com/@jonathan_hui/machine-learning-singular-value-decomposition-svd-principal-component-analysis-pca-1d45e885e491)\n",
    "- If you want the **best** textbooks in linear algebra, get\n",
    "    - [Strang](https://www.amazon.com/Introduction-Linear-Algebra-Gilbert-Strang/dp/0980232775). Introductory. See also [Strang's Online Lectures](https://ocw.mit.edu/courses/mathematics/18-06-linear-algebra-spring-2010/video-lectures/).\n",
    "    - [Horn and Johnson](http://www.cse.zju.edu.cn/eclass/attachments/2015-10/01-1446086008-145421.pdf)"
   ]
  },
  {
   "cell_type": "code",
   "execution_count": 1,
   "metadata": {},
   "outputs": [],
   "source": [
    "import math\n",
    "import scipy # Has linear algebra\n",
    "import scipy.ndimage\n",
    "import numpy as np\n",
    "import sympy as sm\n",
    "sm.init_printing(use_latex='mathjax')\n",
    "import matplotlib.pyplot as plt\n",
    "import matplotlib.patches as pch\n",
    "%matplotlib inline\n",
    "\n",
    "import pandas as pd\n",
    "import seaborn as sns\n",
    "sns.set()"
   ]
  },
  {
   "cell_type": "markdown",
   "metadata": {
    "ExecuteTime": {
     "end_time": "2019-10-08T16:48:02.889303Z",
     "start_time": "2019-10-08T16:48:02.885366Z"
    },
    "colab_type": "text",
    "id": "w7Q1WuItKOdh"
   },
   "source": [
    "### 1. Linear independence  (10pts)\n",
    "\n",
    "Which of the following sets of vectors are linearly independent? Why?\n",
    "\n",
    "a) $\\left (\n",
    "\\begin{array}{c}\n",
    "1 \\\\\n",
    "2 \\\\\n",
    "3 \\\\\n",
    "4\n",
    "\\end{array}\n",
    "\\right )$ and $\\left (\n",
    "\\begin{array}{c}\n",
    "5 \\\\\n",
    "6 \\\\\n",
    "7 \\\\\n",
    "8\n",
    "\\end{array}\n",
    "\\right )$\n",
    "\n",
    "b) $\\left (\n",
    "\\begin{array}{c}\n",
    "1 \\\\\n",
    "1 \\\\\n",
    "0 \\\\\n",
    "0\n",
    "\\end{array}\n",
    "\\right )$, $\\left (\n",
    "\\begin{array}{c}\n",
    "0 \\\\\n",
    "0 \\\\\n",
    "1 \\\\\n",
    "1\n",
    "\\end{array}\n",
    "\\right )$, $\\left (\n",
    "\\begin{array}{c}\n",
    "0 \\\\\n",
    "1 \\\\\n",
    "1 \\\\\n",
    "0\n",
    "\\end{array}\n",
    "\\right )$ and $\\left (\n",
    "\\begin{array}{c}\n",
    "1 \\\\\n",
    "0 \\\\\n",
    "0 \\\\\n",
    "1\n",
    "\\end{array}\n",
    "\\right )$\n",
    "\n",
    "c) $\\left (\n",
    "\\begin{array}{c}\n",
    "1 \\\\\n",
    "1 \\\\\n",
    "0 \\\\\n",
    "0\n",
    "\\end{array}\n",
    "\\right )$, $\\left (\n",
    "\\begin{array}{c}\n",
    "0 \\\\\n",
    "0 \\\\\n",
    "1 \\\\\n",
    "1\n",
    "\\end{array}\n",
    "\\right )$, $\\left (\n",
    "\\begin{array}{c}\n",
    "0 \\\\\n",
    "1 \\\\\n",
    "1 \\\\\n",
    "0\n",
    "\\end{array}\n",
    "\\right )$ and $\\left (\n",
    "\\begin{array}{c}\n",
    "0 \\\\\n",
    "1 \\\\\n",
    "0 \\\\\n",
    "1\n",
    "\\end{array}\n",
    "\\right )$\n",
    "\n",
    "$\\textbf{Grading breakdown:}$\n",
    "    \n",
    "    10/3pts for explaining why they are linearly independent\n",
    "    10/3pts (b) for explaining why they are NOT linearly independent\n",
    "    10/3pts (c) for explaining why they are linearly independent"
   ]
  },
  {
   "cell_type": "markdown",
   "metadata": {},
   "source": [
    "1.a)\n",
    "\n",
    "Yes, it is clearly independent, but let's say some more about why. The row reduced echelon form of the matrix of these vectors stacked horizontally has two leading ones. (i.e. For this set of vectors to be linearly independent, the number of leading ones has to equal the number of vectors.)"
   ]
  },
  {
   "cell_type": "code",
   "execution_count": 2,
   "metadata": {},
   "outputs": [
    {
     "name": "stdout",
     "output_type": "stream",
     "text": [
      "The rank of A is  2 and the column dimension is 2\n"
     ]
    },
    {
     "data": {
      "text/latex": [
       "$$\\left ( \\left[\\begin{matrix}1 & 0\\\\0 & 1\\\\0 & 0\\\\0 & 0\\end{matrix}\\right], \\quad \\left ( 0, \\quad 1\\right )\\right )$$"
      ],
      "text/plain": [
       "⎛⎡1  0⎤        ⎞\n",
       "⎜⎢    ⎥        ⎟\n",
       "⎜⎢0  1⎥        ⎟\n",
       "⎜⎢    ⎥, (0, 1)⎟\n",
       "⎜⎢0  0⎥        ⎟\n",
       "⎜⎢    ⎥        ⎟\n",
       "⎝⎣0  0⎦        ⎠"
      ]
     },
     "execution_count": 2,
     "metadata": {},
     "output_type": "execute_result"
    }
   ],
   "source": [
    "'''\n",
    "rref returns a tuple of two elements. The first is the reduced row echelon form, \n",
    "and the second is a tuple of indices of the pivot columns.\n",
    "'''\n",
    "x = np.array([[1],[2],[3],[4]])\n",
    "y = np.array([[5],[6],[7],[8]])\n",
    "A = np.hstack([x,y])\n",
    "\n",
    "A = sm.Matrix(A)\n",
    "print('The rank of A is ', A.rank(),'and the column dimension is', np.shape(A)[1])\n",
    "A.rref()"
   ]
  },
  {
   "cell_type": "markdown",
   "metadata": {},
   "source": [
    "1.b)\n",
    "\n",
    "No, it is linearly dependent. Observe that \n",
    "$$d = a + b - c $$\n",
    "\n",
    "$$\n",
    "\\begin{pmatrix} 1 \\\\ 0 \\\\ 0 \\\\ 1 \\end{pmatrix}  = \n",
    "\\begin{pmatrix} 1 \\\\ 1 \\\\ 0 \\\\ 0 \\end{pmatrix} +\n",
    "\\begin{pmatrix} 0 \\\\ 0 \\\\ 1 \\\\ 1 \\end{pmatrix} - \n",
    "\\begin{pmatrix} 0 \\\\ 1 \\\\ 1 \\\\ 0 \\end{pmatrix} \n",
    "$$"
   ]
  },
  {
   "cell_type": "code",
   "execution_count": 3,
   "metadata": {
    "scrolled": true
   },
   "outputs": [
    {
     "name": "stdout",
     "output_type": "stream",
     "text": [
      "The rank of A is 3 \n",
      "The column  dimension is 4 \n",
      "det(A)= 0\n"
     ]
    },
    {
     "data": {
      "text/latex": [
       "$$\\left ( \\left[\\begin{matrix}1 & 0 & 0 & 1\\\\0 & 1 & 0 & 1\\\\0 & 0 & 1 & -1\\\\0 & 0 & 0 & 0\\end{matrix}\\right], \\quad \\left ( 0, \\quad 1, \\quad 2\\right )\\right )$$"
      ],
      "text/plain": [
       "⎛⎡1  0  0  1 ⎤           ⎞\n",
       "⎜⎢           ⎥           ⎟\n",
       "⎜⎢0  1  0  1 ⎥           ⎟\n",
       "⎜⎢           ⎥, (0, 1, 2)⎟\n",
       "⎜⎢0  0  1  -1⎥           ⎟\n",
       "⎜⎢           ⎥           ⎟\n",
       "⎝⎣0  0  0  0 ⎦           ⎠"
      ]
     },
     "execution_count": 3,
     "metadata": {},
     "output_type": "execute_result"
    }
   ],
   "source": [
    "a = np.array([[1],[1],[0],[0]])\n",
    "b = np.array([[0],[0],[1],[1]])\n",
    "c = np.array([[0],[1],[1],[0]])\n",
    "d = np.array([[1],[0],[0],[1]]) \n",
    "\n",
    "A = np.hstack([a,b,c,d])\n",
    "A = sm.Matrix(A)\n",
    "\n",
    "print('The rank of A is', A.rank(), '\\nThe column  dimension is', np.shape(A)[1], \\\n",
    "      '\\ndet(A)=', A.det())\n",
    "A.rref()"
   ]
  },
  {
   "cell_type": "markdown",
   "metadata": {},
   "source": [
    "1.c)\n",
    "\n",
    "Yes. We'll use another test to show this. Recall that a set of $n$ vectors of length $n$ is linearly independent if the matrix with these vectors as columns has a non-zero determinant. We show this in python below."
   ]
  },
  {
   "cell_type": "code",
   "execution_count": 4,
   "metadata": {},
   "outputs": [
    {
     "data": {
      "text/latex": [
       "$$-2$$"
      ],
      "text/plain": [
       "-2"
      ]
     },
     "execution_count": 4,
     "metadata": {},
     "output_type": "execute_result"
    }
   ],
   "source": [
    "a = np.array([[1],[1],[0],[0]])\n",
    "b = np.array([[0],[0],[1],[1]])\n",
    "c = np.array([[0],[1],[1],[0]])\n",
    "d = np.array([[0],[1],[0],[1]])\n",
    "\n",
    "A = np.hstack([a,b,c,d])\n",
    "\n",
    "#Now check in sympy\n",
    "A = sm.Matrix(A)\n",
    "A.det()"
   ]
  },
  {
   "cell_type": "markdown",
   "metadata": {
    "colab_type": "text",
    "id": "lV39KJK-KOdi"
   },
   "source": [
    "### 2. Orthogonality (10pts)\n",
    "\n",
    "a) Find two orthogonal vectors that are also orthogonal to the vector\n",
    "$v = \\left (\n",
    "\\begin{array}{c}\n",
    "1 \\\\\n",
    "-1 \\\\\n",
    "3 \\\\\n",
    "\\end{array}\n",
    "\\right ).$\n",
    "\n",
    "b) Argue that the resulting set of three vectors form a basis for for $\\mathbb{R}^3$.\n",
    "\n",
    "c) Express the vector $x = \\left (\n",
    "\\begin{array}{c}\n",
    "1 \\\\\n",
    "2 \\\\\n",
    "3\n",
    "\\end{array}\n",
    "\\right )$ as a linear combination of your three vectors. \n",
    "\n",
    "$\\textbf{Grading breakdown:}$\n",
    "    \n",
    "    1pt for finding a vector w that is orthogonal to v\n",
    "    1pt for finding a vector u that is orthogonal to v\n",
    "    3pt if u,v,w are all mutually orthogonal\n",
    "    3pts (b) for arguing that the set forms a basis (mutually linearly independent, and there are 3 vectors)\n",
    "    2pts (c) for finding the coefficients a1, a2, a3 that represent x in the new basis\n",
    "    "
   ]
  },
  {
   "cell_type": "markdown",
   "metadata": {},
   "source": [
    "2.a)\n",
    "\n",
    "We're looking for all vectors $w$ that satisfy $v \\cdot w = 0 $ for $x,y,z\\in \\mathbb{R}:$\n",
    "$$0 = \n",
    "    \\begin{pmatrix} 1 & -1 & 3 \\end{pmatrix} \\cdot\n",
    "    \\begin{pmatrix} x \\\\ y \\\\ z \\end{pmatrix} \n",
    "$$\n",
    "\n",
    "Geometrically, this means vectors in the plane $$x-y+3z = 0.$$\n",
    "\n",
    "Notice that we can reexpress one of these values in terms of the others. For instance\n",
    "\n",
    "$$y = (x+3z)$$\n",
    "so\n",
    "$$\\begin{pmatrix} x \\\\ (x+3z) \\\\ z \\end{pmatrix} = \n",
    "x\\begin{pmatrix} 1 \\\\ 1 \\\\ 0 \\end{pmatrix} + \n",
    "z\\begin{pmatrix} 0 \\\\ 3 \\\\ 1 \\end{pmatrix}.$$\n",
    "Therefore, any vector in $$\\text{span}\\{\\begin{pmatrix} 1 \\\\ 1 \\\\ 0 \\end{pmatrix}, \\begin{pmatrix} 0 \\\\ 3 \\\\ 1 \\end{pmatrix} \\}$$ will work.\n",
    "\n",
    "We'll just choose $x=z=1$ to get\n",
    "\n",
    "$$w = \\begin{pmatrix} 1 \\\\ 4 \\\\ 1 \\end{pmatrix}.$$\n",
    "\n",
    "Next, we need to find a vector $u$ that is orthogonal to both $v,w$. To do this we could procede as follows. From $(x ,y ,z) \\cdot w = 0$ we see that\n",
    "\n",
    "$$0 = x + 4y + z \\implies x = -4y - z$$ and if we set $$x - y +3z = 0 = x + 4y +z$$\n",
    "\n",
    "$$\\implies 0 = 5y - 2z.$$ So let's just pick $y=2$, and $z=5$. Then $x = -4(2) - (5) = -13.$\n",
    "\n",
    "Thus,\n",
    "$$u = \\begin{pmatrix} -13 \\\\ 2 \\\\ 5 \\end{pmatrix}.$$"
   ]
  },
  {
   "cell_type": "code",
   "execution_count": 5,
   "metadata": {},
   "outputs": [
    {
     "data": {
      "text/plain": [
       "(array([[0]]), array([[0]]), array([[0]]))"
      ]
     },
     "execution_count": 5,
     "metadata": {},
     "output_type": "execute_result"
    }
   ],
   "source": [
    "v = np.array([[1],[-1],[3]])\n",
    "w = np.array([[1],[4],[1]])\n",
    "u = np.array([[-13],[2],[5]]) \n",
    "\n",
    "#Check if orthogonal\n",
    "v.transpose()@w, v.transpose()@u, w.transpose()@u"
   ]
  },
  {
   "cell_type": "markdown",
   "metadata": {},
   "source": [
    "**ALTERNATIVELY**\n",
    "\n",
    "We shall use Gram-Schmidt orthogonalization to determine the final vector. As we showed above, any vector in \n",
    "\n",
    "$$\\text{span}\\{\\begin{pmatrix} 1 \\\\ 1 \\\\ 0 \\end{pmatrix}, \\begin{pmatrix} 0 \\\\ 3 \\\\ 1 \\end{pmatrix} \\}$$ \n",
    "\n",
    "will be orthogonal to $v$. Let's denote that first vector as $w_1$ and the second vector as $w_2$. To get $u$ we use the following formula:\n",
    "\n",
    "$$u = w_2 - proj_{w_1}(w_2)$$\n",
    "\n",
    "$$= w_2 - \\frac{w_2 \\cdot w_1}{w_1 \\cdot w_1} w_1$$\n",
    "\n",
    "$$ = \\begin{pmatrix} 0 \\\\ 3 \\\\ 1 \\end{pmatrix} - \n",
    "\\frac{\n",
    "\\begin{pmatrix} 0 & 3 & 1 \\end{pmatrix} \n",
    "\\cdot \n",
    "\\begin{pmatrix} 1 \\\\ 1 \\\\ 0 \\end{pmatrix}}\n",
    "{\\begin{pmatrix} 1 & 1 & 0 \\end{pmatrix} \n",
    "\\cdot\n",
    "\\begin{pmatrix} 1 \\\\ 1 \\\\ 0 \\end{pmatrix}\n",
    "}\\begin{pmatrix} 1 \\\\ 1 \\\\ 0 \\end{pmatrix}$$\n",
    "\n",
    "$$ = \\begin{pmatrix} 0 \\\\ 3 \\\\ 1 \\end{pmatrix} - \n",
    "\\frac{3}\n",
    "{2}\n",
    "\\begin{pmatrix} 1 \\\\ 1 \\\\ 0 \\end{pmatrix}$$\n",
    "\n",
    "$$\n",
    "u = \\begin{pmatrix} -\\frac{3}{2} \\\\ \\frac{3}{2} \\\\ 1 \\end{pmatrix}.$$"
   ]
  },
  {
   "cell_type": "code",
   "execution_count": 6,
   "metadata": {},
   "outputs": [
    {
     "data": {
      "text/plain": [
       "(array([[0]]), array([[0.]]), array([[0.]]))"
      ]
     },
     "execution_count": 6,
     "metadata": {},
     "output_type": "execute_result"
    }
   ],
   "source": [
    "w1 = np.array([[1],[1],[0]]) # 1st vector in spanning set and the 1st orthogonal vector to v we choose\n",
    "\n",
    "w2 = np.array([[0],[3],[1]]) # 2nd vector in spanning set and is NOT orthogonal to u\n",
    "\n",
    "u_GS = w2 - ((w2.transpose() @ w1)[0] / (w1.transpose() @ w1)[0]) * w1\n",
    "\n",
    "v.transpose()@w1, v.transpose()@u_GS, w1.transpose()@u_GS"
   ]
  },
  {
   "cell_type": "markdown",
   "metadata": {},
   "source": [
    "2.b)\n",
    "\n",
    "Recall the definition of a basis: \n",
    "\n",
    "A linearly independent set of vectors $\\{v_1,...,v_n\\}$ is a **basis** for a vector space $V$ if $span(v_1,...,v_n) = V$. (i.e. if $v_1,...,v_n$ are mutually orthogonal and $dim(V) = n$). \n",
    "\n",
    "Thus, $\\{u,v,w\\}$ in any order form a basis for $\\mathbb{R}^3$ because they are mutually orthogonal, and there are enough vectors--i.e. we need 3 of such vectors to cover all of $\\mathbb{R}^3$."
   ]
  },
  {
   "cell_type": "markdown",
   "metadata": {},
   "source": [
    "2.c) \n",
    "\n",
    "Notice that \n",
    "$$x = \\begin{pmatrix} 1 \\\\ 2 \\\\ 3 \\end{pmatrix} = \n",
    "a_1\\begin{pmatrix} -\\frac{3}{2} \\\\ \\frac{3}{2} \\\\ 1 \\end{pmatrix} + \n",
    "a_2\\begin{pmatrix} 1 \\\\ -1 \\\\ 3 \\end{pmatrix} +\n",
    "a_3\\begin{pmatrix} 1 \\\\ 1 \\\\ 0 \\end{pmatrix}$$\n",
    "\n",
    "can be reexpressed as $x = Az$\n",
    "\n",
    "$$\\begin{pmatrix} 1 \\\\ 2 \\\\ 3 \\end{pmatrix} = \n",
    "\\begin{pmatrix} \n",
    "    -\\frac{3}{2} & 1 & 1 \\\\ \n",
    "     \\frac{3}{2} & -1 & 1 \\\\\n",
    "     1 & 3 & 0\n",
    "\\end{pmatrix}\n",
    "\\begin{pmatrix} a_1 \\\\ a_2 \\\\ a_3 \\end{pmatrix}.\n",
    "$$\n",
    "\n",
    "We can solve for the coefficients quickly by running this linear system through a solver."
   ]
  },
  {
   "cell_type": "code",
   "execution_count": 7,
   "metadata": {},
   "outputs": [
    {
     "name": "stdout",
     "output_type": "stream",
     "text": [
      "\n",
      "a1= 0.8181818181818182 \n",
      "a2= 0.7272727272727273 \n",
      "a3= 1.5\n"
     ]
    },
    {
     "data": {
      "text/plain": [
       "array([[1.],\n",
       "       [2.],\n",
       "       [3.]])"
      ]
     },
     "execution_count": 7,
     "metadata": {},
     "output_type": "execute_result"
    }
   ],
   "source": [
    "x = np.array([[1],[2],[3]])\n",
    "A = np.hstack([u_GS, v, w1])\n",
    "a1, a2, a3 = np.linalg.solve(A,x) #numerically solve for the coeffecients\n",
    "print('\\na1=', a1[0], '\\na2=', a2[0],'\\na3=', a3[0])\n",
    "\n",
    "a1*u_GS + a2*v + a3*w1 #verify that these add up to (1,2,3)^T"
   ]
  },
  {
   "cell_type": "markdown",
   "metadata": {},
   "source": [
    "**More explicitly**\n",
    "\n",
    "We can write out \n",
    "\n",
    "$$x = \\begin{pmatrix} 1 \\\\ 2 \\\\3 \\end{pmatrix} = a_1 u + a_2 v + a_3 w$$\n",
    "\n",
    "and use orthogonality to determine concise formulas for the coefficients. Thus,\n",
    "\n",
    "$$a_1 = \\frac{x \\cdot u}{u \\cdot u} = \\frac{9}{11}$$\n",
    "\n",
    "$$a_2 = \\frac{x \\cdot v}{v \\cdot v} =  \\frac{8}{11}$$\n",
    "\n",
    "$$a_3 = \\frac{x \\cdot w}{w \\cdot w} = \\frac{3}{2}.$$ And our new representation of $x$ in basis $B$ is \n",
    "\n",
    "$$x_{[B]} = \\begin{pmatrix} a_1 \\\\ a_2 \\\\ a_3 \\end{pmatrix}.$$"
   ]
  },
  {
   "cell_type": "markdown",
   "metadata": {
    "colab_type": "text",
    "id": "0ooZr0_qKOdi"
   },
   "source": [
    "### 3. Magnitude (10pts)\n",
    "\n",
    "Recall the set of rotation matrices defined by\n",
    "\n",
    "$$\n",
    "R(\\theta) = \n",
    "\\begin{pmatrix}\n",
    "\\cos \\theta & \\sin \\theta \\\\\n",
    "-\\sin \\theta & \\cos \\theta\n",
    "\\end{pmatrix}.\n",
    "$$\n",
    "\n",
    "for each $\\theta \\in \\mathbb{R}$. Show that if $x \\in \\mathbb{R}^2$ that the magnitude of $x$ is equal to the magnitude of $R(\\theta)x$ for all $\\theta$. Thus, rotations do not affect magnitudes. \n",
    "\n",
    "$\\textbf{Grading breakdown:}$\n",
    "    \n",
    "    3pts for using the definition of magnitude on Rx\n",
    "    4pts for doing the elementwise multiplication OR showing that R is orthogonal\n",
    "    3pts for a convicing argument that ||Rx|| = ||x||.\n"
   ]
  },
  {
   "cell_type": "markdown",
   "metadata": {},
   "source": [
    "We begin with the definition of magnitude. Let $\\theta \\in \\mathbb{R},$ and $x\\in \\mathbb{R}^2$. Then we have\n",
    "$$\\begin{align}\n",
    "||R(\\theta)x|| &= \\sqrt{(R(\\theta)x)^T(R(\\theta)x)} \\\\\n",
    "&= \\sqrt{x^TR(\\theta)^TR(\\theta) x} \\\\\n",
    "&= \\sqrt{x^Tx} \\\\\n",
    "&= ||x||\n",
    "\\end{align} \n",
    "$$\n",
    "because\n",
    "$$\n",
    "\\begin{align}\n",
    "R(\\theta)^TR(\\theta) &= \n",
    "\\begin{bmatrix} \\sin^2(\\theta)+\\cos^2(\\theta) & 0 \\\\ 0 & \\sin^2(\\theta)+\\cos^2(\\theta)\\end{bmatrix} \\\\ \n",
    "&= \\begin{bmatrix} 1 & 0 \\\\ 0 & 1 \\end{bmatrix} \\text{via trig identities.}\n",
    "\\end{align}\n",
    "$$\n",
    "\n",
    "Thus, rotations do not affect magnitudes."
   ]
  },
  {
   "cell_type": "code",
   "execution_count": 8,
   "metadata": {},
   "outputs": [
    {
     "data": {
      "text/latex": [
       "$$\\left[\\begin{matrix}\\sin^{2}{\\left (\\theta \\right )} + \\cos^{2}{\\left (\\theta \\right )} & 0\\\\0 & \\sin^{2}{\\left (\\theta \\right )} + \\cos^{2}{\\left (\\theta \\right )}\\end{matrix}\\right]$$"
      ],
      "text/plain": [
       "⎡   2         2                      ⎤\n",
       "⎢sin (θ) + cos (θ)          0        ⎥\n",
       "⎢                                    ⎥\n",
       "⎢                      2         2   ⎥\n",
       "⎣        0          sin (θ) + cos (θ)⎦"
      ]
     },
     "execution_count": 8,
     "metadata": {},
     "output_type": "execute_result"
    }
   ],
   "source": [
    "#In sympy\n",
    "o = sm.symbols('theta')\n",
    "R = sm.Matrix([[sm.cos(o), sm.sin(o)],[-sm.sin(o), sm.cos(o)]])\n",
    "R.transpose()@R "
   ]
  },
  {
   "cell_type": "markdown",
   "metadata": {
    "colab_type": "text",
    "id": "dUa_52mhKOdj"
   },
   "source": [
    "### 4. Inverses (10pts)\n",
    "\n",
    "Find the inverse of each of the following matrices, or explain why no inverse exists.\n",
    "\n",
    "$\n",
    "A = \\begin{pmatrix}\n",
    "0 & 1 & 1 \\\\\n",
    "1 & 0 & 1 \\\\\n",
    "1 & 1 & 0\n",
    "\\end{pmatrix}\n",
    "$\n",
    "\n",
    "B = $\n",
    "\\begin{pmatrix}\n",
    "0 & 1 & 1 \\\\\n",
    "1 & 0 & 1 \\\\\n",
    "1 & -1 & 0\n",
    "\\end{pmatrix}\n",
    "$\n",
    "\n",
    "$\\textbf{Grading breakdown:}$\n",
    "    \n",
    "    5pts for numerically finding A^-1 or providing a derivation that leads to the correct answer\n",
    "    5pts for explaining why B does not have an inverse"
   ]
  },
  {
   "cell_type": "markdown",
   "metadata": {},
   "source": [
    "4.a)\n",
    "\n"
   ]
  },
  {
   "cell_type": "code",
   "execution_count": 9,
   "metadata": {},
   "outputs": [
    {
     "name": "stdout",
     "output_type": "stream",
     "text": [
      "The determinant is 2.0\n"
     ]
    },
    {
     "data": {
      "text/plain": [
       "array([[-0.5,  0.5,  0.5],\n",
       "       [ 0.5, -0.5,  0.5],\n",
       "       [ 0.5,  0.5, -0.5]])"
      ]
     },
     "execution_count": 9,
     "metadata": {},
     "output_type": "execute_result"
    }
   ],
   "source": [
    "A = np.array([[0,1,1],[1,0,1],[1,1,0]])\n",
    "detA = np.linalg.det(A)\n",
    "print('The determinant is',detA)\n",
    "np.linalg.inv(A)"
   ]
  },
  {
   "cell_type": "markdown",
   "metadata": {},
   "source": [
    "More explicitly, we can use the Cayley Hamilton Theorem to find this inverse. First, let's find the characteristic polynomial.\n",
    "\n",
    "$$\n",
    "det(sI - A) = \\begin{vmatrix}\n",
    "s & -1 & -1 \\\\\n",
    "-1 & s & -1 \\\\\n",
    "-1 & -1 & s\n",
    "\\end{vmatrix}\n",
    "$$\n",
    "\n",
    "$$\n",
    "= s \\begin{vmatrix}\n",
    "s & -1\\\\\n",
    "-1 & s\\\\\n",
    "\\end{vmatrix}\n",
    "-\n",
    "(-1) \\begin{vmatrix}\n",
    "-1 & -1\\\\\n",
    "-1 & s\\\\\n",
    "\\end{vmatrix}\n",
    "+\n",
    "(-1) \\begin{vmatrix}\n",
    "-1 & s\\\\\n",
    "-1 & -1\\\\\n",
    "\\end{vmatrix}\n",
    "$$\n",
    "\n",
    "$$ = s^3 - 3s - 2.$$\n",
    "\n",
    "Now, using C.H. we can say\n",
    "\n",
    "$$p(A) = A^3 - 3A -2I = 0$$\n",
    "\n",
    "and multiplyin both sides by $A^{-1}$ implies\n",
    "\n",
    "$$\\begin{align}\n",
    "A^{-1} &= \\frac{1}{2} (A^2 - 3I)\\\\\n",
    "&= \n",
    "\\frac{1}{2}\n",
    "\\begin{bmatrix}\n",
    "-1 & 1 & 1 \\\\\n",
    "1 & -1 & 1 \\\\\n",
    "1 & 1 & -1\n",
    "\\end{bmatrix}.\n",
    "\\end{align}$$"
   ]
  },
  {
   "cell_type": "code",
   "execution_count": 10,
   "metadata": {
    "scrolled": true
   },
   "outputs": [
    {
     "data": {
      "text/latex": [
       "$$\\left ( \\operatorname{PurePoly}{\\left( \\lambda^{3} - 3 \\lambda - 2, \\lambda, domain=\\mathbb{Z} \\right)}, \\quad \\left[\\begin{matrix}- \\frac{1}{2} & \\frac{1}{2} & \\frac{1}{2}\\\\\\frac{1}{2} & - \\frac{1}{2} & \\frac{1}{2}\\\\\\frac{1}{2} & \\frac{1}{2} & - \\frac{1}{2}\\end{matrix}\\right], \\quad \\left[\\begin{matrix}- \\frac{1}{2} & \\frac{1}{2} & \\frac{1}{2}\\\\\\frac{1}{2} & - \\frac{1}{2} & \\frac{1}{2}\\\\\\frac{1}{2} & \\frac{1}{2} & - \\frac{1}{2}\\end{matrix}\\right]\\right )$$"
      ],
      "text/plain": [
       "⎛                                                            ⎡-1/2  1/2   1/2 \n",
       "⎜                                                            ⎢                \n",
       "⎜PurePoly(_lambda**3 - 3*_lambda - 2, _lambda, domain='ZZ'), ⎢1/2   -1/2  1/2 \n",
       "⎜                                                            ⎢                \n",
       "⎝                                                            ⎣1/2   1/2   -1/2\n",
       "\n",
       "⎤  ⎡-1/2  1/2   1/2 ⎤⎞\n",
       "⎥  ⎢                ⎥⎟\n",
       "⎥, ⎢1/2   -1/2  1/2 ⎥⎟\n",
       "⎥  ⎢                ⎥⎟\n",
       "⎦  ⎣1/2   1/2   -1/2⎦⎠"
      ]
     },
     "execution_count": 10,
     "metadata": {},
     "output_type": "execute_result"
    }
   ],
   "source": [
    "#Let's check in sympy\n",
    "A = sm.Matrix([[0,1,1],[1,0,1],[1,1,0]])\n",
    "my_Ainv = sm.Rational(1,2) * (A**2 - 3*sm.eye(3))\n",
    "A.charpoly(), A.inv(), my_Ainv"
   ]
  },
  {
   "cell_type": "markdown",
   "metadata": {},
   "source": [
    "4.b)\n",
    "\n"
   ]
  },
  {
   "cell_type": "code",
   "execution_count": 11,
   "metadata": {},
   "outputs": [
    {
     "name": "stdout",
     "output_type": "stream",
     "text": [
      "The determinant is 0.0 therefore B is a singular matrix, and has no inverse.\n"
     ]
    }
   ],
   "source": [
    "B = np.array([[0,1,1],[1,0,-1],[1,1,0]])\n",
    "detB = np.linalg.det(B)\n",
    "try:\n",
    "    np.linalg.inv(B)\n",
    "except:\n",
    "    print('The determinant is',detB,'therefore B is a singular matrix, and has no inverse.')"
   ]
  },
  {
   "cell_type": "markdown",
   "metadata": {
    "colab_type": "text",
    "id": "g2-gAVVGKOdl"
   },
   "source": [
    "### 5. Commutativity (10pts)\n",
    "\n",
    "In three dimensions, there are three different kinds of rotations, one for rotation about each axis. These are defined as follows:\n",
    "\n",
    "$$\n",
    "R_x(\\theta) = \n",
    "\\begin{pmatrix}\n",
    "1 & 0 & 0 \\\\\n",
    "0 & \\cos \\theta  & \\sin \\theta  \\\\\n",
    "0 & -\\sin \\theta & \\cos \\theta \n",
    "\\end{pmatrix}.\n",
    "$$\n",
    "\n",
    "$$\n",
    "R_z(\\theta) = \n",
    "\\begin{pmatrix}\n",
    "\\cos \\theta  & 0 & \\sin \\theta \\\\\n",
    "0 & 1 & 0 \\\\\n",
    "-\\sin \\theta & 0 & \\cos \\theta \n",
    "\\end{pmatrix}.\n",
    "$$\n",
    "\n",
    "$$\n",
    "R_z(\\theta) = \n",
    "\\begin{pmatrix}\n",
    "\\cos \\theta  & \\sin \\theta & 0 \\\\\n",
    "-\\sin \\theta & \\cos \\theta & 0 \\\\\n",
    "0 & 0 & 1\n",
    "\\end{pmatrix}.\n",
    "$$\n",
    "\n",
    "Are these matrices pairwise commutative in general? That is: Is it the case that\n",
    "\n",
    "$$\n",
    "R_x(\\theta_1)R_y(\\theta_2) = R_y(\\theta_2)R_x(\\theta_1)\n",
    "$$\n",
    "\n",
    "and similarly for $x,z$ and $y,z$? Explain your answer.\n",
    "\n",
    "$\\textbf{Grading breakdown:}$\n",
    "    \n",
    "    2.5pts for finding Rx1 @ Ry2 and Ry2 @ Rx1\n",
    "    2.5pts for finding Rx1 @ Rz2 and Rz2 @ Rx1\n",
    "    2.5pts for finding Ry1 @ Rz2 and Rz2 @ Ry1\n",
    "    2.5pts for a convincing explaination (e.g. could be physically or mathematically motivated)\n"
   ]
  },
  {
   "cell_type": "markdown",
   "metadata": {},
   "source": [
    "5)\n",
    "\n",
    "In general, rotation matrices **do not** commute. We use sympy to show the calculations below and verify by inspection."
   ]
  },
  {
   "cell_type": "code",
   "execution_count": 56,
   "metadata": {},
   "outputs": [
    {
     "data": {
      "text/latex": [
       "$$\\left ( \\left[\\begin{matrix}\\cos{\\left (\\theta_{2} \\right )} & 0 & \\sin{\\left (\\theta_{2} \\right )}\\\\- \\sin{\\left (\\theta_{1} \\right )} \\sin{\\left (\\theta_{2} \\right )} & \\cos{\\left (\\theta_{1} \\right )} & \\sin{\\left (\\theta_{1} \\right )} \\cos{\\left (\\theta_{2} \\right )}\\\\- \\sin{\\left (\\theta_{2} \\right )} \\cos{\\left (\\theta_{1} \\right )} & - \\sin{\\left (\\theta_{1} \\right )} & \\cos{\\left (\\theta_{1} \\right )} \\cos{\\left (\\theta_{2} \\right )}\\end{matrix}\\right], \\quad \\left[\\begin{matrix}\\cos{\\left (\\theta_{2} \\right )} & - \\sin{\\left (\\theta_{1} \\right )} \\sin{\\left (\\theta_{2} \\right )} & \\sin{\\left (\\theta_{2} \\right )} \\cos{\\left (\\theta_{1} \\right )}\\\\0 & \\cos{\\left (\\theta_{1} \\right )} & \\sin{\\left (\\theta_{1} \\right )}\\\\- \\sin{\\left (\\theta_{2} \\right )} & - \\sin{\\left (\\theta_{1} \\right )} \\cos{\\left (\\theta_{2} \\right )} & \\cos{\\left (\\theta_{1} \\right )} \\cos{\\left (\\theta_{2} \\right )}\\end{matrix}\\right]\\right )$$"
      ],
      "text/plain": [
       "⎛⎡    cos(θ₂)          0          sin(θ₂)    ⎤  ⎡cos(θ₂)   -sin(θ₁)⋅sin(θ₂)  s\n",
       "⎜⎢                                           ⎥  ⎢                             \n",
       "⎜⎢-sin(θ₁)⋅sin(θ₂)  cos(θ₁)   sin(θ₁)⋅cos(θ₂)⎥, ⎢   0          cos(θ₁)        \n",
       "⎜⎢                                           ⎥  ⎢                             \n",
       "⎝⎣-sin(θ₂)⋅cos(θ₁)  -sin(θ₁)  cos(θ₁)⋅cos(θ₂)⎦  ⎣-sin(θ₂)  -sin(θ₁)⋅cos(θ₂)  c\n",
       "\n",
       "in(θ₂)⋅cos(θ₁)⎤⎞\n",
       "              ⎥⎟\n",
       "   sin(θ₁)    ⎥⎟\n",
       "              ⎥⎟\n",
       "os(θ₁)⋅cos(θ₂)⎦⎠"
      ]
     },
     "execution_count": 56,
     "metadata": {},
     "output_type": "execute_result"
    }
   ],
   "source": [
    "o1, o2 = sm.symbols('theta1 theta2')\n",
    "\n",
    "Rx1 = sm.Matrix([[1, 0, 0],[0, sm.cos(o1), sm.sin(o1)],[0, -sm.sin(o1), sm.cos(o1)]])\n",
    "Ry1 = sm.Matrix([[sm.cos(o1), 0, sm.sin(o1)],[0, 1, 0],[-sm.sin(o1), 0, sm.cos(o1)]])\n",
    "\n",
    "Ry2 = sm.Matrix([[sm.cos(o2), 0, sm.sin(o2)],[0, 1, 0],[-sm.sin(o2), 0, sm.cos(o2)]])\n",
    "Rz2 = sm.Matrix([[sm.cos(o2), sm.sin(o2), 0],[-sm.sin(o2), sm.cos(o2), 0],[0, 0, 1]])\n",
    "\n",
    "#Let's check the first pair\n",
    "Rx1@Ry2, Ry2@Rx1"
   ]
  },
  {
   "cell_type": "code",
   "execution_count": 57,
   "metadata": {},
   "outputs": [
    {
     "data": {
      "text/latex": [
       "$$\\left ( \\left[\\begin{matrix}\\cos{\\left (\\theta_{2} \\right )} & \\sin{\\left (\\theta_{2} \\right )} & 0\\\\- \\sin{\\left (\\theta_{2} \\right )} \\cos{\\left (\\theta_{1} \\right )} & \\cos{\\left (\\theta_{1} \\right )} \\cos{\\left (\\theta_{2} \\right )} & \\sin{\\left (\\theta_{1} \\right )}\\\\\\sin{\\left (\\theta_{1} \\right )} \\sin{\\left (\\theta_{2} \\right )} & - \\sin{\\left (\\theta_{1} \\right )} \\cos{\\left (\\theta_{2} \\right )} & \\cos{\\left (\\theta_{1} \\right )}\\end{matrix}\\right], \\quad \\left[\\begin{matrix}\\cos{\\left (\\theta_{2} \\right )} & \\sin{\\left (\\theta_{2} \\right )} \\cos{\\left (\\theta_{1} \\right )} & \\sin{\\left (\\theta_{1} \\right )} \\sin{\\left (\\theta_{2} \\right )}\\\\- \\sin{\\left (\\theta_{2} \\right )} & \\cos{\\left (\\theta_{1} \\right )} \\cos{\\left (\\theta_{2} \\right )} & \\sin{\\left (\\theta_{1} \\right )} \\cos{\\left (\\theta_{2} \\right )}\\\\0 & - \\sin{\\left (\\theta_{1} \\right )} & \\cos{\\left (\\theta_{1} \\right )}\\end{matrix}\\right]\\right )$$"
      ],
      "text/plain": [
       "⎛⎡    cos(θ₂)           sin(θ₂)          0   ⎤  ⎡cos(θ₂)   sin(θ₂)⋅cos(θ₁)  si\n",
       "⎜⎢                                           ⎥  ⎢                             \n",
       "⎜⎢-sin(θ₂)⋅cos(θ₁)  cos(θ₁)⋅cos(θ₂)   sin(θ₁)⎥, ⎢-sin(θ₂)  cos(θ₁)⋅cos(θ₂)  si\n",
       "⎜⎢                                           ⎥  ⎢                             \n",
       "⎝⎣sin(θ₁)⋅sin(θ₂)   -sin(θ₁)⋅cos(θ₂)  cos(θ₁)⎦  ⎣   0         -sin(θ₁)        \n",
       "\n",
       "n(θ₁)⋅sin(θ₂)⎤⎞\n",
       "             ⎥⎟\n",
       "n(θ₁)⋅cos(θ₂)⎥⎟\n",
       "             ⎥⎟\n",
       "  cos(θ₁)    ⎦⎠"
      ]
     },
     "execution_count": 57,
     "metadata": {},
     "output_type": "execute_result"
    }
   ],
   "source": [
    "#Let's check the 2nd pair\n",
    "Rx1@Rz2, Rz2@Rx1"
   ]
  },
  {
   "cell_type": "code",
   "execution_count": 58,
   "metadata": {},
   "outputs": [
    {
     "data": {
      "text/latex": [
       "$$\\left ( \\left[\\begin{matrix}\\cos{\\left (\\theta_{1} \\right )} \\cos{\\left (\\theta_{2} \\right )} & \\sin{\\left (\\theta_{2} \\right )} \\cos{\\left (\\theta_{1} \\right )} & \\sin{\\left (\\theta_{1} \\right )}\\\\- \\sin{\\left (\\theta_{2} \\right )} & \\cos{\\left (\\theta_{2} \\right )} & 0\\\\- \\sin{\\left (\\theta_{1} \\right )} \\cos{\\left (\\theta_{2} \\right )} & - \\sin{\\left (\\theta_{1} \\right )} \\sin{\\left (\\theta_{2} \\right )} & \\cos{\\left (\\theta_{1} \\right )}\\end{matrix}\\right], \\quad \\left[\\begin{matrix}\\cos{\\left (\\theta_{1} \\right )} \\cos{\\left (\\theta_{2} \\right )} & \\sin{\\left (\\theta_{2} \\right )} & \\sin{\\left (\\theta_{1} \\right )} \\cos{\\left (\\theta_{2} \\right )}\\\\- \\sin{\\left (\\theta_{2} \\right )} \\cos{\\left (\\theta_{1} \\right )} & \\cos{\\left (\\theta_{2} \\right )} & - \\sin{\\left (\\theta_{1} \\right )} \\sin{\\left (\\theta_{2} \\right )}\\\\- \\sin{\\left (\\theta_{1} \\right )} & 0 & \\cos{\\left (\\theta_{1} \\right )}\\end{matrix}\\right]\\right )$$"
      ],
      "text/plain": [
       "⎛⎡cos(θ₁)⋅cos(θ₂)   sin(θ₂)⋅cos(θ₁)   sin(θ₁)⎤  ⎡cos(θ₁)⋅cos(θ₂)   sin(θ₂)  si\n",
       "⎜⎢                                           ⎥  ⎢                             \n",
       "⎜⎢    -sin(θ₂)          cos(θ₂)          0   ⎥, ⎢-sin(θ₂)⋅cos(θ₁)  cos(θ₂)  -s\n",
       "⎜⎢                                           ⎥  ⎢                             \n",
       "⎝⎣-sin(θ₁)⋅cos(θ₂)  -sin(θ₁)⋅sin(θ₂)  cos(θ₁)⎦  ⎣    -sin(θ₁)         0       \n",
       "\n",
       "n(θ₁)⋅cos(θ₂) ⎤⎞\n",
       "              ⎥⎟\n",
       "in(θ₁)⋅sin(θ₂)⎥⎟\n",
       "              ⎥⎟\n",
       "  cos(θ₁)     ⎦⎠"
      ]
     },
     "execution_count": 58,
     "metadata": {},
     "output_type": "execute_result"
    }
   ],
   "source": [
    "#Let's check the 3rd pair \n",
    "Ry1@Rz2, Rz2@Ry1"
   ]
  },
  {
   "cell_type": "markdown",
   "metadata": {},
   "source": [
    "One explaination:\n",
    "\n",
    "The multiplication of rotation matrices corresponds to a composition of the rotations, applied from left to right. Compositions of rotations characterized by different axes of rotation don't share eigenvectors. Thus, they don't preserve each others' eigenspaces, and cannot commute. "
   ]
  },
  {
   "cell_type": "code",
   "execution_count": 64,
   "metadata": {
    "scrolled": true
   },
   "outputs": [
    {
     "data": {
      "text/latex": [
       "$$\\left [ \\left ( 1, \\quad 1, \\quad \\left [ \\left[\\begin{matrix}1\\\\0\\\\0\\end{matrix}\\right]\\right ]\\right ), \\quad \\left ( - \\sqrt{\\cos^{2}{\\left (\\theta_{1} \\right )} - 1} + \\cos{\\left (\\theta_{1} \\right )}, \\quad 1, \\quad \\left [ \\left[\\begin{matrix}0\\\\- \\frac{\\sin{\\left (\\theta_{1} \\right )}}{\\sqrt{\\cos^{2}{\\left (\\theta_{1} \\right )} - 1}}\\\\1\\end{matrix}\\right]\\right ]\\right ), \\quad \\left ( \\sqrt{\\cos^{2}{\\left (\\theta_{1} \\right )} - 1} + \\cos{\\left (\\theta_{1} \\right )}, \\quad 1, \\quad \\left [ \\left[\\begin{matrix}0\\\\\\frac{\\sin{\\left (\\theta_{1} \\right )}}{\\sqrt{\\cos^{2}{\\left (\\theta_{1} \\right )} - 1}}\\\\1\\end{matrix}\\right]\\right ]\\right )\\right ]$$"
      ],
      "text/plain": [
       "⎡               ⎛                                  ⎡⎡        0        ⎤⎤⎞  ⎛  \n",
       "⎢               ⎜                                  ⎢⎢                 ⎥⎥⎟  ⎜  \n",
       "⎢⎛      ⎡⎡1⎤⎤⎞  ⎜     ______________               ⎢⎢    -sin(θ₁)     ⎥⎥⎟  ⎜  \n",
       "⎢⎜      ⎢⎢ ⎥⎥⎟  ⎜    ╱    2                        ⎢⎢─────────────────⎥⎥⎟  ⎜  \n",
       "⎢⎜1, 1, ⎢⎢0⎥⎥⎟, ⎜- ╲╱  cos (θ₁) - 1  + cos(θ₁), 1, ⎢⎢   ______________⎥⎥⎟, ⎜╲╱\n",
       "⎢⎜      ⎢⎢ ⎥⎥⎟  ⎜                                  ⎢⎢  ╱    2         ⎥⎥⎟  ⎜  \n",
       "⎢⎝      ⎣⎣0⎦⎦⎠  ⎜                                  ⎢⎢╲╱  cos (θ₁) - 1 ⎥⎥⎟  ⎜  \n",
       "⎢               ⎜                                  ⎢⎢                 ⎥⎥⎟  ⎜  \n",
       "⎣               ⎝                                  ⎣⎣        1        ⎦⎦⎠  ⎝  \n",
       "\n",
       "                              ⎡⎡        0        ⎤⎤⎞⎤\n",
       "                              ⎢⎢                 ⎥⎥⎟⎥\n",
       " ______________               ⎢⎢     sin(θ₁)     ⎥⎥⎟⎥\n",
       "╱    2                        ⎢⎢─────────────────⎥⎥⎟⎥\n",
       "  cos (θ₁) - 1  + cos(θ₁), 1, ⎢⎢   ______________⎥⎥⎟⎥\n",
       "                              ⎢⎢  ╱    2         ⎥⎥⎟⎥\n",
       "                              ⎢⎢╲╱  cos (θ₁) - 1 ⎥⎥⎟⎥\n",
       "                              ⎢⎢                 ⎥⎥⎟⎥\n",
       "                              ⎣⎣        1        ⎦⎦⎠⎦"
      ]
     },
     "execution_count": 64,
     "metadata": {},
     "output_type": "execute_result"
    }
   ],
   "source": [
    "Rx1.eigenvects()"
   ]
  },
  {
   "cell_type": "code",
   "execution_count": 49,
   "metadata": {},
   "outputs": [
    {
     "data": {
      "text/latex": [
       "$$\\left [ \\left ( 1, \\quad 1, \\quad \\left [ \\left[\\begin{matrix}0\\\\1\\\\0\\end{matrix}\\right]\\right ]\\right ), \\quad \\left ( - \\sqrt{\\cos^{2}{\\left (\\theta_{1} \\right )} - 1} + \\cos{\\left (\\theta_{1} \\right )}, \\quad 1, \\quad \\left [ \\left[\\begin{matrix}- \\frac{\\sin{\\left (\\theta_{1} \\right )}}{\\sqrt{\\cos^{2}{\\left (\\theta_{1} \\right )} - 1}}\\\\0\\\\1\\end{matrix}\\right]\\right ]\\right ), \\quad \\left ( \\sqrt{\\cos^{2}{\\left (\\theta_{1} \\right )} - 1} + \\cos{\\left (\\theta_{1} \\right )}, \\quad 1, \\quad \\left [ \\left[\\begin{matrix}\\frac{\\sin{\\left (\\theta_{1} \\right )}}{\\sqrt{\\cos^{2}{\\left (\\theta_{1} \\right )} - 1}}\\\\0\\\\1\\end{matrix}\\right]\\right ]\\right )\\right ]$$"
      ],
      "text/plain": [
       "⎡               ⎛                                  ⎡⎡    -sin(θ₁)     ⎤⎤⎞  ⎛  \n",
       "⎢               ⎜                                  ⎢⎢─────────────────⎥⎥⎟  ⎜  \n",
       "⎢⎛      ⎡⎡0⎤⎤⎞  ⎜     ______________               ⎢⎢   ______________⎥⎥⎟  ⎜  \n",
       "⎢⎜      ⎢⎢ ⎥⎥⎟  ⎜    ╱    2                        ⎢⎢  ╱    2         ⎥⎥⎟  ⎜  \n",
       "⎢⎜1, 1, ⎢⎢1⎥⎥⎟, ⎜- ╲╱  cos (θ₁) - 1  + cos(θ₁), 1, ⎢⎢╲╱  cos (θ₁) - 1 ⎥⎥⎟, ⎜╲╱\n",
       "⎢⎜      ⎢⎢ ⎥⎥⎟  ⎜                                  ⎢⎢                 ⎥⎥⎟  ⎜  \n",
       "⎢⎝      ⎣⎣0⎦⎦⎠  ⎜                                  ⎢⎢        0        ⎥⎥⎟  ⎜  \n",
       "⎢               ⎜                                  ⎢⎢                 ⎥⎥⎟  ⎜  \n",
       "⎣               ⎝                                  ⎣⎣        1        ⎦⎦⎠  ⎝  \n",
       "\n",
       "                              ⎡⎡     sin(θ₁)     ⎤⎤⎞⎤\n",
       "                              ⎢⎢─────────────────⎥⎥⎟⎥\n",
       " ______________               ⎢⎢   ______________⎥⎥⎟⎥\n",
       "╱    2                        ⎢⎢  ╱    2         ⎥⎥⎟⎥\n",
       "  cos (θ₁) - 1  + cos(θ₁), 1, ⎢⎢╲╱  cos (θ₁) - 1 ⎥⎥⎟⎥\n",
       "                              ⎢⎢                 ⎥⎥⎟⎥\n",
       "                              ⎢⎢        0        ⎥⎥⎟⎥\n",
       "                              ⎢⎢                 ⎥⎥⎟⎥\n",
       "                              ⎣⎣        1        ⎦⎦⎠⎦"
      ]
     },
     "execution_count": 49,
     "metadata": {},
     "output_type": "execute_result"
    }
   ],
   "source": [
    "Ry1.eigenvects()"
   ]
  },
  {
   "cell_type": "code",
   "execution_count": 50,
   "metadata": {},
   "outputs": [
    {
     "data": {
      "text/latex": [
       "$$\\left [ \\left ( 1, \\quad 1, \\quad \\left [ \\left[\\begin{matrix}0\\\\0\\\\1\\end{matrix}\\right]\\right ]\\right ), \\quad \\left ( - \\sqrt{\\cos^{2}{\\left (\\theta_{2} \\right )} - 1} + \\cos{\\left (\\theta_{2} \\right )}, \\quad 1, \\quad \\left [ \\left[\\begin{matrix}- \\frac{\\sin{\\left (\\theta_{2} \\right )}}{\\sqrt{\\cos^{2}{\\left (\\theta_{2} \\right )} - 1}}\\\\1\\\\0\\end{matrix}\\right]\\right ]\\right ), \\quad \\left ( \\sqrt{\\cos^{2}{\\left (\\theta_{2} \\right )} - 1} + \\cos{\\left (\\theta_{2} \\right )}, \\quad 1, \\quad \\left [ \\left[\\begin{matrix}\\frac{\\sin{\\left (\\theta_{2} \\right )}}{\\sqrt{\\cos^{2}{\\left (\\theta_{2} \\right )} - 1}}\\\\1\\\\0\\end{matrix}\\right]\\right ]\\right )\\right ]$$"
      ],
      "text/plain": [
       "⎡               ⎛                                  ⎡⎡    -sin(θ₂)     ⎤⎤⎞  ⎛  \n",
       "⎢               ⎜                                  ⎢⎢─────────────────⎥⎥⎟  ⎜  \n",
       "⎢⎛      ⎡⎡0⎤⎤⎞  ⎜     ______________               ⎢⎢   ______________⎥⎥⎟  ⎜  \n",
       "⎢⎜      ⎢⎢ ⎥⎥⎟  ⎜    ╱    2                        ⎢⎢  ╱    2         ⎥⎥⎟  ⎜  \n",
       "⎢⎜1, 1, ⎢⎢0⎥⎥⎟, ⎜- ╲╱  cos (θ₂) - 1  + cos(θ₂), 1, ⎢⎢╲╱  cos (θ₂) - 1 ⎥⎥⎟, ⎜╲╱\n",
       "⎢⎜      ⎢⎢ ⎥⎥⎟  ⎜                                  ⎢⎢                 ⎥⎥⎟  ⎜  \n",
       "⎢⎝      ⎣⎣1⎦⎦⎠  ⎜                                  ⎢⎢        1        ⎥⎥⎟  ⎜  \n",
       "⎢               ⎜                                  ⎢⎢                 ⎥⎥⎟  ⎜  \n",
       "⎣               ⎝                                  ⎣⎣        0        ⎦⎦⎠  ⎝  \n",
       "\n",
       "                              ⎡⎡     sin(θ₂)     ⎤⎤⎞⎤\n",
       "                              ⎢⎢─────────────────⎥⎥⎟⎥\n",
       " ______________               ⎢⎢   ______________⎥⎥⎟⎥\n",
       "╱    2                        ⎢⎢  ╱    2         ⎥⎥⎟⎥\n",
       "  cos (θ₂) - 1  + cos(θ₂), 1, ⎢⎢╲╱  cos (θ₂) - 1 ⎥⎥⎟⎥\n",
       "                              ⎢⎢                 ⎥⎥⎟⎥\n",
       "                              ⎢⎢        1        ⎥⎥⎟⎥\n",
       "                              ⎢⎢                 ⎥⎥⎟⎥\n",
       "                              ⎣⎣        0        ⎦⎦⎠⎦"
      ]
     },
     "execution_count": 50,
     "metadata": {},
     "output_type": "execute_result"
    }
   ],
   "source": [
    "Rz2.eigenvects()"
   ]
  },
  {
   "cell_type": "markdown",
   "metadata": {
    "colab_type": "text",
    "id": "pPw5Epy9KOdm"
   },
   "source": [
    "### 6. Orthogonal Matrices (10pts)\n",
    "\n",
    "The set of reflection matrices is defined by\n",
    "\n",
    "$$\n",
    "S(\\theta) = \n",
    "\\begin{pmatrix}\n",
    "\\cos 2\\theta & \\sin 2 \\theta \\\\\n",
    "\\sin 2\\theta & -\\cos 2 \\theta\n",
    "\\end{pmatrix}.\n",
    "$$\n",
    "\n",
    "a) Show how $S(\\frac{\\pi}{4})$ transforms the vector $(1\\;-1)^T$. \n",
    "\n",
    "b) Show that $S(\\theta)$ does not change any vectors that happen to lie on the axis of reflection.\n",
    "\n",
    "c) Show that these matrices are orthogonal for all $\\theta$. \n",
    "\n",
    "$\\textbf{Grading breakdown:}$\n",
    "    \n",
    "    2pts for showing how the vector is transformed\n",
    "    2pts (b) for choosing v(theta) = [cos(theta) sin(theta)]^T\n",
    "    1pt (b) for multiplying by S(theta)\n",
    "    2pts (b) for simplifying the result to equal v(theta)\n",
    "    3pts (c) for for a convincing argument to show that these matrices are orthogonal for all theta\n"
   ]
  },
  {
   "cell_type": "code",
   "execution_count": 15,
   "metadata": {},
   "outputs": [
    {
     "data": {
      "text/latex": [
       "$$\\left ( \\left[\\begin{matrix}1\\\\-1\\end{matrix}\\right], \\quad \\left[\\begin{matrix}0 & 1\\\\1 & 0\\end{matrix}\\right], \\quad \\left[\\begin{matrix}-1\\\\1\\end{matrix}\\right]\\right )$$"
      ],
      "text/plain": [
       "⎛⎡1 ⎤  ⎡0  1⎤  ⎡-1⎤⎞\n",
       "⎜⎢  ⎥, ⎢    ⎥, ⎢  ⎥⎟\n",
       "⎝⎣-1⎦  ⎣1  0⎦  ⎣1 ⎦⎠"
      ]
     },
     "execution_count": 15,
     "metadata": {},
     "output_type": "execute_result"
    }
   ],
   "source": [
    "#6.a) First let's see what's happening in python\n",
    "\n",
    "S = lambda arg: sm.Matrix([[sm.cos(2*arg), sm.sin(2*arg)],[sm.sin(2*arg), -sm.cos(2*arg)]])\n",
    "v = sm.Matrix([[1],[-1]])\n",
    "v, S(sm.pi / 4), S(sm.pi / 4)@v"
   ]
  },
  {
   "cell_type": "markdown",
   "metadata": {},
   "source": [
    "Now, more formally, let's apply $S(\\frac{\\pi}{4})$ to $\\begin{pmatrix} x \\\\ y \\end{pmatrix}$ to see what happens:\n",
    "\n",
    "$$\n",
    "\\begin{pmatrix} 0 & 1 \\\\ 1 & 0 \\end{pmatrix}\n",
    "\\begin{pmatrix} x \\\\ y \\end{pmatrix}\n",
    "= \n",
    "(x)\\begin{pmatrix} 0 \\\\ 1 \\end{pmatrix} +\n",
    "(y)\\begin{pmatrix} 1 \\\\ 0 \\end{pmatrix}\n",
    " = \\begin{pmatrix} y \\\\ x \\end{pmatrix}$$\n",
    " \n",
    "So that means $x\\leftarrow y$ and $y \\leftarrow x$ (i.e. they swap positions). Graphically, this indicates a reflection about the line $L$ represented by the equation $y=x$ (i.e. $\\theta = \\frac{\\pi}{4}$)."
   ]
  },
  {
   "cell_type": "code",
   "execution_count": 16,
   "metadata": {},
   "outputs": [],
   "source": [
    "xs = np.linspace(-2,2,100)\n",
    "ys = xs\n",
    "\n",
    "S45 = np.array([[0,1],[1,0]]) # Reflection matrix\n",
    "p = np.array([[1],[-1]]) # Given point in R^2\n",
    "p2 = np.array([[1],[1]]) # Point on the axis of reflection\n",
    "Spx, Spy = S45@p\n",
    "Spx2, Spy2 = S45@p2"
   ]
  },
  {
   "cell_type": "code",
   "execution_count": 17,
   "metadata": {},
   "outputs": [
    {
     "data": {
      "image/png": "[encoded data removed]",
      "text/plain": [
       "<matplotlib.figure.Figure at 0x2a2633dd8d0>"
      ]
     },
     "metadata": {},
     "output_type": "display_data"
    }
   ],
   "source": [
    "fig, ax = plt.subplots(1,1, figsize=(6,6))\n",
    "ax.plot(xs, ys, c='k')\n",
    "ax.scatter(p[0], p[1])\n",
    "ax.scatter(Spx, Spy)\n",
    "ax.scatter(p2[0], p2[1], alpha=0.4)\n",
    "ax.scatter(Spx2, Spy2, alpha=0.5)\n",
    "ax.grid('on')\n",
    "ax.legend(['Axis of Reflection','Point1','Reflected Point1','Point2','Reflected Point2'])\n",
    "ax.set_aspect('equal')\n",
    "\n",
    "plt.show()"
   ]
  },
  {
   "cell_type": "markdown",
   "metadata": {},
   "source": [
    "6.b)\n",
    "\n",
    "To show that $S(\\theta)$  does not change any vectors that happen to lie on the axis of reflection, we consider the transformation on the vector $v(\\theta) = \\begin{pmatrix} \\cos{(\\theta)} & \\sin{(\\theta)} \\end{pmatrix}^T$, i.e. a vector on the axis of rotation, shown in `sympy` below."
   ]
  },
  {
   "cell_type": "code",
   "execution_count": 18,
   "metadata": {},
   "outputs": [
    {
     "data": {
      "text/latex": [
       "$$\\left[\\begin{matrix}\\sin{\\left (\\theta \\right )} \\sin{\\left (2 \\theta \\right )} + \\cos{\\left (\\theta \\right )} \\cos{\\left (2 \\theta \\right )}\\\\- \\sin{\\left (\\theta \\right )} \\cos{\\left (2 \\theta \\right )} + \\sin{\\left (2 \\theta \\right )} \\cos{\\left (\\theta \\right )}\\end{matrix}\\right]$$"
      ],
      "text/plain": [
       "⎡sin(θ)⋅sin(2⋅θ) + cos(θ)⋅cos(2⋅θ) ⎤\n",
       "⎢                                  ⎥\n",
       "⎣-sin(θ)⋅cos(2⋅θ) + sin(2⋅θ)⋅cos(θ)⎦"
      ]
     },
     "execution_count": 18,
     "metadata": {},
     "output_type": "execute_result"
    }
   ],
   "source": [
    "o = sm.symbols('theta')\n",
    "S_theta = sm.Matrix([[sm.cos(2*o), sm.sin(2*o)],[sm.sin(2*o), -sm.cos(2*o)]])\n",
    "vec = sm.Matrix([[sm.cos(o)],[sm.sin(o)]])\n",
    "S_theta @ vec"
   ]
  },
  {
   "cell_type": "markdown",
   "metadata": {},
   "source": [
    "Next, we make use of the product identities and even and odd properties of trig functions:\n",
    "\n",
    "$$\\sin{(\\theta)}\\sin{(2\\theta)} = \\frac{1}{2}(\\cos{(\\theta)} - \\cos{(3\\theta)}) $$\n",
    "\n",
    "$$\\cos{(\\theta)}\\cos{(2\\theta)} = \\frac{1}{2}(\\cos{(3\\theta)} + \\cos{(\\theta)}) $$\n",
    "\n",
    "$$\\sin{(\\theta)}\\cos{(2\\theta)} = \\frac{1}{2}(\\sin{(3\\theta)} - \\sin{(\\theta)}) $$\n",
    "\n",
    "$$\\sin{(2\\theta)}\\cos{(\\theta)} = \\frac{1}{2}(\\sin{(3\\theta)} + \\sin{(\\theta)}) $$\n",
    "\n",
    "So we see\n",
    "\n",
    "$$\n",
    "S(\\theta)v(\\theta) = \n",
    "    \\begin{pmatrix}\n",
    "        \\cos 2\\theta & \\sin 2 \\theta \\\\\n",
    "        \\sin 2\\theta & -\\cos 2 \\theta\n",
    "    \\end{pmatrix}\n",
    "    \\begin{pmatrix} \\cos{(\\theta)} \\\\ \\sin{(\\theta)} \\end{pmatrix}\n",
    "$$    \n",
    "\n",
    "$$\n",
    "= \n",
    "    \\begin{pmatrix}\n",
    "        \\sin{(\\theta)}\\sin{(2\\theta)} + \\cos{(\\theta)}\\cos{(2 \\theta)} \\\\\n",
    "        -\\sin{(\\theta)}\\cos{(2\\theta)} + \\sin{(2\\theta)}\\cos{(\\theta)}\n",
    "    \\end{pmatrix}\n",
    "$$\n",
    "\n",
    "$$\n",
    "= \n",
    "    \\begin{pmatrix}\n",
    "        \\frac{1}{2} (\\cos{(\\theta)} - \\cos{(3\\theta)}) + \\frac{1}{2} (\\cos{(3\\theta)} + \\cos{(\\theta)} )\\\\\n",
    "        \\frac{1}{2} (- \\sin{(3\\theta)} + \\sin{(\\theta)} ) + \\frac{1}{2} ( \\sin{(3\\theta)} + \\sin{(\\theta)} )\n",
    "    \\end{pmatrix}\n",
    "$$\n",
    "\n",
    "$$\n",
    "= \\begin{pmatrix} \\cos{(\\theta)} \\\\ \\sin{(\\theta)} \\end{pmatrix}\n",
    "$$\n",
    "\n",
    "$$=v(\\theta).$$\n",
    "\n",
    "Thus, $S(\\theta)$  does not change any vectors that happen to lie on the axis of reflection."
   ]
  },
  {
   "cell_type": "markdown",
   "metadata": {},
   "source": [
    "6.c)\n",
    "\n",
    "To show that these matrices are orthogonal for all $\\theta$ we try to verify a definition:  **a matrix is orthogonal if its transpose is equal to its inverse.** Note that $1 = \\sin^2{(x)} + \\cos^2{(x)}$."
   ]
  },
  {
   "cell_type": "code",
   "execution_count": 19,
   "metadata": {},
   "outputs": [
    {
     "data": {
      "text/latex": [
       "$$\\left[\\begin{matrix}\\sin^{2}{\\left (2 \\theta \\right )} + \\cos^{2}{\\left (2 \\theta \\right )} & 0\\\\0 & \\sin^{2}{\\left (2 \\theta \\right )} + \\cos^{2}{\\left (2 \\theta \\right )}\\end{matrix}\\right]$$"
      ],
      "text/plain": [
       "⎡   2           2                            ⎤\n",
       "⎢sin (2⋅θ) + cos (2⋅θ)            0          ⎥\n",
       "⎢                                            ⎥\n",
       "⎢                          2           2     ⎥\n",
       "⎣          0            sin (2⋅θ) + cos (2⋅θ)⎦"
      ]
     },
     "execution_count": 19,
     "metadata": {},
     "output_type": "execute_result"
    }
   ],
   "source": [
    "o = sm.symbols('theta')\n",
    "S_theta = sm.Matrix([[sm.cos(2*o), sm.sin(2*o)],[sm.sin(2*o), -sm.cos(2*o)]])\n",
    "S_theta.transpose() @ S_theta"
   ]
  },
  {
   "cell_type": "markdown",
   "metadata": {},
   "source": [
    "Thus, regardless of the $\\theta$ we choose, $S(\\theta)$ is orthogonal."
   ]
  },
  {
   "cell_type": "markdown",
   "metadata": {
    "ExecuteTime": {
     "end_time": "2019-10-23T18:01:28.779050Z",
     "start_time": "2019-10-23T18:01:28.773729Z"
    },
    "colab_type": "text",
    "id": "aNIRp4-uKOdm"
   },
   "source": [
    "### 7. Similarity (10pts)\n",
    "\n",
    "Show that the following two matrices are similar.\n",
    "\n",
    "$\n",
    "A = \\begin{pmatrix}\n",
    "2 & 4 & 6 \\\\\n",
    "0 & 2 & 0 \\\\\n",
    "1 & 1 & 0\n",
    "\\end{pmatrix}\n",
    "$\n",
    "\n",
    "B = $\n",
    "\\begin{pmatrix}\n",
    "1 & -1 & 2 \\\\\n",
    "4 & 2 & 1 \\\\\n",
    "5 & 1 & 1\n",
    "\\end{pmatrix}\n",
    "$\n",
    "\n",
    "$\\textbf{Grading breakdown:}$\n",
    "    \n",
    "    3pt for finding the characteristic polynomial of A, B and showing they are the same\n",
    "    4pt for showing that the eigenvalues are the same\n",
    "    3pts for showing that the determinants are the same\n"
   ]
  },
  {
   "cell_type": "markdown",
   "metadata": {},
   "source": [
    "7)\n",
    "\n",
    "Remember from lecture the definition and properties of similarity:\n",
    "\n",
    "**Def:** $X$ and $Y$ are **similar** if there exists an invertible matrix $Q$ such that $Y = Q X Q^{-1}$. \n",
    "\n",
    "**Some (of many) properties (i.e. necessary conditions):**\n",
    "\n",
    "- Similar matrices have the same determinant. $|B| = |Q A Q^{-1}| = |Q||Q^{-1}||A| = |A|$. \n",
    "- Similar matrices have the same characteristic polynomial. \n",
    "- Similar matrices have the same eigenvalues.\n",
    "- $\\dots$\n",
    "\n",
    "We will use the **necessary and sufficient condition** that:\n",
    "\n",
    "$A$ and $B$ are similar $\\iff$ they have the same Jordan Normal Form."
   ]
  },
  {
   "cell_type": "code",
   "execution_count": 8,
   "metadata": {},
   "outputs": [
    {
     "data": {
      "text/latex": [
       "$$\\left ( \\left[\\begin{matrix}2 & 0 & 0\\\\0 & 1 + \\sqrt{7} & 0\\\\0 & 0 & - \\sqrt{7} + 1\\end{matrix}\\right], \\quad \\left[\\begin{matrix}2 & 0 & 0\\\\0 & 1 + \\sqrt{7} & 0\\\\0 & 0 & - \\sqrt{7} + 1\\end{matrix}\\right]\\right )$$"
      ],
      "text/plain": [
       "⎛⎡2    0        0   ⎤  ⎡2    0        0   ⎤⎞\n",
       "⎜⎢                  ⎥  ⎢                  ⎥⎟\n",
       "⎜⎢0  1 + √7     0   ⎥, ⎢0  1 + √7     0   ⎥⎟\n",
       "⎜⎢                  ⎥  ⎢                  ⎥⎟\n",
       "⎝⎣0    0     -√7 + 1⎦  ⎣0    0     -√7 + 1⎦⎠"
      ]
     },
     "execution_count": 8,
     "metadata": {},
     "output_type": "execute_result"
    }
   ],
   "source": [
    "Pa, Ja = A.jordan_form()\n",
    "Pb, Jb = B.jordan_form()\n",
    "Ja, Jb"
   ]
  },
  {
   "cell_type": "markdown",
   "metadata": {},
   "source": [
    "Below, we illustrate that the neccesary conditions mentioned in the properties hold."
   ]
  },
  {
   "cell_type": "code",
   "execution_count": 2,
   "metadata": {},
   "outputs": [
    {
     "name": "stdout",
     "output_type": "stream",
     "text": [
      "2 == 2 is True\n",
      "-sqrt(7) + 1 == -sqrt(7) + 1 is True\n",
      "1 + sqrt(7) == 1 + sqrt(7) is True\n",
      "\n",
      "Are the determinants of A and B equal? Answer: True\n"
     ]
    }
   ],
   "source": [
    "A = sm.Matrix([[2,4,6],[0,2,0],[1,1,0]])\n",
    "B = sm.Matrix([[1,-1,2],[4,2,1],[5,1,1]])\n",
    "\n",
    "for a,b in zip(A.eigenvals(), B.eigenvals()):\n",
    "    print(a, '==', b, 'is', a == b)\n",
    "    \n",
    "print('\\nAre the determinants of A and B equal? Answer:', A.det() == B.det())"
   ]
  },
  {
   "cell_type": "code",
   "execution_count": 21,
   "metadata": {
    "scrolled": true
   },
   "outputs": [
    {
     "data": {
      "text/latex": [
       "$$\\left ( s \\left(s - 2\\right)^{2} - 6 s + 12, \\quad s \\left(s - 2\\right)^{2} - 6 s + 12\\right )$$"
      ],
      "text/plain": [
       "⎛         2                      2           ⎞\n",
       "⎝s⋅(s - 2)  - 6⋅s + 12, s⋅(s - 2)  - 6⋅s + 12⎠"
      ]
     },
     "execution_count": 21,
     "metadata": {},
     "output_type": "execute_result"
    }
   ],
   "source": [
    "# Now we check if A and B have the same characteristic equations\n",
    "s = sm.symbols('s')\n",
    "\n",
    "sI = s * sm.eye(3)\n",
    "charEqA = (sI - A).det()\n",
    "charEqB = (sI - A).det()\n",
    "\n",
    "charEqA, charEqB"
   ]
  },
  {
   "cell_type": "markdown",
   "metadata": {
    "colab_type": "text",
    "id": "uL7YVvnYKOdn"
   },
   "source": [
    "### 8. Diagonalization (10pts)\n",
    "\n",
    "Diagonalize the matrices in problem 7 (you can use `sympy`) and show they have the same diagonal form.\n",
    "\n",
    "$\\textbf{Grading breakdown:}$\n",
    "    \n",
    "    5pts for finding the diagonalization of A\n",
    "    5pts for finding the diagonalization of B"
   ]
  },
  {
   "cell_type": "markdown",
   "metadata": {},
   "source": [
    "8)\n",
    "\n",
    "Because `diagonalize` returns a tuple $(P,D)$, where $D$ is diagonal and $M=PDP^{−1}$, we can implement this easily in python. Notice that while $P_A,P_B$ are different, $D_A,D_B$ are the same!"
   ]
  },
  {
   "cell_type": "code",
   "execution_count": 5,
   "metadata": {
    "scrolled": false
   },
   "outputs": [
    {
     "data": {
      "text/latex": [
       "$$\\left ( \\left[\\begin{matrix}7 & 1 + \\sqrt{7} & - \\sqrt{7} + 1\\\\-3 & 0 & 0\\\\2 & 1 & 1\\end{matrix}\\right], \\quad \\left[\\begin{matrix}2 & 0 & 0\\\\0 & 1 + \\sqrt{7} & 0\\\\0 & 0 & - \\sqrt{7} + 1\\end{matrix}\\right]\\right )$$"
      ],
      "text/plain": [
       "⎛⎡7   1 + √7  -√7 + 1⎤  ⎡2    0        0   ⎤⎞\n",
       "⎜⎢                   ⎥  ⎢                  ⎥⎟\n",
       "⎜⎢-3    0        0   ⎥, ⎢0  1 + √7     0   ⎥⎟\n",
       "⎜⎢                   ⎥  ⎢                  ⎥⎟\n",
       "⎝⎣2     1        1   ⎦  ⎣0    0     -√7 + 1⎦⎠"
      ]
     },
     "execution_count": 5,
     "metadata": {},
     "output_type": "execute_result"
    }
   ],
   "source": [
    "P_A, D_A = A.diagonalize()\n",
    "P_A, D_A"
   ]
  },
  {
   "cell_type": "code",
   "execution_count": 6,
   "metadata": {},
   "outputs": [
    {
     "data": {
      "text/latex": [
       "$$\\left ( \\left[\\begin{matrix}-1 & - \\frac{1}{6} + \\frac{\\sqrt{7}}{6} & - \\frac{\\sqrt{7}}{6} - \\frac{1}{6}\\\\9 & \\frac{\\sqrt{7}}{6} + \\frac{5}{6} & - \\frac{\\sqrt{7}}{6} + \\frac{5}{6}\\\\4 & 1 & 1\\end{matrix}\\right], \\quad \\left[\\begin{matrix}2 & 0 & 0\\\\0 & 1 + \\sqrt{7} & 0\\\\0 & 0 & - \\sqrt{7} + 1\\end{matrix}\\right]\\right )$$"
      ],
      "text/plain": [
       "⎛⎡      1   √7    √7   1⎤                      ⎞\n",
       "⎜⎢-1  - ─ + ──  - ── - ─⎥                      ⎟\n",
       "⎜⎢      6   6     6    6⎥  ⎡2    0        0   ⎤⎟\n",
       "⎜⎢                      ⎥  ⎢                  ⎥⎟\n",
       "⎜⎢     √7   5     √7   5⎥, ⎢0  1 + √7     0   ⎥⎟\n",
       "⎜⎢9    ── + ─   - ── + ─⎥  ⎢                  ⎥⎟\n",
       "⎜⎢     6    6     6    6⎥  ⎣0    0     -√7 + 1⎦⎟\n",
       "⎜⎢                      ⎥                      ⎟\n",
       "⎝⎣4      1         1    ⎦                      ⎠"
      ]
     },
     "execution_count": 6,
     "metadata": {},
     "output_type": "execute_result"
    }
   ],
   "source": [
    "P_B, D_B = B.diagonalize()\n",
    "P_B, D_B"
   ]
  },
  {
   "cell_type": "markdown",
   "metadata": {
    "ExecuteTime": {
     "end_time": "2019-10-23T18:34:47.222384Z",
     "start_time": "2019-10-23T18:34:47.217657Z"
    },
    "colab_type": "text",
    "id": "xy2IGtImKOdo"
   },
   "source": [
    "### 9. Cayley Hamilton (10pts)\n",
    "\n",
    "a) Use the Cayley Hamilton Theorem to come up with an expression for $A^n$ in terms of $n$ when \n",
    "\n",
    "$$\n",
    "A = \\begin{pmatrix}\n",
    "-\\frac{1}{2} & 1  \\\\\n",
    "0 & \\frac{1}{4}\n",
    "\\end{pmatrix} .\n",
    "$$\n",
    "\n",
    "b) Define $x_{k+1} = A x_k$ and argue that no matter what value $x_0$ is, $x_{k+1}$ converges to $(0 \\; 0)^T$. \n",
    "\n",
    "c) Choose $x_0 = (-2,3)^T$ and plot $x_k$ for $k = 0$ to $10$. Plot the two components of of $x_k$ as two separate trajectories overlaid on the same plot.\n",
    "\n",
    "$\\textbf{Grading breakdown:}$\n",
    "    \n",
    "    1pt for finding the characteristic polynomial of A\n",
    "    1pt for using the CH formula to find p(A)=0\n",
    "    2pts for finding an expression for A^n in terms of n\n",
    "    1pts (b) for finding an explicit formula for x_k+1\n",
    "    3pts (b) for for a convincing argument to show that x_k+1 converges to zero regardless of x0\n",
    "    1pt (c) for plotting the x component\n",
    "    1pt (c) for plotting the y component"
   ]
  },
  {
   "cell_type": "code",
   "execution_count": 24,
   "metadata": {},
   "outputs": [
    {
     "data": {
      "text/latex": [
       "$$\\left ( \\left[\\begin{matrix}1 & 4\\\\0 & 3\\end{matrix}\\right], \\quad \\left[\\begin{matrix}- \\frac{1}{2} & 0\\\\0 & \\frac{1}{4}\\end{matrix}\\right], \\quad \\left[\\begin{matrix}1 & - \\frac{4}{3}\\\\0 & \\frac{1}{3}\\end{matrix}\\right], \\quad \\left[\\begin{matrix}- \\frac{1}{2} & 1\\\\0 & \\frac{1}{4}\\end{matrix}\\right]\\right )$$"
      ],
      "text/plain": [
       "⎛⎡1  4⎤  ⎡-1/2   0 ⎤  ⎡1  -4/3⎤  ⎡-1/2   1 ⎤⎞\n",
       "⎜⎢    ⎥, ⎢         ⎥, ⎢       ⎥, ⎢         ⎥⎟\n",
       "⎝⎣0  3⎦  ⎣ 0    1/4⎦  ⎣0  1/3 ⎦  ⎣ 0    1/4⎦⎠"
      ]
     },
     "execution_count": 24,
     "metadata": {},
     "output_type": "execute_result"
    }
   ],
   "source": [
    "A = sm.Matrix([[sm.Rational(-1,2), 1],[0, sm.Rational(1,4)]]) \n",
    "Q, L = A.diagonalize()\n",
    "Q, L, Q.inv(), Q @ L @ Q.inv()"
   ]
  },
  {
   "cell_type": "markdown",
   "metadata": {},
   "source": [
    "9.a)\n",
    "\n",
    "Recall the **Caley-Hamilton Theorem**: A matrix solves its own characteristic polynomial (i.e. $p(A) = 0$).\n",
    "\n",
    "The characteristic polynomial of $A$ is $p(s) = (s−\\frac{1}{4})(s+ \\frac{1}{2}) = s^2 + \\frac{s}{4} - \\frac{1}{8}.$\n",
    "\n",
    "Hence \n",
    "\n",
    "$$  A^2 = -\\frac{A}{4} + \\frac{I}{8} $$\n",
    "\n",
    "$$  A^n = -\\frac{A^{n-1}}{4} + \\frac{A^{n-2}}{8}. $$\n",
    "\n",
    "We could more specifically express this as:\n",
    "\n",
    "$$ = - \\frac{1}{4} Q \\begin{pmatrix} (\\frac{-1}{2})^{n-1} & 0 \\\\ 0 & (\\frac{1}{4})^{n-1} \\end{pmatrix}Q^{-1}  + \\frac{1}{8} Q \\begin{pmatrix} (\\frac{-1}{2})^{n-2} & 0 \\\\ 0 & (\\frac{1}{4})^{n-2} \\end{pmatrix} Q^{-1} $$\n",
    "\n",
    "where $Q, Q^{-1}$ are defined in the code above."
   ]
  },
  {
   "cell_type": "markdown",
   "metadata": {},
   "source": [
    "9.b)\n",
    "\n",
    "Let's begin by ennumerating terms of $x_{k+1} = A x_k$ and find an explicit form: \n",
    "\n",
    "$$\\begin{align}\n",
    "x_{1} &= Ax_0 \\\\\n",
    "x_{2} &= Ax_1 = A(Ax_0) = A^2x_0 \\\\\n",
    "x_{3} &= Ax_2 = A(A^2x_0) = A^3x_0\\\\\n",
    "& \\vdots \\\\\n",
    "x_{n} &= A^nx_0. \\\\\n",
    "\\end{align}$$\n",
    "\n",
    "Now, let's take the limit as $k\\rightarrow \\infty:$\n",
    "\n",
    "$$\\lim \\limits_{k\\rightarrow \\infty} x_{k+1} = \\lim \\limits_{k\\rightarrow \\infty}  A^{k+1}x_0$$\n",
    "\n",
    "Because the eigenvalues of $A$ are $\\frac{-1}{2}, \\frac{1}{4}$ (i.e. distinct and nonzero) we can diagonalize it into a matrix of eigenvectors, $Q$, and a diagonal matrix of eigenvalues, $\\Lambda:$ \n",
    "\n",
    "$$A = Q\\Lambda Q^{-1}.$$ \n",
    "\n",
    "Furthermore, because $A^2 = Q\\Lambda (Q^{-1}Q)\\Lambda Q^{-1} = Q\\Lambda^2 Q^{-1} \\implies A^n = Q\\Lambda^n Q^{-1}.$\n",
    "\n",
    "Thus,\n",
    "\n",
    "$$\\begin{align}\n",
    "\\lim \\limits_{k\\rightarrow \\infty} x_{k+1} &= x_0 \\lim \\limits_{k\\rightarrow \\infty}  Q\\Lambda^k Q^{-1} \\\\\n",
    "&= x_0 \\lim \\limits_{k\\rightarrow \\infty}  Q \n",
    "\\begin{pmatrix} (\\frac{-1}{2})^k & 0 \\\\ 0 & (\\frac{1}{4})^k \\end{pmatrix}\n",
    "Q^{-1} \\\\\n",
    "&= x_0 Q \n",
    "\\begin{pmatrix} 0 & 0 \\\\ 0 & 0 \\end{pmatrix}\n",
    "Q^{-1} \\\\\n",
    "&= 0.\n",
    "\\end{align}$$"
   ]
  },
  {
   "cell_type": "code",
   "execution_count": 25,
   "metadata": {
    "scrolled": true
   },
   "outputs": [
    {
     "data": {
      "image/png": "[encoded data removed]",
      "text/plain": [
       "<matplotlib.figure.Figure at 0x2a2636ddc18>"
      ]
     },
     "metadata": {},
     "output_type": "display_data"
    },
    {
     "data": {
      "text/latex": [
       "$$\\left [ \\left[\\begin{matrix}-2\\\\3\\end{matrix}\\right], \\quad \\left[\\begin{matrix}4\\\\\\frac{3}{4}\\end{matrix}\\right], \\quad \\left[\\begin{matrix}- \\frac{5}{4}\\\\\\frac{3}{16}\\end{matrix}\\right], \\quad \\left[\\begin{matrix}\\frac{13}{16}\\\\\\frac{3}{64}\\end{matrix}\\right], \\quad \\left[\\begin{matrix}- \\frac{23}{64}\\\\\\frac{3}{256}\\end{matrix}\\right], \\quad \\left[\\begin{matrix}\\frac{49}{256}\\\\\\frac{3}{1024}\\end{matrix}\\right], \\quad \\left[\\begin{matrix}- \\frac{95}{1024}\\\\\\frac{3}{4096}\\end{matrix}\\right], \\quad \\left[\\begin{matrix}\\frac{193}{4096}\\\\\\frac{3}{16384}\\end{matrix}\\right], \\quad \\left[\\begin{matrix}- \\frac{383}{16384}\\\\\\frac{3}{65536}\\end{matrix}\\right], \\quad \\left[\\begin{matrix}\\frac{769}{65536}\\\\\\frac{3}{262144}\\end{matrix}\\right], \\quad \\left[\\begin{matrix}- \\frac{1535}{262144}\\\\\\frac{3}{1048576}\\end{matrix}\\right]\\right ]$$"
      ],
      "text/plain": [
       "⎡                     ⎡ 13 ⎤  ⎡-23  ⎤  ⎡  49  ⎤  ⎡ -95  ⎤  ⎡ 193   ⎤  ⎡ -383  \n",
       "⎢⎡-2⎤  ⎡ 4 ⎤  ⎡-5/4⎤  ⎢ ── ⎥  ⎢──── ⎥  ⎢ ───  ⎥  ⎢ ──── ⎥  ⎢ ────  ⎥  ⎢ ───── \n",
       "⎢⎢  ⎥, ⎢   ⎥, ⎢    ⎥, ⎢ 16 ⎥, ⎢ 64  ⎥, ⎢ 256  ⎥, ⎢ 1024 ⎥, ⎢ 4096  ⎥, ⎢ 16384 \n",
       "⎢⎣3 ⎦  ⎣3/4⎦  ⎣3/16⎦  ⎢    ⎥  ⎢     ⎥  ⎢      ⎥  ⎢      ⎥  ⎢       ⎥  ⎢       \n",
       "⎣                     ⎣3/64⎦  ⎣3/256⎦  ⎣3/1024⎦  ⎣3/4096⎦  ⎣3/16384⎦  ⎣3/65536\n",
       "\n",
       "⎤  ⎡  769   ⎤  ⎡ -1535   ⎤⎤\n",
       "⎥  ⎢ ─────  ⎥  ⎢ ──────  ⎥⎥\n",
       "⎥, ⎢ 65536  ⎥, ⎢ 262144  ⎥⎥\n",
       "⎥  ⎢        ⎥  ⎢         ⎥⎥\n",
       "⎦  ⎣3/262144⎦  ⎣3/1048576⎦⎦"
      ]
     },
     "execution_count": 25,
     "metadata": {},
     "output_type": "execute_result"
    }
   ],
   "source": [
    "# 9.c)\n",
    "\n",
    "k = np.arange(0,11)\n",
    "x0 = np.array([[-2],[3]])\n",
    "xks = [A**i @ x0 for i in k]\n",
    "xk_1 = [element[0] for element in xks] # Make an array of the first component of the vectors\n",
    "xk_2 = [element[1] for element in xks] # Make an array of the second component of the vectors\n",
    "\n",
    "plt.scatter(k, xk_1)\n",
    "plt.scatter(k, xk_2)\n",
    "plt.grid('on')\n",
    "plt.title(r'Trajectories of $x_{k+1} = A x_k$')\n",
    "plt.xlabel('k')\n",
    "plt.ylabel(r'$x_k$')\n",
    "plt.legend(['x trajectory','y trajectory'])\n",
    "plt.show()\n",
    "\n",
    "xks"
   ]
  },
  {
   "cell_type": "markdown",
   "metadata": {
    "ExecuteTime": {
     "end_time": "2019-10-23T18:47:28.833529Z",
     "start_time": "2019-10-23T18:47:28.828866Z"
    },
    "colab_type": "text",
    "id": "6LCG5pZ9KOdo"
   },
   "source": [
    "### 10. Matrix Exponential Properties (10pts)\n",
    "---\n",
    "\n",
    "Recall that for matrices $A$ and $B$ that it is not necessarily the case that $AB = BA$ (i.e. that $A$ and $B$ commute). Show that \n",
    "\n",
    "a) If $AB=BA$ then $e^Ae^B = e^Be^A$ using the definition of the matrix exponential as a series.\n",
    "\n",
    "b) Find an example in 2D where $A$ and $B$ do not commute and show that $e^Ae^B \\neq e^Be^A$.\n",
    "\n",
    "$\\textbf{Grading breakdown:}$\n",
    "    \n",
    "    2pts for stating the definitions of e^A, e^B\n",
    "    2pts for using the assumption AB=BA \n",
    "    2pts for for a convincing argument to show that e^Ae^B = e^Be^A if AB=BA\n",
    "    2pts (b) for finding two matrices that do not commute\n",
    "    2pts (b) for showing that e^Ae^B does not equal e^Be^A"
   ]
  },
  {
   "cell_type": "markdown",
   "metadata": {},
   "source": [
    "10.a)\n",
    "\n",
    "Recall from lecture, when $A \\in \\mathbb{R}^{n\\times n}$, then the we define the **matrix exponential** $e^{A}$ by\n",
    "$$\n",
    "e^{A} \\triangleq I + A + \\frac{A^2}{2!} + \\frac{A^3}{3!} + \\dots\n",
    "$$\n",
    "Now assume $AB=BA$. By using the definition we see\n",
    "\n",
    "$$\n",
    "%step 1\n",
    "e^{A}e^{B} = (I + A + \\frac{A^2}{2!} + \\frac{A^3}{3!} + \\dots)(I + B + \\frac{B^2}{2!} + \\frac{B^3}{3!} + \\dots),\n",
    "$$\n",
    "\n",
    "and we can group the terms to use in a FOIL expansion\n",
    "\n",
    "$$\n",
    "%step 2: group terms\n",
    "e^{A}e^{B} = [I + (A + \\frac{A^2}{2!} + \\frac{A^3}{3!} + \\dots)][I + (B + \\frac{B^2}{2!} + \\frac{B^3}{3!} + \\dots)].\n",
    "$$\n",
    "\n",
    "Next, the FOIL expansion gives us\n",
    "\n",
    "$$\n",
    "%step 3 FOIL expansion\n",
    "e^{A}e^{B} = [I + (B + \\frac{B^2}{2!} + \\frac{B^3}{3!} + \\dots) + (A + \\frac{A^2}{2!} + \\frac{A^3}{3!} + \\dots) + (A + \\frac{A^2}{2!} + \\frac{A^3}{3!} + \\dots)(B + \\frac{B^2}{2!} + \\frac{B^3}{3!} + \\dots)].\n",
    "$$\n",
    "\n",
    "We'll use FOIL expansion again on the last term, use the fact that $AB=BA$, and regroup some of the terms as\n",
    "\n",
    "$$\n",
    "%step 4: group expanded terms\n",
    "e^{A}e^{B} = [I + (A+B) + \\frac{1}{2!}(A^2 + B^2 + 2AB) + (\\frac{1}{3!}(A^3 + B^3) + \\frac{1}{2!}(A^2B + AB^2)) + \\dots]\n",
    "$$\n",
    "\n",
    "reexpressing them as the following:\n",
    "\n",
    "$$\n",
    "%step 5: group expanded terms\n",
    "e^{A}e^{B} = [I + (A+B) + \\frac{1}{2!}(A^2 + B^2 + 2AB) + \\frac{1}{3!}(A^3 + 3A^2B + 3AB^2 + B^3) + \\dots].\n",
    "$$\n",
    "\n",
    "Lastly, we will collect the terms as\n",
    "\n",
    "$$\n",
    "%step 6: collect terms\n",
    "e^{A}e^{B} = [I + (A+B) + \\frac{1}{2!}(A+B)^2 + \\frac{1}{3!}(A+B)^3 + \\dots].\n",
    "$$\n",
    "\n",
    "This process can be repeated to show that:\n",
    "\n",
    "$$\n",
    "%step 6: by definintion of the infinte series\n",
    "e^{A}e^{B} = e^{A+B}.\n",
    "$$\n",
    "\n",
    "And since $A+B = B+A \\implies e^{A+B} = e^{B+A}$, we can conclude that $e^Ae^B = e^Be^A$. "
   ]
  },
  {
   "cell_type": "markdown",
   "metadata": {},
   "source": [
    "10.b)\n",
    "\n",
    "We'll use two matrices from physics that are famous, the Pauli spin matrices:\n",
    "\n",
    "$\n",
    "\\sigma_x = \n",
    "\\begin{pmatrix}\n",
    "0 & 1  \\\\\n",
    "1 & 0\n",
    "\\end{pmatrix} \n",
    "$\n",
    "and\n",
    "$\n",
    "\\sigma_z = \n",
    "\\begin{pmatrix}\n",
    "1 & 0  \\\\\n",
    "0 & -1\n",
    "\\end{pmatrix}, \n",
    "$\n",
    "where:\n",
    "$\n",
    "\\sigma_x\\sigma_z = \n",
    "\\begin{pmatrix}\n",
    "0 & -1  \\\\\n",
    "1 & 0\n",
    "\\end{pmatrix} \n",
    "$\n",
    "and\n",
    "$\n",
    "\\sigma_z\\sigma_x = \n",
    "\\begin{pmatrix}\n",
    "0 & 1  \\\\\n",
    "-1 & 0\n",
    "\\end{pmatrix} \n",
    "$."
   ]
  },
  {
   "cell_type": "markdown",
   "metadata": {},
   "source": [
    "Expaning like before we see\n",
    "$$\n",
    "%step 1 FOIL expansion\n",
    "e^{\\sigma_x}e^{\\sigma_z} = [I + (\\sigma_z + \\frac{\\sigma_z^2}{2!} + \\frac{\\sigma_z^3}{3!} + \\dots) + (\\sigma_x + \\frac{\\sigma_x^2}{2!} + \\frac{\\sigma_x^3}{3!} + \\dots) + (\\sigma_x + \\frac{\\sigma_x^2}{2!} + \\frac{\\sigma_x^3}{3!} + \\dots)(\\sigma_z + \\frac{\\sigma_z^2}{2!} + \\frac{\\sigma_z^3}{3!} + \\dots)]\n",
    "$$\n",
    "\n",
    "$$\n",
    "%step 2: group expanded terms\n",
    "e^{\\sigma_x}e^{\\sigma_z} = [I + (\\sigma_z+\\sigma_x) + \\frac{1}{2!}(\\sigma_x^2 + \\sigma_z^2 + \\sigma_x\\sigma_z + \\sigma_z\\sigma_x) + (\\frac{1}{3!}(\\sigma_x^3 + \\sigma_z^3) + \\frac{1}{2!}(\\sigma_x^2\\sigma_z + \\sigma_x\\sigma_z^2)) + \\dots]\n",
    "$$\n",
    "\n",
    "Notice that $2\\sigma_x\\sigma_z  = \n",
    "\\begin{pmatrix}\n",
    "0 & -2  \\\\\n",
    "2 & 0\n",
    "\\end{pmatrix} $\n",
    "but $\\sigma_x\\sigma_z + \\sigma_z\\sigma_x = \\begin{pmatrix}\n",
    "0 & 0  \\\\\n",
    "0 & 0\n",
    "\\end{pmatrix} $. So we can't say $e^{\\sigma_x}e^{\\sigma_z} = e^{\\sigma_x + \\sigma_z}$.\n",
    "\n",
    "Similarly, compare\n",
    "$$\n",
    "%step 1 FOIL expansion\n",
    "e^{\\sigma_z}e^{\\sigma_x} = [I + (\\sigma_x + \\frac{\\sigma_x^2}{2!} + \\frac{\\sigma_x^3}{3!} + \\dots) + (\\sigma_z + \\frac{\\sigma_z^2}{2!} + \\frac{\\sigma_z^3}{3!} + \\dots) + (\\sigma_z + \\frac{\\sigma_z^2}{2!} + \\frac{\\sigma_z^3}{3!} + \\dots)(\\sigma_x + \\frac{\\sigma_x^2}{2!} + \\frac{\\sigma_x^3}{3!} + \\dots)]\n",
    "$$\n",
    "\n",
    "$$\n",
    "%step 2: group expanded terms\n",
    "e^{\\sigma_z}e^{\\sigma_x} = [I + (\\sigma_x+\\sigma_z) + \\frac{1}{2!}(\\sigma_z^2 + \\sigma_x^2 + \\sigma_z\\sigma_x + \\sigma_x\\sigma_z) + (\\frac{1}{3!}(\\sigma_z^3 + \\sigma_x^3) + \\frac{1}{2!}(\\sigma_z^2\\sigma_x + \\sigma_z\\sigma_x^2)) + \\dots]\n",
    "$$\n",
    "\n",
    "Notice that $2\\sigma_z\\sigma_x  = \n",
    "\\begin{pmatrix}\n",
    "0 & 2  \\\\\n",
    "-2 & 0\n",
    "\\end{pmatrix} $\n",
    "but $\\sigma_z\\sigma_x + \\sigma_x\\sigma_z = \\begin{pmatrix}\n",
    "0 & 0  \\\\\n",
    "0 & 0\n",
    "\\end{pmatrix} $.  So we can't say $e^{\\sigma_x + \\sigma_z} = e^{\\sigma_z + \\sigma_x} = e^{\\sigma_z}e^{\\sigma_x}$.\n",
    "\n",
    "Therefore, $e^{\\sigma_x}e^{\\sigma_z} \\neq e^{\\sigma_z}e^{\\sigma_x}$."
   ]
  },
  {
   "cell_type": "code",
   "execution_count": 26,
   "metadata": {},
   "outputs": [
    {
     "name": "stdout",
     "output_type": "stream",
     "text": [
      "False\n"
     ]
    },
    {
     "data": {
      "text/latex": [
       "$$\\left ( \\left[\\begin{matrix}e \\left(\\frac{1}{2 e} + \\frac{e}{2}\\right) & \\frac{1}{e} \\left(- \\frac{1}{2 e} + \\frac{e}{2}\\right)\\\\e \\left(- \\frac{1}{2 e} + \\frac{e}{2}\\right) & \\frac{1}{e} \\left(\\frac{1}{2 e} + \\frac{e}{2}\\right)\\end{matrix}\\right], \\quad \\left[\\begin{matrix}e \\left(\\frac{1}{2 e} + \\frac{e}{2}\\right) & e \\left(- \\frac{1}{2 e} + \\frac{e}{2}\\right)\\\\\\frac{1}{e} \\left(- \\frac{1}{2 e} + \\frac{e}{2}\\right) & \\frac{1}{e} \\left(\\frac{1}{2 e} + \\frac{e}{2}\\right)\\end{matrix}\\right]\\right )$$"
      ],
      "text/plain": [
       "⎛⎡   ⎛ -1    ⎞   ⎛   -1    ⎞    ⎤  ⎡    ⎛ -1    ⎞      ⎛   -1    ⎞⎤⎞\n",
       "⎜⎢   ⎜ℯ     ℯ⎟   ⎜  ℯ     ℯ⎟  -1⎥  ⎢    ⎜ℯ     ℯ⎟      ⎜  ℯ     ℯ⎟⎥⎟\n",
       "⎜⎢ ℯ⋅⎜─── + ─⎟   ⎜- ─── + ─⎟⋅ℯ  ⎥  ⎢  ℯ⋅⎜─── + ─⎟    ℯ⋅⎜- ─── + ─⎟⎥⎟\n",
       "⎜⎢   ⎝ 2    2⎠   ⎝   2    2⎠    ⎥  ⎢    ⎝ 2    2⎠      ⎝   2    2⎠⎥⎟\n",
       "⎜⎢                              ⎥, ⎢                              ⎥⎟\n",
       "⎜⎢  ⎛   -1    ⎞   ⎛ -1    ⎞     ⎥  ⎢⎛   -1    ⎞      ⎛ -1    ⎞    ⎥⎟\n",
       "⎜⎢  ⎜  ℯ     ℯ⎟   ⎜ℯ     ℯ⎟  -1 ⎥  ⎢⎜  ℯ     ℯ⎟  -1  ⎜ℯ     ℯ⎟  -1⎥⎟\n",
       "⎜⎢ℯ⋅⎜- ─── + ─⎟   ⎜─── + ─⎟⋅ℯ   ⎥  ⎢⎜- ─── + ─⎟⋅ℯ    ⎜─── + ─⎟⋅ℯ  ⎥⎟\n",
       "⎝⎣  ⎝   2    2⎠   ⎝ 2    2⎠     ⎦  ⎣⎝   2    2⎠      ⎝ 2    2⎠    ⎦⎠"
      ]
     },
     "execution_count": 26,
     "metadata": {},
     "output_type": "execute_result"
    }
   ],
   "source": [
    "# Let's use sympy to verfiy our reasoning\n",
    "sx = sm.Matrix([[0,1],[1,0]])\n",
    "sz = sm.Matrix([[1,0],[0,-1]])\n",
    "\n",
    "LHS = sm.exp(sx)*sm.exp(sz) \n",
    "RHS = sm.exp(sz)*sm.exp(sx)\n",
    "print(LHS == RHS)\n",
    "\n",
    "LHS, RHS"
   ]
  },
  {
   "cell_type": "markdown",
   "metadata": {
    "colab_type": "text",
    "id": "Su4WKSW6KOdp"
   },
   "source": [
    "### 11. Senators Revisited (10pts)\n",
    "\n",
    "Repeat the clustering of senators by voting habit for the years 1999, 1979 and 1959. Plot them together with the 2019 plot in a grid of plots. Which years seem the most divided? \n",
    "\n",
    "Note you will need to get the data at [https://voteview.com/data](https://voteview.com/data). Choose \"Member's Votes\", \"Senate Only\", the desired year, and CSV file. \n",
    "\n",
    "I had to edit the CSV file (in a text editor or ExCEL) to remove the heading in the first row before loading the file.\n",
    "\n",
    "**Extra credit:** Color the each dot in the plots by whether the senator is a republican (red), democract (blue), or independent (green). This information is not in the data files above, so you'll need to find it elsewhere.\n",
    "[https://voteview.com/articles/data_help_members]\n",
    "\n",
    "$\\textbf{Grading breakdown:}$\n",
    "    \n",
    "    1pt for importing {S085, S095, S105, S115} OR {S086, S096, S106, S116}\n",
    "    2pts for arguing which years seem to be the most divided\n",
    "    2pts for constructing the voting matrices: A\n",
    "    2pts for constructing the voting habit matrices: T\n",
    "    2pts for plotting them together through subplot\n",
    "    1pts for labeling everything\n",
    "    +4pts for doing the extra credit"
   ]
  },
  {
   "cell_type": "markdown",
   "metadata": {},
   "source": [
    "Looking at the graphs, we can conclude that 2019 and 1999 are clearly more divided, because the clusters are more distinct and further apart in the partisan component."
   ]
  },
  {
   "cell_type": "code",
   "execution_count": 3,
   "metadata": {
    "scrolled": true
   },
   "outputs": [],
   "source": [
    "# rollnumber = issue id\n",
    "# icpsr = Integer 1-99999. This is an ID code which identifies the member in question.\n",
    "# cast_code = vote outcome\n",
    "\n",
    "my_dataS085 = np.genfromtxt('S085_votes_data.csv', delimiter=',', dtype=np.int8)\n",
    "my_dataS095 = np.genfromtxt('S095_votes_data.csv', delimiter=',', dtype=np.int8)\n",
    "my_dataS105 = np.genfromtxt('S105_votes_data.csv', delimiter=',', dtype=np.int8)\n",
    "my_dataS115 = np.genfromtxt('S115_votes_data.csv', delimiter=',', dtype=np.int8)"
   ]
  },
  {
   "cell_type": "code",
   "execution_count": 4,
   "metadata": {},
   "outputs": [],
   "source": [
    "def senate_member_votes(data):\n",
    "    '''\n",
    "    Assumes: data is a .csv file of Senate voting data from:   https://voteview.com/data\n",
    "    with the first row deleted. Its columns are:\n",
    "    1) congress  \n",
    "    2) chamber = Senate\n",
    "    3) rollnumber = issue id\n",
    "    4) icpsr = Integer 1-99999. This is an ID code which identifies the member in question.\n",
    "    5) cast_code = vote outcome\n",
    "    6) prob\n",
    "    Returns: Matrix A is nxm where Aij is 1 if member i voted 'yes'; -1 if member i voted 'no', and 0 if they didn't vote\n",
    "    '''\n",
    "    issues = data[:,2] \n",
    "    members = data[:,3]\n",
    "    votes = data[:,4]\n",
    "    \n",
    "    member_ids = np.unique(members)\n",
    "    members = [np.where(member_ids == m)[0][0] for m in members]\n",
    "\n",
    "    yn = [ 0, 1, 1, 1, -1, -1, -1, 0, 0, 0 ]\n",
    "    votes = np.array([yn[v] for v in votes])\n",
    "\n",
    "    A = np.zeros((len(member_ids), max(issues)+1))\n",
    "    for member, issue, vote in zip(members, issues, votes):\n",
    "        A[int(member),int(issue)] = vote\n",
    "        \n",
    "    return A"
   ]
  },
  {
   "cell_type": "code",
   "execution_count": 5,
   "metadata": {
    "colab": {},
    "colab_type": "code",
    "id": "a8PaocsSKOdq"
   },
   "outputs": [],
   "source": [
    "#Make Senate voting matrices for each set of data\n",
    "A_S085 = senate_member_votes(my_dataS085)\n",
    "A_S095 = senate_member_votes(my_dataS095)\n",
    "A_S105 = senate_member_votes(my_dataS105)\n",
    "A_S115 = senate_member_votes(my_dataS115)"
   ]
  },
  {
   "cell_type": "code",
   "execution_count": 6,
   "metadata": {},
   "outputs": [],
   "source": [
    "def calc_PCA(A):\n",
    "    '''\n",
    "    Assumes: A is nxm where Aij is 1 if member i voted 'yes'; -1 if member i voted 'no', and 0 if they didn't vote\n",
    "    Returns: A matrix T, where the  i th row of  T  sums up Senator i's voting habits in two numbers.\n",
    "    '''\n",
    "    X = A - np.mean(A) # Center the data at zero\n",
    "    U, s, VT = scipy.linalg.svd(X) # Singular-value decomposition\n",
    "    Sigma = np.zeros((A.shape[0], A.shape[1])) # create m x n Sigma matrix\n",
    "    Sigma[:A.shape[0], :A.shape[0]] = np.diag(s) # populate Sigma with n x n diagonal matrix\n",
    "    \n",
    "    # select\n",
    "    n_elements = 2\n",
    "    Sigma = Sigma[:, :n_elements]\n",
    "    VT = VT[:n_elements, :]\n",
    "\n",
    "    # reconstruct T\n",
    "    T = U.dot(Sigma)\n",
    "    return T"
   ]
  },
  {
   "cell_type": "code",
   "execution_count": 7,
   "metadata": {},
   "outputs": [],
   "source": [
    "# The  ith row of  T  sums up Senator i's voting habits in two numbers.\n",
    "T_S085 = calc_PCA(A_S085)\n",
    "T_S095 = calc_PCA(A_S095)\n",
    "T_S105 = calc_PCA(A_S105)\n",
    "T_S115 = calc_PCA(A_S115)"
   ]
  },
  {
   "cell_type": "code",
   "execution_count": 9,
   "metadata": {
    "scrolled": true
   },
   "outputs": [
    {
     "data": {
      "image/png": "[encoded data removed]",
      "text/plain": [
       "<matplotlib.figure.Figure at 0x21028990320>"
      ]
     },
     "metadata": {},
     "output_type": "display_data"
    }
   ],
   "source": [
    "fig, ax = plt.subplots(nrows=2, ncols=2, sharex=True, sharey=True, figsize=(10,10))\n",
    "\n",
    "ax[0,0].scatter(T_S085[:,0], T_S085[:,1])\n",
    "ax[0,0].set_title(\"Senators clustered by\\nvoting habits in S085\")\n",
    "ax[0,0].grid('on')\n",
    "ax[0,0].set_ylabel(\"Bipartisan component\")\n",
    "\n",
    "ax[0,1].scatter(T_S095[:,0], T_S095[:,1])\n",
    "ax[0,1].set_title(\"Senators clustered by\\nvoting habits in S095\")\n",
    "ax[0,1].grid('on')\n",
    "\n",
    "ax[1,0].scatter(T_S105[:,0], T_S105[:,1])\n",
    "ax[1,0].set_title(\"Senators clustered by\\nvoting habits in S105\")\n",
    "ax[1,0].grid('on')\n",
    "ax[1,0].set_xlabel(\"Partisan component\")\n",
    "ax[1,0].set_ylabel(\"Bipartisan component\")\n",
    "\n",
    "\n",
    "ax[1,1].scatter(T_S115[:,0], T_S115[:,1])\n",
    "ax[1,1].set_title(\"Senators clustered by\\nvoting habits in S115\")\n",
    "ax[1,1].grid('on')\n",
    "ax[1,1].set_xlabel(\"Partisan component\")\n",
    "\n",
    "plt.show()"
   ]
  },
  {
   "cell_type": "code",
   "execution_count": null,
   "metadata": {},
   "outputs": [],
   "source": []
  }
 ],
 "metadata": {
  "colab": {
   "name": "HW_04_LinearAlgebra_Due_10_30.ipynb",
   "provenance": []
  },
  "kernelspec": {
   "display_name": "Python 3",
   "language": "python",
   "name": "python3"
  },
  "language_info": {
   "codemirror_mode": {
    "name": "ipython",
    "version": 3
   },
   "file_extension": ".py",
   "mimetype": "text/x-python",
   "name": "python",
   "nbconvert_exporter": "python",
   "pygments_lexer": "ipython3",
   "version": "3.7.4"
  }
 },
 "nbformat": 4,
 "nbformat_minor": 1
}
