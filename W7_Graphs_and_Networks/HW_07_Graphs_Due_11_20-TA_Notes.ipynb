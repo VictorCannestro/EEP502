{
 "cells": [
  {
   "cell_type": "markdown",
   "metadata": {
    "ExecuteTime": {
     "end_time": "2019-09-24T16:05:23.746666Z",
     "start_time": "2019-09-24T16:05:23.741461Z"
    },
    "colab_type": "text",
    "id": "sQQuEhGXlVZ8"
   },
   "source": [
    "<span style=\"color: orange\">DRAFT: WILL BE FINALIZED BY FRIDAY. PROBABLY ONLY SMALL CHANGES IF ANY.</span>\n",
    "\n",
    "## EE 502 P: Analytical Methods for Electrical Engineering\n",
    "    \n",
    "# Homework 7: Graphs and Networks\n",
    "## Due 20 November, 2019 at 6:00 PM\n",
    "### <span style=\"color: red\">YOUR NAME HERE</span>\n",
    "\n",
    "Copyright &copy; 2019, University of Washington\n",
    "\n",
    "<hr>\n",
    "\n",
    "**Instructions**: Use this notebook as a template. Answer all questions using well formatted Markdown with embedded LaTeX equations, executable Jupyter cells, or both. Submit your homework solutions as an `.ipynb` file via Canvas.\n",
    "\n",
    "<span style=\"background: yellow; padding: 6px; border: 1pt solid black\">\n",
    "Although you may discuss the homework with others, you must turn in your own, original work.\n",
    "</span>\n",
    "\n",
    "**Things to remember:**\n",
    "- Use complete sentences. Equations should appear in text as grammatical elements.\n",
    "- Comment your code.\n",
    "- Label your axes. Title your plots. Use legends where appropriate. \n",
    "- Before submitting a notebook, choose Kernel -> Restart and Run All to make sure your notebook runs when the cells are evaluated in order. \n",
    "\n",
    "Note : Late homework will be accepted up to one week after the due date and will be worth 50% of its full credit score. "
   ]
  },
  {
   "cell_type": "markdown",
   "metadata": {
    "colab_type": "text",
    "id": "m2VHY-BWlVZ_"
   },
   "source": [
    "### 0. Warmup (Do not turn in)\n",
    "\n",
    "- Make sure you get download, read, and run the notebook for lecture 4. Work through the notebook cell by cell and see what happens when you change the expressions, and make up some of your own.\n",
    "- The material covered in class is intended to be an introductory overview of the incredibly rich and expansive subject of Graph Theory.\n",
    "- Most of the section on basic graph theory is from chapter one of\n",
    "\n",
    "> Bollobas, [Modern Graph Theory](https://www.springer.com/gp/book/9780387984889).\n",
    "\n",
    "- The spanning tree algorithm by Prim is from \n",
    "\n",
    "> Gibbons, [Algorithmic Graph Theory](https://www.amazon.com/Algorithmic-Graph-Theory-Alan-Gibbons/dp/0521288819). \n",
    "\n",
    "- Graphs as matrices is covered in \n",
    "\n",
    "> Nica, [A Brief Introduction to Spectral Graph Theory](https://www.amazon.com/Introduction-Spectral-Theory-Textbooks-Mathematics/dp/3037191880/ref=sr_1_2?crid=3ETRQ8B0PW4EJ&keywords=spectral+graph+theory&qid=1573687537&s=books&sprefix=spectral+graph%2Cstripbooks%2C195&sr=1-2).\n",
    "\n",
    "The consensus algorithm is described in [these notes](http://www.eeci-institute.eu/pdf/M010/Eeci-sp09_L4_graphtheory.pdf) by Richard Murray."
   ]
  },
  {
   "cell_type": "code",
   "execution_count": 90,
   "metadata": {},
   "outputs": [],
   "source": [
    "import networkx as nx\n",
    "import math\n",
    "import scipy\n",
    "import scipy.integrate as spi\n",
    "import numpy as np\n",
    "import sympy as sm\n",
    "sm.init_printing(use_latex='mathjax')\n",
    "import matplotlib.pyplot as plt\n",
    "import itertools\n",
    "import random\n",
    "%matplotlib inline"
   ]
  },
  {
   "cell_type": "markdown",
   "metadata": {
    "colab_type": "text",
    "id": "n0XRmbL2lVaA"
   },
   "source": [
    "### 1. Creating a Graph\n",
    "\n",
    "Let $V = \\{ 1 ... 20 \\}$ be the set of nodes and say that an edge $uv \\in E$ (where $E$ is the set of edges) if and only if $u$ and $v$ have a common factor other than $1$. Use `networkx` to define this graph and render it. Make sure to label the nodes."
   ]
  },
  {
   "cell_type": "code",
   "execution_count": 75,
   "metadata": {
    "scrolled": true
   },
   "outputs": [
    {
     "ename": "SyntaxError",
     "evalue": "invalid syntax (<ipython-input-75-dd2b93288af2>, line 13)",
     "output_type": "error",
     "traceback": [
      "\u001b[1;36m  File \u001b[1;32m\"<ipython-input-75-dd2b93288af2>\"\u001b[1;36m, line \u001b[1;32m13\u001b[0m\n\u001b[1;33m    if # math.gcd(inputs) not equal to 1\u001b[0m\n\u001b[1;37m                                        ^\u001b[0m\n\u001b[1;31mSyntaxError\u001b[0m\u001b[1;31m:\u001b[0m invalid syntax\n"
     ]
    }
   ],
   "source": [
    "'''uv in E iff  u  and  v  have a common factor other than  1 (i.e. u,v not coprime)'''\n",
    "# Undirected Graph\n",
    "G = nx.Graph()\n",
    "G.add_nodes_from(range(1,21)) # V: 20 nodes\n",
    "\n",
    "# Finds the greatest common factor of 2 input numbers a,b\n",
    "print(math.gcd(4,12))\n",
    "\n",
    "# Here is a possible implementation\n",
    "mylist = [] # fill this up with edges u,v iff u,v not coprime\n",
    "for u in range(1,21): # possible u node in V\n",
    "    for v in range(1,21): # possible v node in V\n",
    "        if # math.gcd(inputs) not equal to 1\n",
    "            mylist.append((u,v))# append them to mylist\n",
    "        \n",
    "\n",
    "G.add_edges_from(mylist) # V: fill out 20 nodes\n",
    "\n",
    "basic_graph,ax = plt.subplots(1,1)\n",
    "nx.draw(G, ax=ax, pos=nx.kamada_kawai_layout(G),with_labels=True, node_color='indigo',font_color=\"white\")"
   ]
  },
  {
   "cell_type": "markdown",
   "metadata": {
    "colab_type": "text",
    "id": "HlM_HpuOlVaE"
   },
   "source": [
    "### 2. Isomorphism\n",
    "\n",
    "Draw all graphs with four nodes and four edges, up to isomorphism."
   ]
  },
  {
   "cell_type": "markdown",
   "metadata": {},
   "source": [
    "2)\n",
    "\n",
    "We will assume simple graphs. If $|V|=4$ and we don't restrict the number of edges, then there are $11$ possible, unique configurations. The max number of possible edges is $\\binom{|V|}{2}= \\binom{4}{2} = 6.$ We can write this in python via: \n",
    "\n",
    "`from scipy.special import comb\n",
    "comb(4,2)` \n",
    "\n",
    "- http://www.graphclasses.org/smallgraphs.html#nodes4\n",
    "\n",
    "- https://www.math3ma.com/blog/up-to-isomorphism\n",
    "\n",
    "- https://www.wikiwand.com/en/Graph_isomorphism"
   ]
  },
  {
   "cell_type": "code",
   "execution_count": 76,
   "metadata": {},
   "outputs": [
    {
     "name": "stderr",
     "output_type": "stream",
     "text": [
      "C:\\Users\\victo\\Anaconda\\lib\\site-packages\\networkx\\drawing\\nx_pylab.py:579: MatplotlibDeprecationWarning: \n",
      "The iterable function was deprecated in Matplotlib 3.1 and will be removed in 3.3. Use np.iterable instead.\n",
      "  if not cb.iterable(width):\n"
     ]
    },
    {
     "data": {
      "image/png": "[encoded data removed]",
      "text/plain": [
       "<Figure size 432x288 with 1 Axes>"
      ]
     },
     "metadata": {},
     "output_type": "display_data"
    }
   ],
   "source": [
    "G1 = nx.Graph()\n",
    "G1.add_nodes_from(range(1,5)) # V: 4 nodes\n",
    "G1.add_edges_from([(3,2),(1,3),(1,4),(4,2)]) # 4 Edges\n",
    "basic_graph,ax = plt.subplots(1,1)\n",
    "nx.draw(G1, ax=ax, pos=nx.kamada_kawai_layout(G1),with_labels=True, node_color='#444444',font_color=\"white\")"
   ]
  },
  {
   "cell_type": "markdown",
   "metadata": {
    "colab_type": "text",
    "id": "lg_uwgJQlVaG"
   },
   "source": [
    "### 3. Bipartite Graphs\n",
    "\n",
    "a) What is the greatest number of edges a connected bipartite graph with $5$ nodes can have? Draw all, five node graphs with this number of edges up to isomorphism.\n",
    "\n",
    "b) What is the least number of edges a connected bipartite graph with $5$ nodes can have? Draw all, five node graphs with this number of edges up to isomorphism."
   ]
  },
  {
   "cell_type": "markdown",
   "metadata": {},
   "source": [
    "Recall that given an undirected graph, $G=(V,E)$, a **path** from node $u$ to a distinct node $v$ is an alternating sequence of nodes and edges that:\n",
    "\n",
    "   - Begins at $u$, \n",
    "\n",
    "   - Ends at $v$, and\n",
    "\n",
    "   - No vertex is repeated, (i.e, each vertex is visited at most once). \n",
    "   \n",
    "Note that the length of a path is the number of edges in it.\n",
    "\n",
    "Let $G$ be an undirected graph and let $S \\subseteq V$. We say that $S$ is a **connected component** (also often called a strongly connected component) $\\iff$ the following hold:\n",
    "\n",
    "   - **Reachability**: the condition $P(S)$ holds.\n",
    "   \n",
    "   $P(S):$ for any two vertices $u,v \\in S$, if $u \\neq v$ then there is a path in $G$ from $u$ to $v,$ and the path involves only those vertices that appear in $S$ (in other words, we cannot have the path use a vertex outside the set $S$).\n",
    "\n",
    "\n",
    "   - **Maximality**: for any $v\\in V - S$, the condition $P(S\\cup \\{v\\})$ does not hold. (i.e. Adding any other vertex to the set stops it from being a connected component.)\n",
    "\n",
    "A **connected bipartite graph** satisfies the following:\n",
    "\n",
    "   * Nodes can be divided into two disjoint sets $U$ and $V$ (i.e. $U$ and $V$ are each independent sets) such that every edge in the graph connects a node in $U$ to a node in $V$.\n",
    "\n",
    "   * There is a path between every pair of nodes, regardless of the set that they are in. However, there can be no edges between vertices within $U$ or no edges between vertices within $V$."
   ]
  },
  {
   "cell_type": "markdown",
   "metadata": {},
   "source": [
    "3.a)\n",
    "\n",
    "The greatest number of edges a connected bipartite graph with 5 nodes can have is ____."
   ]
  },
  {
   "cell_type": "markdown",
   "metadata": {},
   "source": [
    "3.b)\n",
    "\n",
    "The least number of edges a connected bipartite graph with 5 nodes can have is ____."
   ]
  },
  {
   "cell_type": "code",
   "execution_count": 3,
   "metadata": {},
   "outputs": [
    {
     "name": "stdout",
     "output_type": "stream",
     "text": [
      "Is Gs[0] bipartite:  True\n",
      "Is Gs[1] bipartite:  True\n",
      "Is Gs[2] bipartite:  False\n",
      "Is Gs[3] bipartite:  True\n"
     ]
    }
   ],
   "source": [
    "# Create some graphs that may or may not be bipartite\n",
    "G2 = nx.Graph(); \n",
    "G2.add_nodes_from((list(range(1,3))), bipartite=0); # The bipartite set U\n",
    "G2.add_nodes_from(['a','b','c'], bipartite=1); # The bipartite set V\n",
    "G2.add_edges_from([(1,'a'),(1,'b'),(1,'c'),(2,'b')]) \n",
    "\n",
    "G3 = nx.Graph(); G3.add_nodes_from(list(range(1,3)),bipartite=0); G3.add_nodes_from(['a','b','c'],bipartite=1); \n",
    "G3.add_edges_from([(2,'a'),(2,'b'),(2,'c'),(1,'b')]) \n",
    "\n",
    "G4 = nx.Graph(); G4.add_nodes_from(list(range(1,3)),bipartite=0); G4.add_nodes_from(['a','b','c'],bipartite=1); \n",
    "G4.add_edges_from([(2,'a'),(2,'b'),(2,'c'),(1,'b'),(1,2)])\n",
    "\n",
    "G5 = nx.Graph(); \n",
    "G5.add_nodes_from(list(range(1,6)))\n",
    "G5.add_edges_from([(1,2)])\n",
    "\n",
    "Gs = [G2,G3,G4,G5]\n",
    "\n",
    "# Double check if bipartite\n",
    "for i,v in enumerate(Gs):\n",
    "    print('Is Gs['+str(i)+'] bipartite: ' ,nx.is_bipartite(v))"
   ]
  },
  {
   "cell_type": "code",
   "execution_count": 44,
   "metadata": {},
   "outputs": [
    {
     "data": {
      "text/plain": [
       "['r', 'r', 'b', 'b', 'b']"
      ]
     },
     "execution_count": 44,
     "metadata": {},
     "output_type": "execute_result"
    }
   ],
   "source": [
    "['r']*2 + ['b']*3"
   ]
  },
  {
   "cell_type": "code",
   "execution_count": 4,
   "metadata": {
    "scrolled": false
   },
   "outputs": [
    {
     "name": "stderr",
     "output_type": "stream",
     "text": [
      "C:\\Users\\victo\\Anaconda\\lib\\site-packages\\networkx\\drawing\\nx_pylab.py:579: MatplotlibDeprecationWarning: \n",
      "The iterable function was deprecated in Matplotlib 3.1 and will be removed in 3.3. Use np.iterable instead.\n",
      "  if not cb.iterable(width):\n"
     ]
    },
    {
     "data": {
      "image/png": "[encoded data removed]",
      "text/plain": [
       "<Figure size 1224x216 with 2 Axes>"
      ]
     },
     "metadata": {},
     "output_type": "display_data"
    }
   ],
   "source": [
    "nc = ['r']*2 + ['b']*3\n",
    "\n",
    "# Plot the graphs\n",
    "basic_graph,ax = plt.subplots(1,2,figsize=(17,3))\n",
    "plt.subplots_adjust(wspace=0.5) \n",
    "\n",
    "nx.draw(G2, ax=ax[0], with_labels=True, pos=nx.bipartite_layout(G2,[1,2]), node_color=nc, font_color=\"white\")\n",
    "nx.draw(G3, ax=ax[1], with_labels=True, pos=nx.bipartite_layout(G3,[1,2]), node_color=nc, font_color=\"white\")"
   ]
  },
  {
   "cell_type": "code",
   "execution_count": 33,
   "metadata": {},
   "outputs": [
    {
     "name": "stdout",
     "output_type": "stream",
     "text": [
      "(0, 1) True\n",
      "(0, 2) False\n",
      "(0, 3) False\n",
      "(1, 2) False\n",
      "(1, 3) False\n",
      "(2, 3) False\n"
     ]
    }
   ],
   "source": [
    "# Check for isomorphisms in the list of Gs\n",
    "def test4Iso(Gs):\n",
    "    '''\n",
    "    Assumes Gs is a list of graphs with the same # of nodes\n",
    "    Prints out tuples of the indices of Gi,Gj and whether or not Gi is isomorphic to Gj\n",
    "    '''\n",
    "    nums = itertools.combinations(range(len(Gs)),2)\n",
    "    comb = itertools.combinations(Gs,2)\n",
    "\n",
    "    for i,v in zip(nums,comb): \n",
    "        print(i,nx.is_isomorphic(v[0],v[1]))\n",
    "\n",
    "test4Iso(Gs)"
   ]
  },
  {
   "cell_type": "markdown",
   "metadata": {},
   "source": [
    "Good resources:\n",
    "\n",
    "- https://www.cs.colorado.edu/~yuvo9296/courses/csci2824/sect33-graphs2.html\n",
    "- https://www.whitman.edu/mathematics/cgt_online/book/chapter05.html\n",
    "- https://math.stackexchange.com/questions/457042/prove-that-a-connected-graph-with-n-vertices-has-at-least-n-1-edges\n",
    "- https://math.stackexchange.com/questions/1098587/maximum-number-of-edges-in-a-bipartite-graph\n",
    "- https://www.quora.com/How-do-I-prove-that-the-minimum-number-of-edges-in-a-connected-graph-with-n-vertices-is-n-1"
   ]
  },
  {
   "cell_type": "markdown",
   "metadata": {
    "colab_type": "text",
    "id": "iJYphHwtlVaH"
   },
   "source": [
    "### 4. Cycles\n",
    "\n",
    "a) Define and draw a graph that decomposes into three non-overlapping cycles and whose maximal degree is $4$. "
   ]
  },
  {
   "cell_type": "code",
   "execution_count": null,
   "metadata": {},
   "outputs": [],
   "source": [
    "# Cycles have nodes 0...n-1 and edges (i,i+1 mod n) for 0<=i<=n-1. \n",
    "\n",
    "# Play around with different configurations\n"
   ]
  },
  {
   "cell_type": "markdown",
   "metadata": {
    "colab_type": "text",
    "id": "HPqtRCJYlVaI"
   },
   "source": [
    "### 5. Hamiltonian Circuits\n",
    "\n",
    "Consider the set of square grid graphs like those returned by the function `nx.grid_graph(dim=[n,n])` where $n>0$. Show that these graphs always have a Hamilton Circuit when $n$ is even. Use networkx to draw the square grid graph for $n=6$, highlighting a Hamilton cycle. "
   ]
  },
  {
   "cell_type": "markdown",
   "metadata": {},
   "source": [
    "Recall that a circuit that uses every vertex in a graph exactly once is called a **Hamilton circuit**.\n",
    "\n",
    "In the case of a $n\\times n$ grid we can alway construct a Hamilton Circuit if $n$ is even, but if $n$ is odd the best we can do is construct a Hamilton Path (one such example is a spiral starting from the center point).\n"
   ]
  },
  {
   "cell_type": "markdown",
   "metadata": {},
   "source": [
    "Good resources:\n",
    "- https://courses.lumenlearning.com/math4liberalarts/chapter/introduction-euler-paths/"
   ]
  },
  {
   "cell_type": "code",
   "execution_count": null,
   "metadata": {},
   "outputs": [],
   "source": [
    "def route_graph(route):\n",
    "    \"\"\"Turns a list into a graph\"\"\"\n",
    "    R = nx.Graph()\n",
    "    R.add_nodes_from(route)\n",
    "    for i in range(len(route)-1):\n",
    "        R.add_edge(route[i], route[i+1])\n",
    "    return R\n",
    "\n",
    "# 1.) Add a route = [(0,0),(0,1)...(0,5),(1,5)...] This IS the Hamilton Circuit\n",
    "# 2.) Convert route to graph using the function\n",
    "# 3.) Go to the part of the lecture notes where an orange route is made\n",
    "# 4.) Draw the graph"
   ]
  },
  {
   "cell_type": "markdown",
   "metadata": {
    "colab_type": "text",
    "id": "wl_8Oc5WlVaJ"
   },
   "source": [
    "### 6. Spanning Trees and Hamilton Paths\n",
    "\n",
    "In the spanning tree algorithm presented in class (and in the Jupyter notebook for this week), the spanning tree algorithm always starts with node zero. Furthermore, it always chooses the first neighbor of $v$ (in the `v.pop()` line). Thus, when the approximate Hamilton Cycle algorithm finds a spanning tree, it always gets the same one. \n",
    "\n",
    "**Modify the spanning tree function to choose a random starting point and a random neighbor. Then write a wrapper around the code for the approximate Hamilton Cycle algorithm that runs it 10 times and returns the shortest cycle found.**"
   ]
  },
  {
   "cell_type": "code",
   "execution_count": 58,
   "metadata": {},
   "outputs": [
    {
     "name": "stdout",
     "output_type": "stream",
     "text": [
      "1\n",
      "{2, 3, 4, 5}\n",
      "2\n",
      "{3, 4, 5}\n",
      "3\n",
      "{4, 5}\n",
      "4\n",
      "{5}\n",
      "5\n",
      "set()\n"
     ]
    },
    {
     "data": {
      "text/latex": [
       "$\\displaystyle \\left\\{\\right\\}$"
      ],
      "text/plain": [
       "set()"
      ]
     },
     "execution_count": 58,
     "metadata": {},
     "output_type": "execute_result"
    }
   ],
   "source": [
    "# OLD WAY\n",
    "\n",
    "mylist = set(mylist)\n",
    "for i in range(len(mylist)):\n",
    "    print(mylist.pop()) # old method. Notice how it always starts from the beginning!\n",
    "    print(mylist)\n",
    "mylist    "
   ]
  },
  {
   "cell_type": "markdown",
   "metadata": {},
   "source": [
    "Correction! .pop() in Python 3.8 does **NOT** return a random element! "
   ]
  },
  {
   "cell_type": "code",
   "execution_count": 74,
   "metadata": {
    "scrolled": false
   },
   "outputs": [
    {
     "name": "stdout",
     "output_type": "stream",
     "text": [
      "s= {1, 3, 4, 5} and temp - s= {2}\n",
      "s= {1, 3, 5} and temp - s= {2, 4}\n",
      "s= {3, 5} and temp - s= {1, 2, 4}\n",
      "s= {5} and temp - s= {1, 2, 3, 4}\n",
      "s= set() and temp - s= {1, 2, 3, 4, 5}\n"
     ]
    }
   ],
   "source": [
    "s = {1,2,3,4,5}\n",
    "temp = {1,2,3,4,5}\n",
    "for j in range(len(s)):\n",
    "    s.remove(random.sample(s, 1)[0]) # This is what we want\n",
    "    print('s=',s,'and temp - s=', temp - s)"
   ]
  },
  {
   "cell_type": "code",
   "execution_count": 91,
   "metadata": {},
   "outputs": [
    {
     "name": "stdout",
     "output_type": "stream",
     "text": [
      "{3}\n",
      "{1, 2}\n",
      "{1}\n",
      "{2}\n"
     ]
    }
   ],
   "source": [
    "import copy\n",
    "\n",
    "# One possible method. Note that it is using the G1 from problem #2\n",
    "\n",
    "for u in V:\n",
    "    nbrs = set(G1.neighbors(u)) - V\n",
    "    print(nbrs)\n",
    "    if len(nbrs) > 0:\n",
    "        temp = copy.deepcopy(nbrs) # Makes a true copy. This is necessary here. \n",
    "        nbrs.remove(random.sample(nbrs, 1)[0]) # removes a random element from nbrs\n",
    "        print(nbrs)\n",
    "        print(temp - nbrs)\n",
    "        v = # temp - nbrs = the set of the element that was removed and .pop() removes and returns it \n",
    "        break"
   ]
  },
  {
   "cell_type": "code",
   "execution_count": 15,
   "metadata": {},
   "outputs": [],
   "source": [
    "def spanning_tree(G): # Function from class\n",
    "    \n",
    "    \"\"\"Returns a spanning tree of the graph G if one exists, otherwise\n",
    "       raises an exception.\"\"\"\n",
    "    myrand\n",
    "    # Initialize\n",
    "    V = {list(G.nodes)[0]}  # <----------- INITIALIZE RANDOM STARTING POINT HERE\n",
    "    E = set({})\n",
    "    \n",
    "    while len(V) < len(G.nodes):\n",
    "\n",
    "        # find a node u in V that has a neighbor v in notV\n",
    "        v = None\n",
    "        for u in V:\n",
    "            nbrs = set(G.neighbors(u)) - V\n",
    "            if len(nbrs) > 0:\n",
    "                v = nbrs.pop()  # <-----------  Change this as well.\n",
    "                break\n",
    "        \n",
    "        # If no v is found, then return an exception\n",
    "        if v == None:\n",
    "            raise Exception(\"Graph is not connected\")\n",
    "        \n",
    "        # Add that node to V\n",
    "        V.add(v)\n",
    "        \n",
    "        # Add the edge uv to E\n",
    "        E.add((u,v))\n",
    "        \n",
    "    # Build the graph\n",
    "    T = nx.Graph()\n",
    "    T.add_nodes_from(V)\n",
    "    T.add_edges_from(E)\n",
    "    \n",
    "    return T"
   ]
  },
  {
   "cell_type": "code",
   "execution_count": 9,
   "metadata": {},
   "outputs": [
    {
     "data": {
      "text/latex": [
       "$\\displaystyle 5$"
      ],
      "text/plain": [
       "5"
      ]
     },
     "execution_count": 9,
     "metadata": {},
     "output_type": "execute_result"
    }
   ],
   "source": [
    "# Construct a random graph to test  HAMILTON CIRCUIT algorithms\n",
    "n = 10\n",
    "G = nx.fast_gnp_random_graph(n,0.75) "
   ]
  },
  {
   "cell_type": "markdown",
   "metadata": {},
   "source": [
    "Next, we take the follwing code given in the lecture and put it in another cell. We actually don't have to modify this, we're just applying it."
   ]
  },
  {
   "cell_type": "code",
   "execution_count": 21,
   "metadata": {},
   "outputs": [],
   "source": [
    "# Suroutines for for finding approximate HAMILTON CYCLE\n",
    "\n",
    "# Global variable for storing the nodes visited during depth first search\n",
    "route = []\n",
    "\n",
    "def DFS(T):\n",
    "    \"\"\"Given a tree T, do a depth first search starting\n",
    "       with the first node. Returns a list of nodes visited,\n",
    "       including repeats of nodes revisited when backtracking.\"\"\"\n",
    "    global route\n",
    "    route = []\n",
    "    for v in T.nodes:\n",
    "        T.nodes[v][\"visited\"] = False;\n",
    "    v = list(T.nodes)[0]\n",
    "    DFS_aux(T,v)\n",
    "    return route\n",
    "\n",
    "def DFS_aux(T,v):\n",
    "    \"\"\"Auxilliary method for depth first search\"\"\"\n",
    "    global route\n",
    "    route.append(v)\n",
    "    T.nodes[v][\"visited\"] = True\n",
    "    children = [u for u in T.neighbors(v) if not T.nodes[u][\"visited\"]]\n",
    "    for child in children:\n",
    "        DFS_aux(T,child)\n",
    "        route.append(v)\n",
    "\n",
    "def shorten(G,route):\n",
    "    \"\"\"Given a graph G and a route, shorten the route as much\n",
    "       as possible.\"\"\"\n",
    "    new_route = shorten_by_one(G,route)\n",
    "    while len(new_route) < len(route):\n",
    "        route = new_route\n",
    "        new_route = shorten_by_one(G,route)\n",
    "    return new_route\n",
    "        \n",
    "def shorten_by_one(G,route):\n",
    "    \"\"\"Given a graph G and a sequence of nodes in route, try to find a \n",
    "       repeated node that can be skipped. Return the new route if such a \n",
    "       node can be found, or the given route if not.\"\"\"\n",
    "    repeats = [v for v in route[1:-1] if route.count(v) > 1]\n",
    "    random.shuffle(repeats) # avoids always picking 0\n",
    "    for r in repeats:\n",
    "        for i,v in enumerate(route):\n",
    "            if route[i] == r and i != 0 and i != len(route) - 1:\n",
    "                x,y = route[i-1], route[i+1]\n",
    "                if G.has_edge(x,y):\n",
    "                    return route[0:i] + route[i+1:]\n",
    "    return route\n",
    "\n",
    "def route_graph(route):\n",
    "    \"\"\"Turns a list into a graph\"\"\"\n",
    "    R = nx.Graph()\n",
    "    R.add_nodes_from(route)\n",
    "    for i in range(len(route)-1):\n",
    "        R.add_edge(route[i], route[i+1])\n",
    "    return R"
   ]
  },
  {
   "cell_type": "code",
   "execution_count": null,
   "metadata": {},
   "outputs": [],
   "source": [
    "# n = \n",
    "# G = fast random graph\n",
    "\n",
    "def myWrapper(G):\n",
    "    '''\n",
    "    Assumes G is a graph.\n",
    "    Returns the shortest approximate Hamilton Cycle found\n",
    "    '''\n",
    "    shortest = 80 # A guess that purposely way too big\n",
    "    myR = 'bananas'\n",
    "    for i in range(10):\n",
    "        # 1.) Put Eric's code here \n",
    "        \n",
    "        # 2.) update the shortest when found\n",
    "        if len(route)-1 < shortest:\n",
    "            # update shortest\n",
    "            \n",
    "            # 3.) update myR\n",
    "    \n",
    "    return myR"
   ]
  },
  {
   "cell_type": "markdown",
   "metadata": {
    "colab_type": "text",
    "id": "eF1yP3CnlVaL"
   },
   "source": [
    "### 7. The Laplacian\n",
    "\n",
    "Consider the random graphs returned by `nx.fast_gnp_random_graph(n,p)` where $n$ is the number of nodes and $p$ is the probability of an edge between any two nodes. \n",
    "\n",
    "Make a list of graphs with $10$ nodes with $p$ ranging from 0 to 1 by steps of 0.01. For each graph, compute the eigenvalues of the Laplacian. Then plot all the eigenvalues against $p$. For example, above $p=0.01$ you would have a point for each of the 10 real eigenvalues of the graph you made with $p=0.01$. \n",
    "\n",
    "Q1: What trends do you see in the eigenvalues?\n",
    "\n",
    "Q2: Based on experimentation, what are the eigenvalues of the Laplacian of a completely connected graph?"
   ]
  },
  {
   "cell_type": "code",
   "execution_count": 18,
   "metadata": {},
   "outputs": [
    {
     "name": "stdout",
     "output_type": "stream",
     "text": [
      "2 component(s)\n"
     ]
    }
   ],
   "source": [
    "# The networkx library can be used to get the Laplacian of a graph\n",
    "n,p = 10, 0.25 #np.linspace(...)\n",
    "G = nx.fast_gnp_random_graph(n,p)\n",
    "print(\"%d component(s)\" % nx.number_connected_components(G)) # if > 1 then not a complete graph\n",
    "L = nx.laplacian_matrix(G).todense() # We have to make this change todense() because its a sparse matrix opbject\n",
    "\n",
    "# Changes:\n",
    "# 1.) create p ranging from 0,1 in 0.01 steps\n",
    "# 2.) Put code into a for loop that runs for each different p value\n",
    "# 3.) Calculate the Laplacian at the ith p value\n",
    "# 4.) Calculate the eigenvalues of the Laplacian at the ith p value\n",
    "# 5.) Plot all 10 eigenvalues for the ith p value on the same graph as the others "
   ]
  },
  {
   "cell_type": "code",
   "execution_count": 22,
   "metadata": {
    "scrolled": true
   },
   "outputs": [
    {
     "data": {
      "image/png": "[encoded data removed]",
      "text/plain": [
       "<Figure size 432x288 with 1 Axes>"
      ]
     },
     "metadata": {
      "needs_background": "light"
     },
     "output_type": "display_data"
    }
   ],
   "source": [
    "# This is from the lecture. We'll need to make some modifications\n",
    "\n",
    "# Checking that all the eigenvalues are non-neagitve\n",
    "eigs = np.linalg.eigvals(L)\n",
    "plt.plot(np.sort(eigs),'o') # This just plots y values. We need to add x values\n",
    "plt.title(\"Eigenvalues of Laplacian of Random Matrix P=0.25\")\n",
    "plt.xlabel('index')\n",
    "plt.ylabel('Eigenvalues')\n",
    "plt.show()"
   ]
  },
  {
   "cell_type": "markdown",
   "metadata": {
    "colab": {},
    "colab_type": "code",
    "id": "5105RZWDlVaN"
   },
   "source": [
    "https://ocw.mit.edu/courses/mathematics/18-409-topics-in-theoretical-computer-science-an-algorithmists-toolkit-fall-2009/lecture-notes/MIT18_409F09_scribe2.pdf"
   ]
  },
  {
   "cell_type": "code",
   "execution_count": 12,
   "metadata": {
    "scrolled": false
   },
   "outputs": [
    {
     "data": {
      "image/png": "[encoded data removed]",
      "text/plain": [
       "<Figure size 1080x432 with 1 Axes>"
      ]
     },
     "metadata": {
      "needs_background": "light"
     },
     "output_type": "display_data"
    }
   ],
   "source": [
    "# Example using only one value of p\n",
    "\n",
    "n = 10\n",
    "newp = np.linspace(0,1,101)\n",
    "\n",
    "fig, ax = plt.subplots(1,1, figsize=(15,6))\n",
    "\n",
    "i = 15\n",
    "G = nx.fast_gnp_random_graph(n,newp[i])\n",
    "L = nx.laplacian_matrix(G).todense()\n",
    "eigs = np.linalg.eigvals(L)\n",
    "\n",
    "# Plotting parameters\n",
    "xs = newp[i] * np.ones_like(eigs)\n",
    "ys = np.sort(eigs)\n",
    "     \n",
    "ax.plot(xs,ys,'o')\n",
    "plt.show()"
   ]
  },
  {
   "cell_type": "code",
   "execution_count": null,
   "metadata": {},
   "outputs": [],
   "source": []
  }
 ],
 "metadata": {
  "colab": {
   "name": "HW_07_Graphs_Due_11_20.ipynb",
   "provenance": []
  },
  "kernelspec": {
   "display_name": "Python 3",
   "language": "python",
   "name": "python3"
  },
  "language_info": {
   "codemirror_mode": {
    "name": "ipython",
    "version": 3
   },
   "file_extension": ".py",
   "mimetype": "text/x-python",
   "name": "python",
   "nbconvert_exporter": "python",
   "pygments_lexer": "ipython3",
   "version": "3.7.4"
  }
 },
 "nbformat": 4,
 "nbformat_minor": 1
}
