{
 "cells": [
  {
   "cell_type": "markdown",
   "metadata": {
    "ExecuteTime": {
     "end_time": "2019-09-24T16:05:23.746666Z",
     "start_time": "2019-09-24T16:05:23.741461Z"
    },
    "colab_type": "text",
    "id": "5c1DEWQ5KBFS"
   },
   "source": [
    "## EE 502 P: Analytical Methods for Electrical Engineering\n",
    "    \n",
    "# Homework 2: Sets, functions, and relations\n",
    "## Due 9 October, 2019 at 6:00 PM\n",
    "### <span style=\"color: red\">YOUR NAME HERE</span>\n",
    "\n",
    "Copyright &copy; 2019, University of Washington\n",
    "\n",
    "<hr>\n",
    "\n",
    "**Instructions**: Use this notebook as a template. Answer all questions using well formatted Markdown with embedded LaTeX equations, executable Jupyter cells, or both. Submit your homework solutions as an `.ipynb` file via Canvas.\n",
    "\n",
    "<span style=\"background: yellow; padding: 6px; border: 1pt solid black\">\n",
    "Although you may discuss the homework with others, you must turn in your own, original work.\n",
    "</span>\n",
    "\n",
    "**Things to remember:**\n",
    "- Use complete sentences. Equations should appear in text as grammatical elements.\n",
    "- Comment your code.\n",
    "- Label your axes. Title your plots. Use legends where appropriate. \n",
    "- Before submitting a notebook, choose Kernel -> Restart and Run All to make sure your notebook runs when the cells are evaluated in order. \n",
    "\n",
    "Note : Late homework will be accepted up to one week after the due date and will be worth 50% of its full credit score. "
   ]
  },
  {
   "cell_type": "markdown",
   "metadata": {
    "colab_type": "text",
    "id": "YiGNIVXXKBFV"
   },
   "source": [
    "### 0. Warmup (Do not turn in)\n",
    "\n",
    "- Make sure you get download and run the notebook for lecture 2. Work through the notebook cell by cell and see what happens when you change the expressions, and make up some of your own.\n",
    "- Read chapter one of [An Introduction to Real Analysis](https://www.math.ucdavis.edu/~hunter/intro_analysis_pdf/intro.pdf) by John K. Hunter. You can skim the sections on index sets and infinite unions and intersections.\n",
    "- Read up on [sets](https://www.w3schools.com/python/python_sets.asp), [tuples](https://www.w3schools.com/python/python_tuples.asp), and [lambdas](https://www.w3schools.com/python/python_lambda.asp) at python.org."
   ]
  },
  {
   "cell_type": "code",
   "execution_count": 21,
   "metadata": {},
   "outputs": [],
   "source": [
    "import sympy as sm\n",
    "import matplotlib.pyplot as plt\n",
    "import numpy as np\n",
    "sm.init_printing(use_latex='mathjax')\n",
    "%matplotlib inline"
   ]
  },
  {
   "cell_type": "markdown",
   "metadata": {
    "colab_type": "text",
    "id": "3cZgrv9QKBFW"
   },
   "source": [
    "### 1. Set properties\n",
    "\n",
    "Given the follow definitions of sets\n",
    "\n",
    "$$A = \\{1,2,3\\}$$\n",
    "$$B = \\{3,4,5\\}$$\n",
    "$$C = \\{3,4,5,6,7\\}$$\n",
    "\n",
    "determine which of the following properties hold:\n",
    "\n",
    "$$0 \\in A$$\n",
    "\n",
    "$$4 \\in B \\cap C$$\n",
    "\n",
    "$$5 \\in C-B$$\n",
    "\n",
    "$$A \\subseteq B$$\n",
    "\n",
    "$$A \\subseteq C$$\n",
    "\n",
    "$$A \\cap B \\subseteq A$$\n",
    "\n",
    "$$B \\subseteq C$$\n",
    "\n",
    "If the property holds, say why. If it does not hold, give a counterexample showing the definition is not satisfied. "
   ]
  },
  {
   "cell_type": "code",
   "execution_count": 19,
   "metadata": {},
   "outputs": [
    {
     "data": {
      "text/plain": [
       "False"
      ]
     },
     "execution_count": 19,
     "metadata": {},
     "output_type": "execute_result"
    }
   ],
   "source": [
    "A = {1,2,3}\n",
    "B = {3,4,5} \n",
    "C = {3,4,5,6,7}\n",
    "0 in A \n",
    "\n",
    "8 in C - B"
   ]
  },
  {
   "cell_type": "markdown",
   "metadata": {},
   "source": [
    "Example:\n",
    "\n",
    "Prove $1\\in A$. "
   ]
  },
  {
   "cell_type": "markdown",
   "metadata": {},
   "source": [
    "$A = \\{1,2,3\\}$ and that means $1,2,3\\in A.$ Therefore, $1\\in A$."
   ]
  },
  {
   "cell_type": "markdown",
   "metadata": {
    "colab_type": "text",
    "id": "vyd8KNLtKBFX"
   },
   "source": [
    "### 2. Set operations\n",
    "\n",
    "Let $A = \\{ 1,2,3,4,5 \\}$ and $B = \\{ 0,3,6 \\}$. Find\n",
    "\n",
    "a) $A \\cup B$\n",
    "\n",
    "b) $A \\cap B$\n",
    "\n",
    "c) $A - B$\n",
    "\n",
    "d) $B - A$\n",
    "\n",
    "Verify your results using Python sets."
   ]
  },
  {
   "cell_type": "code",
   "execution_count": null,
   "metadata": {},
   "outputs": [],
   "source": []
  },
  {
   "cell_type": "markdown",
   "metadata": {
    "colab_type": "text",
    "id": "VuNz1to1KBFc"
   },
   "source": [
    "### 3. Set Proofs\n",
    "\n",
    "Using the definitions of the set operations, the definition of the subset relation, and basic logic, show the following are true.\n",
    "\n",
    "a) $A - B \\subseteq A$\n",
    "\n",
    "b) $A \\cap (B-A) = \\varnothing$\n",
    "\n",
    "c) $A \\cup (B-A) = A \\cup B$\n",
    "\n",
    "Show examples using small sets in Python illustrating each property. "
   ]
  },
  {
   "cell_type": "markdown",
   "metadata": {},
   "source": [
    "Tips:\n",
    "    \n",
    "1) Proving $A=B$ by showing $A\\subseteq B$ and $B \\subseteq A$\n",
    "\n",
    "2) OR by sing an element-definition argument\n",
    "\n",
    "3) OR by using identities"
   ]
  },
  {
   "cell_type": "markdown",
   "metadata": {},
   "source": [
    "Example:\n",
    "\n",
    "Direct Proof (using the elements): $A\\times (B\\cup C) = (A\\times B) \\cup (A\\times C)$"
   ]
  },
  {
   "cell_type": "markdown",
   "metadata": {},
   "source": [
    "$(x,y)\\in A\\times (B\\cup C) \\iff x\\in A$ and $y\\in (B\\cup C)$\n",
    "\n",
    "$\\iff x\\in A$ and $(y\\in B$ or $y\\in C)$"
   ]
  },
  {
   "cell_type": "markdown",
   "metadata": {},
   "source": [
    "$\\iff (x\\in A$ and $y\\in B) $ or $(x\\in A$ and $y\\in C)$"
   ]
  },
  {
   "cell_type": "markdown",
   "metadata": {},
   "source": [
    "$(x,y) \\in A\\times B$ or $(x,y)\\in A\\times C$"
   ]
  },
  {
   "cell_type": "markdown",
   "metadata": {},
   "source": [
    "This is the definition of $(A\\times B) \\cup (A\\times C)$."
   ]
  },
  {
   "cell_type": "code",
   "execution_count": null,
   "metadata": {},
   "outputs": [],
   "source": []
  },
  {
   "cell_type": "markdown",
   "metadata": {
    "ExecuteTime": {
     "end_time": "2019-09-30T20:21:35.986395Z",
     "start_time": "2019-09-30T20:21:35.964585Z"
    },
    "colab_type": "text",
    "id": "8KBLGNzZKBFd"
   },
   "source": [
    "### 4. Cartesian Products\n",
    "\n",
    "a) If $A_i$ has $n_i$ elements, how many elements does $A_1 \\times A_2 \\times \\dots A_n$ have? Why?\n",
    "\n",
    "b) Give an example where the numbers of elements in $A_1 \\times A_2 \\times \\dots A_n$ is 1. \n",
    "\n",
    "c) Give examples of nonempty sets $A$ and $B$ where $A \\times B = B \\times A$. "
   ]
  },
  {
   "cell_type": "markdown",
   "metadata": {},
   "source": [
    "4.a) In Latex. Let's look at 8.d to get some intuition!"
   ]
  },
  {
   "cell_type": "code",
   "execution_count": 49,
   "metadata": {},
   "outputs": [
    {
     "name": "stdout",
     "output_type": "stream",
     "text": [
      "(0, 0, 0)\n",
      "(0, 0, 1)\n",
      "(0, 1, 0)\n",
      "(0, 1, 1)\n",
      "(0, 2, 0)\n",
      "(0, 2, 1)\n",
      "(1, 0, 0)\n",
      "(1, 0, 1)\n",
      "(1, 1, 0)\n",
      "(1, 1, 1)\n",
      "(1, 2, 0)\n",
      "(1, 2, 1)\n",
      "\n",
      "{(0, 1, 1), (0, 2, 0), (0, 2, 1), (1, 1, 0), (1, 1, 1), (1, 2, 0), (1, 2, 1), (1, 0, 0), (0, 0, 1), (1, 0, 1), (0, 0, 0), (0, 1, 0)}\n"
     ]
    },
    {
     "data": {
      "text/plain": [
       "True"
      ]
     },
     "execution_count": 49,
     "metadata": {},
     "output_type": "execute_result"
    }
   ],
   "source": [
    "A1 = [0,1]\n",
    "A2 = [0,1,2]\n",
    "A3 = [0,1]\n",
    "cart = {(x,y,z) for x in A1 for y in A2 for z in A3}\n",
    "\n",
    "for x in A1:\n",
    "    for y in A2:\n",
    "        for z in A3:\n",
    "            print((x,y,z))\n",
    "            \n",
    "print()\n",
    "\n",
    "RHS = len(A1)*len(A2)*len(A3)\n",
    "LHS = len(cart)\n",
    "suspenseful_question = RHS == LHS\n",
    "\n",
    "print(cart)\n",
    "suspenseful_question"
   ]
  },
  {
   "cell_type": "code",
   "execution_count": 39,
   "metadata": {},
   "outputs": [],
   "source": [
    "#4.b is okay in python or Latex\n",
    "\n"
   ]
  },
  {
   "cell_type": "code",
   "execution_count": 40,
   "metadata": {},
   "outputs": [],
   "source": [
    "#4.c is okay in python or Latex\n",
    "\n"
   ]
  },
  {
   "cell_type": "markdown",
   "metadata": {
    "colab_type": "text",
    "id": "d_JJAhYRKBFd"
   },
   "source": [
    "### 5. Function Properties\n",
    "\n",
    "Plot each of the following functions from $\\mathbb{Z}$ to $\\mathbb{Z}$ over a representative subdomain (use points and not a line since the domain is $\\mathbb{Z}$. What is the range of each function? State which of them are injective, which are surjective, and which are bijective. For functions for which a given property holds, explain why. For functions for which the given property does not hold, give a counterexample.\n",
    "\n",
    "a) $f(n) = n-1$\n",
    "\n",
    "b) $f(n) = n^3$\n",
    "\n",
    "c) $f(n) = n^2 + 1$\n",
    "\n",
    "d) $f(n) = \\lceil n/2 \\rceil$"
   ]
  },
  {
   "cell_type": "code",
   "execution_count": 27,
   "metadata": {},
   "outputs": [
    {
     "data": {
      "image/png": "[encoded data removed]",
      "text/plain": [
       "<matplotlib.figure.Figure at 0x2ad68faa748>"
      ]
     },
     "metadata": {},
     "output_type": "display_data"
    }
   ],
   "source": [
    "#5.1\n",
    "def f1(n):\n",
    "    return n-10\n",
    "n = np.arange(-5,5)\n",
    "plt.scatter(n, f(n))\n",
    "plt.show()"
   ]
  },
  {
   "cell_type": "markdown",
   "metadata": {},
   "source": [
    "Def of injective function: $f(x_1)=f(x_2) \\implies x_1 = x_2$.\n",
    "\n",
    "Yes, it is injective. Let $f(x_1)=f(x_2) \\text{ for } x_1,x_2\\in \\mathbb{Z} \\implies x_1-10 = x_2 -10 \\implies x_1=x_2$."
   ]
  },
  {
   "cell_type": "markdown",
   "metadata": {},
   "source": [
    "Def of surjective: $\\forall y\\in Y, \\exists x\\in X$ such that $f(x)=y$.\n"
   ]
  },
  {
   "cell_type": "markdown",
   "metadata": {},
   "source": [
    "Yes, it is surjective. Let $y\\in \\mathbb{Z}$ and $n=(y+10)\\in\\mathbb{Z}.$ Then $f(y+10) = (y+10)-10 = y+10 - 10 = y.$"
   ]
  },
  {
   "cell_type": "markdown",
   "metadata": {
    "colab_type": "text",
    "id": "Ofuifv3KKBFe"
   },
   "source": [
    "### 6. Composition\n",
    "\n",
    "a) Suppose that $f(x) = x^2 + 1$ and $g(x) = e^x$ are functions from $\\mathbb{R}$ into $\\mathbb{R}$. Find $f \\circ g$ and $g \\circ f$ and plot them in Python (on the same axis to compare).\n",
    "\n",
    "b) Suppose $f(x) = a x + b$ and $g(x) = c x + d$ are functions from $\\mathbb{R}$ into $\\mathbb{R}$. Find constants $a$, $b$, $c$ and $d$ such that $f \\circ g = g \\circ f$. "
   ]
  },
  {
   "cell_type": "code",
   "execution_count": 51,
   "metadata": {},
   "outputs": [
    {
     "data": {
      "image/png": "[encoded data removed]",
      "text/plain": [
       "<matplotlib.figure.Figure at 0x2ad691a8128>"
      ]
     },
     "metadata": {},
     "output_type": "display_data"
    }
   ],
   "source": [
    "#examples below\n",
    "def f(x):\n",
    "    return x + 2\n",
    "def g(x):\n",
    "    return np.exp(-x)\n",
    "\n",
    "x = np.linspace(0,10,10) #some subdomain of integers\n",
    "plt.scatter(x, f(g(x))) \n",
    "plt.scatter(x, g(f(x)))\n",
    "plt.show()"
   ]
  },
  {
   "cell_type": "markdown",
   "metadata": {
    "colab_type": "text",
    "id": "EZYyjWslKBFf"
   },
   "source": [
    "### 7. Relations\n",
    "\n",
    "Define the relation $R$ on $\\mathbb{N} \\times \\mathbb{N}$ saying that $x \\; R\\; y$ if and only if the binary representations of $x$ and $y$ have the same number of ones. For example, $15 \\; R \\; 23$ since $15$ in binary is $1111$ and $23$ in binary is $10111$, which both have four ones. \n",
    "\n",
    "a) Show that $R$ is an equivalence relation.\n",
    "\n",
    "b) What is the equivalence class $[3]_R$ of the number $3$ (expressed in base 10). Hint: Come up with a general formula for numbers in this class.\n",
    "\n",
    "c) Write simple line of Python code that produces the set of all elements of $[3]_R$ that are less than 100 (expressed in base 10). "
   ]
  },
  {
   "cell_type": "markdown",
   "metadata": {},
   "source": [
    "7.1) To show something is anequivalence relation, we need to show that it has symmetry, reflexivity, transitivity."
   ]
  },
  {
   "cell_type": "markdown",
   "metadata": {},
   "source": [
    "Reflexivity: $xRx$.\n",
    "\n",
    "Symmetry: $xRy \\implies yRx$. \n",
    "\n",
    "Transitivity: $xRy$ and $yRz \\implies xRz$."
   ]
  },
  {
   "cell_type": "markdown",
   "metadata": {},
   "source": [
    "7.b) This problem is asking us to show a set builder formula to capture this equivalence: $3 \\; R\\; y$ if and only if the binary representations of $3$ and $y$ have the same number of ones."
   ]
  },
  {
   "cell_type": "code",
   "execution_count": 52,
   "metadata": {},
   "outputs": [
    {
     "data": {
      "text/plain": [
       "('0b11', 2)"
      ]
     },
     "execution_count": 52,
     "metadata": {},
     "output_type": "execute_result"
    }
   ],
   "source": [
    "#7.c\n",
    "three = bin(3) #is a string. This shows the binary representation of the base 10 number 3.\n",
    "two_ones = three.count('1') #a way to count ones\n",
    "three, two_ones"
   ]
  },
  {
   "cell_type": "markdown",
   "metadata": {
    "colab_type": "text",
    "id": "XUeIqHjIKBFg"
   },
   "source": [
    "### 8. Sets, Functions, and Relations in Python\n",
    "\n",
    "Express each of the following objects in Python.\n",
    "\n",
    "a) The set of $P$ prime numbers less than 100. \n",
    "\n",
    "b) The relation $<$ on the set $\\{1,2,3,4,5,6\\}$, expressed as a set of tuples.\n",
    "\n",
    "c) The function $f: \\{1,2,3,4,5,6\\} \\rightarrow \\{0,1\\}$ in which $f(x) = 0$ if $x$ is even and $f(x)=1$ if $x$ is odd, expressed as a dictionary.\n",
    "\n",
    "d) The Cartesian product $\\{0,1\\}^4$ as a set of tuples. "
   ]
  },
  {
   "cell_type": "code",
   "execution_count": null,
   "metadata": {},
   "outputs": [],
   "source": [
    "#8.b\n",
    "{(i,j) for i in range(____) for j in range(___) ___conditional here relating i,j, and <__}"
   ]
  },
  {
   "cell_type": "code",
   "execution_count": 43,
   "metadata": {},
   "outputs": [
    {
     "name": "stdout",
     "output_type": "stream",
     "text": [
      "{(2, 2, 2), (2, 2, 3), (2, 3, 3), (2, 3, 2)}\n"
     ]
    },
    {
     "data": {
      "text/plain": [
       "False"
      ]
     },
     "execution_count": 43,
     "metadata": {},
     "output_type": "execute_result"
    }
   ],
   "source": [
    "#8.d\n",
    "A1 = [2]\n",
    "A2 = [2,3,3]\n",
    "A3 = [2,3]\n",
    "cart = {(x,y,z) for x in A1 for y in A2 for z in A3}\n",
    "\n",
    "suspenseful_question = len(A1)*len(A2)*len(A3) == len(cart)\n",
    "\n",
    "print(cart)\n",
    "suspenseful_question"
   ]
  },
  {
   "cell_type": "markdown",
   "metadata": {
    "ExecuteTime": {
     "end_time": "2019-10-01T17:52:09.486952Z",
     "start_time": "2019-10-01T17:52:09.482366Z"
    },
    "colab_type": "text",
    "id": "V2pfBd29KBFh"
   },
   "source": [
    "### 9. The Cantor Set\n",
    "\n",
    "Define $C_0$ to be the closed interval $[0,1]$.\n",
    "\n",
    "Define $C_1$ to be the result of removing the middle third of $C_0$. So \n",
    "\n",
    "$$\n",
    "C_1 = [0,\\frac{1}{3}] \\cup [\\frac{1}{3},1].\n",
    "$$\n",
    "\n",
    "Define $C_2$ to be the result of removing the middle thirds of the two intervals in $C_2$. So\n",
    "\n",
    "$$\n",
    "C_2 = [0,\\frac{1}{9}] \\cup [\\frac{2}{9},\\frac{1}{3}] \\cup [\\frac{2}{3},\\frac{7}{9}] \\cup [\\frac{8}{9},1] .\n",
    "$$\n",
    "\n",
    "In general, $C_{n+1}$ is obtained by remove the middle thirds of the intervals in $C_n$. \n",
    "\n",
    "Write a Python function that takes a number $n$ and returns the set $C_n$. Use Python tuples to represent intervals, Python sets to represent sets of intervals, and sympy to represent the fractions. For example, you would have\n",
    "\n",
    "```python\n",
    "import sympy as sm\n",
    "\n",
    "C_0 = { (sm.Integer(0),sm.Integer(1)) }\n",
    "C_1 = { (sm.Integer(0),sm.Rational(1,3)), (sm.Rational(2,3),sm.Integer(1)) }\n",
    "```\n",
    "\n",
    "Demonstrate your function for a few different values of $n$. \n",
    "\n",
    "**Not graded**: Define the Cantor Set $C$ to be the limit of the series $C_0, C_1, \\dots$ as $n \\rightarrow \\infty$. Show $\\frac{1}{4} \\in C$."
   ]
  },
  {
   "cell_type": "code",
   "execution_count": null,
   "metadata": {},
   "outputs": [],
   "source": [
    "def calculate(T):\n",
    "    '''Assumes T is an interval (x,y).\n",
    "    Returns two intervals with the middle 3rd removed from each.\n",
    "    '''\n",
    "    A = #updates Cn-1 / 3\n",
    "    B = #updates 2/3 + Cn-1 / 3\n",
    "    return A,B\n",
    "\n",
    "def cantor(n):\n",
    "    '''\n",
    "    Assumes n is a natural number.\n",
    "    Returns the Cantor Ternary set for Cn.\n",
    "    '''\n",
    "    base_case = [(sm.Integer(0),sm.Integer(1))]   \n",
    "    C = [base_case]\n",
    "    for i in range(0,n): #iterate until Cn is calculated\n",
    "        temp = []\n",
    "        for #element in C\n",
    "        \n",
    "            #use your calculate function!\n",
    "            "
   ]
  },
  {
   "cell_type": "markdown",
   "metadata": {
    "colab_type": "text",
    "id": "4i_u97E5KBFh"
   },
   "source": [
    "### 10 Cardinality\n",
    "\n",
    "a) A polynomial with integer coefficients is a an expression like $2 x^3 + 3 x^2 - 4 x + 8$. Show that the set of all polynomials with integer coefficients is countable. \n",
    "\n",
    "b) A number is called *algebraic* if it is the root of some polynomial with integer coefficients. For example, $\\sqrt 2$ is algebraic because it is a root of the polynomial $x^2 - 2$. Use (a) to show that the set of algebraic numbers is countable. \n",
    "\n",
    "c) A number is called **transcendental** if it is not algebraic. Using (b) and facts discussed in class, explain why the set of transcendental numbers in $\\mathbb{R}$ is uncountable. "
   ]
  },
  {
   "cell_type": "markdown",
   "metadata": {
    "colab": {},
    "colab_type": "code",
    "id": "7K20Tg8lKBFk"
   },
   "source": [
    "10.1) A number $s$ is an algebraic umber when ther exists some $p\\in \\mathbb{Z}[x]$ such that $p(s)=0.$"
   ]
  },
  {
   "cell_type": "markdown",
   "metadata": {},
   "source": [
    "Hint 1 (FACT): The Cartesian product of finitely many countable sets is a countable set. "
   ]
  },
  {
   "cell_type": "markdown",
   "metadata": {},
   "source": [
    "Hint 2 (FACT): The union of finitely many or countably many countable sets is a countable set. "
   ]
  },
  {
   "cell_type": "markdown",
   "metadata": {},
   "source": [
    "Hint 3 (Technique): Use induction or show its true for the 0th order polynomial, the 1st order polynomial, and the 2nd order polynomial and say that the pattern follows for higher order polynomials. "
   ]
  },
  {
   "cell_type": "markdown",
   "metadata": {},
   "source": [
    "Hint 4 (FACT): The set of all integers, $\\mathbb{Z}$, is countable."
   ]
  },
  {
   "cell_type": "markdown",
   "metadata": {},
   "source": [
    "10.2)"
   ]
  },
  {
   "cell_type": "code",
   "execution_count": null,
   "metadata": {},
   "outputs": [],
   "source": []
  }
 ],
 "metadata": {
  "colab": {
   "name": "HW_02_Python_Due_10_09.ipynb",
   "provenance": []
  },
  "kernelspec": {
   "display_name": "Python 3",
   "language": "python",
   "name": "python3"
  },
  "language_info": {
   "codemirror_mode": {
    "name": "ipython",
    "version": 3
   },
   "file_extension": ".py",
   "mimetype": "text/x-python",
   "name": "python",
   "nbconvert_exporter": "python",
   "pygments_lexer": "ipython3",
   "version": "3.6.4"
  }
 },
 "nbformat": 4,
 "nbformat_minor": 1
}
