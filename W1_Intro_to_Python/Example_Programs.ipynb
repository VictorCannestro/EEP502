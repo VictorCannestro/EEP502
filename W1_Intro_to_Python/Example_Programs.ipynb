{
 "cells": [
  {
   "cell_type": "code",
   "execution_count": 18,
   "metadata": {},
   "outputs": [],
   "source": [
    "from scipy import *\n",
    "import matplotlib.pyplot as plt"
   ]
  },
  {
   "cell_type": "code",
   "execution_count": 10,
   "metadata": {},
   "outputs": [
    {
     "data": {
      "image/png": "[encoded data removed]",
      "text/plain": [
       "<matplotlib.figure.Figure at 0x1e3250bc7f0>"
      ]
     },
     "metadata": {},
     "output_type": "display_data"
    }
   ],
   "source": [
    "def mandelbrot(h, w, maxit=20):\n",
    "    '''Returns image of Mandelbrot fractal of size (h, w)'''\n",
    "    x = linspace(-2, 0.8, w)\n",
    "    y = linspace(-1.4, 1.4, h)\n",
    "    X, Y= meshgrid(x, y)\n",
    "    c = X + Y*1j\n",
    "    z = c\n",
    "    divtime = maxit + zeros(z.shape, dtype=int)\n",
    "    for iteration in range(maxit):\n",
    "        z = z**2 + c\n",
    "        diverge = z*conj(z) > 2**2\n",
    "        div_now = diverge & (divtime == maxit)\n",
    "        divtime[div_now] = iteration\n",
    "        z[diverge] = 2\n",
    "    return divtime\n",
    "\n",
    "M = mandelbrot(100,100)\n",
    "\n",
    "plt.imshow(M)\n",
    "plt.show()"
   ]
  },
  {
   "cell_type": "code",
   "execution_count": 1,
   "metadata": {
    "scrolled": true
   },
   "outputs": [
    {
     "data": {
      "image/svg+xml": [
       "<svg height=\"223.89000pt\" id=\"svg8621\" inkscape:version=\"0.42.2\" sodipodi:docbase=\"C:\\Programme\\Inkscape\" sodipodi:docname=\"Venn0110.svg\" sodipodi:version=\"0.32\" width=\"307.28000pt\" xmlns=\"http://www.w3.org/2000/svg\" xmlns:cc=\"http://web.resource.org/cc/\" xmlns:dc=\"http://purl.org/dc/elements/1.1/\" xmlns:inkscape=\"http://www.inkscape.org/namespaces/inkscape\" xmlns:rdf=\"http://www.w3.org/1999/02/22-rdf-syntax-ns#\" xmlns:sodipodi=\"http://inkscape.sourceforge.net/DTD/sodipodi-0.dtd\" xmlns:svg=\"http://www.w3.org/2000/svg\">\n",
       "  <defs id=\"defs3\"/>\n",
       "  <sodipodi:namedview bordercolor=\"#666666\" borderlayer=\"top\" borderopacity=\"1.0\" id=\"base\" inkscape:current-layer=\"layer1\" inkscape:cx=\"94.679408\" inkscape:cy=\"141.50708\" inkscape:document-units=\"mm\" inkscape:pageopacity=\"0.0\" inkscape:pageshadow=\"2\" inkscape:window-height=\"742\" inkscape:window-width=\"1024\" inkscape:window-x=\"-4\" inkscape:window-y=\"-4\" inkscape:zoom=\"0.66872763\" pagecolor=\"#ffffff\" showborder=\"true\"/>\n",
       "  <metadata id=\"metadata4\">\n",
       "    <rdf:RDF>\n",
       "      <cc:Work rdf:about=\"\">\n",
       "        <dc:format>image/svg+xml</dc:format>\n",
       "        <dc:type rdf:resource=\"http://purl.org/dc/dcmitype/StillImage\"/>\n",
       "      </cc:Work>\n",
       "    </rdf:RDF>\n",
       "  </metadata>\n",
       "  <g id=\"layer1\" inkscape:groupmode=\"layer\" inkscape:label=\"Layer 1\">\n",
       "    <rect height=\"274.79257\" id=\"rect1310\" style=\"fill:#ffffff;fill-opacity:1.0000000;stroke:#000000;stroke-width:5.0498838;stroke-miterlimit:4.0000000;stroke-dasharray:none;stroke-opacity:1.0000000\" width=\"379.02979\" x=\"2.5324416\" y=\"2.5291228\"/>\n",
       "    <circle cx=\"180.00000\" cy=\"180.00000\" id=\"circle1312\" r=\"120.00000\" sodipodi:cx=\"180.00000\" sodipodi:cy=\"180.00000\" sodipodi:rx=\"120.00000\" sodipodi:ry=\"120.00000\" style=\"fill:#ff0000;fill-opacity:1.0000000;stroke:#000000;stroke-width:6.0000000;stroke-miterlimit:4.0000000;stroke-dasharray:none;stroke-opacity:1.0000000\" transform=\"matrix(0.842564,0.000000,0.000000,0.840731,-10.24387,-10.52388)\"/>\n",
       "    <circle cx=\"300.00000\" cy=\"180.00000\" id=\"circle1316\" r=\"120.00000\" sodipodi:cx=\"300.00000\" sodipodi:cy=\"180.00000\" sodipodi:rx=\"120.00000\" sodipodi:ry=\"120.00000\" style=\"fill:#ff0000;fill-opacity:1.0000000;stroke:#000000;stroke-width:6.0000000;stroke-miterlimit:4.0000000;stroke-dasharray:none;stroke-opacity:1.0000000\" transform=\"matrix(0.842564,0.000000,0.000000,0.840731,-10.24387,-10.52388)\"/>\n",
       "    <path d=\"M 191.97147,53.436405 C 223.25430,71.458270 242.52530,104.76406 242.52530,140.80780 C 242.52530,176.85154 223.25430,210.15733 191.97147,228.17919 C 160.68865,210.15733 141.41763,176.85154 141.41763,140.80780 C 141.41763,104.76406 160.68865,71.458270 191.97147,53.436405\" id=\"path1320\" style=\"fill:#ffffff;fill-opacity:1.0000000;stroke:#000000;stroke-width:5.0498838;stroke-miterlimit:4.0000000;stroke-dasharray:none;stroke-opacity:1.0000000\"/>\n",
       "  </g>\n",
       "</svg>"
      ],
      "text/plain": [
       "<IPython.core.display.SVG object>"
      ]
     },
     "metadata": {},
     "output_type": "display_data"
    }
   ],
   "source": [
    "from IPython.display import SVG, display\n",
    "def show_svg():\n",
    "    display(SVG(url='https://upload.wikimedia.org/wikipedia/commons/4/46/Venn0110.svg'))\n",
    "show_svg()"
   ]
  },
  {
   "cell_type": "markdown",
   "metadata": {},
   "source": [
    "- https://stackoverflow.com/questions/30334385/display-svg-in-ipython-notebook-from-a-function\n",
    "- https://stackoverflow.com/questions/32370281/how-to-embed-image-or-picture-in-jupyter-notebook-either-from-a-local-machine-o"
   ]
  },
  {
   "cell_type": "code",
   "execution_count": null,
   "metadata": {},
   "outputs": [],
   "source": []
  }
 ],
 "metadata": {
  "kernelspec": {
   "display_name": "Python 3",
   "language": "python",
   "name": "python3"
  },
  "language_info": {
   "codemirror_mode": {
    "name": "ipython",
    "version": 3
   },
   "file_extension": ".py",
   "mimetype": "text/x-python",
   "name": "python",
   "nbconvert_exporter": "python",
   "pygments_lexer": "ipython3",
   "version": "3.7.4"
  }
 },
 "nbformat": 4,
 "nbformat_minor": 2
}
