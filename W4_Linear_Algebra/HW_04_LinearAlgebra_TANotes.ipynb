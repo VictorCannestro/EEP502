{
 "cells": [
  {
   "cell_type": "markdown",
   "metadata": {
    "ExecuteTime": {
     "end_time": "2019-09-24T16:05:23.746666Z",
     "start_time": "2019-09-24T16:05:23.741461Z"
    },
    "colab_type": "text",
    "id": "fngRfyk6KOdd"
   },
   "source": [
    "## EE 502 P: Analytical Methods for Electrical Engineering\n",
    "    \n",
    "# Homework 4: Linear Algebra\n",
    "## Due 30 October, 2019 at 6:00 PM\n",
    "### <span style=\"color: red\">YOUR NAME HERE</span>\n",
    "\n",
    "Copyright &copy; 2019, University of Washington\n",
    "\n",
    "<hr>\n",
    "\n",
    "**Instructions**: Use this notebook as a template. Answer all questions using well formatted Markdown with embedded LaTeX equations, executable Jupyter cells, or both. Submit your homework solutions as an `.ipynb` file via Canvas.\n",
    "\n",
    "<span style=\"background: yellow; padding: 6px; border: 1pt solid black\">\n",
    "Although you may discuss the homework with others, you must turn in your own, original work.\n",
    "</span>\n",
    "\n",
    "**Things to remember:**\n",
    "- Use complete sentences. Equations should appear in text as grammatical elements.\n",
    "- Comment your code.\n",
    "- Label your axes. Title your plots. Use legends where appropriate. \n",
    "- Before submitting a notebook, choose Kernel -> Restart and Run All to make sure your notebook runs when the cells are evaluated in order. \n",
    "\n",
    "Note : Late homework will be accepted up to one week after the due date and will be worth 50% of its full credit score. "
   ]
  },
  {
   "cell_type": "markdown",
   "metadata": {
    "colab_type": "text",
    "id": "pmbk4IsoKOdg"
   },
   "source": [
    "### 0. Warmup (Do not turn in)\n",
    "\n",
    "- Make sure you get download, read, and run the notebook for lecture 4. Work through the notebook cell by cell and see what happens when you change the expressions, and make up some of your own.\n",
    "- The material covered in class is intended to be an introductory subset the general subject of Linear Algebra, for example covered in the following online books:\n",
    "    - [Beezer](http://linear.ups.edu/html/fcla.html). Does not cover matrix exponentials, Caley-Hamilton, SVD, or PCA.\n",
    "    - [Hefferon](http://joshua.smcvt.edu/linearalgebra/book.pdf). Also does not cover the above.\n",
    "- The more advanced ideas are covered online as well. For example:\n",
    "    - Matrix Exponentials are typically not covered until a course on linear different equations. But the [Wikipedia page](https://en.wikipedia.org/wiki/Matrix_exponential) is pretty good.\n",
    "    - [Caley-Hamilton](https://brilliant.org/wiki/cayley-hamilton-theorem/)\n",
    "    - [SVD](https://www.cs.cmu.edu/~venkatg/teaching/CStheory-infoage/book-chapter-4.pdf)\n",
    "    - [PCA](https://medium.com/@jonathan_hui/machine-learning-singular-value-decomposition-svd-principal-component-analysis-pca-1d45e885e491)\n",
    "- If you want the **best** textbooks in linear algebra, get\n",
    "    - [Strang](https://www.amazon.com/Introduction-Linear-Algebra-Gilbert-Strang/dp/0980232775). Introductory. See also [Strang's Online Lectures](https://ocw.mit.edu/courses/mathematics/18-06-linear-algebra-spring-2010/video-lectures/).\n",
    "    - [Horn and Johnson](http://www.cse.zju.edu.cn/eclass/attachments/2015-10/01-1446086008-145421.pdf)"
   ]
  },
  {
   "cell_type": "code",
   "execution_count": 2,
   "metadata": {},
   "outputs": [],
   "source": [
    "import math\n",
    "import scipy # Has linear algebra\n",
    "import scipy.ndimage\n",
    "import numpy as np\n",
    "import sympy as sm\n",
    "sm.init_printing(use_latex='mathjax')\n",
    "import matplotlib.pyplot as plt\n",
    "import matplotlib.patches as pch\n",
    "%matplotlib inline"
   ]
  },
  {
   "cell_type": "markdown",
   "metadata": {
    "ExecuteTime": {
     "end_time": "2019-10-08T16:48:02.889303Z",
     "start_time": "2019-10-08T16:48:02.885366Z"
    },
    "colab_type": "text",
    "id": "w7Q1WuItKOdh"
   },
   "source": [
    "### 1. Linear independence \n",
    "\n",
    "Which of the following sets of vectors are linearly independent? Why?\n",
    "\n",
    "a) $\\left (\n",
    "\\begin{array}{c}\n",
    "1 \\\\\n",
    "2 \\\\\n",
    "3 \\\\\n",
    "4\n",
    "\\end{array}\n",
    "\\right )$ and $\\left (\n",
    "\\begin{array}{c}\n",
    "5 \\\\\n",
    "6 \\\\\n",
    "7 \\\\\n",
    "8\n",
    "\\end{array}\n",
    "\\right )$\n",
    "\n",
    "b) $\\left (\n",
    "\\begin{array}{c}\n",
    "1 \\\\\n",
    "1 \\\\\n",
    "0 \\\\\n",
    "0\n",
    "\\end{array}\n",
    "\\right )$, $\\left (\n",
    "\\begin{array}{c}\n",
    "0 \\\\\n",
    "0 \\\\\n",
    "1 \\\\\n",
    "1\n",
    "\\end{array}\n",
    "\\right )$, $\\left (\n",
    "\\begin{array}{c}\n",
    "0 \\\\\n",
    "1 \\\\\n",
    "1 \\\\\n",
    "0\n",
    "\\end{array}\n",
    "\\right )$ and $\\left (\n",
    "\\begin{array}{c}\n",
    "1 \\\\\n",
    "0 \\\\\n",
    "0 \\\\\n",
    "1\n",
    "\\end{array}\n",
    "\\right )$\n",
    "\n",
    "c) $\\left (\n",
    "\\begin{array}{c}\n",
    "1 \\\\\n",
    "1 \\\\\n",
    "0 \\\\\n",
    "0\n",
    "\\end{array}\n",
    "\\right )$, $\\left (\n",
    "\\begin{array}{c}\n",
    "0 \\\\\n",
    "0 \\\\\n",
    "1 \\\\\n",
    "1\n",
    "\\end{array}\n",
    "\\right )$, $\\left (\n",
    "\\begin{array}{c}\n",
    "0 \\\\\n",
    "1 \\\\\n",
    "1 \\\\\n",
    "0\n",
    "\\end{array}\n",
    "\\right )$ and $\\left (\n",
    "\\begin{array}{c}\n",
    "0 \\\\\n",
    "1 \\\\\n",
    "0 \\\\\n",
    "1\n",
    "\\end{array}\n",
    "\\right )$"
   ]
  },
  {
   "cell_type": "markdown",
   "metadata": {},
   "source": [
    "For a set of vectors to be linearly independent, the number of leading ones has to equal the number of vectors. (i.e. The row reduced echelon form of the matrix of these vectors stacked horizontally has two leading ones.) "
   ]
  },
  {
   "cell_type": "code",
   "execution_count": 4,
   "metadata": {},
   "outputs": [
    {
     "name": "stdout",
     "output_type": "stream",
     "text": [
      "The rank of A is  1 and the column dimension is 2\n"
     ]
    },
    {
     "data": {
      "text/latex": [
       "$$\\left ( \\left[\\begin{matrix}1 & 1\\\\0 & 0\\\\0 & 0\\\\0 & 0\\end{matrix}\\right], \\quad \\left ( 0\\right )\\right )$$"
      ],
      "text/plain": [
       "⎛⎡1  1⎤      ⎞\n",
       "⎜⎢    ⎥      ⎟\n",
       "⎜⎢0  0⎥      ⎟\n",
       "⎜⎢    ⎥, (0,)⎟\n",
       "⎜⎢0  0⎥      ⎟\n",
       "⎜⎢    ⎥      ⎟\n",
       "⎝⎣0  0⎦      ⎠"
      ]
     },
     "execution_count": 4,
     "metadata": {},
     "output_type": "execute_result"
    }
   ],
   "source": [
    "#EXAMPLE\n",
    "\n",
    "'''\n",
    "rref returns a tuple of two elements. The first is the reduced row echelon form, \n",
    "and the second is a tuple of indices of the pivot columns.\n",
    "'''\n",
    "x = np.array([[1],[2],[3],[4]])\n",
    "y = np.array([[1],[2],[3],[4]])\n",
    "A = np.hstack([x,y])\n",
    "\n",
    "A = sm.Matrix(A)\n",
    "print('The rank of A is ', A.rank(),'and the column dimension is', np.shape(A)[1])\n",
    "A.rref()"
   ]
  },
  {
   "cell_type": "markdown",
   "metadata": {},
   "source": []
  },
  {
   "cell_type": "code",
   "execution_count": 5,
   "metadata": {
    "scrolled": true
   },
   "outputs": [
    {
     "data": {
      "text/latex": [
       "$$\\frac{1}{2}$$"
      ],
      "text/plain": [
       "1/2"
      ]
     },
     "execution_count": 5,
     "metadata": {},
     "output_type": "execute_result"
    }
   ],
   "source": [
    "sm.Rational(1,2)"
   ]
  },
  {
   "cell_type": "markdown",
   "metadata": {},
   "source": [
    " Recall that a set of $n$ vectors of length $n$ is linearly independent if the matrix with these vectors as columns has a non-zero determinant. We show this in python below."
   ]
  },
  {
   "cell_type": "code",
   "execution_count": 12,
   "metadata": {
    "scrolled": true
   },
   "outputs": [
    {
     "name": "stdout",
     "output_type": "stream",
     "text": [
      "[[1 1 0 0]\n",
      " [1 1 1 0]\n",
      " [0 1 1 1]\n",
      " [0 0 1 1]]\n"
     ]
    },
    {
     "data": {
      "text/latex": [
       "$$-1$$"
      ],
      "text/plain": [
       "-1"
      ]
     },
     "execution_count": 12,
     "metadata": {},
     "output_type": "execute_result"
    }
   ],
   "source": [
    "#EXAMPLE\n",
    "a = np.array([[1],[1],[0],[0]])\n",
    "b = np.array([[1],[1],[1],[0]])\n",
    "c = np.array([[0],[1],[1],[1]])\n",
    "d = np.array([[0],[0],[1],[1]])\n",
    "\n",
    "A = np.hstack([a,b,c,d])\n",
    "print(A)\n",
    "#Now check in sympy\n",
    "A = sm.Matrix(A)\n",
    "A.det()"
   ]
  },
  {
   "cell_type": "markdown",
   "metadata": {
    "colab_type": "text",
    "id": "lV39KJK-KOdi"
   },
   "source": [
    "### 2. Orthogonality\n",
    "\n",
    "a) Find two orthogonal vectors that are also orthogonal to the vector\n",
    "$v = \\left (\n",
    "\\begin{array}{c}\n",
    "1 \\\\\n",
    "-1 \\\\\n",
    "3 \\\\\n",
    "\\end{array}\n",
    "\\right ).$\n",
    "\n",
    "b) Argue that the resulting set of three vectors form a basis for for $\\mathbb{R}^3$.\n",
    "\n",
    "c) Express the vector $x = \\left (\n",
    "\\begin{array}{c}\n",
    "1 \\\\\n",
    "2 \\\\\n",
    "3\n",
    "\\end{array}\n",
    "\\right )$ as a linear combination of your three vectors. "
   ]
  },
  {
   "cell_type": "markdown",
   "metadata": {},
   "source": [
    "2.a)\n",
    "\n",
    "We're looking for all vectors $w$ that satisfy $v \\cdot w = 0 $ for $x,y,z\\in \\mathbb{R}:$\n",
    "$$0 = \n",
    "    \\begin{pmatrix} 1 & -1 & 3 \\end{pmatrix} \\cdot\n",
    "    \\begin{pmatrix} x \\\\ y \\\\ z \\end{pmatrix} \n",
    "$$\n",
    "Geometrically, this means vectors in the plane $$x-y+3z = 0.$$\n",
    "\n",
    "Let's try $w =\\begin{pmatrix} 1 \\\\ 4 \\\\ 1 \\end{pmatrix}$. Then we can write a new equation for two planes and set them both equal to 0:\n",
    "\n",
    "$$x-y+3z = 0 = x(1) + y(4) + z(1)$$\n",
    "\n",
    "Now we get $5y=2z$ and choose valid values for $y,z$.\n",
    "\n",
    "Afterwards, isolate $x$ in the plane equation and plug in your $y,z$ values!"
   ]
  },
  {
   "cell_type": "code",
   "execution_count": 52,
   "metadata": {},
   "outputs": [
    {
     "data": {
      "text/plain": [
       "(array([[0]]), array([[0]]), array([[0]]))"
      ]
     },
     "execution_count": 52,
     "metadata": {},
     "output_type": "execute_result"
    }
   ],
   "source": [
    "v = np.array([[1],[-1],[3]])# are column vectors\n",
    "#w = np.array([[1],[1],[0]])\n",
    "#u = np.array([[-3/2],[3/2],[1]])# This one is hard to get! The example here is only orthogonal to v\n",
    "w = np.array([[4],[7],[1]])\n",
    "u = np.array([[-2],[1],[1]])\n",
    "\n",
    "\n",
    "#Check if orthogonal\n",
    "v.transpose()@w, v.transpose()@u, u.transpose()@w # @ means dot product in python"
   ]
  },
  {
   "cell_type": "markdown",
   "metadata": {},
   "source": [
    "2.b)\n",
    "\n",
    "Recall the definition of a basis: \n",
    "\n",
    "A linearly independent set of vectors $v_1,...,v_n$ is a **basis** for a vector space $V$ if $span(v_1,...,v_n) = V$. (i.e. if $v_1,...,v_n$ are mutually orthogonal and $dim(V) = n$). \n"
   ]
  },
  {
   "cell_type": "markdown",
   "metadata": {},
   "source": [
    "2.c)\n",
    "\n",
    "Notice that **in our standard basis i, j, k:**\n",
    "$$x = \\begin{pmatrix} 1 \\\\ 2 \\\\ 3 \\end{pmatrix} = \n",
    "1 \\hat i + 2\\hat j + 3 \\hat k\\\\\n",
    "= \n",
    "a_1\\begin{pmatrix} 1 \\\\ 0 \\\\ 0 \\end{pmatrix} + \n",
    "a_2\\begin{pmatrix} 0 \\\\ 1 \\\\ 0 \\end{pmatrix} +\n",
    "a_3\\begin{pmatrix} 0 \\\\ 0 \\\\ 1 \\end{pmatrix}$$\n",
    "can be reexpressed as $x = Az:$\n",
    "\n",
    "$$\\begin{pmatrix} 1 \\\\ 2 \\\\ 3 \\end{pmatrix}\n",
    "= \\begin{pmatrix} 1 & 0 & 0 \\\\ 0 & 1 & 0 \\\\ 0 & 0 & 1 \\end{pmatrix}\n",
    "\\begin{pmatrix} a_1 \\\\ a_2 \\\\ a_3 \\end{pmatrix}$$\n",
    "\n",
    "We want to find\n",
    "$$z = \\begin{pmatrix} a_1 \\\\ a_2 \\\\ a_3 \\end{pmatrix}.$$"
   ]
  },
  {
   "cell_type": "markdown",
   "metadata": {},
   "source": [
    "Notice that the three new orthogonal vectors we found can be our new basis\n",
    "$$\\begin{pmatrix} 1 \\\\ 2 \\\\ 3 \\end{pmatrix} = \n",
    "a_1\\begin{pmatrix} 1 \\\\ -1 \\\\ 3 \\end{pmatrix} +\n",
    "a_2\\begin{pmatrix} 1 \\\\ 4 \\\\ 1 \\end{pmatrix} +\n",
    "a_3\\begin{pmatrix} u_1 \\\\ u_2 \\\\ u_3 \\end{pmatrix}$$\n",
    "can be reexpressed as $b = Ax$\n",
    "\n",
    "We can solve this quickly by running this linear system through a solver."
   ]
  },
  {
   "cell_type": "code",
   "execution_count": 55,
   "metadata": {},
   "outputs": [
    {
     "data": {
      "text/latex": [
       "$$\\left ( 0.7272727272727272, \\quad 0.31818181818181823, \\quad 0.5\\right )$$"
      ],
      "text/plain": [
       "(0.7272727272727272, 0.31818181818181823, 0.5)"
      ]
     },
     "execution_count": 55,
     "metadata": {},
     "output_type": "execute_result"
    }
   ],
   "source": [
    "A = np.hstack([v,w,u])\n",
    "b = np.array([1,2,3])\n",
    "a1, a2, a3 = np.linalg.solve(A,b) #numerically solve for the coeffecients\n",
    "\n",
    "a1, a2, a3"
   ]
  },
  {
   "cell_type": "markdown",
   "metadata": {},
   "source": [
    "$dim(\\mathbb{R}^3) = rank(b) = 3$"
   ]
  },
  {
   "cell_type": "markdown",
   "metadata": {
    "colab_type": "text",
    "id": "0ooZr0_qKOdi"
   },
   "source": [
    "### 3. Magnitude\n",
    "\n",
    "Recall the set of rotation matrices defined by\n",
    "\n",
    "$$\n",
    "R(\\theta) = \n",
    "\\begin{pmatrix}\n",
    "\\cos \\theta & \\sin \\theta \\\\\n",
    "-\\sin \\theta & \\cos \\theta\n",
    "\\end{pmatrix}.\n",
    "$$\n",
    "\n",
    "for each $\\theta \\in \\mathbb{R}$. Show that if $x \\in \\mathbb{R}^2$ that the magnitude of $x$ is equal to the magnitude of $R(\\theta)x$ for all $\\theta$. Thus, rotations do not affect magnitudes. "
   ]
  },
  {
   "cell_type": "markdown",
   "metadata": {},
   "source": [
    "We begin with the definition of magnitude. Let $\\theta \\in \\mathbb{R},$ and $x\\in \\mathbb{R}^2$. Then we have\n",
    "$$\\begin{align}\n",
    "||R(\\theta)x|| &= \\sqrt{(R(\\theta)x)^T(R(\\theta)x)} \\\\\n",
    "\\end{align} \n",
    "$$\n"
   ]
  },
  {
   "cell_type": "code",
   "execution_count": 153,
   "metadata": {},
   "outputs": [
    {
     "data": {
      "text/latex": [
       "$$\\left[\\begin{matrix}\\sin^{2}{\\left (\\theta \\right )} + \\cos^{2}{\\left (\\theta \\right )} & 0\\\\0 & \\sin^{2}{\\left (\\theta \\right )} + \\cos^{2}{\\left (\\theta \\right )}\\end{matrix}\\right]$$"
      ],
      "text/plain": [
       "⎡   2         2                      ⎤\n",
       "⎢sin (θ) + cos (θ)          0        ⎥\n",
       "⎢                                    ⎥\n",
       "⎢                      2         2   ⎥\n",
       "⎣        0          sin (θ) + cos (θ)⎦"
      ]
     },
     "execution_count": 153,
     "metadata": {},
     "output_type": "execute_result"
    }
   ],
   "source": [
    "#In sympy\n",
    "o = sm.symbols('theta')\n",
    "R = sm.Matrix([[sm.cos(o), sm.sin(o)],[-sm.sin(o), sm.cos(o)]])\n",
    "R.transpose()@R "
   ]
  },
  {
   "cell_type": "markdown",
   "metadata": {
    "colab_type": "text",
    "id": "dUa_52mhKOdj"
   },
   "source": [
    "### 4. Inverses\n",
    "\n",
    "Find the inverse of each of the following matrices, or explain why no inverse exists.\n",
    "\n",
    "$\n",
    "A = \\begin{pmatrix}\n",
    "0 & 1 & 1 \\\\\n",
    "1 & 0 & 1 \\\\\n",
    "1 & 1 & 0\n",
    "\\end{pmatrix}\n",
    "$\n",
    "\n",
    "B = $\n",
    "\\begin{pmatrix}\n",
    "0 & 1 & 1 \\\\\n",
    "1 & 0 & 1 \\\\\n",
    "1 & -1 & 0\n",
    "\\end{pmatrix}\n",
    "$"
   ]
  },
  {
   "cell_type": "markdown",
   "metadata": {},
   "source": [
    "4.a)\n",
    "\n"
   ]
  },
  {
   "cell_type": "code",
   "execution_count": 12,
   "metadata": {},
   "outputs": [
    {
     "name": "stdout",
     "output_type": "stream",
     "text": [
      "The determinant is 1.0\n"
     ]
    },
    {
     "data": {
      "text/plain": [
       "array([[1., 0., 0.],\n",
       "       [0., 1., 0.],\n",
       "       [0., 0., 1.]])"
      ]
     },
     "execution_count": 12,
     "metadata": {},
     "output_type": "execute_result"
    }
   ],
   "source": [
    "A = np.array([[1,0,0],[0,1,0],[0,0,1]])\n",
    "detA = np.linalg.det(A)\n",
    "print('The determinant is',detA)\n",
    "np.linalg.inv(A)"
   ]
  },
  {
   "cell_type": "markdown",
   "metadata": {},
   "source": [
    "4.b)\n",
    "\n"
   ]
  },
  {
   "cell_type": "code",
   "execution_count": 11,
   "metadata": {},
   "outputs": [
    {
     "name": "stdout",
     "output_type": "stream",
     "text": [
      "The determinant is 0.0 therefore B is a singular matrix, and has no inverse.\n"
     ]
    }
   ],
   "source": [
    "Y = np.array([[1,1,1],[1,1,1],[1,1,1]])\n",
    "detB = np.linalg.det(B)\n",
    "try:\n",
    "    np.linalg.inv(B)\n",
    "except:\n",
    "    print('The determinant is',detB,'therefore B is a singular matrix, and has no inverse.')"
   ]
  },
  {
   "cell_type": "markdown",
   "metadata": {
    "colab_type": "text",
    "id": "g2-gAVVGKOdl"
   },
   "source": [
    "### 5. Commutativity\n",
    "\n",
    "In three dimensions, there are three different kinds of rotations, one for rotation about each axis. These are defined as follows:\n",
    "\n",
    "$$\n",
    "R_x(\\theta) = \n",
    "\\begin{pmatrix}\n",
    "1 & 0 & 0 \\\\\n",
    "0 & \\cos \\theta  & \\sin \\theta  \\\\\n",
    "0 & -\\sin \\theta & \\cos \\theta \n",
    "\\end{pmatrix}.\n",
    "$$\n",
    "\n",
    "$$\n",
    "R_y(\\theta) = \n",
    "\\begin{pmatrix}\n",
    "\\cos \\theta  & 0 & \\sin \\theta \\\\\n",
    "0 & 1 & 0 \\\\\n",
    "-\\sin \\theta & 0 & \\cos \\theta \n",
    "\\end{pmatrix}.\n",
    "$$\n",
    "\n",
    "$$\n",
    "R_z(\\theta) = \n",
    "\\begin{pmatrix}\n",
    "\\cos \\theta  & \\sin \\theta & 0 \\\\\n",
    "-\\sin \\theta & \\cos \\theta & 0 \\\\\n",
    "0 & 0 & 1\n",
    "\\end{pmatrix}.\n",
    "$$\n",
    "\n",
    "Are these matrices pairwise commutative in general? That is: Is it the case that\n",
    "\n",
    "$$\n",
    "R_x(\\theta_1)R_y(\\theta_2) = R_y(\\theta_2)R_x(\\theta_1)\n",
    "$$\n",
    "\n",
    "and similarly for $x,z$ and $y,z$? Explain your answer."
   ]
  },
  {
   "cell_type": "code",
   "execution_count": 51,
   "metadata": {},
   "outputs": [
    {
     "data": {
      "text/latex": [
       "$$\\left ( \\left[\\begin{matrix}\\cos{\\left (\\theta_{2} \\right )} & 0 & \\sin{\\left (\\theta_{2} \\right )}\\\\- \\sin{\\left (\\theta_{1} \\right )} \\sin{\\left (\\theta_{2} \\right )} & \\cos{\\left (\\theta_{1} \\right )} & \\sin{\\left (\\theta_{1} \\right )} \\cos{\\left (\\theta_{2} \\right )}\\\\- \\sin{\\left (\\theta_{2} \\right )} \\cos{\\left (\\theta_{1} \\right )} & - \\sin{\\left (\\theta_{1} \\right )} & \\cos{\\left (\\theta_{1} \\right )} \\cos{\\left (\\theta_{2} \\right )}\\end{matrix}\\right], \\quad \\left[\\begin{matrix}\\cos{\\left (\\theta_{2} \\right )} & - \\sin{\\left (\\theta_{1} \\right )} \\sin{\\left (\\theta_{2} \\right )} & \\sin{\\left (\\theta_{2} \\right )} \\cos{\\left (\\theta_{1} \\right )}\\\\0 & \\cos{\\left (\\theta_{1} \\right )} & \\sin{\\left (\\theta_{1} \\right )}\\\\- \\sin{\\left (\\theta_{2} \\right )} & - \\sin{\\left (\\theta_{1} \\right )} \\cos{\\left (\\theta_{2} \\right )} & \\cos{\\left (\\theta_{1} \\right )} \\cos{\\left (\\theta_{2} \\right )}\\end{matrix}\\right]\\right )$$"
      ],
      "text/plain": [
       "⎛⎡    cos(θ₂)          0          sin(θ₂)    ⎤  ⎡cos(θ₂)   -sin(θ₁)⋅sin(θ₂)  s\n",
       "⎜⎢                                           ⎥  ⎢                             \n",
       "⎜⎢-sin(θ₁)⋅sin(θ₂)  cos(θ₁)   sin(θ₁)⋅cos(θ₂)⎥, ⎢   0          cos(θ₁)        \n",
       "⎜⎢                                           ⎥  ⎢                             \n",
       "⎝⎣-sin(θ₂)⋅cos(θ₁)  -sin(θ₁)  cos(θ₁)⋅cos(θ₂)⎦  ⎣-sin(θ₂)  -sin(θ₁)⋅cos(θ₂)  c\n",
       "\n",
       "in(θ₂)⋅cos(θ₁)⎤⎞\n",
       "              ⎥⎟\n",
       "   sin(θ₁)    ⎥⎟\n",
       "              ⎥⎟\n",
       "os(θ₁)⋅cos(θ₂)⎦⎠"
      ]
     },
     "execution_count": 51,
     "metadata": {},
     "output_type": "execute_result"
    }
   ],
   "source": [
    "o1, o2 = sm.symbols('theta1 theta2')\n",
    "\n",
    "Rx1 = sm.Matrix([[1, 0, 0],[0, sm.cos(o1), sm.sin(o1)],[0, -sm.sin(o1), sm.cos(o1)]])\n",
    "\n",
    "Ry2 = sm.Matrix([[sm.cos(o2), 0, sm.sin(o2)],[0, 1, 0],[-sm.sin(o2), 0, sm.cos(o2)]])\n",
    "\n",
    "Rz2 = sm.Matrix([[sm.cos(o2), sm.sin(o2), 0],[-sm.sin(o2), sm.cos(o2), 0], [0, 0, 1]])\n",
    "\n",
    "#Define Ry2 and Rz2\n",
    "\n",
    "#Check by doing the multiplication. for example\n",
    "\n",
    "Rx1 @ Ry2, Ry2 @ Rx1"
   ]
  },
  {
   "cell_type": "code",
   "execution_count": null,
   "metadata": {
    "scrolled": true
   },
   "outputs": [],
   "source": []
  },
  {
   "cell_type": "code",
   "execution_count": null,
   "metadata": {},
   "outputs": [],
   "source": []
  },
  {
   "cell_type": "markdown",
   "metadata": {
    "colab_type": "text",
    "id": "pPw5Epy9KOdm"
   },
   "source": [
    "### 6. Orthogonal Matrices\n",
    "\n",
    "The set of reflection matrices is defined by\n",
    "\n",
    "$$\n",
    "S(\\theta) = \n",
    "\\begin{pmatrix}\n",
    "\\cos 2\\theta & \\sin 2 \\theta \\\\\n",
    "\\sin 2\\theta & -\\cos 2 \\theta\n",
    "\\end{pmatrix}.\n",
    "$$\n",
    "\n",
    "a) Show how $S(\\frac{\\pi}{4})$ transforms the vector $(1\\;-1)^T$. \n",
    "\n",
    "b) Show that $S(\\theta)$ does not change any vectors that happen to lie on the axis of reflection.\n",
    "\n",
    "c) Show that these matrices are orthogonal for all $\\theta$. "
   ]
  },
  {
   "cell_type": "code",
   "execution_count": 27,
   "metadata": {},
   "outputs": [
    {
     "data": {
      "text/latex": [
       "$$\\left ( \\left[\\begin{matrix}1\\\\-1\\end{matrix}\\right], \\quad \\left[\\begin{matrix}0 & 1\\\\1 & 0\\end{matrix}\\right], \\quad \\left[\\begin{matrix}-1\\\\1\\end{matrix}\\right]\\right )$$"
      ],
      "text/plain": [
       "⎛⎡1 ⎤  ⎡0  1⎤  ⎡-1⎤⎞\n",
       "⎜⎢  ⎥, ⎢    ⎥, ⎢  ⎥⎟\n",
       "⎝⎣-1⎦  ⎣1  0⎦  ⎣1 ⎦⎠"
      ]
     },
     "execution_count": 27,
     "metadata": {},
     "output_type": "execute_result"
    }
   ],
   "source": [
    "S = lambda arg: sm.Matrix([[sm.cos(2*arg), sm.sin(2*arg)],\n",
    "                           [sm.sin(2*arg),-sm.cos(2*arg)]])\n",
    "v = sm.Matrix([[1],[-1]])\n",
    "v, S(sm.pi / 4), S(sm.pi / 4)@v"
   ]
  },
  {
   "cell_type": "markdown",
   "metadata": {},
   "source": [
    "Let's apply $S(\\frac{\\pi}{4})$ to $\\begin{pmatrix} x \\\\ y \\end{pmatrix}:$\n",
    "\n",
    "$$\n",
    "\\begin{pmatrix} 0 & 1 \\\\ 1 & 0 \\end{pmatrix}\n",
    "\\begin{pmatrix} x \\\\ y \\end{pmatrix}\n",
    "= \n",
    "(x)\\begin{pmatrix} 0 \\\\ 1 \\end{pmatrix} +\n",
    "(y)\\begin{pmatrix} 1 \\\\ 0 \\end{pmatrix}\n",
    " = \\begin{pmatrix} y \\\\ x \\end{pmatrix}$$"
   ]
  },
  {
   "cell_type": "code",
   "execution_count": 43,
   "metadata": {},
   "outputs": [
    {
     "data": {
      "text/latex": [
       "$$\\left[\\begin{matrix}\\sin{\\left (2 \\theta \\right )} \\cos{\\left (\\theta \\right )} + \\cos{\\left (\\theta \\right )} \\cos{\\left (2 \\theta \\right )}\\\\\\sin{\\left (2 \\theta \\right )} \\cos{\\left (\\theta \\right )} - \\cos{\\left (\\theta \\right )} \\cos{\\left (2 \\theta \\right )}\\end{matrix}\\right]$$"
      ],
      "text/plain": [
       "⎡sin(2⋅θ)⋅cos(θ) + cos(θ)⋅cos(2⋅θ)⎤\n",
       "⎢                                 ⎥\n",
       "⎣sin(2⋅θ)⋅cos(θ) - cos(θ)⋅cos(2⋅θ)⎦"
      ]
     },
     "execution_count": 43,
     "metadata": {},
     "output_type": "execute_result"
    }
   ],
   "source": [
    "o = sm.symbols('theta')\n",
    "S_theta = sm.Matrix([[sm.cos(2*o), sm.sin(2*o)],[sm.sin(2*o), -sm.cos(2*o)]])\n",
    "x_vec = sm.Matrix([[sm.cos(o)],[sm.cos(o)]])\n",
    "S_theta @ x_vec"
   ]
  },
  {
   "cell_type": "markdown",
   "metadata": {
    "ExecuteTime": {
     "end_time": "2019-10-23T18:01:28.779050Z",
     "start_time": "2019-10-23T18:01:28.773729Z"
    },
    "colab_type": "text",
    "id": "aNIRp4-uKOdm"
   },
   "source": [
    "### 7. Similarity\n",
    "\n",
    "Show that the following two matrices are similar.\n",
    "\n",
    "$\n",
    "A = \\begin{pmatrix}\n",
    "2 & 4 & 6 \\\\\n",
    "0 & 2 & 0 \\\\\n",
    "1 & 1 & 0\n",
    "\\end{pmatrix}\n",
    "$\n",
    "\n",
    "B = $\n",
    "\\begin{pmatrix}\n",
    "1 & -1 & 2 \\\\\n",
    "4 & 2 & 1 \\\\\n",
    "5 & 1 & 1\n",
    "\\end{pmatrix}\n",
    "$"
   ]
  },
  {
   "cell_type": "code",
   "execution_count": 46,
   "metadata": {},
   "outputs": [
    {
     "data": {
      "text/latex": [
       "$$\\operatorname{PurePoly}{\\left( \\lambda^{3} - 4 \\lambda^{2} - 2 \\lambda + 12, \\lambda, domain=\\mathbb{Z} \\right)}$$"
      ],
      "text/plain": [
       "PurePoly(_lambda**3 - 4*_lambda**2 - 2*_lambda + 12, _lambda, domain='ZZ')"
      ]
     },
     "execution_count": 46,
     "metadata": {},
     "output_type": "execute_result"
    }
   ],
   "source": [
    "A = sm.Matrix([[2,4,6],[0,2,0],[1,1,0]])\n",
    "\n",
    "A.charpoly()"
   ]
  },
  {
   "cell_type": "code",
   "execution_count": null,
   "metadata": {},
   "outputs": [],
   "source": []
  },
  {
   "cell_type": "markdown",
   "metadata": {
    "colab_type": "text",
    "id": "uL7YVvnYKOdn"
   },
   "source": [
    "### 8. Diagonalization\n",
    "\n",
    "Diagonalize the matrices in problem 7 (you can use `sympy`) and show they have the same diagonal form."
   ]
  },
  {
   "cell_type": "markdown",
   "metadata": {},
   "source": [
    "8)\n",
    "\n",
    "Because `diagonalize` returns a tuple $(P,D)$, where $D$ is diagonal and $M=PDP^{−1}$, we can implement this easily in python."
   ]
  },
  {
   "cell_type": "code",
   "execution_count": 13,
   "metadata": {
    "scrolled": true
   },
   "outputs": [
    {
     "data": {
      "text/latex": [
       "$$\\left ( \\left[\\begin{matrix}1 & 0 & 0\\\\0 & 0 & 1\\\\0 & 1 & 0\\end{matrix}\\right], \\quad \\left[\\begin{matrix}1 & 0 & 0\\\\0 & 1 & 0\\\\0 & 0 & 2\\end{matrix}\\right]\\right )$$"
      ],
      "text/plain": [
       "⎛⎡1  0  0⎤  ⎡1  0  0⎤⎞\n",
       "⎜⎢       ⎥  ⎢       ⎥⎟\n",
       "⎜⎢0  0  1⎥, ⎢0  1  0⎥⎟\n",
       "⎜⎢       ⎥  ⎢       ⎥⎟\n",
       "⎝⎣0  1  0⎦  ⎣0  0  2⎦⎠"
      ]
     },
     "execution_count": 13,
     "metadata": {},
     "output_type": "execute_result"
    }
   ],
   "source": [
    "A = sm.Matrix([[1, 0, 0],[0, 2, 0],[0, 0, 1]])\n",
    "B = sm.Matrix([[1, 0, 0],[0, 1, 0],[0, 0, 1]])\n",
    "A.diagonalize()"
   ]
  },
  {
   "cell_type": "code",
   "execution_count": 14,
   "metadata": {},
   "outputs": [
    {
     "data": {
      "text/latex": [
       "$$\\left ( \\left[\\begin{matrix}1 & 0 & 0\\\\0 & 1 & 0\\\\0 & 0 & 1\\end{matrix}\\right], \\quad \\left[\\begin{matrix}1 & 0 & 0\\\\0 & 1 & 0\\\\0 & 0 & 1\\end{matrix}\\right]\\right )$$"
      ],
      "text/plain": [
       "⎛⎡1  0  0⎤  ⎡1  0  0⎤⎞\n",
       "⎜⎢       ⎥  ⎢       ⎥⎟\n",
       "⎜⎢0  1  0⎥, ⎢0  1  0⎥⎟\n",
       "⎜⎢       ⎥  ⎢       ⎥⎟\n",
       "⎝⎣0  0  1⎦  ⎣0  0  1⎦⎠"
      ]
     },
     "execution_count": 14,
     "metadata": {},
     "output_type": "execute_result"
    }
   ],
   "source": [
    "B.diagonalize()"
   ]
  },
  {
   "cell_type": "markdown",
   "metadata": {
    "ExecuteTime": {
     "end_time": "2019-10-23T18:34:47.222384Z",
     "start_time": "2019-10-23T18:34:47.217657Z"
    },
    "colab_type": "text",
    "id": "xy2IGtImKOdo"
   },
   "source": [
    "### 9. Cayley Hamilton\n",
    "\n",
    "a) Use the Cayley Hamilton Theorem to come up with an expression for $A^n$ in terms of $n$ when \n",
    "\n",
    "$$\n",
    "A = \\begin{pmatrix}\n",
    "-\\frac{1}{2} & 1  \\\\\n",
    "0 & \\frac{1}{4}\n",
    "\\end{pmatrix} .\n",
    "$$\n",
    "\n",
    "b) Define $x_{k+1} = A x_k$ and argue that no matter what value $x_0$ is, $x_k$ converges to $(0 \\; 0)^T$. \n",
    "\n",
    "c) Choose $x_0 = (-2,3)^T$ and plot $x_k$ for $k = 0$ to $10$. Plot the two components of of $x_k$ as two separate trajectories overlaid on the same plot."
   ]
  },
  {
   "cell_type": "markdown",
   "metadata": {},
   "source": [
    "Hints:\n",
    "\n",
    "$\\bullet$ Begin by finding the characterist polynomial\n",
    "\n",
    "$\\bullet$ Next, substitute $s\\leftarrow A$ into the equation\n",
    "\n",
    "$\\bullet$ Multiply both sides by powers of A until $A^n$ is reached"
   ]
  },
  {
   "cell_type": "code",
   "execution_count": 80,
   "metadata": {},
   "outputs": [
    {
     "data": {
      "text/plain": [
       "[<matplotlib.lines.Line2D at 0x212cde78d30>]"
      ]
     },
     "execution_count": 80,
     "metadata": {},
     "output_type": "execute_result"
    },
    {
     "data": {
      "image/png": "[encoded data removed]",
      "text/plain": [
       "<matplotlib.figure.Figure at 0x212cde784e0>"
      ]
     },
     "metadata": {},
     "output_type": "display_data"
    }
   ],
   "source": [
    "#k = [i for i in range(1,11)] #get k=0,...,10\n",
    "k = np.arange(0,11)\n",
    "x0 = np.array([[-2], [3]])\n",
    "\n",
    "A = sm.Matrix([[sm.Rational(-1,2), 1],[0, sm.Rational(1,4)]]) \n",
    "xk1 = [] #put first x here\n",
    "xk2 = [] # put first y here\n",
    "\n",
    "for i in k:\n",
    "    result = A**i @ x0 #the next sequence value\n",
    "    xk1.append(result[0])\n",
    "    xk2.append(result[1])\n",
    "\n",
    "    \n",
    "    \n",
    "plt.plot(k,xk1)\n",
    "plt.plot(k,xk2)"
   ]
  },
  {
   "cell_type": "code",
   "execution_count": null,
   "metadata": {},
   "outputs": [],
   "source": []
  },
  {
   "cell_type": "markdown",
   "metadata": {
    "ExecuteTime": {
     "end_time": "2019-10-23T18:47:28.833529Z",
     "start_time": "2019-10-23T18:47:28.828866Z"
    },
    "colab_type": "text",
    "id": "6LCG5pZ9KOdo"
   },
   "source": [
    "### 10. Matrix Exponential Properties\n",
    "---\n",
    "\n",
    "Recall that for matrices $A$ and $B$ that it is not necessarily the case that $AB = BA$ (i.e. that $A$ and $B$ commute). Show that \n",
    "\n",
    "a) If $AB=BA$ then $e^Ae^B = e^Be^A$ using the definition of the matrix exponential as a series.\n",
    "\n",
    "b) Find an example in 2D where $A$ and $B$ do not commute and show that $e^Ae^B \\neq e^Be^A$."
   ]
  },
  {
   "cell_type": "markdown",
   "metadata": {},
   "source": [
    "10.a)\n",
    "\n",
    "Recall from lecture, when $A \\in \\mathbb{R}^{n\\times n}$, then the we define the **matrix exponential** $e^{A}$ by\n",
    "$$\n",
    "e^{A} \\triangleq I + A + \\frac{A^2}{2!} + \\frac{A^3}{3!} + \\dots\n",
    "$$\n",
    "Now assume $AB=BA$. By using the definition we see\n",
    "\n",
    "$$\n",
    "%step 1\n",
    "e^{A}e^{B} = (I + A + \\frac{A^2}{2!} + \\frac{A^3}{3!} + \\dots)(I + B + \\frac{B^2}{2!} + \\frac{B^3}{3!} + \\dots),\n",
    "$$\n",
    "\n",
    "and we can group the terms to use in a FOIL expansion\n",
    "\n",
    "$$\n",
    "%step 2: group terms\n",
    "e^{A}e^{B} = [I + (A + \\frac{A^2}{2!} + \\frac{A^3}{3!} + \\dots)][I + (B + \\frac{B^2}{2!} + \\frac{B^3}{3!} + \\dots)].\n",
    "$$\n",
    "\n"
   ]
  },
  {
   "cell_type": "markdown",
   "metadata": {},
   "source": [
    "10.b)\n",
    "\n",
    "We'll use two matrices from physics that are famous, the Pauli spin matrices:\n",
    "\n",
    "$\n",
    "\\sigma_x = \n",
    "\\begin{pmatrix}\n",
    "0 & 1  \\\\\n",
    "1 & 0\n",
    "\\end{pmatrix} \n",
    "$\n",
    "and\n",
    "$\n",
    "\\sigma_z = \n",
    "\\begin{pmatrix}\n",
    "1 & 0  \\\\\n",
    "0 & -1\n",
    "\\end{pmatrix}, \n",
    "$\n",
    "where:\n",
    "$\n",
    "\\sigma_x\\sigma_z = \n",
    "\\begin{pmatrix}\n",
    "0 & -1  \\\\\n",
    "1 & 0\n",
    "\\end{pmatrix} \n",
    "$\n",
    "and\n",
    "$\n",
    "\\sigma_z\\sigma_x = \n",
    "\\begin{pmatrix}\n",
    "0 & 1  \\\\\n",
    "-1 & 0\n",
    "\\end{pmatrix} \n",
    "$."
   ]
  },
  {
   "cell_type": "markdown",
   "metadata": {},
   "source": []
  },
  {
   "cell_type": "code",
   "execution_count": 212,
   "metadata": {},
   "outputs": [
    {
     "name": "stdout",
     "output_type": "stream",
     "text": [
      "False\n"
     ]
    },
    {
     "data": {
      "text/latex": [
       "$$\\left ( \\left[\\begin{matrix}e \\left(\\frac{1}{2 e} + \\frac{e}{2}\\right) & \\frac{1}{e} \\left(- \\frac{1}{2 e} + \\frac{e}{2}\\right)\\\\e \\left(- \\frac{1}{2 e} + \\frac{e}{2}\\right) & \\frac{1}{e} \\left(\\frac{1}{2 e} + \\frac{e}{2}\\right)\\end{matrix}\\right], \\quad \\left[\\begin{matrix}e \\left(\\frac{1}{2 e} + \\frac{e}{2}\\right) & e \\left(- \\frac{1}{2 e} + \\frac{e}{2}\\right)\\\\\\frac{1}{e} \\left(- \\frac{1}{2 e} + \\frac{e}{2}\\right) & \\frac{1}{e} \\left(\\frac{1}{2 e} + \\frac{e}{2}\\right)\\end{matrix}\\right]\\right )$$"
      ],
      "text/plain": [
       "⎛⎡   ⎛ -1    ⎞   ⎛   -1    ⎞    ⎤  ⎡    ⎛ -1    ⎞      ⎛   -1    ⎞⎤⎞\n",
       "⎜⎢   ⎜ℯ     ℯ⎟   ⎜  ℯ     ℯ⎟  -1⎥  ⎢    ⎜ℯ     ℯ⎟      ⎜  ℯ     ℯ⎟⎥⎟\n",
       "⎜⎢ ℯ⋅⎜─── + ─⎟   ⎜- ─── + ─⎟⋅ℯ  ⎥  ⎢  ℯ⋅⎜─── + ─⎟    ℯ⋅⎜- ─── + ─⎟⎥⎟\n",
       "⎜⎢   ⎝ 2    2⎠   ⎝   2    2⎠    ⎥  ⎢    ⎝ 2    2⎠      ⎝   2    2⎠⎥⎟\n",
       "⎜⎢                              ⎥, ⎢                              ⎥⎟\n",
       "⎜⎢  ⎛   -1    ⎞   ⎛ -1    ⎞     ⎥  ⎢⎛   -1    ⎞      ⎛ -1    ⎞    ⎥⎟\n",
       "⎜⎢  ⎜  ℯ     ℯ⎟   ⎜ℯ     ℯ⎟  -1 ⎥  ⎢⎜  ℯ     ℯ⎟  -1  ⎜ℯ     ℯ⎟  -1⎥⎟\n",
       "⎜⎢ℯ⋅⎜- ─── + ─⎟   ⎜─── + ─⎟⋅ℯ   ⎥  ⎢⎜- ─── + ─⎟⋅ℯ    ⎜─── + ─⎟⋅ℯ  ⎥⎟\n",
       "⎝⎣  ⎝   2    2⎠   ⎝ 2    2⎠     ⎦  ⎣⎝   2    2⎠      ⎝ 2    2⎠    ⎦⎠"
      ]
     },
     "execution_count": 212,
     "metadata": {},
     "output_type": "execute_result"
    }
   ],
   "source": [
    "sx = sm.Matrix([[0,1],[1,0]])\n",
    "sz = sm.Matrix([[1,0],[0,-1]])\n",
    "\n",
    "LHS = sm.exp(sx)*sm.exp(sz) \n",
    "RHS = sm.exp(sz)*sm.exp(sx)\n",
    "print(LHS == RHS)\n",
    "\n",
    "LHS, RHS"
   ]
  },
  {
   "cell_type": "markdown",
   "metadata": {
    "colab_type": "text",
    "id": "Su4WKSW6KOdp"
   },
   "source": [
    "### 11. Senators Revisited\n",
    "\n",
    "Repeat the clustering of senators by voting habit for the years 1999, 1979 and 1959. Plot them together with the 2019 plot in a grid of plots. Which years seem the most divided? \n",
    "\n",
    "Note you will need to get the data at [https://voteview.com/data](https://voteview.com/data). Choose \"Member's Votes\", \"Senate Only\", the desired year, and CSV file. \n",
    "\n",
    "I had to edit the CSV file (in a text editor or ExCEL) to remove the heading in the first row before loading the file.\n",
    "\n",
    "**Extra credit:** Color the each dot in the plots by whether the senator is a republican (red), democract (blue), or independent (green). This information is not in the data files above, so you'll need to find it elsewhere."
   ]
  },
  {
   "cell_type": "markdown",
   "metadata": {},
   "source": [
    "https://www.pnas.org/content/102/20/7057\n",
    "\n",
    "https://www.pnas.org/content/pnas/102/20/7057.full.pdf\n"
   ]
  },
  {
   "cell_type": "code",
   "execution_count": 0,
   "metadata": {
    "colab": {},
    "colab_type": "code",
    "id": "a8PaocsSKOdq"
   },
   "outputs": [],
   "source": []
  }
 ],
 "metadata": {
  "colab": {
   "name": "HW_04_LinearAlgebra_Due_10_30.ipynb",
   "provenance": []
  },
  "kernelspec": {
   "display_name": "Python 3",
   "language": "python",
   "name": "python3"
  },
  "language_info": {
   "codemirror_mode": {
    "name": "ipython",
    "version": 3
   },
   "file_extension": ".py",
   "mimetype": "text/x-python",
   "name": "python",
   "nbconvert_exporter": "python",
   "pygments_lexer": "ipython3",
   "version": "3.6.4"
  }
 },
 "nbformat": 4,
 "nbformat_minor": 1
}
