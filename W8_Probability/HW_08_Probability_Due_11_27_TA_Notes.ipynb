{
 "cells": [
  {
   "cell_type": "markdown",
   "metadata": {
    "ExecuteTime": {
     "end_time": "2019-09-24T16:05:23.746666Z",
     "start_time": "2019-09-24T16:05:23.741461Z"
    },
    "colab_type": "text",
    "id": "Ja198frtpuex"
   },
   "source": [
    "## EE 502 P: Analytical Methods for Electrical Engineering\n",
    "    \n",
    "# Homework 8: Probability and Markov Processes\n",
    "## Due 27 November, 2019 at 6:00 PM\n",
    "### <span style=\"color: red\">YOUR NAME HERE</span>\n",
    "\n",
    "Copyright &copy; 2019, University of Washington\n",
    "\n",
    "<hr>\n",
    "\n",
    "**Instructions**: Use this notebook as a template. Answer all questions using well formatted Markdown with embedded LaTeX equations, executable Jupyter cells, or both. Submit your homework solutions as an `.ipynb` file via Canvas.\n",
    "\n",
    "<span style=\"background: yellow; padding: 6px; border: 1pt solid black\">\n",
    "Although you may discuss the homework with others, you must turn in your own, original work.\n",
    "</span>\n",
    "\n",
    "**Things to remember:**\n",
    "- Use complete sentences. Equations should appear in text as grammatical elements.\n",
    "- Comment your code.\n",
    "- Label your axes. Title your plots. Use legends where appropriate. \n",
    "- Before submitting a notebook, choose Kernel -> Restart and Run All to make sure your notebook runs when the cells are evaluated in order. \n",
    "\n",
    "Note : Late homework will be accepted up to one week after the due date and will be worth 50% of its full credit score. "
   ]
  },
  {
   "cell_type": "markdown",
   "metadata": {
    "colab_type": "text",
    "id": "q95Zo7espuez"
   },
   "source": [
    "### 0. Warmup (Do not turn in)\n",
    "\n",
    "- Make sure you get download, read, and run the notebook for lecture 8. Work through the notebook cell by cell and see what happens when you change the expressions, and make up some of your own.\n",
    "- Most of the section on basic graph theory is from chapter the really, really, really good book:\n",
    "\n",
    "> Feller, [An Introduction to Probability Theory and Its Applications, Vol 1](https://www.amazon.com/Introduction-Probability-Theory-Applications-Vol/dp/0471257087), 3rd Edition, Wiley, 1968. \n",
    "\n",
    "- The material on Markov Chains can be found in numerous textbooks. A good online source is Chapter 11 of \n",
    "\n",
    "> Grinstead, [Introduction to Probability](http://www.dartmouth.edu/~chance/teaching_aids/books_articles/probability_book/book.html).\n",
    "\n"
   ]
  },
  {
   "cell_type": "code",
   "execution_count": 1,
   "metadata": {},
   "outputs": [],
   "source": [
    "import networkx as nx\n",
    "import math\n",
    "import scipy\n",
    "import scipy.integrate as spi\n",
    "import numpy as np\n",
    "import sympy as sm\n",
    "sm.init_printing(use_latex='mathjax')\n",
    "import matplotlib.pyplot as plt\n",
    "import itertools\n",
    "import random\n",
    "%matplotlib inline"
   ]
  },
  {
   "cell_type": "markdown",
   "metadata": {
    "colab_type": "text",
    "id": "C8NaEmHJpue0"
   },
   "source": [
    "### 1. Fundamental properties\n",
    "\n",
    "Use the definitions and basic properties of a probability function to show the following identities:\n",
    "\n",
    "a) $P[A \\oplus B] = P[A \\cap \\overline{B}] + P[\\overline{A} \\cap B]$ where $\\oplus$ is the exclusive or operation. \n",
    "\n",
    "b) $P[A \\oplus B] = P[A] + P[B] - 2 P[A\\cap B]$."
   ]
  },
  {
   "cell_type": "markdown",
   "metadata": {},
   "source": [
    "***\n",
    "1.a)\n",
    "\n",
    "Recall the definition of a probability distribution:\n",
    "\n",
    "**Def**: A **probability distribution** is a function $P : \\mathcal{P}(\\Omega) \\rightarrow [0,1]$ such that\n",
    "\n",
    "a) $P[A] \\geq 0$\n",
    "\n",
    "b) $P[\\Omega] = 1$ (Normalizability)\n",
    "\n",
    "c) $P[A \\cup B] = P[A] + P[B]$ whenever $A \\cap B = \\emptyset$. (Additivity)"
   ]
  },
  {
   "cell_type": "markdown",
   "metadata": {},
   "source": [
    "We begin our calculation by using the definition of exclusive-or (i.e. XOR, $\\oplus$):\n",
    "\n",
    "\n",
    "$$P[A \\oplus B] = P[(A \\cap \\overline{B}) \\cup (\\overline{A} \\cap B)].$$\n"
   ]
  },
  {
   "cell_type": "markdown",
   "metadata": {},
   "source": [
    "1.b)\n",
    "\n",
    "We notice that $A \\cap \\overline{B} = A - (A \\cap B)$ and $\\overline A \\cap B = B - (A \\cap B)$ and use the result from earlier.\n",
    "\n",
    "- https://www.wikiwand.com/en/Symmetric_difference\n",
    "\n",
    "***\n",
    "The picture to keep in mind is:\n",
    "\n",
    "![XOR of two sets A and B](https://upload.wikimedia.org/wikipedia/commons/4/46/Venn0110.svg)\n",
    "\n",
    "- https://www.wikiwand.com/en/Exclusive_or"
   ]
  },
  {
   "cell_type": "markdown",
   "metadata": {
    "colab_type": "text",
    "id": "iAe2ZC32pue1"
   },
   "source": [
    "## 2. Dice\n",
    "\n",
    "Suppose two dice are tossed, but that the dice are weighted so that 1 comes up as twice as likely as any other number for both dice. \n",
    "\n",
    "a) What is the probability of getting a sum of seven?\n",
    "\n",
    "b) What is the probability of getting a sum of seven given that the first die comes up 1?\n",
    "\n",
    "c) What is the probability neither die coming up 1?\n",
    "\n",
    "d) What is the PDF of the random variable $X$ defined to the the sum of the two dice?"
   ]
  },
  {
   "cell_type": "markdown",
   "metadata": {},
   "source": [
    "***\n",
    "2.a)\n",
    "\n",
    "Before we can even start, we need to find the probability of getting each face value individually. Let the weighted dice be denoted $D_1,D_2$ respectively. We're told that \"1\" comes up as twice as likely as any other number for both dice, so just considering any one\n",
    "\n",
    "| n:    | 1  | 2 | 3 | 4 | 5 | 6 |\n",
    "|-------|----|---|---|---|---|---|\n",
    "| P[n]: | 2a | a | a | a | a | a |\n",
    "\n",
    "holds for both dice.\n",
    "\n",
    "Use the additivity and and normalizability axioms to find $a$."
   ]
  },
  {
   "cell_type": "markdown",
   "metadata": {},
   "source": [
    "2.b)\n",
    "\n",
    "The probability of getting a sum of seven given that the first die comes up 1 is written:\n",
    "\n",
    "$$P[D_1 + D_2 = 7 | D_1 = 1] = \\frac{P[( D_1 = 1) \\cap (D_1 + D_2 = 7)]}{P[ D_1 = 1]}$$"
   ]
  },
  {
   "cell_type": "markdown",
   "metadata": {},
   "source": [
    "2.c)\n",
    "\n",
    "The probability neither die coming up 1 is: \n",
    "\n",
    "$$\n",
    "P[D_1\\neq 1 \\cap D_2 \\neq 1] = P[D_1\\in\\{2,3,4,5,6\\}\\cap D_2\\in\\{2,3,4,5,6\\}].\n",
    "$$\n",
    "\n",
    "Use independence and additivity of disjoint sets."
   ]
  },
  {
   "cell_type": "markdown",
   "metadata": {},
   "source": [
    "2.d)\n",
    "\n",
    "Recall, the definition of the PDF:\n",
    "\n",
    "**Def:** If $\\Omega$ is discrete, then the **probability density function** (PDF) of a random variable $X$ is\n",
    "\n",
    "$$\n",
    "f_X(x) = P[\\{ \\omega \\;|\\; X(\\omega) = x\\}].\n",
    "$$\n",
    "\n",
    "For us $X$ is the sum of the two weighted dice, i.e. $X = D_1+D_2$\n",
    "\n",
    "$$\n",
    "\\begin{align}\n",
    "f_X(x) &=  0 \\; \\mathrm{for} \\; x < 2 \\\\\n",
    "f_X(2) &= P[D_1=1,D_2=1] = 4/49 \\\\\n",
    "\\vdots\n",
    "\\end{align}\n",
    "$$"
   ]
  },
  {
   "cell_type": "code",
   "execution_count": null,
   "metadata": {},
   "outputs": [],
   "source": []
  },
  {
   "cell_type": "markdown",
   "metadata": {},
   "source": [
    "https://www.tablesgenerator.com/markdown_tables#"
   ]
  },
  {
   "cell_type": "markdown",
   "metadata": {
    "colab_type": "text",
    "id": "Zc559J3Dpue1"
   },
   "source": [
    "## 3. PDF and CDF\n",
    "\n",
    "Suppose that a random variable $X$ has PDF defined by\n",
    "\n",
    "$$\n",
    "f_X(x) = \\left \\{\n",
    "\\begin{array}{ll}\n",
    "a(1+x) & \\; \\mathrm{if} \\; -1 < x \\leq 0 \\\\\n",
    "a(1-x) & \\; \\mathrm{if} \\; 0 < x < 1 \\\\\n",
    "0 & \\; \\mathrm{otherwise}.\n",
    "\\end{array}\n",
    "\\right .\n",
    "$$\n",
    "\n",
    "a) What does the value of $a$ need to be to make $f_X$ a probability distribution? Plot $f_X$ for this value.\n",
    "\n",
    "b) Find and plot $F_X$.\n",
    "\n",
    "c) Find $b$ such that $P[X>b] = \\frac{1}{2} P[X \\leq b]$. "
   ]
  },
  {
   "cell_type": "markdown",
   "metadata": {},
   "source": [
    "***\n",
    "3.a)\n",
    "\n",
    "Recall from lecture the **Properties of the PDF:**\n",
    "\n",
    "a) $\\int_{-\\infty}^\\infty f_X(x) dx = 1$\n",
    "\n",
    "b) $F_X(x) = \\sum f_X(x)$, assuming $x$ takes on discrete values. \n",
    "\n",
    "Thus, we can find $a$ by normalizing:\n",
    "\n",
    "$$\\begin{align}\n",
    "1 &= \\int^{\\infty}_{-\\infty} f_X(x)dx \\\\\n",
    "\\end{align}$$"
   ]
  },
  {
   "cell_type": "code",
   "execution_count": 15,
   "metadata": {},
   "outputs": [
    {
     "data": {
      "image/png": "[encoded data removed]",
      "text/plain": [
       "<Figure size 432x288 with 1 Axes>"
      ]
     },
     "metadata": {
      "needs_background": "light"
     },
     "output_type": "display_data"
    }
   ],
   "source": [
    "# An example\n",
    "x = np.linspace(-1,1,100) # Has 100 points\n",
    "a = 0.5\n",
    "\n",
    "xs = x[x <= 0]\n",
    "f = list(np.where(xs, xs, -a)) # f(x) where x <= 0 Only has 50 points\n",
    "\n",
    "xs = x[x > 0]\n",
    "f += list(np.where(xs, 1/xs, -a))# f(x) where x > 0 Only has 50 points\n",
    "\n",
    "plt.plot(x,f)\n",
    "plt.show()"
   ]
  },
  {
   "cell_type": "code",
   "execution_count": 23,
   "metadata": {},
   "outputs": [
    {
     "data": {
      "text/plain": [
       "[<matplotlib.lines.Line2D at 0x26602d1bb88>]"
      ]
     },
     "execution_count": 23,
     "metadata": {},
     "output_type": "execute_result"
    },
    {
     "data": {
      "image/png": "[encoded data removed]",
      "text/plain": [
       "<Figure size 432x288 with 1 Axes>"
      ]
     },
     "metadata": {
      "needs_background": "light"
     },
     "output_type": "display_data"
    }
   ],
   "source": [
    "# Alternative Piece-wise plot \n",
    "\n",
    "pdf = []\n",
    "\n",
    "def f(x):\n",
    "    if x > 0:\n",
    "        return 1/x\n",
    "    if x < 0:\n",
    "        return  x\n",
    "\n",
    "for i in x:\n",
    "    pdf.append(f(i))\n",
    "    \n",
    "plt.plot(x, pdf)"
   ]
  },
  {
   "cell_type": "markdown",
   "metadata": {},
   "source": [
    "3.b)\n",
    "\n",
    "The CDF can be found by integrating the PDF piecewise and adding in previous accumulations:\n",
    "\n",
    "$$\n",
    "F_X(x) = \\int_{-\\infty}^{x}{f_X(t)}dt \\\\\n",
    "$$\n",
    " \n",
    "We know that coming from the left, there is no probability mass until we reach the support of $f_X(x)$, so\n",
    "\n",
    "$$\n",
    "F_X(x) = 0, \\; \\mathrm{if} \\; x\\leq -1.\n",
    "$$\n",
    "\n",
    "Next on the interval $x\\in(-1,0]$ we have nozero probability\n",
    "\n",
    "$$\\begin{align}\n",
    "F_X(x) &= \\int_{-1}^{x}{a(1+t)}dt \\\\\n",
    "\\end{align}\n",
    "$$\n",
    "\n",
    "On the interval $x\\in(0,1)$ we have already accumulated some probability and also need to integrate, thus\n",
    "\n",
    "$$\\begin{align}\n",
    "F_X(x) &= F_X(0) + \\int_{0}^{x}{a(1-t)}dt \\\\\n",
    "\\end{align}\n",
    "$$\n",
    "\n",
    "Finally, on $x\\geq 1$ all the probability mass has been accumulated so \n",
    "$$\n",
    "F_X(x) = 1, \\; \\mathrm{if} \\; x\\geq 1.\n",
    "$$"
   ]
  },
  {
   "cell_type": "code",
   "execution_count": null,
   "metadata": {},
   "outputs": [],
   "source": []
  },
  {
   "cell_type": "markdown",
   "metadata": {},
   "source": [
    "- https://math.stackexchange.com/questions/118742/finding-a-cdf-given-a-pdf"
   ]
  },
  {
   "cell_type": "markdown",
   "metadata": {},
   "source": [
    "3.c)\n",
    "\n",
    "In order to find $b$ such that $P[X>b] = \\frac{1}{2} P[X \\leq b]$ we need to go back to the definition of the CDF:\n",
    "\n",
    "$$\n",
    "F_X(x) = P[X \\leq x]\n",
    "$$\n",
    "Using the fact that probabilities sum to one over all space we see:\n",
    "\n",
    "$$\n",
    "P[X > x] = 1 - P[X \\leq x]. \n",
    "$$"
   ]
  },
  {
   "cell_type": "markdown",
   "metadata": {},
   "source": [
    "Looking at the graph we can tell that $b$ is somewhere around $(0,\\frac{1}{2})$, thus we'll use the relevant part of the CDF to find an expression for $b$:"
   ]
  },
  {
   "cell_type": "code",
   "execution_count": null,
   "metadata": {},
   "outputs": [],
   "source": []
  },
  {
   "cell_type": "markdown",
   "metadata": {},
   "source": [
    "- https://newonlinecourses.science.psu.edu/stat414/node/97/ \n",
    "- http://www.mathwave.com/articles/calculate-probability-distributions.html\n",
    "- https://math.stackexchange.com/questions/1720053/how-can-a-probability-density-function-pdf-be-greater-than-1\n",
    "- http://rovdownloads.com/attachments/newsletters/Newsletter%2004%20-%20Tips%20on%20Interpreting%20PDF,%20CDF,%20ICDF%20(4P).pdf"
   ]
  },
  {
   "cell_type": "markdown",
   "metadata": {
    "colab_type": "text",
    "id": "yR9E70hWpue3"
   },
   "source": [
    "## 4. Functions of a Random Variable\n",
    "\n",
    "Suppose $X$ is distributed uniformly in the interval $[0,1]$. That is, $f_X(x) = 1$ if $x \\in [0,1]$ and $f_X(x) = 0$ otherwise. \n",
    "\n",
    "a) What is the CDF of $X$?\n",
    "\n",
    "b) Let $Y = X^2$. Find and plot $F_Y$ and $f_Y$. \n",
    "\n",
    "c) Let $Z = - \\frac{1}{\\lambda} \\ln X$. Find and plot $F_Z$ and $f_Z$. "
   ]
  },
  {
   "cell_type": "markdown",
   "metadata": {},
   "source": [
    "***\n",
    "4.a)\n",
    "\n",
    "We know that coming from the left, there is no probability mass until we reach the support of $f_X(x)$, so\n",
    "\n",
    "$$\n",
    "F_X(x) = 0, \\; \\mathrm{if} \\; x < 0.\n",
    "$$\n",
    "\n",
    "On the interval $x\\in[0,1]$ we need to integrate.\n",
    "\n",
    "Finally, on $x > 1$ all the probability mass has been accumulated so \n",
    "$$\n",
    "F_X(x) = 1, \\; \\mathrm{if} \\; x > 1.\n",
    "$$\n"
   ]
  },
  {
   "cell_type": "code",
   "execution_count": null,
   "metadata": {},
   "outputs": [],
   "source": []
  },
  {
   "cell_type": "markdown",
   "metadata": {},
   "source": [
    "4.b)\n",
    "We consider $u(x) = y = x^2$ and inverse transform $u^{-1}(y) = v(y) = x = \\sqrt{y}$. For a strictly monotonic function of a continuous variable and on the interval of interest, $x\\in[0,1], y\\in[u(0),u(1)]$ we have:\n",
    "\n",
    "$$ \\begin{align}\n",
    "f_Y(y) &= f_X\\big(v(y)\\big)|v'(y)| \\\\\n",
    "\\end{align}\n",
    "$$\n",
    "and we can integrate to get the CDF."
   ]
  },
  {
   "cell_type": "markdown",
   "metadata": {},
   "source": [
    "$$\n",
    "F_Y(y) = \\int_{0}^{\\sqrt{y}}(1)dt\n",
    "$$"
   ]
  },
  {
   "cell_type": "code",
   "execution_count": null,
   "metadata": {},
   "outputs": [],
   "source": []
  },
  {
   "cell_type": "code",
   "execution_count": null,
   "metadata": {},
   "outputs": [],
   "source": []
  },
  {
   "cell_type": "markdown",
   "metadata": {},
   "source": [
    "4.c)\n",
    "\n",
    "For $Z = - \\frac{1}{\\lambda} \\ln X$ we define $u(X) = - \\frac{1}{\\lambda} \\ln X= Z$ and $v(Z) = e^{-\\lambda Z} = X$.\n",
    "\n",
    "$$\\begin{align}\n",
    "F_Z(z) &= P[Z\\leq z] \\\\\n",
    "&= P[- \\frac{1}{\\lambda} \\ln X \\leq z] \\\\\n",
    "&= P[\\ln{X} > -\\lambda z ] \\\\\n",
    "\\end{align}$$\n",
    "\n",
    "To get the PDF we simply differentiate the CDF:\n",
    "\n",
    "$1 = P[Z\\leq z] + P[Z > z]$\n",
    "\n",
    "GOAL:$ F_Z(z)$ on LHS and some function of$ F_X(\\cdot)$"
   ]
  },
  {
   "cell_type": "markdown",
   "metadata": {},
   "source": [
    "**ALTERNATIVELY**, we could procede like so:\n",
    "\n",
    "Let $f_X(x) = 1$ on $x\\in[0,1]$ and let $Z = u(x) = \\frac{-1}{\\lambda} \\ln X$ be a $1-1$ mapping from $X = \\{x : x\\in[0,1]\\}$ to $Z = \\{z : z\\geq 0\\}$. This is because $u(0)=\\infty$ and $u(1)=0$.\n",
    "\n",
    "We see that $X = u^{-1}(Z) = e^{-\\lambda Z}$ and $\\frac{dX}{dZ} = -\\lambda e^{-\\lambda Z}$."
   ]
  },
  {
   "cell_type": "code",
   "execution_count": null,
   "metadata": {},
   "outputs": [],
   "source": []
  },
  {
   "cell_type": "code",
   "execution_count": null,
   "metadata": {},
   "outputs": [],
   "source": []
  },
  {
   "cell_type": "code",
   "execution_count": null,
   "metadata": {
    "scrolled": true
   },
   "outputs": [],
   "source": []
  },
  {
   "cell_type": "markdown",
   "metadata": {},
   "source": [
    "- https://newonlinecourses.science.psu.edu/stat414/node/135/\n",
    "- https://newonlinecourses.science.psu.edu/stat414/node/156/\n",
    "- https://newonlinecourses.science.psu.edu/stat414/node/157/\n",
    "- https://newonlinecourses.science.psu.edu/stat414/node/158/\n",
    "- http://web.stanford.edu/class/archive/ee/ee178/ee178.1172/hw/hw7_sn.pdf\n",
    "- https://math.stackexchange.com/questions/1531572/density-of-x2-when-x-has-uniform-1-2-distribution\n",
    "- https://math.stackexchange.com/questions/305997/does-the-square-of-uniform-distribution-have-density-function\n",
    "- https://math.stackexchange.com/questions/2132210/let-u-be-a-uniform-random-variable-on-0-1\n",
    "- http://mathforum.org/library/drmath/view/70362.html"
   ]
  },
  {
   "cell_type": "markdown",
   "metadata": {
    "colab_type": "text",
    "id": "XBVRyxlDpue4"
   },
   "source": [
    "## 5. Markov Process Properties\n",
    "\n",
    "Consider the following three Markov Processes.\n",
    "\n",
    "<img src=\"https://github.com/klavins/EE502P/blob/master/images/HW-MPs.jpeg?raw=1\" width=80%>\n",
    "\n",
    "For each process,\n",
    "\n",
    "i) Find the period of each state.\n",
    "\n",
    "ii) Identify transient states.\n",
    "\n",
    "iii) Identify absorbing states and absorbing subsets of states.\n",
    "\n",
    "iv) Identify ergodic states."
   ]
  },
  {
   "cell_type": "markdown",
   "metadata": {},
   "source": [
    "***\n",
    "### Definition of Markov:\n",
    "\n",
    "**Def:** A process is **Markov** if \n",
    "\n",
    "$$\n",
    "P[X_{k+1} = x_{k+1} \\;|\\; X_k = x_k, ..., X_0 = x_0 ] = P[X_{k+1} = x_{k+1} \\;|\\; X_k = x_k ].\n",
    "$$\n",
    "\n",
    "That is, *the probability that the next state is equal to some value is dependent only on the current state.*\n",
    "\n",
    "**Def:** A Discrete time, discrete state Markov Process (also commonly called a **Markov Chain**) can be specified using a directed graph whose edges are labeled by a transition probability. In particular, let $G=(V,E)$ be a *directed* graph and let $Q:E \\rightarrow [0,1]$ be such that for all $u \\in V$\n",
    "\n",
    "$$\n",
    "\\sum_{v \\in \\Gamma(v)} Q(u,v) = 1.\n",
    "$$\n",
    "\n",
    "With this specification, the state $X_i$ is a random variable whose values range over $V$ and\n",
    "\n",
    "$$\n",
    "P[X_{k+1} = v \\;|\\; X_k = u] = Q(u,v). \n",
    "$$\n",
    "***\n",
    "\n",
    "### Properties:\n",
    "\n",
    "**Def:** A Markov Process is called **irreducible** if it is there is a path from any state to any other state. Otherwise it is called **reducible**. \n",
    "\n",
    "**Def:** A state $x$ has **period** $k$ if starting in state $x$, if $x$ is returned to, it is returned to in $mk$ steps for some $m$. If $k=1$ for a given state, then it is called **aperiodic**.\n",
    "\n",
    "**Def:** A state is **transient** if there is a nonzero probability that it will not be returned to once left. Otherwise the state is called **recurrent**. \n",
    "\n",
    "**Def:** A state is called **absorbing** if it cannot be left once reached. A subset of states is also called **absorbing** if it cannot be left once reached. \n",
    "\n",
    "**Def:** A state is **ergodic** if it is aperiodic and there is a nonzero probability that it will be visited an infinite number of times in any trajectory.\n",
    "\n",
    "***\n",
    "**Remark 1**: \n",
    "If $i$ is a recurrent state, then the set of states, $A(i)$, that are accessible from $i$ form a **recurrence class,** $R$, (i.e. the states in $A(i)$ are all accessible from each other and no state outside of $A(i)$ is accessible from them.)\n",
    "***\n",
    "**Remark 2:** \n",
    "1. A way to verify the aperodicity of a recurrence class  $R$ is to check whether there exists a special time $n\\geq 1$ and a special state $i\\in R$ from which all states in $R$ can be reached in $n$ steps. This means that for states $i,j$ where $i \\neq j$\n",
    "\n",
    "$$r_{ij}(n) > 0 \\text{ for } \\forall j\\in R.$$\n",
    "\n",
    "2. In other words: $\\forall n\\in N, r_{ij}(n) = P(X_n = i|X_0 = i) > 0 \\iff n \\in G(i)$. This means that the set $G(i)$ contains $n$ if we can take a sequence of $n$ arrows to go from state $i$ back to state $i$. We then let\n",
    "$d(i) = gcd(G(i))$. If $d(i) = 1$, the Markov Chain is aperiodic. \n",
    "\n",
    "   For example, in the lecture notebook, Markov Process c) has $G(i) = \\{3,6,9,\\dots\\}$ and $d(i) = gcd(G(i)) = 3$. Thus, it's periodic with period $3$.\n",
    "   \n",
    "   However, Markov Process d) in the lecture notebook has $G(i) = \\{1,3,4,5,6,\\dots\\}$ so  $d(i) = gcd(G(i)) = 1$. Thus, it is aperiodic."
   ]
  },
  {
   "cell_type": "markdown",
   "metadata": {},
   "source": [
    "#### Read this:\n",
    "\n",
    "https://bookdown.org/probability/beta/markov-chains.html\n",
    "\n",
    "#### Awesome book on Markov Chains and Probability Theory in general:\n",
    "\n",
    "http://athenasc.com/probbook.html\n",
    "\n",
    "#### Some nice, motivating resources:\n",
    "\n",
    "- https://www.ias.ac.in/article/fulltext/reso/018/04/0368-0377\n",
    "- https://michaelrzhang.github.io/assets/markovchains.pdf\n",
    "- http://www.math.uchicago.edu/~may/VIGRE/VIGRE2008/REUPapers/Nordstrom.pdf"
   ]
  },
  {
   "cell_type": "markdown",
   "metadata": {},
   "source": [
    "\n"
   ]
  },
  {
   "cell_type": "markdown",
   "metadata": {
    "colab_type": "text",
    "id": "6m6gy1Tjpue5"
   },
   "source": [
    "## 6. Stationary Distributions\n",
    "\n",
    "For each Markov Process in Problem 5:\n",
    "\n",
    "i) Find the update matrix $Q$.\n",
    "\n",
    "ii) Simulate the dynamics $p_{k+1} = p_k Q$ starting at the distribution in which $p_0(0) = 1$. Make a nice plot of the dynamics for each system. To do this, plot a 2D grid where grid point $(k,i)$ is a gray-scale square corresponding to the probability that the process is in state $i$ at time $k$ (the Gambler's Ruin example in the notes does this). \n",
    "\n",
    "iii) Find the left eigenvector(s) corresponding to the stationary distribution(s) of the process. If there is more than one such eigenvector, describe the space of stationary distributions as a linear combination of them.\n",
    "\n",
    "iv) Find the reachable stationary distribution assuming $p_0(0) = 1$. "
   ]
  },
  {
   "cell_type": "markdown",
   "metadata": {},
   "source": [
    "***\n",
    "6.i)\n",
    "\n",
    "The format of these matrices is:\n",
    "\n",
    "$$\n",
    "\\begin{matrix} & \\text{To:} \\\\\n",
    "\\text{From:} & \\begin{pmatrix}\n",
    "\\cdot & \\cdot & \\cdot \\\\\n",
    "\\cdot & \\cdot & \\cdot \\\\\n",
    "\\cdot & \\cdot & \\cdot \n",
    "\\end{pmatrix}\n",
    "\\end{matrix}\n",
    "$$"
   ]
  },
  {
   "cell_type": "code",
   "execution_count": 17,
   "metadata": {},
   "outputs": [],
   "source": [
    "# 6.ii)\n",
    "\n",
    "def dynamics(k, Q, p):\n",
    "    '''\n",
    "    Assumes k is the numer of steps\n",
    "            Q is the update matrix\n",
    "            p0 is the starting distribution.\n",
    "    Returns a matrix of trajectories.\n",
    "    '''\n",
    "    trajectory = [p]\n",
    "    for t in range(k):\n",
    "        p = p @ Q\n",
    "        trajectory.append(p)\n",
    "    trajectory = np.matrix(trajectory).transpose()\n",
    "\n",
    "    return trajectory"
   ]
  },
  {
   "cell_type": "code",
   "execution_count": 36,
   "metadata": {},
   "outputs": [],
   "source": [
    "def Qa(sympy=True):\n",
    "    '''\n",
    "    Assumes:    \n",
    "    Returns:\n",
    "    '''\n",
    "    a = 0.5\n",
    "    b = 0.25\n",
    "    Qa = [[0.0, a, a], [a, 0.0, a], [a, a, 0.0]]\n",
    "    if sympy == True:\n",
    "        Qa = sm.Matrix(Qa)\n",
    "    else:    \n",
    "        Qa = np.asarray(Qa)\n",
    "    return Qa\n"
   ]
  },
  {
   "cell_type": "code",
   "execution_count": null,
   "metadata": {},
   "outputs": [],
   "source": [
    "#Plot using the relevant code from the notes"
   ]
  },
  {
   "cell_type": "markdown",
   "metadata": {},
   "source": [
    "6.iii)\n",
    "\n",
    "Recall that a stationary probability vector  $p^*$  has the property that $p^*Q = p^*$. Thus,  $p^∗$  is a left eigenvector of  $Q$  with left eigenvalue 1. This corresponds to the **stationary distribution** of the process.\n",
    "\n",
    "Also, a left eigenvector of $Q$ is equivalent to the transpose of a right eigenvector of $Q^T$, with the same eigenvalue. Moreover, because $det(Q-sI)=det(Q^T-sI) \\implies$ the eigenvalues of the left eigenvectors of $Q$ are the same as the eigenvalues of the right eigenvectors of $Q^T$."
   ]
  },
  {
   "cell_type": "code",
   "execution_count": 35,
   "metadata": {},
   "outputs": [
    {
     "data": {
      "text/latex": [
       "$\\displaystyle \\left[ \\left( -0.5, \\  2, \\  \\left[ \\left[\\begin{matrix}-1.0 & 1.0 & 0\\end{matrix}\\right], \\  \\left[\\begin{matrix}-1.0 & 0 & 1.0\\end{matrix}\\right]\\right]\\right), \\  \\left( 1.0, \\  1, \\  \\left[ \\left[\\begin{matrix}1.0 & 1.0 & 1.0\\end{matrix}\\right]\\right]\\right)\\right]$"
      ],
      "text/plain": [
       "[(-0.5, 2, [[-1.0  1.0  0], [-1.0  0  1.0]]), (1.0, 1, [[1.0  1.0  1.0]])]"
      ]
     },
     "execution_count": 35,
     "metadata": {},
     "output_type": "execute_result"
    }
   ],
   "source": [
    "Qa(sympy=True).left_eigenvects() # Returns [(eigenval, multiplicity, eigenvector(s)),...]"
   ]
  },
  {
   "cell_type": "markdown",
   "metadata": {},
   "source": [
    "***\n",
    "6.iv)\n",
    "\n",
    "To determine the **reachable** stationary distribution assuming $p_0(0) = 1$ (i.e. we start at node $0$), we need to use the update rule:\n",
    "\n",
    "$$\n",
    "p_{k+1} = p_k Q .\n",
    "$$\n",
    "\n",
    "Note that by substituting in $p_{k-1}Q$ and iterating, we can show that\n",
    "\n",
    "$$\n",
    "p_{k} = p_0 Q^k\n",
    "$$\n",
    "\n",
    "If we find $Q^k$ and take the limit as $k \\rightarrow \\infty$ we should find the steady state distribution. (If the limit exists!)"
   ]
  },
  {
   "cell_type": "markdown",
   "metadata": {},
   "source": [
    "***\n",
    "#### Alternative method using the eigenstructure of the update matrix:\n",
    "\n",
    "Let $M$ be the matrix of eigenvectors of $Q$ stacked from left-to-right (called the *modal matrix*) and $\\Lambda$ be the matrix of eigenvalues of $Q$. Then:\n",
    "\n",
    "$$\n",
    "\\begin{align}\n",
    "\\Pi &= \\lim \\limits_{n\\rightarrow \\infty} Q^n \\\\\n",
    "&= \\lim \\limits_{n\\rightarrow \\infty} (M \\Lambda M^{-1})^n \\\\\n",
    "&= \\lim \\limits_{n\\rightarrow \\infty} M \\Lambda^{n} M^{-1}\n",
    "\\end{align}\n",
    "$$\n",
    "\n",
    "is the equilibrium probability matrix.\n",
    "\n",
    "**Remarks:**\n",
    "- The presence of more than one $\\lambda(Q) = 1$ indicates the presence of **sub-Markov chains**.\n",
    "- If a column in $\\Pi$ is all zeros, then the state associated with that column is *transient*.\n",
    "- We can partition $\\Pi$ into block structures that are associated with closed sets of recurring states and transient states."
   ]
  },
  {
   "cell_type": "markdown",
   "metadata": {},
   "source": [
    "### Readings and other resources:\n",
    "\n",
    "- https://www.stat.auckland.ac.nz/~fewster/325/notes/ch8.pdf\n",
    "- https://www.stat.auckland.ac.nz/~fewster/325/notes/ch9.pdf\n",
    "\n",
    "- https://www.math.wustl.edu/~feres/Math450Lect04.pdf"
   ]
  },
  {
   "cell_type": "markdown",
   "metadata": {
    "colab_type": "text",
    "id": "nTPBtnXNpue6"
   },
   "source": [
    "## 7. Means and standard deviations\n",
    "\n",
    "For each process in problem 6, find the mean and standard deviation of the value of the state in the reachable stationary distribution. For example, in process (a), the stationary distribution has all states equally likely, so the mean would be $\\frac{1}{3} (0+1+2) = 1$. "
   ]
  },
  {
   "cell_type": "markdown",
   "metadata": {},
   "source": [
    "***\n",
    "\n",
    "### Review:\n",
    "\n",
    "The **weighted arithmetic mean** in the discrete setting is described by:\n",
    "\n",
    "$$\\mu = \\frac {\\sum \\limits_{i=1}^n w_i x_i } {\\sum \\limits _{i=1}^{n}w_{i}} = E[X] = \\sum_x x \\;f_X(x).$$\n",
    "\n",
    "The **variance** (which is the square of the standard deviation) is described by:\n",
    "\n",
    "$$\\sigma^2 = E[X^2] - \\mu^2.$$"
   ]
  },
  {
   "cell_type": "code",
   "execution_count": null,
   "metadata": {},
   "outputs": [],
   "source": []
  },
  {
   "cell_type": "code",
   "execution_count": null,
   "metadata": {},
   "outputs": [],
   "source": []
  },
  {
   "cell_type": "markdown",
   "metadata": {
    "colab_type": "text",
    "id": "C7Ifk4N3pue6"
   },
   "source": [
    "## 8. The Page Rank Algorithm\n",
    "\n",
    "For the following problem, use the `networkx` `pagerank` function or find the eigenvector of the graph as a Markov Process corresponding to the eigenvector 1. Use undirected graphs.\n",
    "\n",
    "a) Find a 10 node, connected graph in which all nodes are ranked equally or explain why such a graph does not exist.\n",
    "\n",
    "b) Find a 10 node, connected graph in which all nodes are ranked differently or explain why such a graph does not exist.\n",
    "\n",
    "c) Find a 10 node, connected graph in which there are two sets $A$ and $B$ of $5$ nodes for which all nodes in $A$ are ranked the same and all nodes in $B$ are ranked the same, but different from nodes in $A$. Or explain why such a graph does not exist."
   ]
  },
  {
   "cell_type": "code",
   "execution_count": null,
   "metadata": {},
   "outputs": [],
   "source": []
  },
  {
   "cell_type": "code",
   "execution_count": null,
   "metadata": {},
   "outputs": [],
   "source": []
  },
  {
   "cell_type": "code",
   "execution_count": null,
   "metadata": {},
   "outputs": [],
   "source": []
  }
 ],
 "metadata": {
  "colab": {
   "name": "HW_08_Probability_Due_11_27.ipynb",
   "provenance": []
  },
  "kernelspec": {
   "display_name": "Python 3",
   "language": "python",
   "name": "python3"
  },
  "language_info": {
   "codemirror_mode": {
    "name": "ipython",
    "version": 3
   },
   "file_extension": ".py",
   "mimetype": "text/x-python",
   "name": "python",
   "nbconvert_exporter": "python",
   "pygments_lexer": "ipython3",
   "version": "3.7.4"
  }
 },
 "nbformat": 4,
 "nbformat_minor": 1
}
