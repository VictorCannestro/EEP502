{
 "cells": [
  {
   "cell_type": "code",
   "execution_count": 1,
   "metadata": {
    "ExecuteTime": {
     "end_time": "2019-12-05T20:21:16.328225Z",
     "start_time": "2019-12-05T20:21:15.276582Z"
    }
   },
   "outputs": [],
   "source": [
    "import sys\n",
    "import random\n",
    "import networkx as nx\n",
    "import numpy as np\n",
    "%matplotlib inline"
   ]
  },
  {
   "cell_type": "code",
   "execution_count": 5,
   "metadata": {
    "ExecuteTime": {
     "end_time": "2019-12-05T20:21:49.861841Z",
     "start_time": "2019-12-05T20:21:49.138120Z"
    }
   },
   "outputs": [],
   "source": [
    "file = open('out.dblp-author.txt',mode='r')\n",
    "text = file.read()\n",
    "file.close()"
   ]
  },
  {
   "cell_type": "code",
   "execution_count": 6,
   "metadata": {
    "ExecuteTime": {
     "end_time": "2019-12-05T20:21:53.114257Z",
     "start_time": "2019-12-05T20:21:51.560857Z"
    }
   },
   "outputs": [],
   "source": [
    "data = text.split()"
   ]
  },
  {
   "cell_type": "code",
   "execution_count": 7,
   "metadata": {
    "ExecuteTime": {
     "end_time": "2019-12-05T20:23:05.049867Z",
     "start_time": "2019-12-05T20:21:53.116460Z"
    }
   },
   "outputs": [
    {
     "name": "stdout",
     "output_type": "stream",
     "text": [
      "100.00%      \r"
     ]
    }
   ],
   "source": [
    "G = nx.DiGraph()\n",
    "n = len(data)//2\n",
    "for i in range(n):\n",
    "    author = int(data[2*i])\n",
    "    paper = -int(data[2*i+1])\n",
    "    G.add_edge(author,paper)\n",
    "    if i % 100 == 0:\n",
    "        sys.stdout.write(\"%.2lf%%      \\r\" % (100*i/n))"
   ]
  },
  {
   "cell_type": "code",
   "execution_count": 8,
   "metadata": {
    "ExecuteTime": {
     "end_time": "2019-12-05T20:23:18.472812Z",
     "start_time": "2019-12-05T20:23:05.056006Z"
    }
   },
   "outputs": [],
   "source": [
    "author_degrees = [G.degree(i) for i in G.nodes() if i > 0]\n",
    "paper_degrees = [G.degree(i) for i in G.nodes() if -i > 0]"
   ]
  },
  {
   "cell_type": "code",
   "execution_count": 9,
   "metadata": {
    "ExecuteTime": {
     "end_time": "2019-12-05T20:23:18.522952Z",
     "start_time": "2019-12-05T20:23:18.474560Z"
    }
   },
   "outputs": [
    {
     "data": {
      "text/plain": [
       "951"
      ]
     },
     "execution_count": 9,
     "metadata": {},
     "output_type": "execute_result"
    }
   ],
   "source": [
    "# Author with most papers\n",
    "max(author_degrees)"
   ]
  },
  {
   "cell_type": "code",
   "execution_count": 10,
   "metadata": {
    "ExecuteTime": {
     "end_time": "2019-12-05T20:23:18.661870Z",
     "start_time": "2019-12-05T20:23:18.527231Z"
    }
   },
   "outputs": [
    {
     "data": {
      "text/plain": [
       "69115"
      ]
     },
     "execution_count": 10,
     "metadata": {},
     "output_type": "execute_result"
    }
   ],
   "source": [
    "# Index of author with most papers\n",
    "np.argmax(np.array(author_degrees))"
   ]
  },
  {
   "cell_type": "code",
   "execution_count": null,
   "metadata": {
    "collapsed": true
   },
   "outputs": [],
   "source": []
  }
 ],
 "metadata": {
  "kernelspec": {
   "display_name": "Python 3",
   "language": "python",
   "name": "python3"
  },
  "language_info": {
   "codemirror_mode": {
    "name": "ipython",
    "version": 3
   },
   "file_extension": ".py",
   "mimetype": "text/x-python",
   "name": "python",
   "nbconvert_exporter": "python",
   "pygments_lexer": "ipython3",
   "version": "3.7.4"
  }
 },
 "nbformat": 4,
 "nbformat_minor": 2
}
