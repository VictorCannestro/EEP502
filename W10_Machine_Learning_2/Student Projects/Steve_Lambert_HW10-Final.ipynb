{
 "cells": [
  {
   "cell_type": "markdown",
   "metadata": {},
   "source": [
    "# Hallucinating the Constitution\n",
    "\n",
    "EE P 502 - Autumn 2019 - HW 10  \n",
    "Steve Lambert\n",
    "\n",
    "Consider the constitution of the United States:\n",
    "\n",
    "> https://www.usconstitution.net/const.txt .\n",
    "\n",
    "This document contains upper- and lower-case letters, numbers, and basic punctuation. \n",
    "\n",
    "**One letter prediction:**\n",
    "\n",
    "1. Find the set of all characters used in the document. Call the number of characters $n$. \n",
    "2. Create an $n \\times n$ matrix whose $i,j$ entry is the probability that the next character is $j$ given that the current character is $i$. Estimate this probability by looking at all occurrences of character $i$ in the document and the number of times character $j$ immediately follows it. \n",
    "3. Simulate this system as a Markov chain that starts with an arbitrary capital letter and continues until it gets to a space. Produce $100$ random \"words\" this way. How many of them are actual words? Use a [Scrabble dictionary](https://scrabble.hasbro.com/en-us/tools#dictionary) if you are not certain whether a given sequence is a word. \n",
    "\n",
    "**Two letter prediction:**\n",
    "\n",
    "1. Create an $n \\times n \\times n$ tensor whose $i,j,k$ entry is the probability that the next character is $k$ given that the current character is $j$ and the previous character is $i$. Use the document to empirically find these probabilities. \n",
    "2. Use this model to construct random words. \n",
    "\n",
    "**Sentence prediction:**\n",
    "\n",
    "Do a one word prediction, but use all the unique *words* in the document. Hallucinate sentences. Consider a punctuation mark as a word. \n",
    "\n",
    "**Notes:** Use `open` and `file.read` to read in the file as a string. For the sentence. Use `replace` to add space before punctuation and then `split()` to turn the string into a list. Use a `DiGraph` from the `networkx` library to store the data. Note that you can make weighted edges by adding data to the edges, as in [this document](https://networkx.github.io/documentation/stable/auto_examples/drawing/plot_weighted_graph.html)."
   ]
  },
  {
   "cell_type": "markdown",
   "metadata": {},
   "source": [
    "# Setup\n",
    "\n",
    "First, let's import the packages we'll need:"
   ]
  },
  {
   "cell_type": "code",
   "execution_count": 1,
   "metadata": {},
   "outputs": [],
   "source": [
    "import numpy as np\n",
    "import matplotlib.pyplot as plt\n",
    "import random\n",
    "import networkx as nx\n",
    "import sympy as sm\n",
    "sm.init_printing(use_latex='mathjax')\n",
    "%matplotlib inline"
   ]
  },
  {
   "cell_type": "markdown",
   "metadata": {},
   "source": [
    "To make word checking easier and faster, we can compare our results against a dictionary from nltk. We can then check for words in the way shown below."
   ]
  },
  {
   "cell_type": "code",
   "execution_count": 2,
   "metadata": {},
   "outputs": [
    {
     "name": "stderr",
     "output_type": "stream",
     "text": [
      "[nltk_data] Downloading package words to\n",
      "[nltk_data]     C:\\Users\\steve\\AppData\\Roaming\\nltk_data...\n",
      "[nltk_data]   Package words is already up-to-date!\n"
     ]
    }
   ],
   "source": [
    "# Downloading and importing the packages\n",
    "\n",
    "import nltk # can use to check for words\n",
    "nltk.download('words')\n",
    "from nltk.corpus import words"
   ]
  },
  {
   "cell_type": "code",
   "execution_count": 3,
   "metadata": {},
   "outputs": [
    {
     "data": {
      "text/plain": [
       "True"
      ]
     },
     "execution_count": 3,
     "metadata": {},
     "output_type": "execute_result"
    }
   ],
   "source": [
    "# Quick test\n",
    "\n",
    "'constitution' in words.words()"
   ]
  },
  {
   "cell_type": "markdown",
   "metadata": {},
   "source": [
    "After saving the constitution to a local text file, we can easily load it into python using `open` and `file.read`.\n",
    "\n",
    "I used a second file 'constitution_small.txt', which contains only the first line of the constitution, to run tests."
   ]
  },
  {
   "cell_type": "code",
   "execution_count": 4,
   "metadata": {},
   "outputs": [],
   "source": [
    "# Loading the constitution text file and storing it in the variable 'text'\n",
    "\n",
    "file = open('constitution_full.txt',mode='r') # entire constitution\n",
    "file1 = open('constitution_small.txt', mode='r') # first line only, for testing\n",
    "text = file.read() # save the data as a string\n",
    "text_short = file1.read()\n",
    "file.close()\n",
    "file1.close()"
   ]
  },
  {
   "cell_type": "markdown",
   "metadata": {},
   "source": [
    "Finally, to finish setting up, we will need a way to map back and forth between characters and integers. I chose to use two python dictionaries: one with keys as the characters and the other with keys as the integers. To find the unique characters used in the constitution, I looped through the entire file and added them to a set (this is done below with the variable `char_set`). The index order is the order that the set printed them in, so I used that. \n",
    "\n",
    "Note: X and Z never appear in the constitution. I added them to the map for completeness, but this will cause issues later on."
   ]
  },
  {
   "cell_type": "code",
   "execution_count": 5,
   "metadata": {},
   "outputs": [],
   "source": [
    "# Dictionary for mapping characters to integers (indices)\n",
    "\n",
    "char_map = {'\\n' : 0,\n",
    " ' ': 1,\n",
    " '\"': 2,\n",
    " '(': 3,\n",
    " ')': 4,\n",
    " ',': 5,\n",
    " '-': 6,\n",
    " '.': 7,\n",
    " '0': 8,\n",
    " '1': 9,\n",
    " '2': 10,\n",
    " '3': 11,\n",
    " '4': 12,\n",
    " '5': 13,\n",
    " '6': 14,\n",
    " '7': 15,\n",
    " '8': 16,\n",
    " '9': 17,\n",
    " ':': 18,\n",
    " ';': 19,\n",
    " 'A': 20,\n",
    " 'B': 21,\n",
    " 'C': 22,\n",
    " 'D': 23,\n",
    " 'E': 24,\n",
    " 'F': 25,\n",
    " 'G': 26,\n",
    " 'H': 27,\n",
    " 'I': 28,\n",
    " 'J': 29,\n",
    " 'K': 30,\n",
    " 'L': 31,\n",
    " 'M': 32,\n",
    " 'N': 33,\n",
    " 'O': 34,\n",
    " 'P': 35,\n",
    " 'Q': 36,\n",
    " 'R': 37,\n",
    " 'S': 38,\n",
    " 'T': 39,\n",
    " 'U': 40,\n",
    " 'V': 41,\n",
    " 'W': 42,\n",
    " 'X': 43,\n",
    " 'Y': 44,\n",
    " 'Z': 45,\n",
    " 'a': 46,\n",
    " 'b': 47,\n",
    " 'c': 48,\n",
    " 'd': 49,\n",
    " 'e': 50,\n",
    " 'f': 51,\n",
    " 'g': 52,\n",
    " 'h': 53,\n",
    " 'i': 54,\n",
    " 'j': 55,\n",
    " 'k': 56,\n",
    " 'l': 57,\n",
    " 'm': 58,\n",
    " 'n': 59,\n",
    " 'o': 60,\n",
    " 'p': 61,\n",
    " 'q': 62,\n",
    " 'r': 63,\n",
    " 's': 64,\n",
    " 't': 65,\n",
    " 'u': 66,\n",
    " 'v': 67,\n",
    " 'w': 68,\n",
    " 'x': 69,\n",
    " 'y': 70,\n",
    " 'z': 71}\n",
    "\n",
    "# Reversing the above to get a dictionary from integers (indices) to characters\n",
    "int_map = dict((reversed(item) for item in char_map.items()))\n"
   ]
  },
  {
   "cell_type": "markdown",
   "metadata": {},
   "source": [
    "# Data Collection\n",
    "\n",
    "Because the one letter and two letter prediction problems use matrices, they can be computed at the same time by setting up the data correctly. \n",
    "\n",
    "First, let's determine how to store the needed data for the one letter problem. We need an \"$n \\times n$ matrix whose $i,j$ entry is the probability that the next character is $j$ given that the current character is $i$.\" $n$ in this case is $72$ because that is the number of unique characters (and the max value in the dictionary above).\n",
    "\n",
    "So, we will use a $72\\times 72$ matrix and initialize it with zeros. Each row represents the current character and each column represents the next character.\n",
    "\n",
    "To find the probability that a certain character follows another, we need the total number of times each unique character appears in the text and the total number of time each unique character follows that first character. \n",
    "\n",
    "So, our first data structure will be a $72\\times 72$ matrix that tracks character occurences in this way. From that matrix, we can compute probabilities. So we will need a second matrix to store the probabilities.\n"
   ]
  },
  {
   "cell_type": "code",
   "execution_count": 6,
   "metadata": {},
   "outputs": [],
   "source": [
    "# Initializing matrices for one letter problem\n",
    "\n",
    "one_letter_counts = np.zeros((72,72))\n",
    "one_letter_probs = np.zeros((72,72))"
   ]
  },
  {
   "cell_type": "markdown",
   "metadata": {},
   "source": [
    "To fill these matrices, we loop through the text file character by character. This is demonstrated with the test file:"
   ]
  },
  {
   "cell_type": "code",
   "execution_count": 7,
   "metadata": {},
   "outputs": [
    {
     "name": "stdout",
     "output_type": "stream",
     "text": [
      "['W', 'e', ' ', 't', 'h', 'e', ' ', 'P', 'e', 'o', 'p', 'l', 'e', ' ', 'o', 'f', ' ', 't', 'h', 'e', ' ', 'U', 'n', 'i', 't', 'e', 'd', ' ', 'S', 't', 'a', 't', 'e', 's', ',', ' ', 'i', 'n', ' ', 'O', 'r', 'd', 'e', 'r', ' ', 't', 'o', ' ', 'f', 'o', 'r', 'm', ' ', 'a', ' ', 'm', 'o', 'r', 'e', ' ', 'p', 'e', 'r', 'f', 'e', 'c', 't', ' ', 'U', 'n', 'i', 'o', 'n', ',', '\\n', '\\n', '\\n']\n"
     ]
    }
   ],
   "source": [
    "# Looping through the test file and printing each character\n",
    "\n",
    "test = []\n",
    "for char in text_short:\n",
    "    test.append(char)\n",
    "print(test)"
   ]
  },
  {
   "cell_type": "markdown",
   "metadata": {},
   "source": [
    "While we loop through the entire constitution, we need to keep track of the previous character. Then, on each loop, we increment the `[previous,current]` entry of our counting matrix by one. (`previous` and `current` are characters, so they are translated to integers using the dictionary we created).\n",
    "\n",
    "Before implementing this loop, we can consider the two letter problem. If the necessary data can be gathered for both problems in a single loop, that is much more efficient. \n",
    "\n",
    "Much of the process is the same, but for two letters, we need \"an $n \\times n \\times n$ tensor whose $i,j,k$ entry is the probability that the next character is $k$ given that the current character is $j$ and the previous character is $i$.\"\n",
    "\n",
    "So, we will use a $72 \\times 72 \\times 72$ matrix and initialize it with zeros. This time, the rows representing the next character are stored in the $i$, $j$ location in the matrix. $j$, the \"columns\", represents the previous character and $i$, the \"rows\", represents the character two spots in front of the current character."
   ]
  },
  {
   "cell_type": "code",
   "execution_count": 8,
   "metadata": {},
   "outputs": [],
   "source": [
    "# Initializing the matrices for the two letter problem\n",
    "\n",
    "two_letter_counts = np.zeros((72,72,72))\n",
    "two_letter_probs = np.zeros((72,72,72))"
   ]
  },
  {
   "cell_type": "markdown",
   "metadata": {},
   "source": [
    "For the single letter problem, we needed to track only the immediately previous character. This is simple to do with a single variable. For the two letter problem, we need to track the previous two characters. For this, I used a `deque`, a double-ended queue. By setting the max size to $2$ and appending the current character on each loop, this variable always stored the last two characters. "
   ]
  },
  {
   "cell_type": "code",
   "execution_count": 9,
   "metadata": {},
   "outputs": [],
   "source": [
    "# Importing deque to store the previous two characters\n",
    "\n",
    "from collections import deque "
   ]
  },
  {
   "cell_type": "markdown",
   "metadata": {},
   "source": [
    "We can now loop through the entire file, incrementing the counts for both matrices as we encounter each character. The \"previous\" deque needs to be initialized to some value for the code to work, so I put two spaces in it because spaces are very common and two extra spaces shouldn't mess up the probabilities."
   ]
  },
  {
   "cell_type": "code",
   "execution_count": 10,
   "metadata": {},
   "outputs": [],
   "source": [
    "# Initializing data strucures\n",
    "char_set = set() # set of all unique characters\n",
    "char_dict = {} # count of each unique character, not needed, just for curiosity/verification\n",
    "previous = deque([' ', ' '], maxlen=2) # stores characters from previous two loops\n",
    "\n",
    "# Looping through the constitution by character\n",
    "for char in text:\n",
    "    char_set.add(char)\n",
    "    one_letter_counts[char_map[previous[1]], char_map[char]] += 1 # increment for one letter\n",
    "    two_letter_counts[char_map[previous[0]], char_map[previous[1]], char_map[char]] += 1 # increment for two letters\n",
    "    previous.append(char) # add to the deque\n",
    "   \n",
    "    if char in char_dict:\n",
    "        char_dict[char] += 1\n",
    "    else:\n",
    "        char_dict[char] = 1"
   ]
  },
  {
   "cell_type": "markdown",
   "metadata": {},
   "source": [
    "After looping, we can run some sanity checks to verify it worked correctly. Let's look at the row representing 'e' in the one letter matrix:"
   ]
  },
  {
   "cell_type": "code",
   "execution_count": 11,
   "metadata": {},
   "outputs": [
    {
     "data": {
      "text/plain": [
       "array([1.180e+02, 1.521e+03, 0.000e+00, 0.000e+00, 1.000e+00, 9.800e+01,\n",
       "       1.500e+01, 3.600e+01, 0.000e+00, 0.000e+00, 0.000e+00, 0.000e+00,\n",
       "       0.000e+00, 0.000e+00, 0.000e+00, 0.000e+00, 0.000e+00, 0.000e+00,\n",
       "       1.000e+00, 1.200e+01, 0.000e+00, 0.000e+00, 0.000e+00, 0.000e+00,\n",
       "       0.000e+00, 0.000e+00, 0.000e+00, 0.000e+00, 0.000e+00, 0.000e+00,\n",
       "       0.000e+00, 0.000e+00, 0.000e+00, 0.000e+00, 0.000e+00, 0.000e+00,\n",
       "       0.000e+00, 0.000e+00, 0.000e+00, 0.000e+00, 0.000e+00, 0.000e+00,\n",
       "       0.000e+00, 0.000e+00, 0.000e+00, 0.000e+00, 1.320e+02, 1.700e+01,\n",
       "       2.070e+02, 3.320e+02, 7.400e+01, 2.200e+01, 5.300e+01, 2.000e+00,\n",
       "       8.000e+01, 1.000e+00, 0.000e+00, 9.000e+01, 7.900e+01, 6.070e+02,\n",
       "       4.200e+01, 7.700e+01, 2.100e+01, 5.250e+02, 6.680e+02, 3.600e+01,\n",
       "       2.000e+00, 6.300e+01, 1.000e+01, 6.000e+01, 3.100e+01, 0.000e+00])"
      ]
     },
     "execution_count": 11,
     "metadata": {},
     "output_type": "execute_result"
    }
   ],
   "source": [
    "one_letter_counts[char_map['e']]"
   ]
  },
  {
   "cell_type": "markdown",
   "metadata": {},
   "source": [
    "Seems reasonable, but it is hard to know for sure. For example, this is saying that 'e' is followed by a newline $118$ times and by a space $1521$ times. Let's verify this another way. The sum of all elements in the array above should be the total number of times 'e' appears. This should match the value for 'e' in the dictionary I created."
   ]
  },
  {
   "cell_type": "code",
   "execution_count": 12,
   "metadata": {
    "scrolled": true
   },
   "outputs": [
    {
     "data": {
      "text/latex": [
       "$\\displaystyle \\left( 5033.0, \\  5033\\right)$"
      ],
      "text/plain": [
       "(5033.0, 5033)"
      ]
     },
     "execution_count": 12,
     "metadata": {},
     "output_type": "execute_result"
    }
   ],
   "source": [
    "sum(one_letter_counts[char_map['e']]), char_dict['e']"
   ]
  },
  {
   "cell_type": "markdown",
   "metadata": {},
   "source": [
    "Let's do the same for two letters. Looking at the row representing 'e', 's' in the two letter matrix:"
   ]
  },
  {
   "cell_type": "code",
   "execution_count": 13,
   "metadata": {},
   "outputs": [
    {
     "data": {
      "text/plain": [
       "array([ 10., 175.,   0.,   0.,   0.,  92.,   0.,  17.,   0.,   0.,   0.,\n",
       "         0.,   0.,   0.,   0.,   0.,   0.,   0.,   3.,  20.,   0.,   0.,\n",
       "         0.,   0.,   0.,   0.,   0.,   0.,   0.,   0.,   0.,   0.,   0.,\n",
       "         0.,   0.,   0.,   0.,   0.,   0.,   0.,   0.,   0.,   0.,   0.,\n",
       "         0.,   0.,   0.,   0.,   7.,   0.,  55.,   0.,   0.,   0., 129.,\n",
       "         0.,   0.,   0.,   0.,   0.,   1.,  13.,   0.,   0., 113.,  30.,\n",
       "         2.,   0.,   1.,   0.,   0.,   0.])"
      ]
     },
     "execution_count": 13,
     "metadata": {},
     "output_type": "execute_result"
    }
   ],
   "source": [
    "two_letter_counts[char_map['e'],char_map['s']]"
   ]
  },
  {
   "cell_type": "markdown",
   "metadata": {},
   "source": [
    "Again, not clearly right or wrong. The sum of the values in this array is the total number of times 'es' appears. This should match the total number of times that 's' is followed by 'e' in the one letter matrix. Printing those two numbers:"
   ]
  },
  {
   "cell_type": "code",
   "execution_count": 14,
   "metadata": {},
   "outputs": [
    {
     "data": {
      "text/latex": [
       "$\\displaystyle \\left( 668.0, \\  668.0\\right)$"
      ],
      "text/plain": [
       "(668.0, 668.0)"
      ]
     },
     "execution_count": 14,
     "metadata": {},
     "output_type": "execute_result"
    }
   ],
   "source": [
    "sum(two_letter_counts[char_map['e'],char_map['s']]), one_letter_counts[char_map['e'],char_map['s']]"
   ]
  },
  {
   "cell_type": "markdown",
   "metadata": {},
   "source": [
    "The counts are correct, so the next step is to turn those counts into probabilities. I was able to get python to make these computations by row (a single dimension), but not any more efficient than that. \n",
    "\n",
    "For the one letter matrix, a loop through each row is required. For the two letter matrix, a loop through each column of each row was required. This is $O(n^2)$ for a matrix of size $n^3$, so it could be slightly worse.\n",
    "\n",
    "To find the probabilities, I looped through each row (aka character) and divided each element by the sum of the row."
   ]
  },
  {
   "cell_type": "code",
   "execution_count": 15,
   "metadata": {},
   "outputs": [],
   "source": [
    "# Filling the one- and two-letter probability matrices from the count matrices\n",
    "\n",
    "# Loop for first dimension\n",
    "for i in range(one_letter_counts.shape[0]):\n",
    "    den = sum(one_letter_counts[i]) \n",
    "    \n",
    "    # Loop for second dimension - only needed for two letter matrix\n",
    "    for j in range(two_letter_counts.shape[1]):\n",
    "        den_two = sum(two_letter_counts[i,j]) \n",
    "        # only divide if sum isn't zero to avoid divide-by-zero\n",
    "        if den_two:\n",
    "            two_letter_probs[i,j] = two_letter_counts[i,j] / den_two # set probabilities per row\n",
    "    \n",
    "    # only divide if sum isn't zero to avoid divide-by-zero\n",
    "    if den:\n",
    "        one_letter_probs[i] = one_letter_counts[i] / den # set probabilities per row"
   ]
  },
  {
   "cell_type": "markdown",
   "metadata": {},
   "source": [
    "To ensure that the probabilities are correct, let's check a few rows of each matrix and confirm their values sum to $1$ (or something within a small tolerance of $1$)."
   ]
  },
  {
   "cell_type": "code",
   "execution_count": 16,
   "metadata": {
    "scrolled": true
   },
   "outputs": [
    {
     "name": "stdout",
     "output_type": "stream",
     "text": [
      "1.0\n",
      "1.0\n",
      "0.9999999999999999\n",
      "1.0\n",
      "1.0\n",
      "1.0\n",
      "0.0\n"
     ]
    }
   ],
   "source": [
    "print(sum(one_letter_probs[char_map['M']]))\n",
    "print(sum(one_letter_probs[char_map[',']]))\n",
    "print(sum(one_letter_probs[char_map['a']]))\n",
    "print(sum(one_letter_probs[char_map['z']]))\n",
    "\n",
    "print(sum(two_letter_probs[char_map['M'], char_map['e']]))\n",
    "print(sum(two_letter_probs[char_map['t'], char_map['a']]))\n",
    "print(sum(two_letter_probs[char_map['M'], char_map['K']]))"
   ]
  },
  {
   "cell_type": "markdown",
   "metadata": {},
   "source": [
    "The row representing 'M', 'K' does not sum to $1$ because 'MK' never appears in the constitution. This will not be an issue as long as we set up our functions with that in mind."
   ]
  },
  {
   "cell_type": "markdown",
   "metadata": {},
   "source": [
    "To create random words, we can choose a starting character and follow our probabilities until we reach a character signifying the end of a word. These will be our `end_chars`. In this document, these are any symbols (except the hyphen if you want to include the possibility of hyphenated words, which I do)."
   ]
  },
  {
   "cell_type": "code",
   "execution_count": 17,
   "metadata": {},
   "outputs": [],
   "source": [
    "end_chars = [' ', '\\n', ',', '.', ';', ':', '(', ')', '\"']"
   ]
  },
  {
   "cell_type": "markdown",
   "metadata": {},
   "source": [
    "Selecting random data from a distribution can be accmplished using numpy's `random.choice` function. In this case, we want a random integer between $0$ and $71$ (all the characters) and the probability distribution is the $1 \\times 72$ \"row\" from the probability matrix for each character. I tested this with 'e' to make sure it gave me what I wanted. \n",
    "\n",
    "Note: the ouput is an integer between $0$ and $71$ so we have to use the mapping to get the character value."
   ]
  },
  {
   "cell_type": "code",
   "execution_count": 18,
   "metadata": {},
   "outputs": [
    {
     "data": {
      "text/plain": [
       "'n'"
      ]
     },
     "execution_count": 18,
     "metadata": {},
     "output_type": "execute_result"
    }
   ],
   "source": [
    "# Choosing a random character that follows 'e'\n",
    "int_map[np.random.choice(72, 1, p=one_letter_probs[char_map['e']])[0]]"
   ]
  },
  {
   "cell_type": "markdown",
   "metadata": {},
   "source": [
    "# One Letter Prediction\n",
    "\n",
    "Now, let's write a function that produces a random word using the single letter probabilities. We will pass in a starting character for it. Characters will continue to be chosen using `random.choice` while the chosen character is not one of the end characters."
   ]
  },
  {
   "cell_type": "code",
   "execution_count": 19,
   "metadata": {},
   "outputs": [],
   "source": [
    "# Returns a randomly generated word using the passed in start character\n",
    "\n",
    "def word_from_one(start):\n",
    "    previous = start\n",
    "    word = []\n",
    "    word.append(previous)\n",
    "\n",
    "    # Loop until an end character is seen\n",
    "    while previous not in end_chars:\n",
    "        previous_index = char_map[previous]\n",
    "        current_index = np.random.choice(72, 1, p=one_letter_probs[previous_index])[0]\n",
    "        current = int_map[current_index]\n",
    "        word.append(current)\n",
    "        previous = current\n",
    "        \n",
    "    return word"
   ]
  },
  {
   "cell_type": "code",
   "execution_count": 20,
   "metadata": {},
   "outputs": [
    {
     "name": "stdout",
     "output_type": "stream",
     "text": [
      "['F', 'o', 'o', 't', 'e', ';']\n"
     ]
    }
   ],
   "source": [
    "# Getting a random word starting with 'F'\n",
    "\n",
    "word = word_from_one('F')\n",
    "print(word)"
   ]
  },
  {
   "cell_type": "markdown",
   "metadata": {},
   "source": [
    "This works great, but we can add a couple functions to make it better. First, let's make the word more readable using `join`. We can also remove the end character that will always be present at the back of the array."
   ]
  },
  {
   "cell_type": "code",
   "execution_count": 21,
   "metadata": {},
   "outputs": [],
   "source": [
    "# Turns a list of characters into a string\n",
    "\n",
    "def chars_to_word(arr):\n",
    "    \n",
    "    # remove any punctuation or spaces at the beginning\n",
    "    if arr[0] in end_chars:\n",
    "        word = arr[1:len(arr)-1]\n",
    "    # remove the punctuation or spaces at the end\n",
    "    else:\n",
    "        word = arr[0:len(arr)-1]\n",
    "    string = \"\"\n",
    "    return(string.join(word))"
   ]
  },
  {
   "cell_type": "code",
   "execution_count": 22,
   "metadata": {},
   "outputs": [
    {
     "name": "stdout",
     "output_type": "stream",
     "text": [
      "Foote\n"
     ]
    }
   ],
   "source": [
    "word = chars_to_word(word)\n",
    "print(word)"
   ]
  },
  {
   "cell_type": "markdown",
   "metadata": {},
   "source": [
    "Now, let's make a quick function to check if our random word is a real english word."
   ]
  },
  {
   "cell_type": "code",
   "execution_count": 23,
   "metadata": {},
   "outputs": [],
   "source": [
    "# Returns true if the passed in string is in the nltk dictionary of words\n",
    "\n",
    "def is_word(word):\n",
    "    word = word.lower()\n",
    "    return word in words.words()"
   ]
  },
  {
   "cell_type": "code",
   "execution_count": 24,
   "metadata": {},
   "outputs": [
    {
     "data": {
      "text/plain": [
       "False"
      ]
     },
     "execution_count": 24,
     "metadata": {},
     "output_type": "execute_result"
    }
   ],
   "source": [
    "is_word(word)"
   ]
  },
  {
   "cell_type": "markdown",
   "metadata": {},
   "source": [
    "Finally, let's create 100 random words this way. To pick a starting letter each time, we want a random capital letter (because starting with a lowercase letter increases the chance of gibberish because you could be starting in the middle of a word).\n",
    "\n",
    "To get a random capital letter, we can use the character map and have numpy pick a random integer between $20$ and $46$ (the range of capital letters in our character map). We can then map this integer to a character and pass that into our `word_from_one` function. \n",
    "\n",
    "Note: because I added X and Z to the character map, there is a chance these are chosen. If that happens, we will get an error because the sum of the probability distribution for these characters is not $1$ (it's $0$, in fact). To account for this, I removed the integers corresponding to those characters from the possible options to choose from."
   ]
  },
  {
   "cell_type": "code",
   "execution_count": 25,
   "metadata": {},
   "outputs": [],
   "source": [
    "# Create and print random words from one letter probabilities\n",
    "\n",
    "def print_from_one():\n",
    "    start_range = np.arange(20,46) # indices of capital letters in my map\n",
    "    start_range = np.delete(start_range,23) # remove X because it never appears\n",
    "    start_range = np.delete(start_range,24) # remove Z because it never appears\n",
    "    \n",
    "    word_count = 0 # number of real words\n",
    "    words = [] # storing all words\n",
    "\n",
    "    for i in range(100):\n",
    "        start_index = np.random.choice(start_range)\n",
    "        start_letter = int_map[start_index]\n",
    "        arr = word_from_one(start_letter)\n",
    "        word = chars_to_word(arr)\n",
    "        yes = is_word(word)\n",
    "        if yes:\n",
    "            word_count += 1\n",
    "        words.append([word, yes])\n",
    "\n",
    "    print(\"Percentage of Real Words Using One Letter: \", word_count, '%')\n",
    "    return words, word_count"
   ]
  },
  {
   "cell_type": "code",
   "execution_count": 26,
   "metadata": {},
   "outputs": [
    {
     "name": "stdout",
     "output_type": "stream",
     "text": [
      "Percentage of Real Words Using One Letter:  22 %\n"
     ]
    }
   ],
   "source": [
    "one_letter_words = print_from_one()"
   ]
  },
  {
   "cell_type": "markdown",
   "metadata": {},
   "source": [
    "Out of $100$ random words produced this way, around $25$ were real words (varies every time its run due to randomness). Let's look at the words it produced."
   ]
  },
  {
   "cell_type": "code",
   "execution_count": 27,
   "metadata": {},
   "outputs": [
    {
     "data": {
      "text/plain": [
       "([['Jal', False],\n",
       "  ['Juin', False],\n",
       "  ['Yede', True],\n",
       "  ['Insd', False],\n",
       "  ['Thedin', False],\n",
       "  ['Viror', False],\n",
       "  ['Cof', False],\n",
       "  ['Bitharerr', False],\n",
       "  ['Tr', False],\n",
       "  ['Grselllig', False],\n",
       "  ['Ifinthabe', False],\n",
       "  ['Pres', False],\n",
       "  ['Fored', False],\n",
       "  ['Lef', False],\n",
       "  ['Dis', True],\n",
       "  ['Horr', False],\n",
       "  ['Jonvonecontes', False],\n",
       "  ['Cof', False],\n",
       "  ['Corill', False],\n",
       "  ['Fe-Pllly', False],\n",
       "  ['Yer', True],\n",
       "  ['Yecominy', False],\n",
       "  ['Kict', False],\n",
       "  ['Eng', False],\n",
       "  ['Sto', False],\n",
       "  ['Morend', False],\n",
       "  ['Theche', False],\n",
       "  ['Hakerailat', False],\n",
       "  ['Jute', True],\n",
       "  ['Ciccterishes', False],\n",
       "  ['Lasiof', False],\n",
       "  ['Inteve', False],\n",
       "  ['Batey', False],\n",
       "  ['Gon', True],\n",
       "  ['Pre', False],\n",
       "  ['De', True],\n",
       "  ['Vies', False],\n",
       "  ['Goff', True],\n",
       "  ['Gunese', False],\n",
       "  ['Biteshe', False],\n",
       "  ['Vitie', False],\n",
       "  ['Re', True],\n",
       "  ['Untims', False],\n",
       "  ['Violl', False],\n",
       "  ['Kilens', False],\n",
       "  ['Deducthon', False],\n",
       "  ['Ac', False],\n",
       "  ['Way', True],\n",
       "  ['Jake', True],\n",
       "  ['Nof', False],\n",
       "  ['Ne', True],\n",
       "  ['Gubented', False],\n",
       "  ['Prerithecenthe', False],\n",
       "  ['Bay', True],\n",
       "  ['Duoff', False],\n",
       "  ['Noffrsurallanesitecid', False],\n",
       "  ['Vonchof', False],\n",
       "  ['Dunshe', False],\n",
       "  ['Wis', True],\n",
       "  ['Land', True],\n",
       "  ['Prin', False],\n",
       "  ['Hesallesicl', False],\n",
       "  ['Foncenghe', False],\n",
       "  ['Qufowitwhes', False],\n",
       "  ['Cous', False],\n",
       "  ['Stor', False],\n",
       "  ['Re', True],\n",
       "  ['Nall', False],\n",
       "  ['Bicos', False],\n",
       "  ['Yesaie', False],\n",
       "  ['Renf', False],\n",
       "  ['Kixchengileiced', False],\n",
       "  ['Un', True],\n",
       "  ['Baprkizesce', False],\n",
       "  ['Inandurs', False],\n",
       "  ['Kiveng', False],\n",
       "  ['Vote', True],\n",
       "  ['Lantit', False],\n",
       "  ['Art', True],\n",
       "  ['Neorpute-Pe', False],\n",
       "  ['De', True],\n",
       "  ['Ques', False],\n",
       "  ['Thes', False],\n",
       "  ['Yeshavof', False],\n",
       "  ['Kin', True],\n",
       "  ['Nen', False],\n",
       "  ['Immpononde', False],\n",
       "  ['Whise', False],\n",
       "  ['Viditanes', False],\n",
       "  ['Joire', False],\n",
       "  ['Gonove', False],\n",
       "  ['Ex', True],\n",
       "  ['Vimed', False],\n",
       "  ['Bus', True],\n",
       "  ['Kis', False],\n",
       "  ['Wishes', False],\n",
       "  ['Pey', False],\n",
       "  ['Sepof', False],\n",
       "  ['Fuecizeranthed', False],\n",
       "  ['Gitwofencloret', False]],\n",
       " 22)"
      ]
     },
     "execution_count": 27,
     "metadata": {},
     "output_type": "execute_result"
    }
   ],
   "source": [
    "one_letter_words"
   ]
  },
  {
   "cell_type": "markdown",
   "metadata": {},
   "source": [
    "An interesting observation is that many of the real words are two letters long. The longest real word according to the nltk dictionary from my run was \"Morth,\" which I am not convinced is a real word."
   ]
  },
  {
   "cell_type": "markdown",
   "metadata": {},
   "source": [
    "# Two Letter Prediction\n",
    "\n",
    "Now, let's repeat the process and create words from the two letter probabilities. The steps are identical, except we need to store the prior $2$ characters, so we make use of a `deque` again."
   ]
  },
  {
   "cell_type": "code",
   "execution_count": 28,
   "metadata": {},
   "outputs": [],
   "source": [
    "# Returns a randomly generated word starting with the two passed in characters\n",
    "\n",
    "def word_from_two(a,b):\n",
    "    previous = deque([a, b], maxlen=2)\n",
    "    word = [previous[0], previous[1]]\n",
    "    current = previous[1]\n",
    "\n",
    "    while current not in end_chars:\n",
    "        previous_index_1 = char_map[previous[0]]\n",
    "        previous_index_2 = char_map[previous[1]]        \n",
    "        current_index = np.random.choice(72, 1, p=two_letter_probs[previous_index_1][previous_index_2])[0]\n",
    "        current = int_map[current_index]\n",
    "        word.append(current)\n",
    "        previous.append(current)\n",
    "        \n",
    "    return word"
   ]
  },
  {
   "cell_type": "code",
   "execution_count": 29,
   "metadata": {},
   "outputs": [
    {
     "data": {
      "text/plain": [
       "'strome'"
      ]
     },
     "execution_count": 29,
     "metadata": {},
     "output_type": "execute_result"
    }
   ],
   "source": [
    "# Generating a random word starting with \"st\"\n",
    "chars_to_word(word_from_two('s','t'))"
   ]
  },
  {
   "cell_type": "code",
   "execution_count": 30,
   "metadata": {},
   "outputs": [
    {
     "data": {
      "text/plain": [
       "'Stato'"
      ]
     },
     "execution_count": 30,
     "metadata": {},
     "output_type": "execute_result"
    }
   ],
   "source": [
    "# Generating a random word starting with \"St\"\n",
    "chars_to_word(word_from_two('S','t'))"
   ]
  },
  {
   "cell_type": "markdown",
   "metadata": {},
   "source": [
    "This function works much better when the first letter is uppercase and the second is lowercase. When both are lowercase, we are more likely to get a middle or end section of a word, such as 'sties' or 'est'. These strings of characters appear in the constitution, but they do not look much like real words.\n",
    "\n",
    "Another note is that this function will break if given starting letters that do not show up next to each other in the constitution. For this reason, our method of choosing a random starting letter from the one-letter function will not work. \n",
    "\n",
    "So, we need a random capital letter and a letter that follows the capital letter in the constitution. We know we can choose a random capital letter, but finding a letter that follows it will be tricky. Instead, let's pick a random two-letter sequence from the constitution and make sure the first letter is uppercase."
   ]
  },
  {
   "cell_type": "markdown",
   "metadata": {},
   "source": [
    "We can get a two-letter sequence from the constitution by indexing `text`. As long as the index of the second character is $1$ greater than the first, we will have a working two-letter sequence."
   ]
  },
  {
   "cell_type": "code",
   "execution_count": 31,
   "metadata": {
    "scrolled": true
   },
   "outputs": [
    {
     "data": {
      "text/plain": [
       "('l', 'e')"
      ]
     },
     "execution_count": 31,
     "metadata": {},
     "output_type": "execute_result"
    }
   ],
   "source": [
    "# Demonstrating getting a two letter sequence from the constitution\n",
    "text[200],text[201]"
   ]
  },
  {
   "cell_type": "markdown",
   "metadata": {},
   "source": [
    "And we can choose the index by using `random.choice` to get an integer between 0 and the length of the constitution in number of characters (minus one to ensure it doesn't choose the last character)."
   ]
  },
  {
   "cell_type": "code",
   "execution_count": 32,
   "metadata": {},
   "outputs": [
    {
     "data": {
      "text/latex": [
       "$\\displaystyle 13314$"
      ],
      "text/plain": [
       "13314"
      ]
     },
     "execution_count": 32,
     "metadata": {},
     "output_type": "execute_result"
    }
   ],
   "source": [
    "# Getting a random character location in the constitution\n",
    "text_length = len(text)\n",
    "np.random.choice(text_length-1) "
   ]
  },
  {
   "cell_type": "markdown",
   "metadata": {},
   "source": [
    "Finally, we can ensure the first character is uppercase simply by choosing characters until it is using a `while` loop."
   ]
  },
  {
   "cell_type": "code",
   "execution_count": 33,
   "metadata": {},
   "outputs": [],
   "source": [
    "# Create and print random words from two letter probabilities\n",
    "\n",
    "def print_from_two():\n",
    "    text_length = len(text) # length of constitution in # of characters\n",
    "    word_count = 0 # number of real words\n",
    "    words = [] # storing all words\n",
    "\n",
    "    for i in range(100):\n",
    "        # get random two letter sequence from the constitution\n",
    "        # prevent it from choosing characters that don't work\n",
    "        while True:\n",
    "            start_index_1 = np.random.choice(text_length-1) # random index from length of text\n",
    "            start_index_2 = start_index_1 + 1 # character following first\n",
    "            start_letter_1 = text[start_index_1]\n",
    "            start_letter_2 = text[start_index_2]\n",
    "            \n",
    "            # tests to ensure it picks a capital letter followed by another letter\n",
    "            test1 = start_letter_1 not in end_chars and start_letter_2 not in end_chars\n",
    "            test2 = start_letter_1.isupper()\n",
    "            \n",
    "            # if both characters are not end_chars and character 1 is uppercase\n",
    "            if test1 and test2:\n",
    "                break     \n",
    "                \n",
    "        arr = word_from_two(start_letter_1, start_letter_2) # get word\n",
    "        word = chars_to_word(arr) # convert to string\n",
    "        yes = is_word(word) # check if english word\n",
    "        \n",
    "        if yes:\n",
    "            word_count += 1\n",
    "        words.append([word, yes])\n",
    "\n",
    "    print(\"Percentage of Real Words Using Two Letters: \", word_count, '%')\n",
    "    return words, word_count"
   ]
  },
  {
   "cell_type": "code",
   "execution_count": 34,
   "metadata": {},
   "outputs": [
    {
     "name": "stdout",
     "output_type": "stream",
     "text": [
      "Percentage of Real Words Using Two Letters:  24 %\n"
     ]
    }
   ],
   "source": [
    "two_letter_words = print_from_two()"
   ]
  },
  {
   "cell_type": "markdown",
   "metadata": {},
   "source": [
    "Out of $100$ random words produced using the two-letter probabilities, around $30$ to $35$ were real words (varies every time its run due to randomness). Let's look at the words it produced."
   ]
  },
  {
   "cell_type": "code",
   "execution_count": 35,
   "metadata": {},
   "outputs": [
    {
     "data": {
      "text/plain": [
       "([['Yeabe', False],\n",
       "  ['Statutifir', False],\n",
       "  ['The', True],\n",
       "  ['Adviong', False],\n",
       "  ['Thensuchall', False],\n",
       "  ['Law', True],\n",
       "  ['Sect', True],\n",
       "  ['Each', True],\n",
       "  ['Vaccompares', False],\n",
       "  ['Marespars', False],\n",
       "  ['Judifor', False],\n",
       "  ['Units', False],\n",
       "  ['Thiciesportieve', False],\n",
       "  ['Clas', False],\n",
       "  ['Offecut', False],\n",
       "  ['Jurnme', False],\n",
       "  ['Thirds', False],\n",
       "  ['Biliden', False],\n",
       "  ['Senfer', False],\n",
       "  ['Press', True],\n",
       "  ['Whe', False],\n",
       "  ['Jurempay', False],\n",
       "  ['Expecuseve', False],\n",
       "  ['War', True],\n",
       "  ['Whe', False],\n",
       "  ['Stat', False],\n",
       "  ['Con', True],\n",
       "  ['Preund', False],\n",
       "  ['Oatiffect', False],\n",
       "  ['Per', True],\n",
       "  ['Tres', False],\n",
       "  ['Prohisdice', False],\n",
       "  ['Thomperes', False],\n",
       "  ['Sourthe', False],\n",
       "  ['Unitor', False],\n",
       "  ['Eachall', False],\n",
       "  ['Ames', False],\n",
       "  ['States', False],\n",
       "  ['Ande', False],\n",
       "  ['Danne', False],\n",
       "  ['Year', True],\n",
       "  ['Purimon', False],\n",
       "  ['Viclecto', False],\n",
       "  ['Actity', False],\n",
       "  ['Casempor', False],\n",
       "  ['Johns', False],\n",
       "  ['Day', True],\n",
       "  ['Trese', False],\n",
       "  ['If', True],\n",
       "  ['Prevented', False],\n",
       "  ['Yeacen', False],\n",
       "  ['Seartioner', False],\n",
       "  ['Rhors', False],\n",
       "  ['Con', True],\n",
       "  ['Land', True],\n",
       "  ['Uninate', False],\n",
       "  ['Presidenatin', False],\n",
       "  ['Cas', False],\n",
       "  ['Presiderms', False],\n",
       "  ['Graingresis', False],\n",
       "  ['Naved', False],\n",
       "  ['Chavented', False],\n",
       "  ['Moresents', False],\n",
       "  ['Amed', False],\n",
       "  ['Gilin', False],\n",
       "  ['Con', True],\n",
       "  ['Citned', False],\n",
       "  ['Stated', True],\n",
       "  ['Seved', False],\n",
       "  ['Send', True],\n",
       "  ['Preighe', False],\n",
       "  ['Press', True],\n",
       "  ['Membe', False],\n",
       "  ['Impointemovend', False],\n",
       "  ['Staing', False],\n",
       "  ['Virds', False],\n",
       "  ['To', True],\n",
       "  ['Unity-fork', False],\n",
       "  ['Staidepre', False],\n",
       "  ['Ambe', False],\n",
       "  ['Presper', False],\n",
       "  ['State', True],\n",
       "  ['Courn', False],\n",
       "  ['Repers', False],\n",
       "  ['Yeas', False],\n",
       "  ['Timent', False],\n",
       "  ['Congs', False],\n",
       "  ['Pres', False],\n",
       "  ['Station', True],\n",
       "  ['Purthe', False],\n",
       "  ['Con', True],\n",
       "  ['Unit', True],\n",
       "  ['Same', True],\n",
       "  ['Tropers', False],\n",
       "  ['Stainateschment', False],\n",
       "  ['Statessuch', False],\n",
       "  ['Citessamue', False],\n",
       "  ['Repress', True],\n",
       "  ['Sented', False],\n",
       "  ['Represigissumbaither', False]],\n",
       " 24)"
      ]
     },
     "execution_count": 35,
     "metadata": {},
     "output_type": "execute_result"
    }
   ],
   "source": [
    "two_letter_words"
   ]
  },
  {
   "cell_type": "markdown",
   "metadata": {},
   "source": [
    "At a glance, these look slightly more like real words than the one-letter words. Additionally, most of the real words are no longer two letters long. \n",
    "\n",
    "This produced some more exciting longer words as well, such as \"States\", \"Power\", and \"Office\"."
   ]
  },
  {
   "cell_type": "markdown",
   "metadata": {},
   "source": [
    "Just for fun, let's run the one-letter and two-letter functions ten times each and compare the percentage of real words produced."
   ]
  },
  {
   "cell_type": "code",
   "execution_count": 36,
   "metadata": {},
   "outputs": [],
   "source": [
    "# Runs the single- and two-letter methods for generating 100 random words the passed in number of times\n",
    "\n",
    "def run_x_times(loops):\n",
    "    one = []\n",
    "    two = []\n",
    "    for i in range(loops):\n",
    "        words, x1 = print_from_one()\n",
    "        words, x2 = print_from_two()\n",
    "        one.append(x1)\n",
    "        two.append(x2)\n",
    "    ave1 = sum(one) / loops\n",
    "    ave2 = sum(two) / loops\n",
    "    print(\"Average Real Words from One-Letter:\", ave1, \"%\")\n",
    "    print(\"Average Real Words from Two-Letter:\", ave2, \"%\")\n",
    "    fig, ax = plt.subplots(1,2, figsize=(15,6), sharey=True)\n",
    "    ax[0].bar(range(loops), one); ax[0].set_title('Percentage of Real Words Using One Letter Prediction')\n",
    "    ax[1].bar(range(loops), two); ax[1].set_title('Percentage of Real Words Using Two Letter Prediction')\n",
    "    ax[0].set_xlabel('Iteration'); ax[0].set_ylabel('Percent Real')\n",
    "    ax[1].set_xlabel('Iteration');\n",
    "    "
   ]
  },
  {
   "cell_type": "code",
   "execution_count": 37,
   "metadata": {},
   "outputs": [
    {
     "name": "stdout",
     "output_type": "stream",
     "text": [
      "Percentage of Real Words Using One Letter:  24 %\n",
      "Percentage of Real Words Using Two Letters:  27 %\n",
      "Percentage of Real Words Using One Letter:  21 %\n",
      "Percentage of Real Words Using Two Letters:  28 %\n",
      "Percentage of Real Words Using One Letter:  24 %\n",
      "Percentage of Real Words Using Two Letters:  34 %\n",
      "Percentage of Real Words Using One Letter:  21 %\n",
      "Percentage of Real Words Using Two Letters:  39 %\n",
      "Percentage of Real Words Using One Letter:  24 %\n",
      "Percentage of Real Words Using Two Letters:  35 %\n",
      "Percentage of Real Words Using One Letter:  26 %\n",
      "Percentage of Real Words Using Two Letters:  32 %\n",
      "Percentage of Real Words Using One Letter:  26 %\n",
      "Percentage of Real Words Using Two Letters:  31 %\n",
      "Percentage of Real Words Using One Letter:  29 %\n",
      "Percentage of Real Words Using Two Letters:  29 %\n",
      "Percentage of Real Words Using One Letter:  26 %\n",
      "Percentage of Real Words Using Two Letters:  33 %\n",
      "Percentage of Real Words Using One Letter:  20 %\n",
      "Percentage of Real Words Using Two Letters:  42 %\n",
      "Average Real Words from One-Letter: 24.1 %\n",
      "Average Real Words from Two-Letter: 33.0 %\n"
     ]
    },
    {
     "data": {
      "image/png": "[encoded data removed]",
      "text/plain": [
       "<Figure size 1080x432 with 2 Axes>"
      ]
     },
     "metadata": {
      "needs_background": "light"
     },
     "output_type": "display_data"
    }
   ],
   "source": [
    "run_x_times(10)"
   ]
  },
  {
   "cell_type": "markdown",
   "metadata": {},
   "source": [
    "After running each function ten times, the two letter prediction is almost 10% better on average than the one letter prediction at making real words! "
   ]
  },
  {
   "cell_type": "markdown",
   "metadata": {},
   "source": [
    "# Sentence Prediction#\n",
    "\n",
    "To produce random sentences, we need to completely modify our method. We need unique words in the constitution, not characters. There are significantly more unique words than characters, so they cannot be mapped easily to integers and representing the combinations of them with matrices is not realistic. To solve this, we will use a weighted, directed graph. "
   ]
  },
  {
   "cell_type": "markdown",
   "metadata": {},
   "source": [
    "First, let's create a graph from our short constitution file so we can visualize it. To get the individual words, we can use the `split` command. This will separate strings into a list by white space. Because we want to treat punctuation as a word, we need to add white space to either side of punctuation so `split` knows it is a word. We can add white space using `replace`."
   ]
  },
  {
   "cell_type": "code",
   "execution_count": 38,
   "metadata": {},
   "outputs": [],
   "source": [
    "# Separating the single line constitution test file into a list of words\n",
    "\n",
    "testtest = text_short.replace(\".\", \" . \") \\\n",
    "           .replace(\",\", \" , \") \\\n",
    "           .replace(\";\", \" ; \") \\\n",
    "           .replace(\":\", \" : \").split() # remove excess white spaces"
   ]
  },
  {
   "cell_type": "code",
   "execution_count": 39,
   "metadata": {
    "scrolled": true
   },
   "outputs": [
    {
     "data": {
      "text/plain": [
       "['We',\n",
       " 'the',\n",
       " 'People',\n",
       " 'of',\n",
       " 'the',\n",
       " 'United',\n",
       " 'States',\n",
       " ',',\n",
       " 'in',\n",
       " 'Order',\n",
       " 'to',\n",
       " 'form',\n",
       " 'a',\n",
       " 'more',\n",
       " 'perfect',\n",
       " 'Union',\n",
       " ',']"
      ]
     },
     "execution_count": 39,
     "metadata": {},
     "output_type": "execute_result"
    }
   ],
   "source": [
    "# First line of constitution separated by words\n",
    "testtest"
   ]
  },
  {
   "cell_type": "markdown",
   "metadata": {},
   "source": [
    "We have a beautiful list of words, so let's make a graph out of them. The overall method is the same as the one-letter method, but with words rather than characters. We need to track only the immediately previous word. The nodes of the graph will be the unique words in the constitution. On every loop, we will add an edge between the previous and current words. If this edge already exists (that exact combination of words was already seen), we increment the \"count\" weight for the edge.\n",
    "\n",
    "Building a graph this way with the short file will allow us to visualize the graph and make sure it looks correct."
   ]
  },
  {
   "cell_type": "code",
   "execution_count": 40,
   "metadata": {},
   "outputs": [],
   "source": [
    "# Building a directed graph from the single-line constitution\n",
    "\n",
    "G_test = nx.DiGraph()\n",
    "previous = None\n",
    "for current in testtest: # loop through every word\n",
    "    if not previous:\n",
    "        previous = current\n",
    "    else:\n",
    "        # edge already exists\n",
    "        if G_test.has_edge(previous,current):\n",
    "            G_test.get_edge_data(previous,current)[\"count\"] += 1 #increment edge weight\n",
    "        # edge doesn't exist\n",
    "        else:\n",
    "            G_test.add_edge(previous,current,count=1)\n",
    "        previous = current"
   ]
  },
  {
   "cell_type": "code",
   "execution_count": 41,
   "metadata": {
    "scrolled": true
   },
   "outputs": [
    {
     "data": {
      "image/png": "[encoded data removed]",
      "text/plain": [
       "<Figure size 432x288 with 1 Axes>"
      ]
     },
     "metadata": {},
     "output_type": "display_data"
    }
   ],
   "source": [
    "nx.draw(G_test, with_labels=True)"
   ]
  },
  {
   "cell_type": "markdown",
   "metadata": {},
   "source": [
    "This looks like what we want, so we can repeat the procedure with the full constitution."
   ]
  },
  {
   "cell_type": "code",
   "execution_count": 42,
   "metadata": {},
   "outputs": [],
   "source": [
    "# Separating the entire constitution into a list of words, where punctuation is treated as a word\n",
    "\n",
    "text_sentences = text.replace(\".\", \" . \") \\\n",
    "           .replace(\",\", \" , \") \\\n",
    "           .replace(\";\", \" ; \") \\\n",
    "            .replace(\")\", \" ) \") \\\n",
    "            .replace(\"(\", \" ( \") \\\n",
    "           .replace(\":\", \" : \").split() # remove excess white spaces"
   ]
  },
  {
   "cell_type": "code",
   "execution_count": 43,
   "metadata": {},
   "outputs": [],
   "source": [
    "# Creates a directed graph from the constitution text file \n",
    "\n",
    "def make_graph():\n",
    "    G = nx.DiGraph()\n",
    "    previous = None\n",
    "    for current in text_sentences: # loop through every word\n",
    "        if not previous:\n",
    "            previous = current\n",
    "        else:\n",
    "            # edge already exists\n",
    "            if G.has_edge(previous,current):\n",
    "                G.get_edge_data(previous,current)[\"count\"] += 1 # increment edge weight\n",
    "            # edge doesn't exist\n",
    "            else:\n",
    "                G.add_edge(previous,current,count=1)\n",
    "            previous = current\n",
    "    return G"
   ]
  },
  {
   "cell_type": "code",
   "execution_count": 44,
   "metadata": {},
   "outputs": [],
   "source": [
    "G = make_graph()"
   ]
  },
  {
   "cell_type": "markdown",
   "metadata": {},
   "source": [
    "To generate a random sentence from this graph, we need to choose a start word and follow the graph using the edge weights as probabilities. Because we're looping through the data structure that contains the weights to produce the sentence - as opposed to the word prediction, where we do not loop through the probability matrix - we can calculate the probabilities right before we choose the next word. \n",
    "\n",
    "To use `random.choice`, we need a list to choose from and a list of probabilities. The list to choose from is the neighbors of each node, but `G.neighbors` will give us an iterable object over those neighbors, not a list. So, for each node, we have to loop through the neighbors to create a neighbor list and a weight list (which will become the probability list).\n",
    "\n",
    "After making these lists, we can calculate the probabilities by dividing each weight by the sum of the weights. Then, we can use `random.choice` to choose a neighbor, and we append that neighbor - that word - to a \"sentence\" array.  \n",
    "\n",
    "Similarly to the word prediction, we will stop looping (choosing neighbors) once we see an \"end character.\" In this case, the only end character is a period, because the other punctuation could be within a sentence. This works great until we run into a number followed by a period. The constitution lists points this way:   \n",
    "    \n",
    "    \"Amendment 21 1. The eighteenth article of amendment to the Constitution of the United States is hereby repealed.\"\n",
    "    \n",
    "\n",
    "In this scenario, we don't want the sentence to stop after \"1.\" because that would not be very interesting. So let's add a condition to the `while` loop that tells it to keep looping if the previous word was a number between one and six. (\"1\" through \"6\" are the only numbers that precede a period in the constitution.)"
   ]
  },
  {
   "cell_type": "code",
   "execution_count": 45,
   "metadata": {
    "scrolled": true
   },
   "outputs": [],
   "source": [
    "# Function to generate a random sentence with the passed in starting word\n",
    "\n",
    "def make_sentence(start_word):\n",
    "    word = start_word\n",
    "    sentence = []\n",
    "    sentence.append(word) # add starting word to our sentence\n",
    "    previous = word\n",
    "    numbers = ['1','2','3','4','5','6'] # numbers before a period\n",
    "    \n",
    "    while word != '.' or previous in numbers:\n",
    "        previous = word\n",
    "        neighbors = G.neighbors(word)\n",
    "        neighbor_list = []\n",
    "        weights = []\n",
    "        for v in neighbors:\n",
    "            weights.append(G.get_edge_data(word,v)[\"count\"]) # add edge weight to weight list\n",
    "            neighbor_list.append(v) # add node to neighbor list\n",
    "        probs = [float(i)/sum(weights) for i in weights] # calculate probabilities\n",
    "        word = np.random.choice(neighbor_list, p=probs) # randomly select word from neighbors\n",
    "        sentence.append(word)\n",
    "        \n",
    "    return sentence"
   ]
  },
  {
   "cell_type": "markdown",
   "metadata": {},
   "source": [
    "Let's test this function with the starting word \"We\"."
   ]
  },
  {
   "cell_type": "code",
   "execution_count": 46,
   "metadata": {},
   "outputs": [
    {
     "name": "stdout",
     "output_type": "stream",
     "text": [
      "['We', 'have', 'devolved', 'upon', 'them', 'to', 'the', 'United', 'States', 'respectively', ',', 'if', 'no', 'Warrants', 'shall', 'then', 'from', 'whatever', ',', 'as', 'President', 'whenever', 'the', 'Time', 'for', 'a', 'redress', 'of', 'such', 'Exceptions', ',', 'be', 'a', 'Journal', 'of', 'Nations', ',', 'he', 'shall', 'not', 'in', 'the', 'number', 'of', 'their', 'Offices', 'during', 'the', 'United', 'States', 'concerned', 'as', 'the', 'Militia', ',', 'be', 'increased', 'nor', 'excessive', 'fines', 'imposed', 'on', 'the', 'Day', 'shall', 'take', 'the', 'President', 'shall', 'be', 'removed', ',', 'as', 'may', 'by', 'law', 'provide', ',', 'and', 'with', 'the', 'other', 'Officers', 'of', 'the', 'United', 'States', 'shall', 'choose', 'a', 'President', 'more', 'than', 'two', 'thirds', 'of', 'the', 'whole', 'Number', 'of', 'and', 'Vice-President', 'of', 'certain', 'rights', ',', 'and', 'Felonies', 'committed', 'within', 'every', 'subsequent', 'Term', 'of', 'the', 'people', '.']\n"
     ]
    }
   ],
   "source": [
    "# Creating a random sentence starting with \"We\n",
    "sen = make_sentence(\"We\")\n",
    "print(sen)"
   ]
  },
  {
   "cell_type": "markdown",
   "metadata": {},
   "source": [
    "Looks nice and meaningless. Let's write a function to increase readibility using `join` and `replace` once again. "
   ]
  },
  {
   "cell_type": "code",
   "execution_count": 47,
   "metadata": {},
   "outputs": [],
   "source": [
    "# Converts a list of words to a readable sentence\n",
    "\n",
    "def list_to_sentence(sentence):\n",
    "    s = ' '\n",
    "    a = s.join(sentence)\n",
    "    a = a.replace(\" .\", \". \") \\\n",
    "               .replace(\" , \", \", \") \\\n",
    "               .replace(\" ; \", \"; \") \\\n",
    "                .replace(\" : \", \": \") \\\n",
    "                .replace(\" ) \", \") \") \\\n",
    "                .replace(\" ( \", \" (\") \n",
    "    return a"
   ]
  },
  {
   "cell_type": "code",
   "execution_count": 48,
   "metadata": {
    "scrolled": false
   },
   "outputs": [
    {
     "data": {
      "text/plain": [
       "'We have devolved upon them to the United States respectively, if no Warrants shall then from whatever, as President whenever the Time for a redress of such Exceptions, be a Journal of Nations, he shall not in the number of their Offices during the United States concerned as the Militia, be increased nor excessive fines imposed on the Day shall take the President shall be removed, as may by law provide, and with the other Officers of the United States shall choose a President more than two thirds of the whole Number of and Vice-President of certain rights, and Felonies committed within every subsequent Term of the people. '"
      ]
     },
     "execution_count": 48,
     "metadata": {},
     "output_type": "execute_result"
    }
   ],
   "source": [
    "list_to_sentence(sen)"
   ]
  },
  {
   "cell_type": "markdown",
   "metadata": {},
   "source": [
    "As a simple test to make sure everything is set up correctly, let's find a sentence that starts with \"Amendment.\" \"Amendment\" is always followed by a number in the constitution, so everytime we run this, the first two words should be \"Amendment\" and some number. Also, we can produce random nonsense amendments this way!"
   ]
  },
  {
   "cell_type": "code",
   "execution_count": 49,
   "metadata": {},
   "outputs": [
    {
     "data": {
      "text/plain": [
       "'Amendment 12 The United States, Maryland six years of all Duties of Election to the common defence, whenever two years of such Part of the executive Departments, after receipt of the States and House, it shall be a majority of the Territory or prosecuted against him, or Compact with themselves. '"
      ]
     },
     "execution_count": 49,
     "metadata": {},
     "output_type": "execute_result"
    }
   ],
   "source": [
    "# Generating a random Amendment\n",
    "list_to_sentence(make_sentence(\"Amendment\"))"
   ]
  },
  {
   "cell_type": "markdown",
   "metadata": {},
   "source": [
    "Finally, rather than feeding the function a starting word every time, we want it to pick a starting word for us. In the constitution, sentences begin either (1) following a period (aka another sentence) or (2) following a number (aka an amendment title).\n",
    "\n",
    "So, our starting words will be a list of unique words that follow a period or a number and we will randomly choose a word from this list each time we generate a sentence. Getting the words that follow a sentence is easy using `neighbors()`. We'll loop through all our \"end words\" (numbers and period) and add their neighbors to a starting word set."
   ]
  },
  {
   "cell_type": "code",
   "execution_count": 50,
   "metadata": {},
   "outputs": [],
   "source": [
    "# Creating a set of possible starting words for random sentences\n",
    "\n",
    "start_word_list = set() # use a set to store only unique words\n",
    "precedes_sentence = [str(i) for i in range(1,28)] # numbers between 1 and 27 (# of amendments)\n",
    "precedes_sentence.append('.') # add period\n",
    "\n",
    "# Adding all the words that follow numbers and periods to the set\n",
    "for value in precedes_sentence:  \n",
    "    for v in G.neighbors(value):\n",
    "        start_word_list.add(v)"
   ]
  },
  {
   "cell_type": "code",
   "execution_count": 51,
   "metadata": {},
   "outputs": [
    {
     "name": "stdout",
     "output_type": "stream",
     "text": [
      "{'Whenever', '1', 'Thereafter', '.', 'Congress', 'No', 'Representatives', 'Done', 'North', 'Immediately', 'New', 'The', 'Sections', 'In', '4', 'Before', '6', 'Treason', 'If', 'When', '5', 'Full', '\"', ',', 'shall', 'Article', 'Section', 'Amendment', 'They', 'and', 'A', 'All', 'And', 'Judgment', 'Neither', 'He', '2', '3', 'Excessive', 'Each', 'Thereupon', 'This', 'But', 'George', 'Every', 'After'}\n"
     ]
    }
   ],
   "source": [
    "print(start_word_list)"
   ]
  },
  {
   "cell_type": "markdown",
   "metadata": {},
   "source": [
    "This list looks good for starting words except for a couple punctuation marks and the lowercase words \"and\" and \"shall\" that snuck in. Let's delete those."
   ]
  },
  {
   "cell_type": "code",
   "execution_count": 52,
   "metadata": {},
   "outputs": [],
   "source": [
    "# Removing words we don't want to start sentences with\n",
    "\n",
    "start_word_list.remove(',')\n",
    "start_word_list.remove('\"')\n",
    "start_word_list.remove('.')\n",
    "start_word_list.remove('and')\n",
    "start_word_list.remove('shall')"
   ]
  },
  {
   "cell_type": "markdown",
   "metadata": {},
   "source": [
    "Alright, let's hallucinate some sentences!"
   ]
  },
  {
   "cell_type": "code",
   "execution_count": 53,
   "metadata": {},
   "outputs": [
    {
     "name": "stdout",
     "output_type": "stream",
     "text": [
      "If, at the Rules concerning Captures on the United States, nor any person constitutionally ineligible to vote by appropriate legislation. \n",
      "\n",
      "\n",
      "Excessive bail shall name in one vote. \n",
      "\n",
      "\n",
      "1.  This amendment shall have qualified; nor shall be preserved, it shall not have been duly convicted of Money to the State, with foreign State, within, but no person holding any subject to the highest on the highest numbers not be vested in Consequence of votes as the States, or term of the people thereof, unless on such inferior Courts, the Person holding Elections for their Judgment and Pardons for the Case of Representatives shall not delegated to hold any of the President and the President shall by election of the Members present the land or pay Duties in their Enemies, or a President whenever the United States, Alliance, then be by a Term of Electors appointed to Prejudice any State may be inoperative unless it, and excluding Indians not exceeding ten dollars, the twelfth article shall exceed one State, or Members of the case to the Executive thereof shall not taxed, That the Congress may provide. \n",
      "\n",
      "\n",
      "Amendment 16 The article by Ballot the United States respectively, one days to the terms of Counsel for which he shall be a majority vote in the Advice and Water; To promote the Expiration of choice shall be returned by Law direct Taxes shall extend to their other Property belonging to lay and citizens shall any Foreign State to Controversies between two or Laws thereof to the vacancies happen in Payment of votes shall be chosen. \n",
      "\n",
      "\n",
      "6.  Thereupon Congress shall be the Congress shall be apportioned among the Congress may require Secrecy; he may require Secrecy; To declare the crime, under their successors shall from day to, unless they shall be presented to be a different States, Trust or use therein, Robert Morris, shall be elected, to affect the place to exercise like Manner of America. \n",
      "\n",
      "\n",
      "In all the right of another: A number of servitude. \n",
      "\n",
      "\n",
      "Done in all the same, and Imposts or previous condition of Years, and naval Forces; between Citizens of nine States, papers, during their Consideration such Part of Credit; he was elected. \n",
      "\n",
      "\n",
      "Whenever the second Year one thousand eight hundred and duties of Congress shall be valid as President more perfect Union, Abraham Baldwin Attest: \"I do solemnly swear (except in a majority, the Senate and Vice-President shall be denied or Title of whom such person shall be a Qualification to the members from the two thirds of Representatives, or Law shall bear to the Journal. \n",
      "\n",
      "\n",
      "Neither slavery nor deny to their Speaker of citizens twenty-one years in all persons in the remainder of the people thereof; and Fact, Charles Pinckney, and seizures, as Acting President and Nays of the Senate may by law; nor shall not be searched, or in all persons having the case of age or by Jury, at the several States, and fourth day to all Intents and until a State on the same shall immediately assume the Senate and be prohibited. \n",
      "\n",
      "\n",
      "Representatives shall act accordingly, according to fill the Consent of the several States or rebellion, nor cruel and provide for which shall return it shall be removed to the Constitution of the Objections, the greatest Number of electors for payment of training the President. \n",
      "\n",
      "\n"
     ]
    }
   ],
   "source": [
    "# Printing 10 random sentences\n",
    "\n",
    "for i in range(10):        \n",
    "    start_word = np.random.choice(list(start_word_list))\n",
    "    s = make_sentence(start_word)\n",
    "    print(list_to_sentence(s))\n",
    "    print(\"\\n\")"
   ]
  },
  {
   "cell_type": "markdown",
   "metadata": {},
   "source": [
    "These sentences look great! And they can get shockingly long because periods are not overly common in the constitution. Some improvements that could be made if this problem were to be extended:\n",
    "\n",
    " - Classifying words as their part of speech to create sentences that have a greater chance of making sense. \n",
    " - Adding logic to ensure that punctuation is used correctly. For example, never using a end parentheses before a beginning one, always closing parantheses, and always using two sets of quotation marks. \n",
    " - Using numbers more appropriately. Numbers are often followed by other numbers, which doesn't make much sense. \n",
    " - If these algorithms were to be applied to other documents, several changes would have to be made because I used a couple tricks that apply only to this specific document. For example, I used \"end characters\" and starting letters and words based on the constitution. A more robust program might pull these from the document automatically. \n"
   ]
  },
  {
   "cell_type": "markdown",
   "metadata": {},
   "source": [
    "Thank you!"
   ]
  },
  {
   "cell_type": "code",
   "execution_count": null,
   "metadata": {},
   "outputs": [],
   "source": []
  }
 ],
 "metadata": {
  "kernelspec": {
   "display_name": "Python 3",
   "language": "python",
   "name": "python3"
  },
  "language_info": {
   "codemirror_mode": {
    "name": "ipython",
    "version": 3
   },
   "file_extension": ".py",
   "mimetype": "text/x-python",
   "name": "python",
   "nbconvert_exporter": "python",
   "pygments_lexer": "ipython3",
   "version": "3.7.4"
  }
 },
 "nbformat": 4,
 "nbformat_minor": 2
}
