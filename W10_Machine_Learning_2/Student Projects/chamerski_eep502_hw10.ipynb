{
 "cells": [
  {
   "cell_type": "markdown",
   "metadata": {},
   "source": [
    "## Homework 10: Final\n",
    "\n",
    "### Hallucinating the Constitution by *Michael Chamerski*\n",
    "\n",
    "Consider the constitution of the United States:\n",
    "\n",
    "> https://www.usconstitution.net/const.txt .\n",
    "\n",
    "This document contains upper- and lower-case letters, numbers, and basic punctuation. \n",
    "\n",
    "**One letter prediction:**\n",
    "\n",
    "1. Find the set of all characters used in the document. Call the number of characters $n$. \n",
    "2. Create an $n \\times n$ matrix whose $i,j$ entry is the probability that the next character is $j$ given that the current character is $i$. Estimate this probability by looking at all occurrences of character $i$ in the document and the number of times character $j$ immediately follows it. \n",
    "3. Simulate this system as a Markov chain that starts with an arbitrary capital letter and continues until it gets to a space. Produce $100$ random \"words\" this way. How many of them are actual words? Use a [Scrabble dictionary](https://scrabble.hasbro.com/en-us/tools#dictionary) if you are not certain whether a given sequence is a word. \n",
    "\n",
    "**Two letter prediction:**\n",
    "\n",
    "1. Create an $n \\times n \\times n$ tensor whose $i,j,k$ entry is the probability that the next character is $k$ given that the current character is $j$ and the previous character is $i$. Use the document to empirically find these probabilities. \n",
    "2. Use this model to construct random words. \n",
    "\n",
    "**Sentence prediction:**\n",
    "\n",
    "Do a one word prediction, but use all the unique *words* in the document. Hallucinate sentences. Consider a punctuation mark as a word. \n",
    "\n",
    "#### Due 15 December, 2019 at 11:59 PM"
   ]
  },
  {
   "cell_type": "code",
   "execution_count": 1,
   "metadata": {},
   "outputs": [],
   "source": [
    "# IMPORTS\n",
    "import urllib3, random, enchant, re, numpy as np\n",
    "from collections import Counter\n",
    "\n",
    "# SUPPRESS WARNINGS; PROBABLY NOT RECOMMENDED, BUT USEFUL FOR THIS CASE\n",
    "import warnings\n",
    "warnings.filterwarnings(\"ignore\")"
   ]
  },
  {
   "cell_type": "markdown",
   "metadata": {},
   "source": [
    "<hr>\n",
    "\n",
    "#### Using the one-letter prediction method:\n",
    "\n",
    "We are able to hallucinate words using the Constitution as an input by taking the following steps:\n",
    "\n",
    "1. The Constitution must be extracted from a source and opened by Python as a text file. In this case, we will use https://www.usconstitution.net/const.txt. We can then clean-up the response removing all line breaks and extra spaces. All of this is done using the `constitution()` function.\n",
    "2. We then use the text to generate a list of all characters in the string. This is done simply by converting the string to a list. `split_string()` will perform this task and will return a list of all characters and a list of unique characters\n",
    "3. Next, we can compare the list of all characters against the list of unique characters to determine the probability of a particular character appearing after another. For each character in the unique set, we search the string for characters appearing after it, and build a list, which is then transformed into a `Counter` object containing the number of occurences. This is accomplished with the `generate_counter_object()` function.\n",
    "4. Each `Counter` object for each character in the unique set must then be normalized to 1, so then we can build a probability matrix. We feed each `Counter` object into `normalize_counter_object()` so that it returns a normalized `Counter` object.\n",
    "5. Using the `Counter` objects, we use the unique set to build an index for $i$ and $j$ and iterate through the dictionary of `Counter` objects and store the probability values in the probability matrix.\n",
    "6. We can then use the probability matrix in the `p` argument of `numpy`'s `random.choice()` function to build our word in a similar system to a Markov chain.\n",
    "7. The list of words is then compared against a U.S. English dictionary using the `pyenchant` library."
   ]
  },
  {
   "cell_type": "code",
   "execution_count": 2,
   "metadata": {},
   "outputs": [],
   "source": [
    "def constitution():\n",
    "    '''Uses urllib3's PoolManager() to request the text\n",
    "    format of the Constitution. Additionally, removes \n",
    "    line breaks and extra spaces.'''\n",
    "    response = urllib3.PoolManager().request('GET', 'https://www.usconstitution.net/const.txt')\n",
    "    data = (response.data.decode()).partition('We the People')\n",
    "    return ((data[1] + data[2]).replace(\"\\n\", \" \")).replace(\"  \", \" \")[:-1]\n",
    "\n",
    "def split_string(string):\n",
    "    '''Takes an input string and returns a tuple containing the\n",
    "    list of all characters in the string, and a list of all\n",
    "    unique characters in the string.'''\n",
    "    listed_string = list(string)\n",
    "    return listed_string, list(set(listed_string))\n",
    "\n",
    "def generate_counter_object(raw_list, raw_set):\n",
    "    '''Takes an input list of all characters, including\n",
    "    duplicates, and compares against the input list of all\n",
    "    unique characters to generate a Counter object for each\n",
    "    character.'''\n",
    "    char_set_dict = {}\n",
    "    for char in raw_set:\n",
    "        char_set = []\n",
    "        for char_ in range(len(raw_list) - 1):\n",
    "            if char == raw_list[char_]:\n",
    "                char_set.append(raw_list[char_ + 1])\n",
    "        char_set_dict[char] = Counter(char_set)\n",
    "    return char_set_dict\n",
    "\n",
    "def normalize_counter_object(counter_object):\n",
    "    '''Takes Counter object input and returns a\n",
    "    dictionary with normalized values.'''\n",
    "    normalized_counter_object = {}\n",
    "    total = sum(counter_object.values())\n",
    "    for char in counter_object:\n",
    "        normalized_counter_object[char] = counter_object[char]/total \n",
    "    return normalized_counter_object\n",
    "\n",
    "def generate_word(index, probability_matrix):\n",
    "    '''Generate a word given an index and probability matrix.\n",
    "    Begins with a capital letter and ends when a blank space occurs.\n",
    "    Uses the probability matrix to simulate the system as a Markov chain.'''\n",
    "    word = ''\n",
    "    while not word.isupper():\n",
    "        word = random.choice(index)\n",
    "    current_letter = word\n",
    "    while current_letter not in [' ', '-', ',', '.']:\n",
    "        k = np.random.choice(char_index, p=probability_set[current_letter])\n",
    "        word += k; current_letter = k\n",
    "    return word[:-1]\n",
    "\n",
    "def generate_words(index, probability_matrix, num):\n",
    "    '''Uses generate_word function to generate a given number of words.\n",
    "    Takes the index, probabilities, and number of words as input. Returns\n",
    "    a list of generated \"words\".'''\n",
    "    return [generate_word(index, probability_matrix) for _ in range(num)]\n",
    "\n",
    "def check_dictionary(word_list):\n",
    "    '''To check if a particular word is an English word, \n",
    "    we can use the en_US dictionary in the PyEnchant module.'''\n",
    "    d = enchant.Dict(\"en_US\")\n",
    "    return [word for word in word_list if d.check(word)]"
   ]
  },
  {
   "cell_type": "code",
   "execution_count": 3,
   "metadata": {},
   "outputs": [
    {
     "name": "stdout",
     "output_type": "stream",
     "text": [
      "['J', 'V', 's', 'C', 'r', '1', '7', '.', '8', ':', 'e', ' ', 'B', 'Q', '\"', '2', 'p', 'y', 'k', ';', 'c', 'h', 'x', '3', 'a', 'b', 'I', '4', '5', '0', 'P', 'j', 'u', 'S', 't', 'd', 'g', ',', 'O', 'R', 'M', 'f', 'N', 'E', 'D', 'G', '6', 'q', 'F', '-', 'Y', 'w', 'A', 'U', 'K', 'o', 'v', 'i', 'm', '(', 'n', 'T', 'W', ')', '9', 'l', 'L', 'z', 'H']\n"
     ]
    }
   ],
   "source": [
    "# GENERATE LIST OF CHARACTERS FROM THE CONSTITUTION\n",
    "raw_text_list, raw_text_set = split_string(constitution())\n",
    "print(raw_text_set)"
   ]
  },
  {
   "cell_type": "code",
   "execution_count": 4,
   "metadata": {},
   "outputs": [
    {
     "name": "stdout",
     "output_type": "stream",
     "text": [
      "Counter({'m': 38, 'r': 18, 'u': 8, 'p': 8, 'd': 7, 'c': 7, 'l': 6, 'n': 6, 't': 6, 'g': 4, 'f': 4, ' ': 3, 'b': 2, 'i': 1, 's': 1})\n"
     ]
    }
   ],
   "source": [
    "# GENERATE COUNTER OBJECT FOR HOW MANY TIMES A LETTER OCCURS AFTER A PARTICULAR CHARACTER\n",
    "char_set_dict = generate_counter_object(raw_text_list, raw_text_set)\n",
    "print(char_set_dict['A'])"
   ]
  },
  {
   "cell_type": "code",
   "execution_count": 5,
   "metadata": {},
   "outputs": [
    {
     "data": {
      "text/plain": [
       "{' ': 0.30655391120507397,\n",
       " ',': 0.014799154334038054,\n",
       " '.': 0.0014094432699083862,\n",
       " ';': 0.0007047216349541931,\n",
       " 'a': 0.08386187455954898,\n",
       " 'd': 0.016913319238900635,\n",
       " 'e': 0.13742071881606766,\n",
       " 'f': 0.0035236081747709656,\n",
       " 'i': 0.07963354474982381,\n",
       " 'l': 0.29034531360112753,\n",
       " 'm': 0.0007047216349541931,\n",
       " 'o': 0.01620859760394644,\n",
       " 's': 0.008456659619450317,\n",
       " 't': 0.0028188865398167725,\n",
       " 'u': 0.01127554615926709,\n",
       " 'v': 0.007047216349541931,\n",
       " 'y': 0.018322762508809022}"
      ]
     },
     "execution_count": 5,
     "metadata": {},
     "output_type": "execute_result"
    }
   ],
   "source": [
    "# INITIALIZE NORMAL DICT\n",
    "normalized_char_set_dict = {}\n",
    "\n",
    "# FOR EACH CHAR IN DICT, NORMALIZE COUNTER & STORE\n",
    "for char_ in char_set_dict:\n",
    "    normalized_set_ = normalize_counter_object(char_set_dict[char_])\n",
    "    normalized_char_set_dict[char_] = normalized_set_\n",
    "    \n",
    "# EXAMPLE FOR CHARACTERS APPEARING AFTER 'l'\n",
    "normalized_char_set_dict['l']"
   ]
  },
  {
   "cell_type": "code",
   "execution_count": 6,
   "metadata": {},
   "outputs": [
    {
     "name": "stdout",
     "output_type": "stream",
     "text": [
      "[' ', '\"', '(', ')', ',', '-', '.', '0', '1', '2', '3', '4', '5', '6', '7', '8', '9', ':', ';', 'A', 'B', 'C', 'D', 'E', 'F', 'G', 'H', 'I', 'J', 'K', 'L', 'M', 'N', 'O', 'P', 'Q', 'R', 'S', 'T', 'U', 'V', 'W', 'Y', 'a', 'b', 'c', 'd', 'e', 'f', 'g', 'h', 'i', 'j', 'k', 'l', 'm', 'n', 'o', 'p', 'q', 'r', 's', 't', 'u', 'v', 'w', 'x', 'y', 'z']\n"
     ]
    }
   ],
   "source": [
    "# DEFINE STANDARIZED CHARACTER INDEX\n",
    "char_index = sorted(raw_text_set)\n",
    "print(char_index)"
   ]
  },
  {
   "cell_type": "code",
   "execution_count": 7,
   "metadata": {},
   "outputs": [],
   "source": [
    "# BUILD N-by-N MATRIX USING THE COUNTER DICTIONARY\n",
    "probability_set = {}\n",
    "for i in char_index:\n",
    "    probability_set_char = []\n",
    "    normalized_ = normalized_char_set_dict[i]\n",
    "    for j in char_index:\n",
    "        try:\n",
    "            probability_set_char += [normalized_[j]] # IF THERE IS A PROBABILITY, SET IT.\n",
    "        except KeyError:\n",
    "            probability_set_char += [0] # IF THERE IS NO KEY, THERE IS NO PROBABILITY. SET IT TO ZERO.\n",
    "    probability_set[i] = probability_set_char # SAVE INTO A MATRIX."
   ]
  },
  {
   "cell_type": "code",
   "execution_count": 8,
   "metadata": {},
   "outputs": [
    {
     "name": "stdout",
     "output_type": "stream",
     "text": [
      "---------- 100 EXAMPLE WORDS ----------\n",
      "['Qut', 'Fan', 'Authas', 'Yetorior', 'Un', 'Kided', 'Cony', 'Horviesind', 'Remerd', 'Qutide', 'Nof', 'Hof', 'Gersitothe', 'Seroumpeduche', 'Tave', 'Renge', 'Ames', 'Ampe', 'For', 'Gene', 'Brte', 'Aum', 'Yern', 'Kig', 'Mos', 'On', 'Fan', 'Ge;', 'Go', 'Unga', 'Re', 'Did', 'Tosont', 'Qurthedes', 'Menther', 'Imelllle', 'Qunfithon', 'Makesirqunt', 'Kice', 'Goron', 'Re', 'Reerseclesony', 'At', 'Prthesit', 'Qutys', 'Fong', 'Gre', 'Got', 'Jut', 'Un', 'Nesen', 'Dacowhthar', 'Brme', 'Unemse', 'Kis', 'Cof', 'Fesshal', 'Entoffthitoversweshershexis', 'If', 'Kiote', 'Recce', 'Ele', 'Hothe', 'Bes', 'Re', 'Th', 'If', 'Grecon', 'Dainthonthetaleciofray', 'Hof', 'Qurend', 'Auans', 'Res', 'Hoffonungas', 'Kit', 'Pr', 'Ges', 'Pr', 'Wit', 'Prthier', 'Ofike', 'Ariongrtons', 'Unor', 'Yente', 'Oaprshand', 'Atavionates', 'Donar', 'In', 'Lasithovegre', 'Exces', 'Calle', 'Jo', 'We', 'Coticke', 'Vinche', 'Fasun', 'Qupanuse', 'Jal', 'Hofotisivy', 'Saichirthirs']\n",
      "\n",
      "---------- ENGLISH EXAMPLE WORDS ----------\n",
      "['Fan', 'Cony', 'Ames', 'For', 'Gene', 'Mos', 'On', 'Fan', 'Go', 'Re', 'Did', 'Re', 'At', 'Got', 'Jut', 'If', 'Bes', 'Re', 'Th', 'If', 'Res', 'Kit', 'Pr', 'Pr', 'Wit', 'In', 'Jo', 'We']\n",
      "----------\n",
      "28 word(s) of the 100 word(s) generated are proper English words, using the one-letter prediction method.\n"
     ]
    }
   ],
   "source": [
    "# GENERATE WORDS & COMPARE THEM AGAINST A DICTIONARY\n",
    "r = generate_words(char_index, probability_set, 100)\n",
    "r_en_US = check_dictionary(r)\n",
    "print((\"---------- 100 EXAMPLE WORDS ----------\\n{}\\n\\n\"\n",
    "       \"---------- ENGLISH EXAMPLE WORDS ----------\\n{}\"\n",
    "       \"\\n----------\\n{} word(s) of the {} word(s) \"\n",
    "       \"generated are proper English words, using the \" \n",
    "       \"one-letter prediction method.\").format(r, r_en_US, len(r_en_US), len(r)))"
   ]
  },
  {
   "cell_type": "markdown",
   "metadata": {},
   "source": [
    "<hr>\n",
    "\n",
    "#### Using the two-letter prediction method:\n",
    "\n",
    "We will use a similar method for the two-letter prediction as we did for the one-letter prediction. Essentially, the process is the same, except we will need to generate two correlated dictionaries of `Counter` objects that describe the probability of a character appearing before and after a particular character. We then use these dictionary levels to form a 3-dimensional probability matrix $(i, j, k)$, which is then used to generate words using the two-letter prediction method."
   ]
  },
  {
   "cell_type": "code",
   "execution_count": 9,
   "metadata": {},
   "outputs": [],
   "source": [
    "def generate_counter_object_two(raw_list, raw_set):\n",
    "    '''Takes an input list of all characters, including\n",
    "    duplicates, and compares against the input list of all\n",
    "    unique characters to generate a Counter object for each\n",
    "    character.'''\n",
    "    char1_set_dict = {}\n",
    "    for char1 in raw_set:\n",
    "        char2_set_dict = {}\n",
    "        for char2 in raw_set:\n",
    "            char_set = []\n",
    "            for char_ in range(len(raw_list) - 2):\n",
    "                if char1 == raw_list[char_] and char2 == raw_list[char_ + 1]:\n",
    "                    char_set.append(raw_list[char_ + 2])\n",
    "            char2_set_dict[char2] = Counter(char_set)\n",
    "        char1_set_dict[char1] = char2_set_dict\n",
    "    return char1_set_dict\n",
    "\n",
    "def normalize_counter_object_two(counter_object):\n",
    "    '''Takes Counter object input and returns a\n",
    "    dictionary with normalized values.'''\n",
    "    normalized_counter_object = {}\n",
    "    total = sum(counter_object.values())\n",
    "    for char in counter_object:\n",
    "        normalized_counter_object[char] = counter_object[char]/total \n",
    "    return normalized_counter_object\n",
    "\n",
    "def generate_word_two(index, probability_set_1, probability_set_2):\n",
    "    '''Generate a word given an index and two probability matrices.\n",
    "    Begins with a capital letter and ends when a blank space occurs.\n",
    "    Uses the probability matrices to simulate the system as a Markov chain,\n",
    "    where the combination of probability_set_1 and probability_set_2\n",
    "    determines the character before and after a particular character.\n",
    "    Begins with the one-letter method for the first character, then uses\n",
    "    the two-letter method for every other character.'''\n",
    "    word = ''\n",
    "    while not word.isupper():\n",
    "        word = random.choice(index)\n",
    "    mid_letter = word\n",
    "    m = np.random.choice(index, p=probability_set_1[mid_letter])\n",
    "    word += m\n",
    "    if m in [' ', '.', ',', '-']:\n",
    "        return word[:-1]\n",
    "    selection = probability_set_2[mid_letter][m]\n",
    "    n = np.random.choice(list(selection.keys()), p=list(selection.values()))\n",
    "    word += n; starting_letter = m; mid_letter = n\n",
    "    if n in [' ', '.', ',', '-']:\n",
    "        return word[:-1]\n",
    "    while True:\n",
    "        selection = probability_set_2[starting_letter][mid_letter]\n",
    "        n = np.random.choice(list(selection.keys()), p=list(selection.values()))\n",
    "        word += n\n",
    "        if n in [' ', '.', ',', '-']:\n",
    "            break\n",
    "        else:\n",
    "            starting_letter = mid_letter\n",
    "            mid_letter = n\n",
    "    return word[:-1]\n",
    "\n",
    "def generate_words_two(index, probability_set_1, probability_set_2, num):\n",
    "    '''Uses generate_word function to generate a given number of words.\n",
    "    Takes the index, probabilities, and number of words as input. Returns\n",
    "    a list of generated \"words\".'''\n",
    "    return [generate_word_two(index, probability_set_1, probability_set_2) for _ in range(num)]"
   ]
  },
  {
   "cell_type": "code",
   "execution_count": 10,
   "metadata": {},
   "outputs": [],
   "source": [
    "# GENERATE COUNTER OBJECT FOR HOW MANY TIMES A LETTER OCCURS AFTER AND BEFORE A PARTICULAR CHARACTER\n",
    "char_set_dict_two = generate_counter_object_two(raw_text_list, raw_text_set)"
   ]
  },
  {
   "cell_type": "code",
   "execution_count": 11,
   "metadata": {},
   "outputs": [
    {
     "data": {
      "text/plain": [
       "{'e': 0.024390243902439025,\n",
       " 'i': 0.2682926829268293,\n",
       " 'l': 0.3902439024390244,\n",
       " 'o': 0.07317073170731707,\n",
       " 'r': 0.17073170731707318,\n",
       " 's': 0.07317073170731707}"
      ]
     },
     "execution_count": 11,
     "metadata": {},
     "output_type": "execute_result"
    }
   ],
   "source": [
    "# INITIALIZE NORMAL DICT\n",
    "normalized_char_set_dict_two = {}\n",
    "\n",
    "# ITERATE THROUGH EACH COUNTER OBJECT IN EACH DICTIONARY & NORMALIZE\n",
    "for char_set_ in char_set_dict_two:\n",
    "    normalized_char_set_dict_two[char_set_] = {}\n",
    "    for char_ in char_set_dict_two[char_set_]:\n",
    "        normalized_set_ = normalize_counter_object_two(char_set_dict_two[char_set_][char_])\n",
    "        normalized_char_set_dict_two[char_set_][char_] = normalized_set_\n",
    "        \n",
    "# EXAMPLE: PROBABILITY OF OCCURANCES OF \"ab_\"\n",
    "normalized_char_set_dict_two['a']['b']"
   ]
  },
  {
   "cell_type": "code",
   "execution_count": 12,
   "metadata": {},
   "outputs": [
    {
     "name": "stdout",
     "output_type": "stream",
     "text": [
      "---------- 100 EXAMPLE WORDS ----------\n",
      "['Fiterales', 'Quall', 'Quars', 'Willes', 'In', 'Donve', 'Quall', 'Stat', 'Artion', 'Dutior', 'Rept', 'Debaboutionstionse', 'Exce', 'Quars', 'Ambe', 'The', 'Saftess', 'No', 'Dan', 'Kincuthosideng', 'Ele', 'New', 'Legibe', 'Adjousers', 'Quall', 'Treas', 'Fited', 'Offies', 'Depre', 'Nationgreof', 'Arty', 'Mancurroviclaccermesiden', 'Hourposess', 'Sen', 'Law', 'Ador', 'Press', 'Vicur', 'Lislaward', 'Welecution', 'Quall', 'Diss', 'Bil', 'Janto', 'Offired', 'Stated', 'Wele', 'Yeace', 'Jurs', 'For', 'Was', 'Govacassen', 'Amend', 'Cas', 'He', 'Dearty', 'Habity', 'Band', 'Vicess', 'Jund', 'Opirds', 'Mandmento', 'Laws', 'Biliall', 'Kin', 'Laws:', 'Serallonvach', 'Constationsmins', 'Jams', 'Dist', 'Jurt', 'To', 'Regin', 'Quall', 'For', 'For', 'Ind', 'Thelite', 'Viction', 'Houtivices', 'Ball', 'Deptutiturts', 'Bralls', 'Ballarited', 'Wil', 'Oatives;', 'Jr', 'Felegislaw;', 'Jury', 'Repropecut', 'Repatures', 'Qual', 'Rull', 'Preswo', 'Ameem', 'Unitivideprequand', 'Unitated', 'Wringres', 'Unit', 'Yeach']\n",
      "\n",
      "---------- ENGLISH EXAMPLE WORDS ----------\n",
      "['In', 'Stat', 'The', 'No', 'Dan', 'New', 'Treas', 'Arty', 'Sen', 'Law', 'Press', 'Bil', 'Stated', 'For', 'Was', 'Amend', 'He', 'Band', 'Laws', 'Kin', 'Jams', 'Dist', 'To', 'For', 'For', 'Ind', 'Ball', 'Jr', 'Jury', 'Unit']\n",
      "----------\n",
      "30 word(s) of the 100 word(s) generated are proper English words, using the two-letter prediction method.\n"
     ]
    }
   ],
   "source": [
    "# GENERATE WORDS & COMPARE THEM AGAINST A DICTIONARY\n",
    "r_two = generate_words_two(char_index, probability_set, normalized_char_set_dict_two, 100)\n",
    "r_two_en_US = check_dictionary(r_two)\n",
    "print((\"---------- 100 EXAMPLE WORDS ----------\\n{}\"\n",
    "       \"\\n\\n---------- ENGLISH EXAMPLE WORDS ----------\"\n",
    "       \"\\n{}\\n----------\\n{} word(s) of the {} word(s) \"\n",
    "       \"generated are proper English words, using the \" \n",
    "       \"two-letter prediction method.\").format(r_two, r_two_en_US, len(r_two_en_US), len(r_two)))"
   ]
  },
  {
   "cell_type": "markdown",
   "metadata": {},
   "source": [
    "<hr>\n",
    "\n",
    "#### Using the one-word prediction method:\n",
    "\n",
    "The one-word prediction method uses the exact same procedure as the one-letter method, except that a list of words is generated from the raw Constitution text, rather than a list of characters."
   ]
  },
  {
   "cell_type": "code",
   "execution_count": 13,
   "metadata": {},
   "outputs": [],
   "source": [
    "def split_into_words(string):\n",
    "    '''Uses the regular expressions library. Takes \n",
    "    an input string and separates the words by spaces. \n",
    "    Returns a list of all words,and a list of unique words.'''\n",
    "    r = re.findall(r\"[\\w']+|[.,!?;]\", string)\n",
    "    return r, list(set(r))\n",
    "\n",
    "def generate_counter_object_word(raw_list, raw_set):\n",
    "    '''Takes an input list of all characters, including\n",
    "    duplicates, and compares against the input list of all\n",
    "    unique characters to generate a Counter object for each\n",
    "    character.'''\n",
    "    word_set_dict = {}\n",
    "    for word in raw_set:\n",
    "        word_set = []\n",
    "        for word_ in range(len(raw_list) - 1):\n",
    "            if word == raw_list[word_]:\n",
    "                word_set.append(raw_list[word_ + 1])\n",
    "        word_set_dict[word] = Counter(word_set)\n",
    "    return word_set_dict\n",
    "\n",
    "def generate_sentence(index, probability_set):\n",
    "    '''Generate a sentence given an index and probability matrix of a particular\n",
    "    word appearing after a given word. Begins with a word containing a capital \n",
    "    letter and ends when a period occurs. Uses the probability matrix to \n",
    "    simulate the system as a Markov chain.'''\n",
    "    sentence = ''\n",
    "    while not sentence.istitle():\n",
    "        sentence = random.choice(index)\n",
    "    current_word = sentence\n",
    "    while current_word != '.':\n",
    "        selection = probability_set[current_word]\n",
    "        p = np.random.choice(list(selection.keys()), p=list(selection.values()))\n",
    "        if p in ['.', ',', ';']:\n",
    "            sentence += p\n",
    "        else:\n",
    "            sentence += ' ' + p\n",
    "        current_word = p    \n",
    "    return sentence"
   ]
  },
  {
   "cell_type": "code",
   "execution_count": 14,
   "metadata": {},
   "outputs": [
    {
     "data": {
      "text/plain": [
       "['We', 'the', 'People', 'of', 'the', 'United', 'States', ',', 'in', 'Order']"
      ]
     },
     "execution_count": 14,
     "metadata": {},
     "output_type": "execute_result"
    }
   ],
   "source": [
    "# GENERATE LIST OF WORDS FROM THE CONSTITUTION\n",
    "raw_word_list, raw_word_set = split_into_words(constitution())\n",
    "raw_word_list[:10]"
   ]
  },
  {
   "cell_type": "code",
   "execution_count": 15,
   "metadata": {},
   "outputs": [],
   "source": [
    "# GENERATE COUNTER OBJECT FOR HOW MANY TIMES A WORD OCCURS AFTER A PARTICULAR WORD\n",
    "word_set_dict = generate_counter_object_word(raw_word_list, raw_word_set)"
   ]
  },
  {
   "cell_type": "code",
   "execution_count": 16,
   "metadata": {},
   "outputs": [
    {
     "data": {
      "text/plain": [
       "{',': 0.44,\n",
       " '.': 0.04,\n",
       " ';': 0.04,\n",
       " 'between': 0.04,\n",
       " 'by': 0.16,\n",
       " 'for': 0.04,\n",
       " 'in': 0.04,\n",
       " 'of': 0.12,\n",
       " 'or': 0.04,\n",
       " 'shall': 0.04}"
      ]
     },
     "execution_count": 16,
     "metadata": {},
     "output_type": "execute_result"
    }
   ],
   "source": [
    "# INITIALIZE NORMAL DICT\n",
    "normalized_word_set_dict = {}\n",
    "\n",
    "# FOR EACH CHAR IN DICT, NORMALIZE COUNTER & STORE\n",
    "for word_ in word_set_dict:\n",
    "    normalized_set_ = normalize_counter_object(word_set_dict[word_])\n",
    "    normalized_word_set_dict[word_] = normalized_set_\n",
    "    \n",
    "# EXAMPLE OF WORDS APPEARING AFTER 'Constitution'\n",
    "normalized_word_set_dict['Constitution']"
   ]
  },
  {
   "cell_type": "code",
   "execution_count": 22,
   "metadata": {},
   "outputs": [
    {
     "name": "stdout",
     "output_type": "stream",
     "text": [
      "------ EXAMPLE SENTENCE ------\n"
     ]
    },
    {
     "data": {
      "text/plain": [
       "'Person holding the Senate shall then act as on Imports or which the right of the Vice President elect shall immediately assume the Senate, and until he fled, to support this Constitution, whose Appointments until the Emoluments whereof the sole Power, which some other public Trust or other needful Rules and cause of a question of its submission hereof to time by the Debts and make any State shall be presented to the government of the Same shall have been presented to assemble, during their Votes; and Engagements entered into, the End of the House of trial, or which the other Mode of the list, shall meet in Case, or Labour, until an amendment to dispose of his Objections, of Impeachment, or erected within, Abraham Baldwin Attest William Few, or more who shall be admitted by Oath or as the Congress; To lay and Navy; and of all Treaties made, shall be found in their Services, or as they shall judge necessary to their successors shall be an uniform throughout the Same shall take Care that no Person attainted.'"
      ]
     },
     "execution_count": 22,
     "metadata": {},
     "output_type": "execute_result"
    }
   ],
   "source": [
    "# HALLUCINATE A SENTENCE\n",
    "print(\"------ EXAMPLE SENTENCE ------\")\n",
    "generate_sentence(raw_word_set, normalized_word_set_dict)"
   ]
  },
  {
   "cell_type": "markdown",
   "metadata": {},
   "source": [
    "<hr>"
   ]
  }
 ],
 "metadata": {
  "kernelspec": {
   "display_name": "Python 3",
   "language": "python",
   "name": "python3"
  },
  "language_info": {
   "codemirror_mode": {
    "name": "ipython",
    "version": 3
   },
   "file_extension": ".py",
   "mimetype": "text/x-python",
   "name": "python",
   "nbconvert_exporter": "python",
   "pygments_lexer": "ipython3",
   "version": "3.7.4"
  }
 },
 "nbformat": 4,
 "nbformat_minor": 2
}
