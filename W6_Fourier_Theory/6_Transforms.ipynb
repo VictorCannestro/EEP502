{
 "cells": [
  {
   "cell_type": "markdown",
   "metadata": {
    "colab_type": "text",
    "id": "JiBSdT0wWs6B"
   },
   "source": [
    "EE 502 P: Analytical Methods for Electrical Engineering\n",
    "# 6: Fourier Analysis\n",
    "## Prof. Eric Klavins, Electrical and Computer Engineering\n",
    "### 25 September, 2019\n",
    "Copyright &copy; 2019, University of Washington"
   ]
  },
  {
   "cell_type": "markdown",
   "metadata": {
    "colab_type": "text",
    "collapsed": true,
    "id": "RbHRIHnRWs6D"
   },
   "source": [
    "For these notes I have sampled from and condensed the first two chapers of:\n",
    "\n",
    "Osgood, [Lecture notes for EE 261](\n",
    "https://see.stanford.edu/materials/lsoftaee261/book-fall-07.pdf).\n",
    "\n",
    "I have also taken material from\n",
    "\n",
    "Stein and Shakarchi, [Fourier Analysis: An Introduction](https://www.amazon.com/Fourier-Analysis-Introduction-Princeton-Lectures/dp/069111384X/ref=sr_1_1?keywords=stein+and+shakarchi+fourier&qid=1572974320&sr=8-1)."
   ]
  },
  {
   "cell_type": "code",
   "execution_count": 1,
   "metadata": {
    "ExecuteTime": {
     "end_time": "2019-11-07T02:19:08.216502Z",
     "start_time": "2019-11-07T02:19:06.755251Z"
    },
    "colab": {},
    "colab_type": "code",
    "id": "WXJJqZDkWs6E"
   },
   "outputs": [],
   "source": [
    "import math\n",
    "import scipy # Has linear algebra\n",
    "import scipy.ndimage\n",
    "import numpy as np\n",
    "import sympy as sm\n",
    "sm.init_printing(use_latex='mathjax')\n",
    "import matplotlib.pyplot as plt\n",
    "import matplotlib.patches as pch\n",
    "%matplotlib inline\n",
    "from matplotlib.ticker import MaxNLocator # to make integer ticks on x axis"
   ]
  },
  {
   "cell_type": "code",
   "execution_count": 2,
   "metadata": {
    "ExecuteTime": {
     "end_time": "2019-11-07T01:48:27.047586Z",
     "start_time": "2019-11-07T01:48:26.753227Z"
    },
    "colab": {},
    "colab_type": "code",
    "id": "Np1RJgYFWs6H",
    "outputId": "d55cbe05-b071-42a7-b88f-6c1b54347646"
   },
   "outputs": [
    {
     "data": {
      "image/png": "[encoded data removed]",
      "text/plain": [
       "<Figure size 432x288 with 1 Axes>"
      ]
     },
     "metadata": {
      "needs_background": "light"
     },
     "output_type": "display_data"
    }
   ],
   "source": [
    "g=[88.77,73.26,96.98,90.58,98.84,99.53,95,84.07,88.3,98.14,\n",
    "   75.69,94.53,93.02,93.12,97.07,79.3,92.93,80,95.81,77.09,\n",
    "   94.65,99.07,93.26,98.05,80.95,86.51,98.37,96.51,85.35,\n",
    "   80.56,93.62,86.67,96.74,98.14,96.19,98.72,97.12,98.02,\n",
    "   71.4,100.93,95.7,92.72,99.53,94.42,61.65,96.67,98.02,\n",
    "   99.53,96.16,97.91,87.56,96.98]\n",
    "plt.hist(g,bins=len(g));\n",
    "plt.title(\"Total grades after first four homeworks\")\n",
    "plt.xlabel(\"Grade (%%)\")\n",
    "plt.ylabel(\"Count\");"
   ]
  },
  {
   "cell_type": "markdown",
   "metadata": {
    "colab_type": "text",
    "heading_collapsed": true,
    "id": "gVroMOSoWs6K"
   },
   "source": [
    "# Preliminaries"
   ]
  },
  {
   "cell_type": "markdown",
   "metadata": {
    "colab_type": "text",
    "hidden": true,
    "id": "advt5sgnWs6K"
   },
   "source": [
    "## Trigonometry with Exponentials\n",
    "\n",
    "Recall the Taylor series for the function $f$ is\n",
    "\n",
    "$$\n",
    "f(x) = f(0) + f'(0)x + \\frac{f''(0)}{2!}x^2 + + \\frac{f'''(0)}{3!}x^3 + \n",
    "$$\n",
    "\n",
    "Let's compute this $f$ is $\\cos$ and $x = \\theta$. For the coefficients, we get\n",
    "\n",
    "\\begin{eqnarray}\n",
    "\\cos(0)     = \\cos(0) & = & 1 \\\\\n",
    "\\cos'(0)     = -\\sin(0) & = & 0 \\\\\n",
    "\\cos''(0)   = -\\cos(0) & = & -1 \\\\\n",
    "\\cos'''(0)   = \\sin(0) & = & 0 \\\\\n",
    "\\cos''''(0)  = \\cos(0) & = & 1 \\\\\n",
    "\\vdots & & \n",
    "\\end{eqnarray}\n",
    "\n",
    "All the odd numbered coefficients are zero, and the even ones alternate between 1 and -1. So the series is\n",
    "\n",
    "$$\n",
    "\\cos \\theta = 1 + \\frac{1}{2!}\\theta^2 - \\frac{1}{4!}\\theta^4 + \\frac{1}{6!}\\theta^6 + ...\n",
    "$$\n",
    "\n",
    "Similarly, \n",
    "\n",
    "\\begin{eqnarray}\n",
    "\\sin(0)     = \\sin(0) & = & 0 \\\\\n",
    "\\sin'(0)    = \\cos(0) & = & 1 \\\\\n",
    "\\sin''(0)   = -\\sin(0) & = & 0 \\\\\n",
    "\\sin'''(0)   = -\\cos(0) & = & -1 \\\\\n",
    "\\sin''''(0)  = \\sin(0) & = & 0 \\\\\n",
    "\\vdots & & \n",
    "\\end{eqnarray}\n",
    "\n",
    "All the even numbered coefficients are zero, and the even odd alternate between 1 and -1. So the series is\n",
    "\n",
    "$$\n",
    "\\sin \\theta = \\theta + \\frac{1}{3!}\\theta^4 - \\frac{1}{5!}\\theta^5 + \\frac{1}{7!}\\theta^7 + ...\n",
    "$$\n",
    "\n",
    "Adding these two series together almost gives you $e^\\theta$. But that series does not alternate signs. However, if we look at the series for $e^{i \\theta}$ we get for the derivatives\n",
    "\n",
    "$$\n",
    "e^{i \\theta},\n",
    "i e^{i \\theta},\n",
    "-e^{i \\theta},\n",
    "-i e^{i \\theta},\n",
    "e^{i \\theta},\n",
    "\\dots \n",
    "$$\n",
    "\n",
    "Substituting in $\\theta = 0$ gives $1, i, -1, -i, 1, \\dots$. Evidently, then\n",
    "\n",
    "$$\n",
    "e^{i \\theta} = \\cos \\theta + i \\sin \\theta ,\n",
    "$$\n",
    "\n",
    "which is called **Euler's Formula**. This is why, by the way, my favorite equation holds:\n",
    "\n",
    "$$\n",
    "e^{i \\pi} = \\cos \\pi + i \\sin \\pi = -1 ,\n",
    "$$\n",
    "\n",
    "which is called **Euler's Identity**. It actually gets better. Consider the the expression\n",
    "\n",
    "$$\n",
    "e^{2 k \\pi i / n}\n",
    "$$\n",
    "\n",
    "where $n$ is an integer greater than 1 and $0 \\leq k < n$. Raise this expression to the $n$th power:\n",
    "\n",
    "$$\n",
    "(e^{2 k \\pi i / n})^n = e^{2 k \\pi i} = \\cos(2 k \\pi) + i \\sin(2 k \\pi) = 1 .\n",
    "$$\n",
    "\n",
    "Therefore, $e^{2 k \\pi i / n}$ is an $n$th root of $1$ for $k = 0$ to $n-1$. Cool!\n",
    "\n",
    "We can look at these so called **roots of unity** in the imaginary plane by plotting the real part of $e^{2 k \\pi i / n}$, which is $\\cos(2 k \\pi)$, and the imaginary part, which is $\\sin(2 k \\pi)$. "
   ]
  },
  {
   "cell_type": "code",
   "execution_count": 3,
   "metadata": {
    "ExecuteTime": {
     "end_time": "2019-11-07T02:19:11.545332Z",
     "start_time": "2019-11-07T02:19:10.722709Z"
    },
    "colab": {},
    "colab_type": "code",
    "hidden": true,
    "id": "rP8xI_6rWs6L",
    "outputId": "4b97c202-75a9-4f7b-aa0d-354bb5b4d11a"
   },
   "outputs": [
    {
     "data": {
      "image/png": "[encoded data removed]",
      "text/plain": [
       "<Figure size 576x576 with 1 Axes>"
      ]
     },
     "metadata": {
      "needs_background": "light"
     },
     "output_type": "display_data"
    }
   ],
   "source": [
    "n = 11\n",
    "roots = np.array([np.exp(2*k*np.pi*1j / n) for k in range(n)])\n",
    "\n",
    "fig, ax = plt.subplots(1,1, figsize=(8,8))\n",
    "plt.plot(np.real(roots), np.imag(roots), 'o')\n",
    "[\n",
    "    plt.text(\n",
    "        np.cos(2*k*np.pi/n)+0.1, \n",
    "        np.sin(2*k*np.pi/n), \n",
    "        \"$e^{\\\\frac{%d}{%d} 2 i \\pi}$\" % (k,n),\n",
    "        size=18\n",
    "    )\n",
    "    for k in range(n)\n",
    "]\n",
    "ax.set_aspect(1)\n",
    "ax.set_xlabel(\"real part\");\n",
    "ax.set_ylabel(\"imaginary part\");"
   ]
  },
  {
   "cell_type": "markdown",
   "metadata": {
    "ExecuteTime": {
     "end_time": "2019-11-02T22:55:01.742967Z",
     "start_time": "2019-11-02T22:55:01.733810Z"
    },
    "colab_type": "text",
    "hidden": true,
    "id": "BdeeKGB2Ws6N"
   },
   "source": [
    "We can also come up with expressions for just $\\cos$ and $\\sin$. From \n",
    "\n",
    "$$\n",
    "e^{i \\theta} = \\cos \\theta + i \\sin \\theta ,\n",
    "$$\n",
    "\n",
    "we can get\n",
    "\n",
    "\\begin{eqnarray}\n",
    "e^{-i \\theta} & = & \\cos (-\\theta) + i \\sin (-\\theta) \\\\\n",
    "              & = & \\cos \\theta - i \\sin \\theta\n",
    "\\end{eqnarray}\n",
    "\n",
    "Adding these two equations together and solving for $\\cos \\theta$ gives\n",
    "\n",
    "$$\n",
    "\\cos \\theta = \\frac{e^{i\\theta} + e^{-i \\theta}}{2} .\n",
    "$$\n",
    "\n",
    "Subtracting and solving for $\\sin \\theta$ gives\n",
    "\n",
    "$$\n",
    "\\sin \\theta = \\frac{e^{i\\theta} - e^{-i \\theta}}{2i}.\n",
    "$$"
   ]
  },
  {
   "cell_type": "code",
   "execution_count": 4,
   "metadata": {
    "ExecuteTime": {
     "end_time": "2019-11-06T22:45:27.556525Z",
     "start_time": "2019-11-06T22:45:27.303389Z"
    },
    "colab": {},
    "colab_type": "code",
    "hidden": true,
    "id": "HYxLClKMWs6O",
    "outputId": "220ae040-5f19-4307-f65b-499ab6655f2d"
   },
   "outputs": [
    {
     "data": {
      "image/png": "[encoded data removed]",
      "text/plain": [
       "<Figure size 432x288 with 1 Axes>"
      ]
     },
     "metadata": {
      "needs_background": "light"
     },
     "output_type": "display_data"
    }
   ],
   "source": [
    "theta = np.linspace(-2*np.pi, 2*np.pi, 100)\n",
    "cos = (np.exp(1j*theta) + np.exp(-1j*theta))/2\n",
    "plt.plot(theta, np.real(cos))\n",
    "plt.xlabel(\"$\\\\theta$\")\n",
    "plt.ylabel(\"$\\\\frac{e^{i\\\\theta} + e^{-i \\\\theta}}{2}$\");"
   ]
  },
  {
   "cell_type": "markdown",
   "metadata": {
    "colab_type": "text",
    "hidden": true,
    "id": "pPbEAxY1Ws6Q"
   },
   "source": [
    "The exponential thus gives a convenient way to express numbers of the form $z = a + bi$ in the form $r e^{i \\theta}$ by noting that\n",
    "\n",
    "$$\n",
    "a + bi = |z| ( \\cos \\theta + i \\sin \\theta )\n",
    "$$\n",
    "\n",
    "where \n",
    "\n",
    "$$\n",
    "|z| = \\sqrt{a^2+b^2}\n",
    "$$\n",
    "\n",
    "is the **magnitude** of $z$ and \n",
    "\n",
    "$$\n",
    "\\theta = \\arctan(y,x)\n",
    "$$\n",
    "\n",
    "is called the **argument** of $z$, and is the angle that the vector $(a,b)^T$ makes with the real axis. \n",
    "\n",
    "**Example:** For example, if $z = -1 + i$ then \n",
    "\n",
    "$$\n",
    "r = \\sqrt{1^2 + 1^2} = \\sqrt{2}\n",
    "$$\n",
    "\n",
    "and \n",
    "\n",
    "$$\n",
    "\\theta = \\arctan(1,-1) = \\frac{3\\pi}{4}\n",
    "$$\n",
    "\n",
    "so that\n",
    "\n",
    "$$\n",
    "-1 + i = \\sqrt{2}e^{\\frac{3\\pi}{4}i} .\n",
    "$$\n",
    "\n",
    "**Example:** The complex conjugate of $z = a + bi$ is $\\overline{z} = a - bi$. In terms of the exponential, we have\n",
    "\n",
    "$$\n",
    "\\overline{r e^{i \\theta}} = r e^{-i \\theta} .\n",
    "$$\n",
    "\n",
    "It is clear then that $z \\overline{z} = a^2 + b^2 = r^2 = re^{i \\theta}re^{-i \\theta}$.\n"
   ]
  },
  {
   "cell_type": "code",
   "execution_count": 5,
   "metadata": {
    "ExecuteTime": {
     "end_time": "2019-11-07T02:27:18.052245Z",
     "start_time": "2019-11-07T02:27:18.042410Z"
    },
    "colab": {},
    "colab_type": "code",
    "hidden": true,
    "id": "wp1osj3KWs6Q",
    "outputId": "c558378b-1569-486d-ee4f-33d4a595f197"
   },
   "outputs": [
    {
     "data": {
      "text/latex": [
       "$\\displaystyle \\left( \\sqrt{2}, \\  \\sqrt{2}\\right)$"
      ],
      "text/plain": [
       "(√2, √2)"
      ]
     },
     "execution_count": 5,
     "metadata": {},
     "output_type": "execute_result"
    }
   ],
   "source": [
    "# Two ways to get the magnitude \n",
    "abs(-1+sm.I), sm.Abs(-1+sm.I)"
   ]
  },
  {
   "cell_type": "code",
   "execution_count": 6,
   "metadata": {
    "ExecuteTime": {
     "end_time": "2019-11-07T02:27:33.226653Z",
     "start_time": "2019-11-07T02:27:33.221360Z"
    },
    "colab": {},
    "colab_type": "code",
    "hidden": true,
    "id": "l48Rp3EZWs6S",
    "outputId": "33ff32d1-5df0-4c6f-dfb7-985ee3c9a10f"
   },
   "outputs": [
    {
     "data": {
      "text/latex": [
       "$\\displaystyle \\left( \\frac{3 \\pi}{4}, \\  \\frac{3 \\pi}{4}, \\  2.356194490192345\\right)$"
      ],
      "text/plain": [
       "⎛3⋅π  3⋅π                   ⎞\n",
       "⎜───, ───, 2.356194490192345⎟\n",
       "⎝ 4    4                    ⎠"
      ]
     },
     "execution_count": 6,
     "metadata": {},
     "output_type": "execute_result"
    }
   ],
   "source": [
    "# Two ways to get the angle\n",
    "sm.atan2(1,-1), sm.arg(-1+sm.I), np.angle(-1+1j)"
   ]
  },
  {
   "cell_type": "code",
   "execution_count": 7,
   "metadata": {
    "ExecuteTime": {
     "end_time": "2019-11-07T02:28:11.347999Z",
     "start_time": "2019-11-07T02:28:11.161070Z"
    },
    "colab": {},
    "colab_type": "code",
    "hidden": true,
    "id": "qSviSKXCWs6V",
    "outputId": "6a686f42-e298-4e13-b972-f0a8a5620b4f"
   },
   "outputs": [
    {
     "data": {
      "image/png": "[encoded data removed]",
      "text/plain": [
       "<Figure size 432x288 with 1 Axes>"
      ]
     },
     "metadata": {
      "needs_background": "light"
     },
     "output_type": "display_data"
    }
   ],
   "source": [
    "p = .4 + 1j\n",
    "r = np.abs(p)\n",
    "theta = np.arctan2(np.imag(p),np.real(p))\n",
    "q = r * np.exp(1j*theta)\n",
    "plt.arrow(0,0, np.real(q), np.imag(q), head_width=0.1,length_includes_head=True)\n",
    "plt.scatter([0,np.real(p)],[0,np.imag(p)])\n",
    "plt.xlim(-2,2)\n",
    "plt.ylim(-2,2)\n",
    "plt.xlabel(\"Re\")\n",
    "plt.ylabel(\"Im\")\n",
    "plt.gca().set_aspect(1)"
   ]
  },
  {
   "cell_type": "markdown",
   "metadata": {
    "colab_type": "text",
    "id": "8FTVrjakWs6X"
   },
   "source": [
    "# Fourier Series"
   ]
  },
  {
   "cell_type": "markdown",
   "metadata": {
    "colab_type": "text",
    "id": "ewAcxLjMWs6Y"
   },
   "source": [
    "### Periodic functions\n",
    "\n",
    "In this section, we will be concerned only with **periodic** functions $f: \\mathbb{R} \\rightarrow \\mathbb{R}$ in which there exists a $T$ such that\n",
    "\n",
    "$$\n",
    "f(t) = f(t+T)\n",
    "$$\n",
    "\n",
    "for all $t$. The smallest such $T$ is called the **period** of $f$. Without loss of generality, we can assume the period of the functions we are studying is $1$. This is because if $g$ is a function with period $T \\neq 1$ we can define\n",
    "\n",
    "$$\n",
    "f(t) = g(Tt)\n",
    "$$\n",
    "\n",
    "then \n",
    "\n",
    "$$\n",
    "f(t+1) = g(T(t+1)) = g(Tt + T) = g(Tt) = f(t) \n",
    "$$\n",
    "\n",
    "has period 1.\n",
    "\n",
    "### Sums of Sines and Cosines\n",
    "\n",
    "The main question in Fourier Analysis is whether a periodic function can be written as a sum of sine waves with different amplitudes and frequencies. Such sums look like\n",
    "\n",
    "$$\n",
    "\\sum_{n=1}^N A_n \\sin(2 \\pi n t + \\phi_n)\n",
    "$$\n",
    "\n",
    "where $A_n$ is the amplitude of the $n$th harmonic wave form having frequency $n$, and $\\phi_n$ is the phase. However, this is not very convenient for reasoning. Instead, Fourier looked at sums of the form\n",
    "\n",
    "$$\n",
    "\\frac{a_0}{2} + \\sum_{n=1}^N \\left ( a_n \\cos(2 \\pi i n t) + b_n \\sin(2 \\pi i n t ) \\right ) \n",
    "$$\n",
    "\n",
    "where $a_n$ and $b_n$ are coefficients that we will need to find for any specific function.\n",
    "\n",
    "However, even this form is not convenient either, especially in light of Euler's formula. Substituting in the exponential forms for sine and cosine, gives\n",
    "\n",
    "\n",
    "$$\n",
    "\\frac{a_0}{2} + \\sum_{n=1}^N \n",
    "\\left ( \n",
    "  a_n \\frac{e^{2 \\pi i n t} + e^{-2 \\pi i n t}}{2} + \n",
    "  b_n \\frac{e^{2 \\pi i n t}- e^{-2 \\pi i n t}}{2i} \n",
    "\\right ) \n",
    "$$\n",
    "\n",
    "which can be rewritten\n",
    "\n",
    "$$\n",
    "\\frac{a_0}{2} + \n",
    "\\frac{1}{2}\n",
    "\\sum_{n=1}^N \n",
    "\\left (\n",
    "  (a_n - i b_n) e^{2 \\pi i n t} + \n",
    "  (a_n + i b_n) e^{-2 \\pi i n t}\n",
    "\\right ),\n",
    "$$\n",
    "\n",
    "which can be rewritten \n",
    "\n",
    "$$\n",
    "\\sum_{n=-N}^N c_n e^{2 \\pi i n t},\n",
    "$$\n",
    "\n",
    "where $c_n = \\frac{1}{2}(a_n - i b_n) \\in \\mathbb{C}$ for $n > 0$. Note that,\n",
    "\n",
    "$$\n",
    "c_{-n} = \\overline{c_n} \n",
    "$$\n",
    "\n",
    "and $c_0 = a_0/2$. \n",
    "\n",
    "The question now is when can a function be written as a weighted sum of terms of the form $e^{2 \\pi i n t}$? It will turn out that you can for all reasonable periodic function, and that in fact:\n",
    "\n",
    "> A realistic set of periodic functions forms a vector space with functions of the form $e^{2 \\pi i n t}$ forming an orthonormal basis. \n",
    "\n",
    "We'll show the orthonormal property later.\n",
    "\n",
    "### Functions with this form\n",
    "\n",
    "Suppose that $f$ can be written as a sum of the above form. Then what are the coefficients of $c_k$ in terms of $f$. They can be found as follows. First, suppose that\n",
    "\n",
    "$$\n",
    "f(t) = \\sum_{n=-N}^N c_n e^{2 \\pi i n t}.\n",
    "$$\n",
    "\n",
    "Then we can multiply both sides by $e^{-2 \\pi i k t}$ to get\n",
    "\n",
    "$$\n",
    "e^{-2 \\pi i k t}f(t) = e^{-2 \\pi i k t}\\sum_{n=-N}^N c_n e^{2 \\pi i n t}.\n",
    "$$\n",
    "\n",
    "The $k$th term of the right hand side is\n",
    "\n",
    "$$\n",
    "e^{-2 \\pi i k t}c_ke^{2 \\pi i k t} = c_k. \n",
    "$$\n",
    "\n",
    "So we can solve for $c_k$ as\n",
    "\n",
    "$$\n",
    "c_k = e^{-2 \\pi i k t}f(t) - \\sum_{n=-N,k \\neq k}^N c_n e^{-2 \\pi i k t} e^{2 \\pi i n t}.\n",
    "$$\n",
    "\n",
    "Now we apply a crucial observation, which is that when $n \\neq k$ that\n",
    "\n",
    "\\begin{eqnarray}\n",
    "\\int_0^1 e^{-2 \\pi i k t} e^{2 \\pi i n t} dt \n",
    "&=& \\int_0^1 e^{2 \\pi i (n-k) t} dt = 0 \\\\\n",
    "&=& \\frac{1}{2\\pi i(n-m)} \\left [\n",
    "e^{2\\pi i(n-m)} - e^0\n",
    "\\right ] \\\\\n",
    "& = & \\frac{1}{2\\pi i(n-m)} (1-1) \\\\\n",
    "& = & 0 .\n",
    "\\end{eqnarray}\n",
    "\n",
    "Thus, integrating both sides of the above equation for $c_k$ gives\n",
    "\n",
    "$$\n",
    "c_k = \\int_0^1 e^{-2 \\pi i k t}f(t) dt.\n",
    "$$\n",
    "\n",
    "This is called the **$k$th Fourier coefficient** for $f$ and is usually denoted by\n",
    "\n",
    "$$\n",
    "\\hat f(n) \\triangleq c_n .\n",
    "$$\n",
    "\n",
    "\n",
    "**Note:** Since $f$ is periodic with period $1$, we can actually use any length 1 interval in the above argument. For example, we might use $[-\\frac{1}{2},\\frac{1}{2}]$. \n",
    "\n",
    "**Note:** When $n=0$ we get \n",
    "\n",
    "$$\n",
    "\\hat f(0) = \\int_0^1 f(t) dt\n",
    "$$\n",
    "\n",
    "which is just the average value of $f$ over one period.\n",
    "\n",
    "### The Space of Functions $L^2([0,1])$\n",
    "\n",
    "We can come up with approximations of periodic functions this way, by assuming that in fact any function can be written this way as $N \\rightarrow \\infty$. In fact, the above is **the best** approximation with $2N+1$ terms by trigonometric functions of the function $f$. \n",
    "\n",
    "We define $L^2[0,1]$ to be the set of functions from $f : [0,1] \\rightarrow \\mathbb{C}$ such that\n",
    "\n",
    "$$\n",
    "\\int_0^1 \\left |f(t) \\right|^2 dt < \\infty.\n",
    "$$\n",
    "\n",
    "It turns out that for any function in $L^2[0,1]$ that\n",
    "\n",
    "$$\n",
    "f(t) = \\sum_{n=-\\infty}^\\infty \\hat f(n) e^{2 \\pi int}.\n",
    "$$\n",
    "\n",
    "This is a fairly remarkable result. You may recall that we had a way of writing down any function with a Taylor series, but that required that we we able to take an arbitrary number of derivatives of that function. So discontinuous functions cannot be expressed as Taylor series. However, $L^2[0,1]$ is filed with discontinuous functions. For example, the square wave is discontinuous, but is exactly equal to the above Fourier series. And finite approximations of it show convergence, as the next example shows."
   ]
  },
  {
   "cell_type": "code",
   "execution_count": 8,
   "metadata": {
    "ExecuteTime": {
     "end_time": "2019-11-06T22:45:28.069627Z",
     "start_time": "2019-11-06T22:45:27.772945Z"
    },
    "colab": {},
    "colab_type": "code",
    "id": "FCgHN46nWs6Z",
    "outputId": "ee7f7c33-5551-4584-cd09-0ae4d075b586"
   },
   "outputs": [
    {
     "data": {
      "text/latex": [
       "$\\displaystyle \\left( - \\frac{i e^{i \\pi n}}{2 \\pi n} + \\frac{i}{\\pi n} - \\frac{i e^{- i \\pi n}}{2 \\pi n}, \\  \\frac{\\left(-1\\right)^{n + \\frac{1}{2}} \\left(\\left(-1\\right)^{n} \\left(\\left(-1\\right)^{n + 1} + 2\\right) - 1\\right)}{2 \\pi n}\\right)$"
      ],
      "text/plain": [
       "⎛     ⅈ⋅π⋅n            -ⅈ⋅π⋅n      n + 1/2 ⎛    n ⎛    n + 1    ⎞    ⎞⎞\n",
       "⎜  ⅈ⋅ℯ         ⅈ    ⅈ⋅ℯ        (-1)       ⋅⎝(-1) ⋅⎝(-1)      + 2⎠ - 1⎠⎟\n",
       "⎜- ──────── + ─── - ─────────, ───────────────────────────────────────⎟\n",
       "⎝   2⋅π⋅n     π⋅n     2⋅π⋅n                     2⋅π⋅n                 ⎠"
      ]
     },
     "execution_count": 8,
     "metadata": {},
     "output_type": "execute_result"
    }
   ],
   "source": [
    "# Example: Square Wave\n",
    "# f(t) = 1, if t in [0, 1/2)\n",
    "#       -1, if t in [1,2, 1)\n",
    "# Note that the magnitude of the coefficients decreases like 1/n, showing that\n",
    "# higher and higher frequencies contribute less and less to the overall shape.\n",
    "\n",
    "t = sm.symbols(\"t\", real=True)\n",
    "n = sm.symbols(\"n\", integer=True, positive=True)\n",
    "q = 2*sm.pi*sm.I*n*t\n",
    "T = sm.Rational(1,2)\n",
    "\n",
    "A = sm.integrate(-1*sm.exp(q),(t,-T,0)) \n",
    "B = sm.integrate(1*sm.exp(q),(t,0,T))\n",
    "fn=A+B\n",
    "fn, fn.simplify()"
   ]
  },
  {
   "cell_type": "code",
   "execution_count": 9,
   "metadata": {
    "ExecuteTime": {
     "end_time": "2019-11-06T22:45:28.171088Z",
     "start_time": "2019-11-06T22:45:28.071463Z"
    },
    "colab": {},
    "colab_type": "code",
    "id": "vNhpYqcWWs6d",
    "outputId": "21be94c8-5a01-4e55-c663-0f3cc0f4ec93"
   },
   "outputs": [
    {
     "data": {
      "text/latex": [
       "$\\displaystyle \\left[ - \\frac{2 i}{5 \\pi}, \\  0, \\  - \\frac{2 i}{3 \\pi}, \\  0, \\  - \\frac{2 i}{\\pi}, \\  0, \\  \\frac{2 i}{\\pi}, \\  0, \\  \\frac{2 i}{3 \\pi}, \\  0, \\  \\frac{2 i}{5 \\pi}\\right]$"
      ],
      "text/plain": [
       "⎡-2⋅ⅈ      -2⋅ⅈ      -2⋅ⅈ      2⋅ⅈ     2⋅ⅈ     2⋅ⅈ⎤\n",
       "⎢─────, 0, ─────, 0, ─────, 0, ───, 0, ───, 0, ───⎥\n",
       "⎣ 5⋅π       3⋅π        π        π      3⋅π     5⋅π⎦"
      ]
     },
     "execution_count": 9,
     "metadata": {},
     "output_type": "execute_result"
    }
   ],
   "source": [
    "# This is simpler than it looks, but sympy can't figure it out.\n",
    "\n",
    "[0 if k == 0 else fn.subs(n,k) for k in range(-5,6)]"
   ]
  },
  {
   "cell_type": "code",
   "execution_count": 10,
   "metadata": {
    "ExecuteTime": {
     "end_time": "2019-11-06T22:45:28.346068Z",
     "start_time": "2019-11-06T22:45:28.172682Z"
    },
    "colab": {},
    "colab_type": "code",
    "id": "wZGZpCQNWs6f",
    "outputId": "c3859a8c-78bc-4c88-8b48-d19187fee48c"
   },
   "outputs": [
    {
     "data": {
      "text/latex": [
       "$\\displaystyle \\left[ 0, \\  - \\frac{2 i e^{34 i \\pi t}}{17 \\pi}, \\  0, \\  - \\frac{2 i e^{30 i \\pi t}}{15 \\pi}, \\  0, \\  - \\frac{2 i e^{26 i \\pi t}}{13 \\pi}, \\  0, \\  - \\frac{2 i e^{22 i \\pi t}}{11 \\pi}, \\  0, \\  - \\frac{2 i e^{18 i \\pi t}}{9 \\pi}, \\  0, \\  - \\frac{2 i e^{14 i \\pi t}}{7 \\pi}, \\  0, \\  - \\frac{2 i e^{10 i \\pi t}}{5 \\pi}, \\  0, \\  - \\frac{2 i e^{6 i \\pi t}}{3 \\pi}, \\  0, \\  - \\frac{2 i e^{2 i \\pi t}}{\\pi}, \\  0, \\  \\frac{2 i e^{- 2 i \\pi t}}{\\pi}, \\  0, \\  \\frac{2 i e^{- 6 i \\pi t}}{3 \\pi}, \\  0, \\  \\frac{2 i e^{- 10 i \\pi t}}{5 \\pi}, \\  0, \\  \\frac{2 i e^{- 14 i \\pi t}}{7 \\pi}, \\  0, \\  \\frac{2 i e^{- 18 i \\pi t}}{9 \\pi}, \\  0, \\  \\frac{2 i e^{- 22 i \\pi t}}{11 \\pi}, \\  0, \\  \\frac{2 i e^{- 26 i \\pi t}}{13 \\pi}, \\  0, \\  \\frac{2 i e^{- 30 i \\pi t}}{15 \\pi}, \\  0, \\  \\frac{2 i e^{- 34 i \\pi t}}{17 \\pi}, \\  0\\right]$"
      ],
      "text/plain": [
       "⎡         34⋅ⅈ⋅π⋅t            30⋅ⅈ⋅π⋅t            26⋅ⅈ⋅π⋅t            22⋅ⅈ⋅π⋅t\n",
       "⎢   -2⋅ⅈ⋅ℯ              -2⋅ⅈ⋅ℯ              -2⋅ⅈ⋅ℯ              -2⋅ⅈ⋅ℯ        \n",
       "⎢0, ───────────────, 0, ───────────────, 0, ───────────────, 0, ──────────────\n",
       "⎣         17⋅π                15⋅π                13⋅π                11⋅π    \n",
       "\n",
       "            18⋅ⅈ⋅π⋅t            14⋅ⅈ⋅π⋅t            10⋅ⅈ⋅π⋅t            6⋅ⅈ⋅π⋅\n",
       "      -2⋅ⅈ⋅ℯ              -2⋅ⅈ⋅ℯ              -2⋅ⅈ⋅ℯ              -2⋅ⅈ⋅ℯ      \n",
       "─, 0, ───────────────, 0, ───────────────, 0, ───────────────, 0, ────────────\n",
       "            9⋅π                 7⋅π                 5⋅π                3⋅π    \n",
       "\n",
       "t            2⋅ⅈ⋅π⋅t           -2⋅ⅈ⋅π⋅t          -6⋅ⅈ⋅π⋅t          -10⋅ⅈ⋅π⋅t  \n",
       "       -2⋅ⅈ⋅ℯ             2⋅ⅈ⋅ℯ             2⋅ⅈ⋅ℯ             2⋅ⅈ⋅ℯ           \n",
       "──, 0, ──────────────, 0, ─────────────, 0, ─────────────, 0, ──────────────, \n",
       "             π                  π                3⋅π               5⋅π        \n",
       "\n",
       "        -14⋅ⅈ⋅π⋅t          -18⋅ⅈ⋅π⋅t          -22⋅ⅈ⋅π⋅t          -26⋅ⅈ⋅π⋅t    \n",
       "   2⋅ⅈ⋅ℯ              2⋅ⅈ⋅ℯ              2⋅ⅈ⋅ℯ              2⋅ⅈ⋅ℯ             \n",
       "0, ──────────────, 0, ──────────────, 0, ──────────────, 0, ──────────────, 0,\n",
       "        7⋅π                9⋅π                11⋅π               13⋅π         \n",
       "\n",
       "      -30⋅ⅈ⋅π⋅t          -34⋅ⅈ⋅π⋅t   ⎤\n",
       " 2⋅ⅈ⋅ℯ              2⋅ⅈ⋅ℯ            ⎥\n",
       " ──────────────, 0, ──────────────, 0⎥\n",
       "      15⋅π               17⋅π        ⎦"
      ]
     },
     "execution_count": 10,
     "metadata": {},
     "output_type": "execute_result"
    }
   ],
   "source": [
    "# Here are some of the terms of the Fourier Series\n",
    "vals = range(-18,19)\n",
    "terms = [sm.Integer(0) if k == 0 else fn.subs(n,k)*sm.exp(-2*sm.pi*sm.I*k*t) for k in vals]\n",
    "terms"
   ]
  },
  {
   "cell_type": "code",
   "execution_count": 11,
   "metadata": {
    "ExecuteTime": {
     "end_time": "2019-11-06T22:45:28.539801Z",
     "start_time": "2019-11-06T22:45:28.348047Z"
    },
    "colab": {},
    "colab_type": "code",
    "id": "eO0MmB0yWs6h",
    "outputId": "61228a6a-37c9-4b97-a45a-fab04a7ef807"
   },
   "outputs": [
    {
     "data": {
      "text/latex": [
       "$\\displaystyle \\left[ 0, \\  - \\frac{2 i \\left(i \\sin{\\left(34 \\pi t \\right)} + \\cos{\\left(34 \\pi t \\right)}\\right)}{17 \\pi}, \\  0, \\  - \\frac{2 i \\left(i \\sin{\\left(30 \\pi t \\right)} + \\cos{\\left(30 \\pi t \\right)}\\right)}{15 \\pi}, \\  0, \\  - \\frac{2 i \\left(i \\sin{\\left(26 \\pi t \\right)} + \\cos{\\left(26 \\pi t \\right)}\\right)}{13 \\pi}, \\  0, \\  - \\frac{2 i \\left(i \\sin{\\left(22 \\pi t \\right)} + \\cos{\\left(22 \\pi t \\right)}\\right)}{11 \\pi}, \\  0, \\  - \\frac{2 i \\left(i \\sin{\\left(18 \\pi t \\right)} + \\cos{\\left(18 \\pi t \\right)}\\right)}{9 \\pi}, \\  0, \\  - \\frac{2 i \\left(i \\sin{\\left(14 \\pi t \\right)} + \\cos{\\left(14 \\pi t \\right)}\\right)}{7 \\pi}, \\  0, \\  - \\frac{2 i \\left(i \\sin{\\left(10 \\pi t \\right)} + \\cos{\\left(10 \\pi t \\right)}\\right)}{5 \\pi}, \\  0, \\  - \\frac{2 i \\left(i \\sin{\\left(6 \\pi t \\right)} + \\cos{\\left(6 \\pi t \\right)}\\right)}{3 \\pi}, \\  0, \\  - \\frac{2 i \\left(i \\sin{\\left(2 \\pi t \\right)} + \\cos{\\left(2 \\pi t \\right)}\\right)}{\\pi}, \\  0, \\  \\frac{2 i \\left(- i \\sin{\\left(2 \\pi t \\right)} + \\cos{\\left(2 \\pi t \\right)}\\right)}{\\pi}, \\  0, \\  \\frac{2 i \\left(- i \\sin{\\left(6 \\pi t \\right)} + \\cos{\\left(6 \\pi t \\right)}\\right)}{3 \\pi}, \\  0, \\  \\frac{2 i \\left(- i \\sin{\\left(10 \\pi t \\right)} + \\cos{\\left(10 \\pi t \\right)}\\right)}{5 \\pi}, \\  0, \\  \\frac{2 i \\left(- i \\sin{\\left(14 \\pi t \\right)} + \\cos{\\left(14 \\pi t \\right)}\\right)}{7 \\pi}, \\  0, \\  \\frac{2 i \\left(- i \\sin{\\left(18 \\pi t \\right)} + \\cos{\\left(18 \\pi t \\right)}\\right)}{9 \\pi}, \\  0, \\  \\frac{2 i \\left(- i \\sin{\\left(22 \\pi t \\right)} + \\cos{\\left(22 \\pi t \\right)}\\right)}{11 \\pi}, \\  0, \\  \\frac{2 i \\left(- i \\sin{\\left(26 \\pi t \\right)} + \\cos{\\left(26 \\pi t \\right)}\\right)}{13 \\pi}, \\  0, \\  \\frac{2 i \\left(- i \\sin{\\left(30 \\pi t \\right)} + \\cos{\\left(30 \\pi t \\right)}\\right)}{15 \\pi}, \\  0, \\  \\frac{2 i \\left(- i \\sin{\\left(34 \\pi t \\right)} + \\cos{\\left(34 \\pi t \\right)}\\right)}{17 \\pi}, \\  0\\right]$"
      ],
      "text/plain": [
       "⎡   -2⋅ⅈ⋅(ⅈ⋅sin(34⋅π⋅t) + cos(34⋅π⋅t))      -2⋅ⅈ⋅(ⅈ⋅sin(30⋅π⋅t) + cos(30⋅π⋅t))\n",
       "⎢0, ───────────────────────────────────, 0, ──────────────────────────────────\n",
       "⎣                   17⋅π                                    15⋅π              \n",
       "\n",
       "      -2⋅ⅈ⋅(ⅈ⋅sin(26⋅π⋅t) + cos(26⋅π⋅t))      -2⋅ⅈ⋅(ⅈ⋅sin(22⋅π⋅t) + cos(22⋅π⋅t\n",
       "─, 0, ───────────────────────────────────, 0, ────────────────────────────────\n",
       "                      13⋅π                                    11⋅π            \n",
       "\n",
       "))      -2⋅ⅈ⋅(ⅈ⋅sin(18⋅π⋅t) + cos(18⋅π⋅t))      -2⋅ⅈ⋅(ⅈ⋅sin(14⋅π⋅t) + cos(14⋅π\n",
       "───, 0, ───────────────────────────────────, 0, ──────────────────────────────\n",
       "                        9⋅π                                     7⋅π           \n",
       "\n",
       "⋅t))      -2⋅ⅈ⋅(ⅈ⋅sin(10⋅π⋅t) + cos(10⋅π⋅t))      -2⋅ⅈ⋅(ⅈ⋅sin(6⋅π⋅t) + cos(6⋅π\n",
       "─────, 0, ───────────────────────────────────, 0, ────────────────────────────\n",
       "                          5⋅π                                    3⋅π          \n",
       "\n",
       "⋅t))      -2⋅ⅈ⋅(ⅈ⋅sin(2⋅π⋅t) + cos(2⋅π⋅t))      2⋅ⅈ⋅(-ⅈ⋅sin(2⋅π⋅t) + cos(2⋅π⋅t\n",
       "─────, 0, ─────────────────────────────────, 0, ──────────────────────────────\n",
       "                          π                                    π              \n",
       "\n",
       "))     2⋅ⅈ⋅(-ⅈ⋅sin(6⋅π⋅t) + cos(6⋅π⋅t))     2⋅ⅈ⋅(-ⅈ⋅sin(10⋅π⋅t) + cos(10⋅π⋅t))\n",
       "──, 0, ────────────────────────────────, 0, ──────────────────────────────────\n",
       "                     3⋅π                                   5⋅π                \n",
       "\n",
       "     2⋅ⅈ⋅(-ⅈ⋅sin(14⋅π⋅t) + cos(14⋅π⋅t))     2⋅ⅈ⋅(-ⅈ⋅sin(18⋅π⋅t) + cos(18⋅π⋅t))\n",
       ", 0, ──────────────────────────────────, 0, ──────────────────────────────────\n",
       "                    7⋅π                                    9⋅π                \n",
       "\n",
       "     2⋅ⅈ⋅(-ⅈ⋅sin(22⋅π⋅t) + cos(22⋅π⋅t))     2⋅ⅈ⋅(-ⅈ⋅sin(26⋅π⋅t) + cos(26⋅π⋅t))\n",
       ", 0, ──────────────────────────────────, 0, ──────────────────────────────────\n",
       "                    11⋅π                                   13⋅π               \n",
       "\n",
       "     2⋅ⅈ⋅(-ⅈ⋅sin(30⋅π⋅t) + cos(30⋅π⋅t))     2⋅ⅈ⋅(-ⅈ⋅sin(34⋅π⋅t) + cos(34⋅π⋅t))\n",
       ", 0, ──────────────────────────────────, 0, ──────────────────────────────────\n",
       "                    15⋅π                                   17⋅π               \n",
       "\n",
       "   ⎤\n",
       ", 0⎥\n",
       "   ⎦"
      ]
     },
     "execution_count": 11,
     "metadata": {},
     "output_type": "execute_result"
    }
   ],
   "source": [
    "# Here are the terms write with sines and cosines\n",
    "[t.rewrite(sm.sin) for t in terms]"
   ]
  },
  {
   "cell_type": "code",
   "execution_count": 12,
   "metadata": {
    "ExecuteTime": {
     "end_time": "2019-11-06T22:45:29.035676Z",
     "start_time": "2019-11-06T22:45:28.541519Z"
    },
    "colab": {},
    "colab_type": "code",
    "id": "ONTHRpDOWs6j",
    "outputId": "e46a5234-60a1-4827-fde2-8cf468fd74a9"
   },
   "outputs": [
    {
     "data": {
      "image/png": "[encoded data removed]",
      "text/plain": [
       "<Figure size 432x288 with 1 Axes>"
      ]
     },
     "metadata": {
      "needs_background": "light"
     },
     "output_type": "display_data"
    }
   ],
   "source": [
    "# Plot the sum of all the terms versus theta\n",
    "\n",
    "fapprox = sm.re(sum(terms))\n",
    "sm.plot(fapprox,(t,-1,1),title=\"Finite Fourier Series Approximation to a Sine Wave\");"
   ]
  },
  {
   "cell_type": "code",
   "execution_count": 13,
   "metadata": {
    "ExecuteTime": {
     "end_time": "2019-11-06T22:45:29.438593Z",
     "start_time": "2019-11-06T22:45:29.037484Z"
    },
    "colab": {},
    "colab_type": "code",
    "id": "RoeHQ93vWs6l",
    "outputId": "00144f7e-8525-4be8-89ed-8b0e6efc2078"
   },
   "outputs": [
    {
     "data": {
      "image/png": "[encoded data removed]",
      "text/plain": [
       "<Figure size 864x288 with 2 Axes>"
      ]
     },
     "metadata": {
      "needs_background": "light"
     },
     "output_type": "display_data"
    }
   ],
   "source": [
    "# Plot the magnitude and angle spectra\n",
    "\n",
    "fig,ax = plt.subplots(1,2,figsize=(12,4))\n",
    "vals = range(-10,11)\n",
    "\n",
    "ax[0].plot(vals,[0 if k == 0 else abs(fn.subs(n,k)) for k in vals],'o');\n",
    "ax[0].set_title(\"Magnitude spectrum for a Square Wave\")\n",
    "ax[0].set_xlabel(\"n\")\n",
    "ax[0].set_ylabel(\"$|c_k|$\");\n",
    "ax[0].xaxis.set_major_locator(MaxNLocator(integer=True))\n",
    "\n",
    "ax[1].plot(vals,[0 if k == 0 else sm.arg(fn.subs(n,k)) for k in vals],'o');\n",
    "ax[1].set_title(\"Angle spectrum for a Square Wave\")\n",
    "ax[1].set_xlabel(\"n\")\n",
    "ax[1].set_ylabel(\"$|c_k|$\")\n",
    "ax[1].xaxis.set_major_locator(MaxNLocator(integer=True));"
   ]
  },
  {
   "cell_type": "code",
   "execution_count": 14,
   "metadata": {
    "ExecuteTime": {
     "end_time": "2019-11-07T03:00:04.485224Z",
     "start_time": "2019-11-07T03:00:04.187050Z"
    },
    "colab": {},
    "colab_type": "code",
    "id": "eLaB1l5vWs6n",
    "outputId": "b2a817fa-d150-42a6-ffb9-26e8b759df0d"
   },
   "outputs": [
    {
     "data": {
      "text/latex": [
       "$\\displaystyle - \\frac{\\left(-1\\right)^{n + \\frac{1}{2}}}{2 \\pi n}$"
      ],
      "text/plain": [
       "     n + 1/2 \n",
       "-(-1)        \n",
       "─────────────\n",
       "    2⋅π⋅n    "
      ]
     },
     "execution_count": 14,
     "metadata": {},
     "output_type": "execute_result"
    }
   ],
   "source": [
    "# Another example: The sawtooth function\n",
    "\n",
    "t = sm.symbols(\"t\", real=True)\n",
    "n = sm.symbols(\"n\", integer=True, positive=True)\n",
    "q = 2*sm.pi*sm.I*n*t\n",
    "T = sm.Rational(1,2)\n",
    "\n",
    "fn = sm.integrate(t*sm.exp(q),(t,-T,T)) \n",
    "fn = sm.simplify(fn)\n",
    "fn"
   ]
  },
  {
   "cell_type": "code",
   "execution_count": 15,
   "metadata": {
    "ExecuteTime": {
     "end_time": "2019-11-06T22:45:29.736313Z",
     "start_time": "2019-11-06T22:45:29.722014Z"
    },
    "colab": {},
    "colab_type": "code",
    "id": "DKyZOQHzWs6p",
    "outputId": "ae54478a-c624-4111-b227-54ba51bf2e66"
   },
   "outputs": [
    {
     "data": {
      "text/latex": [
       "$\\displaystyle \\left[ - \\frac{i}{10 \\pi}, \\  \\frac{i}{8 \\pi}, \\  - \\frac{i}{6 \\pi}, \\  \\frac{i}{4 \\pi}, \\  - \\frac{i}{2 \\pi}, \\  0, \\  \\frac{i}{2 \\pi}, \\  - \\frac{i}{4 \\pi}, \\  \\frac{i}{6 \\pi}, \\  - \\frac{i}{8 \\pi}, \\  \\frac{i}{10 \\pi}\\right]$"
      ],
      "text/plain": [
       "⎡-ⅈ     ⅈ   -ⅈ    ⅈ   -ⅈ       ⅈ   -ⅈ    ⅈ   -ⅈ    ⅈ  ⎤\n",
       "⎢────, ───, ───, ───, ───, 0, ───, ───, ───, ───, ────⎥\n",
       "⎣10⋅π  8⋅π  6⋅π  4⋅π  2⋅π     2⋅π  4⋅π  6⋅π  8⋅π  10⋅π⎦"
      ]
     },
     "execution_count": 15,
     "metadata": {},
     "output_type": "execute_result"
    }
   ],
   "source": [
    "[0 if k == 0 else fn.subs(n,k) for k in range(-5,6)]"
   ]
  },
  {
   "cell_type": "code",
   "execution_count": 16,
   "metadata": {
    "ExecuteTime": {
     "end_time": "2019-11-06T22:45:30.341008Z",
     "start_time": "2019-11-06T22:45:29.737963Z"
    },
    "colab": {},
    "colab_type": "code",
    "id": "8hVhajURWs6r",
    "outputId": "75118978-fa58-4992-8a55-ab09be225cff"
   },
   "outputs": [
    {
     "data": {
      "image/png": "[encoded data removed]",
      "text/plain": [
       "<Figure size 432x288 with 1 Axes>"
      ]
     },
     "metadata": {
      "needs_background": "light"
     },
     "output_type": "display_data"
    }
   ],
   "source": [
    "vals = range(-18,19)\n",
    "terms = [0 if k == 0 else fn.subs(n,k)*sm.exp(-2*sm.pi*sm.I*k*t) for k in vals]\n",
    "fapprox = sum(terms)\n",
    "sm.plot(fapprox,(t,-1,1),title=\"Finite Fourier Series Approximation to a Sine Wave\");"
   ]
  },
  {
   "cell_type": "code",
   "execution_count": 17,
   "metadata": {
    "ExecuteTime": {
     "end_time": "2019-11-06T22:45:30.745029Z",
     "start_time": "2019-11-06T22:45:30.342754Z"
    },
    "colab": {},
    "colab_type": "code",
    "id": "QLrauQteWs6t",
    "outputId": "e87e4293-9db4-4ed0-faa3-76129dc128a6"
   },
   "outputs": [
    {
     "data": {
      "image/png": "[encoded data removed]",
      "text/plain": [
       "<Figure size 864x288 with 2 Axes>"
      ]
     },
     "metadata": {
      "needs_background": "light"
     },
     "output_type": "display_data"
    }
   ],
   "source": [
    "fig,ax = plt.subplots(1,2,figsize=(12,4))\n",
    "vals = range(-10,11)\n",
    "ax[0].plot(vals,[0 if k == 0 else abs(fn.subs(n,k)) for k in vals],'o');\n",
    "ax[0].set_title(\"Magnitude spectrum for a Square Wave\")\n",
    "ax[0].set_xlabel(\"n\")\n",
    "ax[0].set_ylabel(\"$|c_k|$\");\n",
    "ax[0].xaxis.set_major_locator(MaxNLocator(integer=True))\n",
    "\n",
    "ax[1].plot(vals,[0 if k == 0 else sm.arg(fn.subs(n,k)) for k in vals],'o');\n",
    "ax[1].set_title(\"Angle spectrum for a Square Wave\")\n",
    "ax[1].set_xlabel(\"n\")\n",
    "ax[1].set_ylabel(\"$|c_k|$\")\n",
    "ax[1].xaxis.set_major_locator(MaxNLocator(integer=True));"
   ]
  },
  {
   "cell_type": "markdown",
   "metadata": {
    "colab_type": "text",
    "id": "DiVp2SAbWs6u"
   },
   "source": [
    "### Other periods\n",
    "\n",
    "Note that if the period of $f$ is $T$ and not just $1$, then we have\n",
    "\n",
    "$$\n",
    "f(t) = \\sum_{n=-\\infty}^\\infty c_n e^{2 \\pi int / T}\n",
    "$$\n",
    "\n",
    "where \n",
    "\n",
    "$$\n",
    "c_n = \\frac{1}{T} \\int_0^T e^{-2\\pi int/T} f(t) dt .\n",
    "$$"
   ]
  },
  {
   "cell_type": "markdown",
   "metadata": {
    "colab_type": "text",
    "id": "RjoogjjUWs6v"
   },
   "source": [
    "# Sound Synthesis"
   ]
  },
  {
   "cell_type": "markdown",
   "metadata": {
    "colab_type": "text",
    "id": "FGhvCzREWs6w"
   },
   "source": [
    "This section assumes you have the PyAudio Package installed. If you have conda, you can just do\n",
    "\n",
    "    conda install pyaudio\n",
    "    \n",
    "at the command line."
   ]
  },
  {
   "cell_type": "code",
   "execution_count": 18,
   "metadata": {
    "ExecuteTime": {
     "end_time": "2019-11-07T03:03:48.392795Z",
     "start_time": "2019-11-07T03:03:48.156674Z"
    },
    "colab": {},
    "colab_type": "code",
    "id": "Sb1ubAL7Ws6y"
   },
   "outputs": [
    {
     "ename": "ModuleNotFoundError",
     "evalue": "No module named 'pyaudio'",
     "output_type": "error",
     "traceback": [
      "\u001b[1;31m---------------------------------------------------------------------------\u001b[0m",
      "\u001b[1;31mModuleNotFoundError\u001b[0m                       Traceback (most recent call last)",
      "\u001b[1;32m<ipython-input-18-03178c136b3f>\u001b[0m in \u001b[0;36m<module>\u001b[1;34m\u001b[0m\n\u001b[1;32m----> 1\u001b[1;33m \u001b[1;32mimport\u001b[0m \u001b[0mpyaudio\u001b[0m\u001b[1;33m\u001b[0m\u001b[1;33m\u001b[0m\u001b[0m\n\u001b[0m\u001b[0;32m      2\u001b[0m \u001b[0mPyAudio\u001b[0m \u001b[1;33m=\u001b[0m \u001b[0mpyaudio\u001b[0m\u001b[1;33m.\u001b[0m\u001b[0mPyAudio\u001b[0m\u001b[1;33m\u001b[0m\u001b[1;33m\u001b[0m\u001b[0m\n\u001b[0;32m      3\u001b[0m \u001b[1;32mimport\u001b[0m \u001b[0mstruct\u001b[0m\u001b[1;33m\u001b[0m\u001b[1;33m\u001b[0m\u001b[0m\n\u001b[0;32m      4\u001b[0m \u001b[1;32mfrom\u001b[0m \u001b[0mscipy\u001b[0m \u001b[1;32mimport\u001b[0m \u001b[0msignal\u001b[0m\u001b[1;33m\u001b[0m\u001b[1;33m\u001b[0m\u001b[0m\n",
      "\u001b[1;31mModuleNotFoundError\u001b[0m: No module named 'pyaudio'"
     ]
    }
   ],
   "source": [
    "import pyaudio\n",
    "PyAudio = pyaudio.PyAudio\n",
    "import struct\n",
    "from scipy import signal"
   ]
  },
  {
   "cell_type": "code",
   "execution_count": null,
   "metadata": {
    "ExecuteTime": {
     "end_time": "2019-11-07T03:05:38.865394Z",
     "start_time": "2019-11-07T03:05:38.860942Z"
    },
    "colab": {},
    "colab_type": "code",
    "id": "TLP2wPMYWs61"
   },
   "outputs": [],
   "source": [
    "# Playing sounds that start and stop immediately causes the speakers to click. \n",
    "# This function is used to create an attack and decay for the sounds we will play.\n",
    "\n",
    "def env(t,w,T=2):\n",
    "    return np.piecewise(\n",
    "        t,\n",
    "        [t<w,\n",
    "         t>w,\n",
    "         t>=T-w],\n",
    "        [lambda t: t/w,\n",
    "         1, \n",
    "         lambda t:(T-t)/w])    "
   ]
  },
  {
   "cell_type": "code",
   "execution_count": null,
   "metadata": {
    "ExecuteTime": {
     "end_time": "2019-11-07T03:08:09.420347Z",
     "start_time": "2019-11-07T03:08:09.407769Z"
    },
    "colab": {},
    "colab_type": "code",
    "id": "ZPEAA51eWs63"
   },
   "outputs": [],
   "source": [
    "# This function takes a function and plays the resulting sound through the speakers.\n",
    "# The function needs to take an np.array of times are return an array of values for the\n",
    "# wave form.\n",
    "def play(f,duration=2,bitrate=20000,attack=0.1):\n",
    "\n",
    "    A = (2**15-1)\n",
    "    t = np.linspace(0,duration,duration*bitrate)\n",
    "    y = f(t)\n",
    "    y = A * env(t,attack,T=duration) * y\n",
    "    y = y.astype(np.int16)\n",
    "\n",
    "    wave = b''\n",
    "    for v in y:\n",
    "        wave += struct.pack(\"h\", v)\n",
    "\n",
    "    p = PyAudio()\n",
    "    stream = p.open(format = p.get_format_from_width(2), \n",
    "                    channels = 1, \n",
    "                    rate = bitrate, \n",
    "                    output = True,\n",
    "                   )\n",
    "\n",
    "    stream.write(wave)\n",
    "    stream.stop_stream()\n",
    "    stream.close()\n",
    "    p.terminate()\n",
    "    \n"
   ]
  },
  {
   "cell_type": "code",
   "execution_count": null,
   "metadata": {
    "ExecuteTime": {
     "end_time": "2019-11-07T03:10:12.876746Z",
     "start_time": "2019-11-07T03:10:10.275283Z"
    },
    "colab": {},
    "colab_type": "code",
    "id": "Tm44M-4OWs64",
    "outputId": "7f04d012-49f4-4539-80c5-c7c8ab2f7377"
   },
   "outputs": [],
   "source": [
    "# A pure sine wave\n",
    "\n",
    "def f(t):\n",
    "    omega = 440\n",
    "    return np.sin(2*np.pi*omega*t) \n",
    "play(f)\n",
    "\n",
    "t = np.linspace(0,1/440,1000)\n",
    "plt.plot(t,f(t));"
   ]
  },
  {
   "cell_type": "code",
   "execution_count": null,
   "metadata": {
    "ExecuteTime": {
     "end_time": "2019-11-07T03:09:25.154593Z",
     "start_time": "2019-11-07T03:09:22.256758Z"
    },
    "colab": {},
    "colab_type": "code",
    "id": "FomH9KpiWs66",
    "outputId": "87253bd0-96f9-42c0-c07a-b327752003dc"
   },
   "outputs": [],
   "source": [
    "# Pitch changing (not periodic, but cool anyway)\n",
    "\n",
    "def f(t):\n",
    "    omega = 880\n",
    "    return np.sin(2*np.pi*omega*t / (2*t+1))\n",
    "    \n",
    "play(f)\n",
    "\n",
    "t = np.linspace(0,100/880,10000)\n",
    "plt.plot(t,f(t));"
   ]
  },
  {
   "cell_type": "code",
   "execution_count": null,
   "metadata": {
    "ExecuteTime": {
     "end_time": "2019-11-07T03:10:06.999301Z",
     "start_time": "2019-11-07T03:10:04.142815Z"
    },
    "colab": {},
    "colab_type": "code",
    "id": "0yuzKmaxWs68",
    "outputId": "6e114db9-dc36-480b-8451-39471806bf78"
   },
   "outputs": [],
   "source": [
    "# Sine wave with harmonics\n",
    "def f(t):\n",
    "    omega = 440\n",
    "    return 0.5*np.sin(2*np.pi*omega*t) + \\\n",
    "           0.25*np.sin(2*np.pi*(omega*2)*t) + \\\n",
    "           0.25*np.sin(2*np.pi*(omega*3)*t)\n",
    "    \n",
    "play(f)\n",
    "\n",
    "t = np.linspace(0,1/440,1000)\n",
    "plt.plot(t,f(t));"
   ]
  },
  {
   "cell_type": "code",
   "execution_count": null,
   "metadata": {
    "ExecuteTime": {
     "end_time": "2019-11-07T03:10:54.433237Z",
     "start_time": "2019-11-07T03:10:51.597959Z"
    },
    "colab": {},
    "colab_type": "code",
    "id": "Zl4O8luiWs6-",
    "outputId": "1afc52ad-9c6a-4c07-be98-38b2352fd0fe"
   },
   "outputs": [],
   "source": [
    "# Square wave: Note the noisy harmonics\n",
    "\n",
    "def f(t):\n",
    "    omega = 20\n",
    "    return signal.square(2*np.pi*omega*t)\n",
    "    \n",
    "play(f)\n",
    "\n",
    "t = np.linspace(0,1/55,1000)\n",
    "plt.plot(t,f(t));"
   ]
  },
  {
   "cell_type": "code",
   "execution_count": null,
   "metadata": {
    "ExecuteTime": {
     "end_time": "2019-11-07T03:11:49.043879Z",
     "start_time": "2019-11-07T03:11:46.259356Z"
    },
    "colab": {},
    "colab_type": "code",
    "id": "sK0krx1oWs7A",
    "outputId": "0892a9dc-fde2-438a-8ffe-527316155d3f"
   },
   "outputs": [],
   "source": [
    "# Random wave form\n",
    "\n",
    "N = 20  \n",
    "a = np.array([np.random.rand() for _ in range(N)])\n",
    "a = a / sum(a)\n",
    "p = [np.random.rand()*2*np.pi for _ in range(N)]\n",
    "\n",
    "def f(t):\n",
    "    omega = 220\n",
    "    w = [a[n]*np.sin(2*np.pi*n*omega*t+p[n]) for n in range(N)]\n",
    "    return sum(w)\n",
    "    \n",
    "play(f)\n",
    "\n",
    "fig,ax=plt.subplots(1,2,figsize=(8,4))\n",
    "t = np.linspace(0,1/220,1000)\n",
    "ax[0].plot(a,'o')\n",
    "ax[1].plot(t,f(t))\n",
    "ax[0].set_xlabel(\"Harmonic\")\n",
    "ax[0].set_ylabel(\"Frequency\")"
   ]
  },
  {
   "cell_type": "code",
   "execution_count": null,
   "metadata": {
    "ExecuteTime": {
     "end_time": "2019-11-07T03:12:45.737304Z",
     "start_time": "2019-11-07T03:12:40.705844Z"
    },
    "colab": {},
    "colab_type": "code",
    "id": "_d8MZfezWs7B",
    "outputId": "60ebeb73-91b0-4bf3-a085-8d3d9cf7b1d1"
   },
   "outputs": [],
   "source": [
    "# Uniform wave form\n",
    "\n",
    "N = 10\n",
    "a = np.array([1 for _ in range(N)])\n",
    "a = a / sum(a)\n",
    "p = [0 for _ in range(N)]\n",
    "\n",
    "def f(t):\n",
    "    omega = 220\n",
    "    w = [a[n]*np.sin(2*np.pi*(n*omega)*t+p[n]) for n in range(N)]\n",
    "    return sum(w)\n",
    "    \n",
    "play(f,duration=4)\n",
    "\n",
    "fig,ax=plt.subplots(1,2,figsize=(12,4))\n",
    "t = np.linspace(0,1,1000)\n",
    "ax[0].plot(a,'o')\n",
    "ax[1].plot(t,f(t))\n",
    "ax[0].set_xlabel(\"Harmonic\")\n",
    "ax[0].set_ylabel(\"Frequency\")"
   ]
  },
  {
   "cell_type": "code",
   "execution_count": null,
   "metadata": {
    "ExecuteTime": {
     "end_time": "2019-11-07T03:12:54.839395Z",
     "start_time": "2019-11-07T03:12:51.912432Z"
    },
    "colab": {},
    "colab_type": "code",
    "id": "bWi_SJiRWs7D",
    "outputId": "7631f132-711d-42ee-f338-0b9ebc3795f7"
   },
   "outputs": [],
   "source": [
    "# G Minor 7\n",
    "\n",
    "def f(t):\n",
    "    return 0.25 * np.sin(2*np.pi*392*t)    + \\\n",
    "           0.25 * np.sin(2*np.pi*466.16*t) + \\\n",
    "           0.25 * np.sin(2*np.pi*587.33*t) + \\\n",
    "           0.25 * np.sin(2*np.pi*698.46*t)\n",
    "    \n",
    "play(f)\n",
    "\n",
    "t = np.linspace(0,1/10,10000)\n",
    "plt.plot(t,f(t));"
   ]
  },
  {
   "cell_type": "code",
   "execution_count": null,
   "metadata": {
    "ExecuteTime": {
     "end_time": "2019-11-07T03:21:45.623389Z",
     "start_time": "2019-11-07T03:21:42.974595Z"
    },
    "colab": {},
    "colab_type": "code",
    "id": "F16mTQYfWs7F",
    "outputId": "c694ef85-29a8-4ca2-da28-ba7ff022c0c2",
    "scrolled": false
   },
   "outputs": [],
   "source": [
    "# Beating due to almost similar wave forms\n",
    "\n",
    "def f(t):\n",
    "    omega = 440\n",
    "    return 0.5 * np.sin(2*np.pi*omega*t) + 0.5 * np.sin(2*np.pi*1.1*omega*t)\n",
    "    \n",
    "play(f)\n",
    "\n",
    "t = np.linspace(0,2,1000)\n",
    "plt.plot(t,f(t));"
   ]
  },
  {
   "cell_type": "markdown",
   "metadata": {
    "colab_type": "text",
    "heading_collapsed": true,
    "id": "raboUYVcWs7H"
   },
   "source": [
    "# Vector Spaces Again"
   ]
  },
  {
   "cell_type": "markdown",
   "metadata": {
    "colab_type": "text",
    "hidden": true,
    "id": "DtwPNONDWs7H"
   },
   "source": [
    "### The Vector Space $\\mathbb{R}^n$\n",
    "\n",
    "Recall that if ${\\bf x} \\in \\mathbb{R}^n$ then the set of definitions for a vector space require a reasonable definition addition and multiplication, a zero and a one. They also imply a norm:\n",
    "\n",
    "$$\n",
    "||{\\bf x}|| = \\sqrt{x_1^2 + \\dots + x_n^2} \n",
    "$$\n",
    "\n",
    "and a dot product\n",
    "\n",
    "$$\n",
    "{\\bf x} \\cdot {\\bf y} \n",
    "  = x_1 y_1 + \\dots + x_n y_n. \n",
    "$$\n",
    "\n",
    "We noted that if ${\\bf x} \\cdot {\\bf y} = 0$ then ${\\bf x}$ is said to be **orthogonal** or **perpendicular** to ${\\bf y}$. \n",
    "\n",
    "If a set of vectors ${\\bf x}_1$ ... ${\\bf x}_n$ all have norm 1 and are pairwise orthogonal, that the set forms an **orthonormal** basis for $\\mathbb{R}^n$. In particular, any vector in $\\mathbb{R}^n$ can be written as a linear combination of the vectors in an orthonormal basis.\n",
    "\n",
    "Some of the basic properties of norms are important:\n",
    "\n",
    "- ${\\bf x}\\cdot {\\bf x} \\geq 0$ and $||{\\bf x}|| = 0$ implies ${\\bf x} = 0$.\n",
    "- ${\\bf x} \\cdot {\\bf y} = {\\bf y} \\cdot {\\bf x}$\n",
    "- $(a {\\bf x}) \\cdot {\\bf y} = a({\\bf x} \\cdot {\\bf y} )$\n",
    "- $({\\bf x} + {\\bf y}) \\cdot {\\bf z} = {\\bf x} \\cdot {\\bf z} + {\\bf y} \\cdot {\\bf z}$.\n",
    "\n",
    "Finally, it will be convenient going forward to use the notation\n",
    "\n",
    "$$\n",
    "({\\bf x},{\\bf y})\n",
    "$$\n",
    "\n",
    "for ${\\bf x} \\cdot {\\bf y}$. \n",
    "\n",
    "### $L^2[0,1]$ as a vector space\n",
    "\n",
    "Say that $f,g,h \\in L^2[0,1]$. Then we can define something like a dot product, called the **inner product** by\n",
    "\n",
    "$$\n",
    "(f,g) = \\int_0^1 f(t)\\overline{g(t)} dt.\n",
    "$$\n",
    "\n",
    "Then all of the above properties for real vectors also hold for these functions, In particular, \n",
    "\n",
    "- $(f,f) \\geq 0$ and $(f,f) = 0$ implies $f = 0$.\n",
    "- $(f,g)= (g,f)$\n",
    "- $(af,g) = a(f,g)$\n",
    "- $(f+g,h) = (f,h)+(g,h)$.\n",
    "\n",
    "All of these properties should be clear from the definition. We also have function addition, scalar multiplication, a zero function ($f(t)=0$) and a one function ($f(t)=1$). Thus, $L^2[0,1]$ is a vector space!\n",
    "\n",
    "What is an orthonormal basis for the elements of $L^2[0,1]$? It turns out that terms of the form $e^{2 \\pi int}$ form the natural basis. This is because\n",
    "\n",
    "\\begin{eqnarray}\n",
    "(e^{2 \\pi int}, e^{2 \\pi int}) & = & \\int_0^1 e^{2 \\pi int}e^{2 \\pi int} dt \\\\\n",
    "& = & \\int_0^1 e^{2 \\pi int}e^{- 2 \\pi int} dt\\\\\n",
    "& = & \\int_0^1 1 dt \\\\\n",
    "& = & 1\n",
    "\\end{eqnarray}\n",
    "\n",
    "and when $n \\neq m$,\n",
    "\n",
    "\\begin{eqnarray}\n",
    "(e^{2 \\pi int}, e^{2 \\pi imt}) & = & \\int_0^1 e^{2 \\pi int}e^{-2 \\pi imt} dt \\\\\n",
    "& = & \\int_0^1 e^{2 \\pi i(n-m)t} dt \\\\\n",
    "& = & \\frac{1}{2 \\pi i (n-m)} \\left . e^{2 \\pi i (n-m) t}  \\right |_0^1 \\\\\n",
    "& = & \\frac{1}{2 \\pi i (n-m)} ( 1 - 1 ) \\\\\n",
    "& = & 0.\n",
    "\\end{eqnarray}\n",
    "\n",
    "That, along with the fact (which we will not prove in this class) that every function in $L^2[0,1]$ can be written as\n",
    "\n",
    "$$\n",
    "f(t) = \\sum_{n=-\\infty}^\\infty \\hat f(n) e^{2 \\pi int}\n",
    "$$\n",
    "\n",
    "shows that the functions $e^{2 \\pi int}$ form an orthonormal basis. "
   ]
  },
  {
   "cell_type": "markdown",
   "metadata": {
    "colab_type": "text",
    "id": "4Farduy-Ws7I"
   },
   "source": [
    "# The Fourier Transform"
   ]
  },
  {
   "cell_type": "markdown",
   "metadata": {
    "colab_type": "text",
    "id": "q5p80onWWs7I"
   },
   "source": [
    "### Intuition\n",
    "\n",
    "Consider the \"blip\" function \n",
    "\n",
    "$$\n",
    "b(t) = \\left \\{\n",
    "\\begin{array}{l}\n",
    "1 \\; \\mathrm{if} \\; - \\frac{1}{2} < t < \\frac{1}{2} \\\\\n",
    "0 \\; \\mathrm{else}.\n",
    "\\end{array}\n",
    "\\right .\n",
    "$$\n",
    "\n",
    "and its \"periodized\" form\n",
    "\n",
    "$$\n",
    "\\tilde{b}(t) = \\left \\{\n",
    "\\begin{array}{l}\n",
    "1 \\; \\mathrm{if} \\; nT - \\frac{1}{2} < t < nT + \\frac{1}{2} \\; \\mathrm{for\\;some\\;n} \\\\\n",
    "0 \\; \\mathrm{else}.\n",
    "\\end{array}\n",
    "\\right .\n",
    "$$\n",
    "\n",
    "The Fourier coefficients for this function are\n",
    "\n",
    "\\begin{eqnarray}\n",
    "c_n & = & \\frac{1}{T}\\int_{-T/2}^{T/2} e^{-2 \\pi int/T} dt \\\\\n",
    "& = & \\left . \\frac{1}{T} \\frac{1}{-2 \\pi in/T} e^{2 \\pi int/T} \\right |_{t=-T/2}^{t=T/2} \\\\\n",
    "& = & \\frac{1}{2 \\pi in}\\left ( e^{\\pi in/T} - e^{-\\pi in/T}\\right ) \\\\\n",
    "& = & \\frac{1}{\\pi n} \\sin \\left ( \\frac{\\pi n}{T} \\right ).\n",
    "\\end{eqnarray}\n",
    "\n",
    "Plotting these terms shows that these terms trend to a continuous function as $T \\rightarrow \\infty$. Furthermore, $\\tilde b$ tends to the non-periodic function $b$ as $T \\rightarrow \\infty$ as well."
   ]
  },
  {
   "cell_type": "code",
   "execution_count": null,
   "metadata": {
    "ExecuteTime": {
     "end_time": "2019-11-07T03:31:35.557624Z",
     "start_time": "2019-11-07T03:31:35.067135Z"
    },
    "colab": {},
    "colab_type": "code",
    "id": "Q9Af6DLIWs7J",
    "outputId": "b4d78318-dcc4-47c5-9b40-4d30473bd67d"
   },
   "outputs": [],
   "source": [
    "# Note that the terms are scaled by T in this plot.\n",
    "\n",
    "fig,ax=plt.subplots(1,3,figsize=(15,5))\n",
    "for i,T in enumerate([2,8,16]):\n",
    "  n = np.array(range(-6*T,6*T+1))\n",
    "  c = T*(1/(n*np.pi))*np.sin(np.pi * n / T)\n",
    "  c[6*T] = 1\n",
    "  ax[i].plot(n,c,'o')\n",
    "  ax[i].set_xlabel(\"n\")\n",
    "  ax[i].set_ylabel(\"c_n\")\n",
    "  ax[i].set_title(\"Spectrum for Periodic Blip\\nwith T = %d\" % T)"
   ]
  },
  {
   "cell_type": "markdown",
   "metadata": {
    "ExecuteTime": {
     "end_time": "2019-11-05T00:15:02.127216Z",
     "start_time": "2019-11-05T00:15:02.116510Z"
    },
    "colab_type": "text",
    "id": "0SDMXcgnWs7L"
   },
   "source": [
    "Clearly the coefficients are trending toward a function. Also, as the period $T$ gets bigger, $F$ in some sense tends toward $f$. This gives the intuition for the definition of the **Fourier transform:**\n",
    "\n",
    "$$\n",
    "\\mathcal{F}f(s) = \\int_{-\\infty}^\\infty e^{-2 \\pi i s t} f(t) dt.\n",
    "$$\n",
    "\n",
    "where $s$ plays the role of $n/T$ in the above discrete argument. Notice the similarity with the Fourier coefficient. \n",
    "\n",
    "**Example::** Calculating the Fourier Transform for the blip function $b(t)$ above gives\n",
    "\n",
    "$$\n",
    "\\mathcal{F}b(s) = \\frac{\\sin \\pi s}{\\pi s},\n",
    "$$\n",
    "\n",
    "which happens to be called the *sinc* function and which we plot below."
   ]
  },
  {
   "cell_type": "code",
   "execution_count": null,
   "metadata": {
    "ExecuteTime": {
     "end_time": "2019-11-07T03:34:04.162415Z",
     "start_time": "2019-11-07T03:34:03.893131Z"
    },
    "colab": {},
    "colab_type": "code",
    "id": "K6VZzeLAWs7M",
    "outputId": "dd0045ab-fa98-4627-c03b-85dcb31c61fd"
   },
   "outputs": [],
   "source": [
    "# Example Fourier Transform of blip\n",
    "\n",
    "t, s = sm.var(\"t s\")\n",
    "a = sm.Rational(1,2)\n",
    "Ff = sm.integrate(sm.exp(-2*sm.pi*sm.I*s*t)*1,(t,-a, a))\n",
    "Ff.rewrite(sm.sin).simplify()"
   ]
  },
  {
   "cell_type": "code",
   "execution_count": null,
   "metadata": {
    "ExecuteTime": {
     "end_time": "2019-11-07T03:34:28.089507Z",
     "start_time": "2019-11-07T03:34:27.867233Z"
    },
    "colab": {},
    "colab_type": "code",
    "id": "g8EEXQtlWs7Q",
    "outputId": "0169285a-92c4-4dd8-fe68-a7e7cd64474a"
   },
   "outputs": [],
   "source": [
    "fig,ax=plt.subplots(1,1,figsize=(9,3))\n",
    "s = np.linspace(-10,10,1000)\n",
    "Fb = np.sin(np.pi*s) / (np.pi * s)\n",
    "ax.plot(s,Fb);\n",
    "ax.set_xlabel(\"s\")\n",
    "ax.set_ylabel(\"$\\hat f(s)$\")\n",
    "ax.set_title(\"sinc function\");"
   ]
  },
  {
   "cell_type": "markdown",
   "metadata": {
    "colab_type": "text",
    "id": "Sv3FBuJfWs7S"
   },
   "source": [
    "### Inverse Fourier Transform\n",
    "\n",
    "The inverse of the Fourier transform is defined quite symmetrically by\n",
    "\n",
    "$$\n",
    "\\mathcal{F}^{-1}g(t) = \\int_{-\\infty}^\\infty  e^{2 \\pi ist} g(s) ds.\n",
    "$$\n",
    "\n",
    "\n",
    "As we would hope, if you transform a function and then un-transform it, you should get it back. That is\n",
    "\n",
    "$$\\mathcal{F}^{-1}\\mathcal{F}f = f$$\n",
    "\n",
    "Although we haven't shown this formally.\n",
    "\n",
    "We often write $F(s)$ for the Fourier Transform of $f(t)$. And write\n",
    "\n",
    "$$\n",
    "f\\stackrel{\\mathcal{F}}{\\longrightarrow}F \n",
    "$$\n",
    "\n",
    "to show the relationship."
   ]
  },
  {
   "cell_type": "markdown",
   "metadata": {
    "colab_type": "text",
    "id": "faGrBQVJWs7S"
   },
   "source": [
    "### Lots of Examples\n",
    "\n",
    "**Example:** Consider the function defined to be $e^{at}$ for $t \\geq 0$ and $0$ for t < 0$. Then\n",
    "\n",
    "\\begin{eqnarray}\n",
    "\\mathcal{F}\\{ e^{at} \\} \n",
    "&=&\n",
    "\\int_0^\\infty e^{-2\\pi ist}e^{at} dt \\\\\n",
    "&=& \\frac{1}{-2\\pi is+a} \\left . e^{-2\\pi ist - at}\\right |_0^\\infty \\\\\n",
    "&=& \\frac{1}{2\\pi is-a}.\n",
    "\\end{eqnarray}\n",
    "\n",
    "**Example:** Consider the Dirac Delta function, denoted $\\delta(t)$. It is zero everywhere, except at $0$ where it is in some sense infinite. In particular, the integral of the $\\delta(t)$ over the real line is defined to be 1. \n",
    "\n",
    "Its Fourier Transform is:\n",
    "\n",
    "\\begin{eqnarray}\n",
    "\\mathcal{F}\\delta(t-t_0)(s) \n",
    " & = &  \n",
    "\\int_{-\\infty}^\\infty e^{-2 \\pi i s t} \\delta(t-t_0) dt \\\\\n",
    " & = & e^{-2 \\pi i s t_0}.\n",
    "\\end{eqnarray}\n",
    "\n",
    "With $t_0=0$, we see that $\\delta(t)$ has Fourier Transform equal to 1.\n",
    "\n",
    "Furthermore, the inverse Fourier Transform of a delta function is\n",
    "\n",
    "\\begin{eqnarray}\n",
    "\\mathcal{F}^{-1}\\delta(s-s_0)(t) \n",
    " & = &  \n",
    "\\int_{-\\infty}^\\infty e^{2 \\pi i s t} \\delta(t-t_0) ds \\\\\n",
    " & = & e^{2 \\pi i s_0 t}.\n",
    "\\end{eqnarray}\n",
    "\n",
    "From which can can conclude that the Fourier Transform of $e^{2 \\pi i s_0 t}$ is $\\delta(t-t_0)$. That is,\n",
    "\n",
    "$$\n",
    "\\delta(t-t_0)\n",
    "\\stackrel{\\mathcal{F}}{\\longrightarrow}\n",
    "e^{-2\\pi ist} \n",
    "$$\n",
    "\n",
    "and\n",
    "$$\n",
    "e^{2\\pi ist} \n",
    "\\stackrel{\\mathcal{F}}{\\longrightarrow}\n",
    "\\delta(t-t_0).\n",
    "$$\n",
    "\n",
    "**Example:** The Fourier Transform of the $A \\cos(2 \\pi \\omega t)$ can be determined by remembering that \n",
    "\n",
    "$$\n",
    "A \\cos (2 \\pi \\omega t) = \\frac{A}{2}\\left ( e^{2\\pi i\\omega t} + e^{-2 \\pi i \\omega t} \\right ) .\n",
    "$$\n",
    "\n",
    "by Euler's Formula. Then, \n",
    "\n",
    "\\begin{eqnarray}\n",
    "\\mathcal{F}\\{A \\cos \\omega t\\}\n",
    "&=& \\frac{A}{2} \\mathcal{F}\\{e^{2\\pi i\\omega t}\\} + \n",
    "    \\frac{A}{2} \\mathcal{F}\\{e^{-2\\pi i\\omega t}\\} \\\\\n",
    "&=& \\frac{A}{2} \\delta(s-\\omega) + \\frac{A}{2} \\delta(s+\\omega) .\n",
    "\\end{eqnarray}\n",
    "\n",
    "Here, we have used the fact that the Fourier Transform treats addition nicely. \n",
    "\n",
    "**Example:** The Fourier transform of the derivative of a function can be found from the definition of the inverse transform. In particular, if \n",
    "$\\mathcal{F} \\left \\{ f(t) \\right \\} = F(s)$ \n",
    "then\n",
    "\n",
    "$$\n",
    "f(t) = \\int_{- \\infty}^\\infty F(s) e^{2\\pi ist}ds.\n",
    "$$\n",
    "\n",
    "Taking the derivative of both sides gives\n",
    "\n",
    "\\begin{eqnarray}\n",
    "\\frac{d}{dt} f(t) \n",
    "&=& \\int_{- \\infty}^\\infty F(s) 2\\pi is e^{2\\pi ist}ds \\\\\n",
    "&=&\\mathcal{F}^{-1}\\left \\{ 2 \\pi i s F(s) \\right \\}.\n",
    "\\end{eqnarray}\n",
    "\n",
    "That is, \n",
    "\n",
    "$$\n",
    "f'(t)\n",
    "\\stackrel{\\mathcal{F}}{\\longrightarrow}\n",
    "2 \\pi is F (s) .\n",
    "$$\n",
    "\n",
    "Continuing in this way, you can show that \n",
    "\n",
    "$$\n",
    "f''(t)\n",
    "\\stackrel{\\mathcal{F}}{\\longrightarrow}\n",
    "(2 \\pi is)^2 F (s) \n",
    "$$\n",
    "\n",
    "and so on.\n",
    "\n",
    "**Example:** For the sum $a f_1(t) + b f_2(t)$ we get\n",
    "\n",
    "$$\n",
    "\\mathcal{F}\\{a f_1(t) + b f_2(t)\\} = \n",
    "a \\mathcal{F}\\{f_1(t)\\} + b \\mathcal{F}\\{f_2(t)\\}\n",
    "$$\n",
    "\n",
    "from the basic properties of integrals.\n",
    "\n",
    "**Example:** Consider the polynomial\n",
    "\n",
    "$$\n",
    "a_0 x + a_1 \\frac{d}{dt} x + ... + a_n \\left ( \\frac{d}{dt} \\right )^n x.\n",
    "$$\n",
    "\n",
    "Taking the Fourier Transform gives\n",
    "\n",
    "$$\n",
    "a_0 X(s) + a_1 2 \\pi is X(s) + ... + \n",
    "a_n (2 \\pi i s)^n X(s) \n",
    "$$\n",
    "\n",
    "where $X(s)$ is the Fourier transform of $x(t)$. This simplifies to \n",
    "\n",
    "$$\n",
    "\\left ( a_0 + a_1 2 \\pi is + ... + \n",
    "a_n (2 \\pi i s)^n \\right ) X(s).\n",
    "$$\n",
    "\n",
    "**Example:** Suppose we have the differential equation\n",
    "\n",
    "$$\n",
    "\\dot x = ax + bu .\n",
    "$$\n",
    "\n",
    "with $x(0) = x0$ and $u$ a function of time. Then, taking the Fourier Transform, we get\n",
    "\n",
    "$$\n",
    "2 \\pi is X(s) = a X(s) + b U(s).\n",
    "$$\n",
    "\n",
    "Solving for $X(s)$ gives\n",
    "\n",
    "$$\n",
    "X(s) = \\frac{1}{2 \\pi i s - a} U(s).\n",
    "$$"
   ]
  },
  {
   "cell_type": "markdown",
   "metadata": {
    "colab_type": "text",
    "id": "64LgEVi2Ws7T"
   },
   "source": [
    "### Convolutions\n",
    "\n",
    "Suppose that $F(s)$ and $G(s)$ are the Fourier Transforms of $f(t)$ and $g(t$) respectively. What is $F(s)G(s)$? \n",
    "\n",
    "We have \n",
    "\n",
    "\\begin{eqnarray}\n",
    "F(s)G(s) & = & \n",
    "\\int_{-\\infty}^\\infty e^{-2\\pi ist}f(t) dt\n",
    "\\int_{-\\infty}^\\infty e^{-2\\pi ist}g(t) dt \\\\\n",
    "& = &\n",
    "\\int_{-\\infty}^\\infty \\left ( \n",
    "\\int_{-\\infty}^\\infty e^{-2\\pi is(t+x)}g(t) dt \n",
    "\\right ) f(x) dx\n",
    "\\end{eqnarray}\n",
    "\n",
    "Changing variables with $u=t+x$ and switching the order of integration gives\n",
    "\n",
    "\\begin{eqnarray}\n",
    "\\int_{-\\infty}^\\infty \\left ( \n",
    "\\int_{-\\infty}^\\infty e^{-2\\pi is(t+x)}g(t) dt \n",
    "\\right ) f(x) dx\n",
    "&=& \n",
    "\\int_{-\\infty}^\\infty \n",
    "e^{-2\\pi isu}\n",
    "\\left ( \n",
    "\\int_{-\\infty}^\\infty  \n",
    "g(u-x)f(x)du\n",
    "\\right ) \\\\\n",
    "\\end{eqnarray}\n",
    "\n",
    "The inner integral is called the convolution of $g$ and $f$ and is written $g * f$:\n",
    "\n",
    "$$\n",
    "g*f=\n",
    "\\int_{-\\infty}^\\infty  \n",
    "g(u-x)f(x)du\n",
    "$$\n",
    "\n",
    "Therefore, \n",
    "\n",
    "$$\n",
    "\\mathcal{F}\\{g*f\\} = \\mathcal{F}\\{g\\}\\mathcal{F}\\{f\\}. \n",
    "$$\n",
    "\n",
    "Note that since multiplication is commutative, this also shows that \n",
    "\n",
    "$$\n",
    "g * f = f * g.\n",
    "$$\n",
    "\n",
    "**Note:** For functions that are only defined on the interval $[0,\\infty]$, convolution is defined by \n",
    "\n",
    "$$\n",
    "f*g=\n",
    "\\int_0^\\infty  \n",
    "g(u-x)f(x)du .\n",
    "$$\n",
    "\n",
    "**Example:** Recall that we showed that\n",
    "\n",
    "$$\n",
    "X(s) = \\frac{1}{2 \\pi i s - a} U(s).\n",
    "$$\n",
    "\n",
    "in a previous example. Thus, \n",
    "\n",
    "$$\n",
    "x(t) = g * u\n",
    "$$\n",
    "\n",
    "where \n",
    "\n",
    "$$\n",
    "g(t) = \\mathcal{F}^{-1}\\left \\{ \\frac{1}{2 \\pi i s - a} \\right \\}\n",
    "$$\n",
    "\n",
    "which we previously showed was $e^{-at}$ defined when $t \\geq 0$. Thus, \n",
    "\n",
    "$$\n",
    "x(t) = \\int_0^\\infty e^{a(\\tau)}u(t-\\tau) d \\tau. \n",
    "$$\n",
    "\n",
    "For example, if $u(t) = 1$ then\n",
    "\n",
    "$$\n",
    "x(t) = \\frac{1}{a}(e^{at}-1)\n",
    "$$\n",
    "\n",
    "which is the solution to $\\dot x = ax +1$ when $x(0)=0$. "
   ]
  },
  {
   "cell_type": "code",
   "execution_count": null,
   "metadata": {
    "ExecuteTime": {
     "end_time": "2019-11-06T22:45:56.747297Z",
     "start_time": "2019-11-06T22:45:56.102027Z"
    },
    "colab": {},
    "colab_type": "code",
    "id": "ej1tUrKgWs7T",
    "outputId": "6303a016-3a0f-47b7-890e-8a4a310175b2"
   },
   "outputs": [],
   "source": [
    "# Example computing a Fourier Transform with sympy\n",
    "s, t = sm.var(\"s t\")\n",
    "a = sm.var(\"a\", positive=True)\n",
    "Ff = sm.integrate(sm.exp(-2*sm.pi*sm.I*s*t)*sm.exp(a*t),(t, 0, sm.oo))\n",
    "Ff"
   ]
  },
  {
   "cell_type": "markdown",
   "metadata": {
    "colab_type": "text",
    "id": "ALQ-2OLTWs7V"
   },
   "source": [
    "# The Discrete Fourier Transform"
   ]
  },
  {
   "cell_type": "markdown",
   "metadata": {
    "colab_type": "text",
    "id": "K12jfA7LWs7W"
   },
   "source": [
    "The way to think about the Discrete Fourier Transform, is that it is the sampled continuous transform of a sampled signal. You can sort of derive it by taking a sequence of numbers $t_1, ..., t_n$ and considering the sequence\n",
    "\n",
    "$$\n",
    "\\delta(t-t_1) f(t_1) , ..., \\delta(t-t_n) f(t_n)\n",
    "$$\n",
    "\n",
    "and taking its Fourier Transform. If you look in the reading I link to, that's what they do. But for now, let's just work with the definition.\n",
    "\n",
    "Let $\\mathbf{x} \\in \\mathbb{R}^n$ be a vector with \n",
    "\n",
    "$$\n",
    "\\mathbf{x} = \\begin{pmatrix}\n",
    "x_1 \\\\\n",
    "x_2 \\\\\n",
    "\\vdots \\\\\n",
    "x_n\n",
    "\\end{pmatrix}\n",
    "$$\n",
    "\n",
    "The Discrete Fourier Transform of $x$ is defined by $\\mathbf{X} \\in \\mathbb{C}^n$ with\n",
    "\n",
    "$$\n",
    "X_m = \\sum_{k=0}^{n-1} x_n e^{-2 \\pi i \\frac{mk}{n}}.\n",
    "$$\n",
    "\n",
    "Here, $n$ is taking the place of time and $m$ is taking the place of $s$ in the continuous version of the transform.\n",
    "\n",
    "The inverse transform is \n",
    "\n",
    "$$\n",
    "X_m = \\frac{1}{n}\\sum_{k=0}^{n-1} x_n e^{2 \\pi i \\frac{mk}{n}}.\n",
    "$$\n",
    "\n",
    "Interestingly, if you look at the exponential terms, you see the various $n$th roots of unity. Let's denote \n",
    "\n",
    "$$\n",
    "\\omega_n = e^{-2 \\pi i / n }\n",
    "$$\n",
    "\n",
    "to be the primitive nth root. Then the terms above are \n",
    "\n",
    "$$\n",
    "\\omega_n^{m\\cdot 0} \\dots \\omega_n^{m\\cdot(n-1)}.\n",
    "$$\n",
    "\n",
    "Therefore, $X_m$ is a dot product of these terms with $\\mathbf{x}$. \n",
    "\n",
    "$$\n",
    "X_m = \\sum_{k=0}^{n-1} x_m \\omega^{-km} .\n",
    "$$\n",
    "\n",
    "\n",
    "In fact, defining\n",
    "\n",
    "$$\n",
    "\\mathbf{F} = \\begin{pmatrix}\n",
    "\\omega_n^{0\\cdot 0} & \\dots & \\omega_n^{0\\cdot (n-1)} \\\\\n",
    "\\vdots & & \\vdots \\\\\n",
    "\\omega_n^{(n-1)\\cdot 0} & \\dots & \\omega_n^{(n-1)\\cdot (n-1)}\n",
    "\\end{pmatrix}\n",
    "$$\n",
    "\n",
    "we get that\n",
    "\n",
    "$$\n",
    "\\mathbf{X} = \\mathbf{F}\\mathbf{x}\n",
    "$$\n",
    "\n",
    "and\n",
    "\n",
    "$$\n",
    "\\mathbf{x} = \\mathbf{F}^{-1}\\mathbf{X}.\n",
    "$$\n",
    "\n",
    "**Example:** Suppose $n=4$.\n",
    "\n",
    "$$\n",
    "\\mathbf{F} = \\begin{pmatrix}\n",
    "1 & 1 & 1 & 1 \\\\\n",
    "1 & -i & -1 & i \\\\\n",
    "1 & -1 & 1 & -1 \\\\\n",
    "1 & i & -1 & -i\n",
    "\\end{pmatrix}\n",
    "$$\n",
    "\n",
    "**Example:** Suppose that $\\mathbf{x} = (1,2,3,4)^T$. Then\n",
    "\n",
    "$$\n",
    "\\mathbf{X} = \\mathbf{F}\\mathbf{x} = \\begin{pmatrix}\n",
    "10 \\\\\n",
    "-2 + 2i\\\\\n",
    "-2 \\\\\n",
    "-2 - 2i\n",
    "\\end{pmatrix} .\n",
    "$$"
   ]
  },
  {
   "cell_type": "code",
   "execution_count": null,
   "metadata": {},
   "outputs": [],
   "source": [
    "#TEST \n",
    "def myDFT2(n):\n",
    "    '''\n",
    "    Assumes n indicates the nth primitive root of wn = exp(-i 2pi/n). \n",
    "    Returns the nxn DFT matrix\n",
    "    '''\n",
    "    wn = sm.exp(-2*sm.pi*sm.I/ n)  \n",
    "    \n",
    "    F = np.empty((n,n))\n",
    "    F = sm.Matrix(F)\n",
    "    \n",
    "    for i in range(n):\n",
    "        for j in range(n):\n",
    "            F[i,j] = wn**(i*j)    \n",
    "    return F\n",
    "\n",
    "myDFT(4)"
   ]
  },
  {
   "cell_type": "code",
   "execution_count": null,
   "metadata": {
    "ExecuteTime": {
     "end_time": "2019-11-06T22:45:57.216763Z",
     "start_time": "2019-11-06T22:45:56.749075Z"
    },
    "colab": {},
    "colab_type": "code",
    "id": "4NFPqy7_Ws7W",
    "outputId": "53790f37-cfca-474a-fa72-49d3f898ab1b"
   },
   "outputs": [],
   "source": [
    "# Example: DFT of exponential decay\n",
    "\n",
    "x = np.exp(-np.linspace(0,5,21))\n",
    "n = len(x)\n",
    "# X = [\n",
    "#     sum([x[k]*np.exp(-2*np.pi*1j*m*k/n) for k in range(n)])\n",
    "#     for m in range(n)\n",
    "# ]\n",
    "X = np.fft.fft(x)\n",
    "\n",
    "fig,ax=plt.subplots(1,3,figsize=(15,4))\n",
    "ax[0].plot(x,'o')\n",
    "ax[1].plot(np.real(X),'o')\n",
    "ax[2].plot(np.imag(X),'o');"
   ]
  },
  {
   "cell_type": "markdown",
   "metadata": {
    "colab_type": "text",
    "id": "UOMQqOkzWs7Y"
   },
   "source": [
    "**Example:** DFT of the delta function. \n",
    "\n",
    "Define $\\delta_0 = (1\\;0\\;\\dots\\;0)^T$. Then the DFT of $x$ is\n",
    "\n",
    "$$\n",
    "D_m = \\sum_{k=0}^{n-1} \\delta_0(k) \\omega_n^{mk} = 1 \\cdot \\omega_n^0 = 1.\n",
    "$$\n",
    "\n",
    "So the DFT of $\\delta_0$ is \n",
    "\n",
    "$$(1\\;1\\;...\\;1)^T.$$\n",
    "\n",
    "Furthermore, if $\\delta_r = (0\\;\\dots\\;1\\;\\dots\\;0)^T$ with a $1$ in the $r$th place, then\n",
    "\n",
    "$$\n",
    "D_m = \\sum_{k=0}^{n-1} \\delta_0(k) \\omega_n^{mk} = 1 \\cdot \\omega_n^{mr} = 1.\n",
    "$$\n",
    "\n",
    "So the DFT of $\\delta_r$ is\n",
    "\n",
    "$$\n",
    "\\left (\\omega_n^r\\;\\omega_n^{2r}\\; ...\\;\\omega_n^{(n-1)r} \\right )^T.\n",
    "$$\n",
    "\n",
    "If we write $\\mathbf{\\omega}$ as a vector, then the above is sometimes denoted $\\mathbf{\\omega}^r$.\n",
    "\n",
    "Note that $\\mathbf{\\omega}^r$ is nothing more (or less) than a sampled cosine, as the following examples show."
   ]
  },
  {
   "cell_type": "code",
   "execution_count": null,
   "metadata": {
    "ExecuteTime": {
     "end_time": "2019-11-06T22:45:57.649648Z",
     "start_time": "2019-11-06T22:45:57.218885Z"
    },
    "colab": {},
    "colab_type": "code",
    "id": "zW5WtdrqWs7Z",
    "outputId": "21623987-1efc-413a-a290-036deec94c1e"
   },
   "outputs": [],
   "source": [
    "# Example: DFT of a delta at 0\n",
    "\n",
    "x = np.zeros(20)\n",
    "x[0] = 1\n",
    "n = len(x)\n",
    "# X = [\n",
    "#     sum([x[k]*np.exp(-2*np.pi*1j*m*k/n) for k in range(n)])\n",
    "#     for m in range(n)\n",
    "# ]\n",
    "X = np.fft.fft(x)\n",
    "\n",
    "fig,ax=plt.subplots(1,3,figsize=(15,4))\n",
    "ax[0].plot(x,'o')\n",
    "ax[1].plot(np.real(X),'o')\n",
    "ax[2].plot(np.imag(X),'o');"
   ]
  },
  {
   "cell_type": "code",
   "execution_count": null,
   "metadata": {
    "ExecuteTime": {
     "end_time": "2019-11-07T04:09:47.654700Z",
     "start_time": "2019-11-07T04:09:47.259309Z"
    },
    "colab": {},
    "colab_type": "code",
    "id": "uRO-LUOjWs7c",
    "outputId": "cf9d7444-87c6-4292-b03d-94143d93e0f8"
   },
   "outputs": [],
   "source": [
    "# Example: DFT of a shifted delta\n",
    "\n",
    "x = np.zeros(100)\n",
    "x[5] = 1\n",
    "n = len(x)\n",
    "# X = [\n",
    "#     sum([x[k]*np.exp(-2*np.pi*1j*m*k/n) for k in range(n)])\n",
    "#     for m in range(n)\n",
    "# ]\n",
    "X = np.fft.fft(x)\n",
    "\n",
    "fig,ax=plt.subplots(1,3,figsize=(15,4))\n",
    "ax[0].plot(x,'o')\n",
    "ax[1].plot(np.real(X),'o')\n",
    "ax[2].plot(np.imag(X),'o');"
   ]
  },
  {
   "cell_type": "markdown",
   "metadata": {
    "ExecuteTime": {
     "end_time": "2019-11-06T21:16:05.304466Z",
     "start_time": "2019-11-06T21:16:05.171428Z"
    },
    "colab_type": "text",
    "id": "xn2R2-ViWs7e"
   },
   "source": [
    "### Shifting\n",
    "\n",
    "Note that\n",
    "\n",
    "$$\n",
    "\\omega^{-km} = \\omega^{-k(m+n)}.\n",
    "$$\n",
    "\n",
    "If it were the case that $\\mathbf{x}$ were in fact a periodic sequence with \n",
    "\n",
    "$$\n",
    "x_m = x_{m+kn}\n",
    "$$\n",
    "\n",
    "for all $k$, then the definition \n",
    "\n",
    "$$\n",
    "X_m = \\sum_{k=0}^{n-1} x_n e^{-2 \\pi i \\frac{mk}{n}}.\n",
    "$$\n",
    "\n",
    "would hold for **all** $m$. \n",
    "\n",
    "Also note that we could just as well take the transform from different endpoints, such as \n",
    "\n",
    "$$\n",
    "X_m = \\sum_{k=-n/2}^{n/2-1} x_n e^{-2 \\pi i \\frac{mk}{n}}\n",
    "$$\n",
    "\n",
    "for example. This last transform is called the **shifted** transform. It is a bit odd, because it is now talking about negative frequencies. But they are not really negative, just rotated around the unit circuit a few times."
   ]
  },
  {
   "cell_type": "code",
   "execution_count": null,
   "metadata": {
    "ExecuteTime": {
     "end_time": "2019-11-06T22:45:58.581458Z",
     "start_time": "2019-11-06T22:45:58.121957Z"
    },
    "colab": {},
    "colab_type": "code",
    "id": "VzLjohtrWs7e",
    "outputId": "bc72e3a2-453d-49ff-996f-c8caf364f475"
   },
   "outputs": [],
   "source": [
    "# Example: shifted discrete fourier transform\n",
    "\n",
    "x = np.exp(-np.linspace(0,5,21))\n",
    "n = len(x)\n",
    "# X = [\n",
    "#     sum([x[k]*np.exp(-2*np.pi*1j*m*k/n) for k in range(n)])\n",
    "#     for m in range(n)\n",
    "# ]\n",
    "X = np.fft.fft(x)\n",
    "X = np.fft.ifftshift(X)\n",
    "\n",
    "fig,ax=plt.subplots(1,3,figsize=(15,4))\n",
    "ax[0].plot(x,'o')\n",
    "ax[1].plot(np.real(X),'o')\n",
    "ax[2].plot(np.imag(X),'o');"
   ]
  },
  {
   "cell_type": "markdown",
   "metadata": {
    "colab_type": "text",
    "id": "9yi8jARdWs7h"
   },
   "source": [
    "### Filtering\n",
    "\n",
    "An ideal filter basically allows some frequencies to pass and others not to. By taking a signals DFT, filtering out high frequencies, and then taking its inverse DFT, you can low pass filter the signal. Note that in the DFT, the low frequencies are at values of $m$ near $0$ and near $n-1$, and the high frequencies are in the middle, around $n/2$. "
   ]
  },
  {
   "cell_type": "code",
   "execution_count": null,
   "metadata": {
    "ExecuteTime": {
     "end_time": "2019-11-06T22:45:59.467695Z",
     "start_time": "2019-11-06T22:45:58.582963Z"
    },
    "colab": {},
    "colab_type": "code",
    "id": "76qG2vu5Ws7h",
    "outputId": "2d27290a-559a-4694-d171-bd95925441fb"
   },
   "outputs": [],
   "source": [
    "# Example: Filters\n",
    "\n",
    "n = 500\n",
    "x = np.sin(np.linspace(0,20,n)) + np.sin(4*np.linspace(0,20,n))\n",
    "X = np.fft.fft(x)\n",
    "\n",
    "HPF = np.copy(X)\n",
    "HPF[0:10] = 0 # remove low frequencies\n",
    "HPF[-10:n] = 0\n",
    "xhpf = np.real(np.fft.ifft(HPF))\n",
    "\n",
    "LPF = np.copy(X)\n",
    "LPF[10:n-10] = 0 # remove high frequencies\n",
    "xlpf = np.real(np.fft.ifft(LPF))\n",
    "\n",
    "fig,ax=plt.subplots(2,3,figsize=(15,7))\n",
    "\n",
    "ax[0,0].plot(x,'o'); ax[0,0].set_title(\"Original signal\")\n",
    "ax[1,0].plot(np.real(X),'o'); ax[1,0].set_title(\"Original DFT\")\n",
    "\n",
    "ax[0,1].plot(np.real(HPF),'o'); ax[0,1].set_title(\"High pass filtered DFT\")\n",
    "ax[1,1].plot(xhpf,'o'); ax[1,1].set_title(\"High pass filtered signal\")\n",
    "\n",
    "ax[0,2].plot(np.real(LPF),'o'); ax[0,2].set_title(\"Low pass filtered DFT\")\n",
    "ax[1,2].plot(xlpf,'o'); ax[1,2].set_title(\"Low pass filtered signal\")"
   ]
  },
  {
   "cell_type": "markdown",
   "metadata": {
    "colab_type": "text",
    "id": "zpk0C2xdWs7l"
   },
   "source": [
    "### Multiple Dimensions\n",
    "\n",
    "If instead of a list of real numbers, you start with a list of pairs or triples of real numbers, you get a multi-dimensional DFT. The definition is a pretty much the same, and we don't have time to delve into the mathematics of it. But the general idea is that if you send in a matrix of real points, you get out a matrix of complex points. Numpy has all this built, as the next examples show."
   ]
  },
  {
   "cell_type": "code",
   "execution_count": null,
   "metadata": {
    "ExecuteTime": {
     "end_time": "2019-11-07T04:15:29.061199Z",
     "start_time": "2019-11-07T04:15:29.029973Z"
    },
    "colab": {},
    "colab_type": "code",
    "id": "e8y2MD1nWs7m"
   },
   "outputs": [],
   "source": [
    "m = scipy.ndimage.imread('minion.jpg',flatten=True)"
   ]
  },
  {
   "cell_type": "code",
   "execution_count": null,
   "metadata": {
    "ExecuteTime": {
     "end_time": "2019-11-06T22:45:59.958923Z",
     "start_time": "2019-11-06T22:45:59.492898Z"
    },
    "colab": {},
    "colab_type": "code",
    "id": "g4l0wq6lWs7o",
    "outputId": "2fe5861e-4b55-4457-864c-60378333aed4"
   },
   "outputs": [],
   "source": [
    "M = np.fft.fft2(m)\n",
    "M = np.fft.fftshift(M) # Shift it so the low frequencies are in the middle\n",
    "mag = 20*np.log(np.abs(M)) # Due to the large dynamic range must take log\n",
    "\n",
    "fig, ax = plt.subplots(1,2,figsize=(12,4))\n",
    "ax[0].imshow(m, cmap = 'gray')\n",
    "ax[1].imshow(mag, cmap = 'gray')"
   ]
  },
  {
   "cell_type": "code",
   "execution_count": null,
   "metadata": {
    "ExecuteTime": {
     "end_time": "2019-11-06T22:46:16.056171Z",
     "start_time": "2019-11-06T22:46:15.599120Z"
    },
    "colab": {},
    "colab_type": "code",
    "id": "EpxpHfVIWs7r",
    "outputId": "1099f1d9-d1e7-4438-f9a3-0ae1c990033e"
   },
   "outputs": [],
   "source": [
    "# High pass filter\n",
    "\n",
    "M = np.fft.fft2(m)\n",
    "M = np.fft.fftshift(M) \n",
    "\n",
    "rows, cols = m.shape\n",
    "crow, ccol = int(rows/2) , int(cols/2)\n",
    "K = 8\n",
    "M[crow-K:crow+K, ccol-K:ccol+K] = 0 # Set low frequncy components to zero\n",
    "mag = 20*np.log(1 + np.abs(M)) # Add 1 in the log to avoid divide by zero errors\n",
    "\n",
    "m_new = np.fft.ifft2(M)\n",
    "m_new = np.abs(m_new)\n",
    "\n",
    "fig, ax = plt.subplots(1,2,figsize=(12,4))\n",
    "ax[0].imshow(mag, cmap = 'gray')\n",
    "ax[1].imshow(m_new, cmap = 'gray')"
   ]
  },
  {
   "cell_type": "code",
   "execution_count": null,
   "metadata": {
    "ExecuteTime": {
     "end_time": "2019-11-06T22:46:19.275800Z",
     "start_time": "2019-11-06T22:46:18.904826Z"
    },
    "colab": {},
    "colab_type": "code",
    "id": "TYecvocGWs7t",
    "outputId": "3ba0c7b6-2743-498f-da83-e9403f1c52aa"
   },
   "outputs": [],
   "source": [
    "# Low pass filter\n",
    "\n",
    "M = np.fft.fft2(m)\n",
    "M = np.fft.fftshift(M) \n",
    "\n",
    "K1=int(rows/2-8)\n",
    "K2=int(cols/2-8)\n",
    "M[0:K1, 0:cols] = 0.0001\n",
    "M[-K1:rows, 0:cols] = 0.0001\n",
    "M[0:rows, 0:K2] = 0.0001\n",
    "M[0:rows, -K2:cols] = 0.0001\n",
    "\n",
    "mag = 20*np.log(np.abs(M))\n",
    "\n",
    "m_new = np.fft.ifft2(M)\n",
    "m_new = np.abs(m_new)\n",
    "\n",
    "fig, ax = plt.subplots(1,2,figsize=(12,4))\n",
    "ax[0].imshow(mag, cmap = 'gray')\n",
    "ax[1].imshow(m_new, cmap = 'gray');"
   ]
  },
  {
   "cell_type": "code",
   "execution_count": null,
   "metadata": {
    "ExecuteTime": {
     "end_time": "2019-11-06T22:46:20.437797Z",
     "start_time": "2019-11-06T22:46:20.246920Z"
    },
    "colab": {},
    "colab_type": "code",
    "id": "YkWEYt-CWs7w",
    "outputId": "86cc782c-33db-4a6d-843d-c403896509a4"
   },
   "outputs": [],
   "source": [
    "# A Gaussian Filter\n",
    "\n",
    "x, y = np.meshgrid(np.linspace(-1,1,cols), np.linspace(-1,1,rows))\n",
    "d = np.sqrt(x*x+y*y)\n",
    "sigma, mu = 0.05, 0.0\n",
    "filter = 1 - np.exp(-( (d-mu)**2 / ( 2.0 * sigma**2 ) ) )\n",
    "plt.imshow(filter,cmap=\"gray\")"
   ]
  },
  {
   "cell_type": "code",
   "execution_count": null,
   "metadata": {
    "ExecuteTime": {
     "end_time": "2019-11-06T22:46:37.065186Z",
     "start_time": "2019-11-06T22:46:36.071654Z"
    },
    "colab": {},
    "colab_type": "code",
    "id": "u9EXAtlLWs7x",
    "outputId": "ab2afdb5-4128-4f23-8e57-520cb1a258c3"
   },
   "outputs": [],
   "source": [
    "f = np.fft.fft2(m)\n",
    "f = np.fft.fftshift(f)\n",
    "\n",
    "hpf = filter * f\n",
    "m_hpf= np.abs(np.fft.ifft2(hpf))\n",
    "\n",
    "lpf = (1-filter) * f + 0.00001\n",
    "m_lpf= np.abs(np.fft.ifft2(lpf))\n",
    "\n",
    "fig,ax = plt.subplots(2,3,figsize=(12,8))\n",
    "ax[0,0].imshow(m, cmap = 'gray')\n",
    "ax[0,0].set_title('Input Image')\n",
    "ax[0,1].imshow(m_hpf, cmap = 'gray')\n",
    "ax[0,1].set_title('Image after HFP')\n",
    "ax[0,2].imshow(m_lpf, cmap = 'gray')\n",
    "ax[0,2].set_title('Image after LFP')\n",
    "\n",
    "mag = 20*np.log(np.abs(f))\n",
    "mag_hpf = 20*np.log(np.abs(hpf))\n",
    "mag_lpf = 20*np.log(np.abs(lpf))\n",
    "\n",
    "ax[1,0].imshow(mag, cmap=\"gray\")\n",
    "ax[1,0].set_title('Original Spectrum')\n",
    "ax[1,1].imshow(mag_hpf, cmap=\"gray\")\n",
    "ax[1,1].set_title('HP Filtered Spectrum');\n",
    "ax[1,2].imshow(mag_lpf, cmap=\"gray\")\n",
    "ax[1,2].set_title('LP Filtered Spectrum');"
   ]
  },
  {
   "cell_type": "code",
   "execution_count": null,
   "metadata": {
    "ExecuteTime": {
     "end_time": "2019-11-07T01:34:38.136231Z",
     "start_time": "2019-11-07T01:34:36.989793Z"
    },
    "colab": {},
    "colab_type": "code",
    "id": "HTut2nJBWs7z",
    "outputId": "fc00354b-6f5b-4c14-c9ab-25aea0427a5b"
   },
   "outputs": [],
   "source": [
    "# Other wierd filters are possible\n",
    "\n",
    "cb = np.zeros(m.shape) + 0.001\n",
    "# fill with 1 the alternate rows and columns \n",
    "# cb[1::2, ::2] = 1\n",
    "# cb[::2, 1::2] = 1\n",
    "\n",
    "for a in np.linspace(0,2*np.pi,1801):\n",
    "    for r in range(5):\n",
    "        x = int(m.shape[0]/2 + (20+r) * np.cos(a))\n",
    "        y = int(m.shape[1]/2 + (20+r) * np.sin(a))\n",
    "        cb[x,y] = 1\n",
    "    \n",
    "f = np.fft.fft2(m)\n",
    "f = np.fft.fftshift(f)\n",
    "\n",
    "hpf = cb * f\n",
    "m_hpf= np.abs(np.fft.ifft2(hpf))\n",
    "\n",
    "lpf = (1-cb) * f + 0.00001\n",
    "m_lpf= np.abs(np.fft.ifft2(lpf))\n",
    "\n",
    "fig,ax = plt.subplots(2,3,figsize=(12,8))\n",
    "ax[0,0].imshow(m, cmap = 'gray')\n",
    "ax[0,0].set_title('Input Image')\n",
    "ax[0,1].imshow(m_hpf, cmap = 'gray')\n",
    "ax[0,1].set_title('Image after HFP')\n",
    "ax[0,2].imshow(m_lpf, cmap = 'gray')\n",
    "ax[0,2].set_title('Image after LFP')\n",
    "\n",
    "mag = 20*np.log(np.abs(f))\n",
    "mag_hpf = 20*np.log(np.abs(hpf))\n",
    "mag_lpf = 20*np.log(np.abs(lpf))\n",
    "\n",
    "ax[1,0].imshow(mag, cmap=\"gray\")\n",
    "ax[1,0].set_title('Original Spectrum')\n",
    "ax[1,1].imshow(mag_hpf, cmap=\"gray\")\n",
    "ax[1,1].set_title('HP Filtered Spectrum');\n",
    "ax[1,2].imshow(mag_lpf, cmap=\"gray\")\n",
    "ax[1,2].set_title('LP Filtered Spectrum');"
   ]
  },
  {
   "cell_type": "code",
   "execution_count": null,
   "metadata": {
    "colab": {},
    "colab_type": "code",
    "id": "EpFMYIMxWs70"
   },
   "outputs": [],
   "source": []
  },
  {
   "cell_type": "code",
   "execution_count": null,
   "metadata": {
    "colab": {},
    "colab_type": "code",
    "id": "nTp15unWWs71"
   },
   "outputs": [],
   "source": []
  }
 ],
 "metadata": {
  "colab": {
   "name": "6.Transforms.ipynb",
   "provenance": []
  },
  "kernelspec": {
   "display_name": "Python 3",
   "language": "python",
   "name": "python3"
  },
  "language_info": {
   "codemirror_mode": {
    "name": "ipython",
    "version": 3
   },
   "file_extension": ".py",
   "mimetype": "text/x-python",
   "name": "python",
   "nbconvert_exporter": "python",
   "pygments_lexer": "ipython3",
   "version": "3.7.4"
  }
 },
 "nbformat": 4,
 "nbformat_minor": 1
}
